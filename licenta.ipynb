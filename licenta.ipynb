{
  "cells": [
    {
      "cell_type": "markdown",
      "metadata": {
        "id": "view-in-github",
        "colab_type": "text"
      },
      "source": [
        "<a href=\"https://colab.research.google.com/github/valeria-izvoreanu/Licenta/blob/main/licenta.ipynb\" target=\"_parent\"><img src=\"https://colab.research.google.com/assets/colab-badge.svg\" alt=\"Open In Colab\"/></a>"
      ]
    },
    {
      "cell_type": "markdown",
      "metadata": {
        "id": "-rfItV2zpqaC"
      },
      "source": [
        "### Set Up"
      ]
    },
    {
      "cell_type": "code",
      "execution_count": 1,
      "metadata": {
        "id": "To7ZaL4R7nu5",
        "colab": {
          "base_uri": "https://localhost:8080/"
        },
        "outputId": "9a254b57-25ce-4463-953f-727338905375"
      },
      "outputs": [
        {
          "output_type": "stream",
          "name": "stdout",
          "text": [
            "Mounted at /content/drive\n"
          ]
        }
      ],
      "source": [
        "from google.colab import drive\n",
        "drive.mount(\"/content/drive\")"
      ]
    },
    {
      "cell_type": "code",
      "execution_count": null,
      "metadata": {
        "id": "VFiEAE-fL1hY"
      },
      "outputs": [],
      "source": [
        "import os\n",
        "os.chdir(\"/content/drive/MyDrive/content/drive\")\n",
        "!ls"
      ]
    },
    {
      "cell_type": "code",
      "source": [
        "!pip install transformers"
      ],
      "metadata": {
        "id": "hSjupYQDk3Dv"
      },
      "execution_count": null,
      "outputs": []
    },
    {
      "cell_type": "code",
      "source": [
        "#!pip install simpletransformers"
      ],
      "metadata": {
        "id": "qo1LGRLHk24H"
      },
      "execution_count": 3,
      "outputs": []
    },
    {
      "cell_type": "code",
      "source": [
        "!pip install tweet-preprocessor"
      ],
      "metadata": {
        "id": "w15wXc_Dk2pZ"
      },
      "execution_count": null,
      "outputs": []
    },
    {
      "cell_type": "code",
      "source": [
        "!pip install bayesian-optimization"
      ],
      "metadata": {
        "id": "myYXkEk24Rs_"
      },
      "execution_count": null,
      "outputs": []
    },
    {
      "cell_type": "code",
      "source": [
        "!pip install scikeras"
      ],
      "metadata": {
        "id": "i6wcKIoe8nuw"
      },
      "execution_count": null,
      "outputs": []
    },
    {
      "cell_type": "code",
      "execution_count": 68,
      "metadata": {
        "id": "STEO-k2B9-F5"
      },
      "outputs": [],
      "source": [
        "!pip install ekphrasis"
      ]
    },
    {
      "cell_type": "code",
      "source": [
        "#!pip install imbalanced-learn"
      ],
      "metadata": {
        "id": "3Gms2yGanEZz"
      },
      "execution_count": null,
      "outputs": []
    },
    {
      "cell_type": "code",
      "execution_count": null,
      "metadata": {
        "id": "X5PbzTo9u8rW"
      },
      "outputs": [],
      "source": [
        "import nltk\n",
        "nltk.download('stopwords')\n",
        "nltk.download('punkt')\n",
        "nltk.download('wordnet')"
      ]
    },
    {
      "cell_type": "code",
      "source": [
        "!pip install sentence-transformers"
      ],
      "metadata": {
        "id": "RPI3PD4-JS4t"
      },
      "execution_count": null,
      "outputs": []
    },
    {
      "cell_type": "markdown",
      "metadata": {
        "id": "leUnXg6xp2Ca"
      },
      "source": [
        "### Loading Data"
      ]
    },
    {
      "cell_type": "code",
      "execution_count": 7,
      "metadata": {
        "id": "xEAqTqxXh54b"
      },
      "outputs": [],
      "source": [
        "import pandas as pd\n",
        "import os\n",
        "from os.path import join\n",
        "\n",
        "col_list = [\"id\", \"text\", \"label\"]\n",
        "\n",
        "def load_dataframe(folder, name, separator, encod):\n",
        "    ROOT_DIR = os.path.abspath(os.curdir)\n",
        "    ROOT_DIR = \"/content/drive/MyDrive/content/drive\"\n",
        "    path = join(ROOT_DIR, 'datasets', folder, name)\n",
        "    data = pd.read_csv(path, sep=separator, encoding=encod, engine='python', usecols=col_list)\n",
        "    return data"
      ]
    },
    {
      "cell_type": "code",
      "source": [
        "data_train = load_dataframe(\"data1\", \"train.csv\", \"¦\", \"utf-8\")\n",
        "data_test = load_dataframe(\"data1\", \"test.csv\", \"¦\", \"utf-8\")\n",
        "data_validation = load_dataframe(\"data1\", \"validation.csv\", \"¦\", \"utf-8\")"
      ],
      "metadata": {
        "id": "PqcqzM23rNnD"
      },
      "execution_count": 8,
      "outputs": []
    },
    {
      "cell_type": "code",
      "source": [
        "data1_train = load_dataframe(\"data2\", \"training_set_1_tweets.csv\", \",\", \"utf-8\")\n",
        "data2_train = load_dataframe(\"data2\", \"training_set_1_tweets.csv\", \",\", \"utf-8\")\n",
        "frames=[data1_train, data2_train]\n",
        "data_train = pd.concat(frames)\n",
        "data_test = load_dataframe(\"data2\", \"evaluation_set_ids.csv\", \",\", \"utf-8\")"
      ],
      "metadata": {
        "id": "-C0EkSa3m4LP"
      },
      "execution_count": null,
      "outputs": []
    },
    {
      "cell_type": "code",
      "source": [
        "data_train = load_dataframe(\"data3\", \"data_set_ids.csv\", \",\", \"unicode_escape\")"
      ],
      "metadata": {
        "id": "pD6T5yuntJJC"
      },
      "execution_count": null,
      "outputs": []
    },
    {
      "cell_type": "markdown",
      "metadata": {
        "id": "9SXn-YQAr82w"
      },
      "source": [
        "### Preprocessing"
      ]
    },
    {
      "cell_type": "code",
      "execution_count": 9,
      "metadata": {
        "id": "gqvf9BbyptrN"
      },
      "outputs": [],
      "source": [
        "from ekphrasis.classes.segmenter import Segmenter\n",
        "from nltk.corpus import stopwords, words\n",
        "from nltk.stem import WordNetLemmatizer\n",
        "from nltk.tokenize import word_tokenize\n",
        "import re\n",
        "import string\n",
        "from string import punctuation, digits\n",
        "import preprocessor as p\n",
        "\n",
        "\n",
        "stop = set(stopwords.words('english'))\n",
        "punct = list(string.punctuation)\n",
        "stop.update(punct)\n",
        "\n",
        "def preprocess_tweets(text):\n",
        "    return p.clean(text)\n",
        "\n",
        "\n",
        "def remove_stopwords(text):\n",
        "    final_text = []\n",
        "    text = text.split()\n",
        "    for i in text:\n",
        "        if i not in stop:\n",
        "            final_text.append(i)\n",
        "    return \" \".join(final_text)\n",
        "\n",
        "\n",
        "def delete_digits(text):\n",
        "    clean = text.translate(str.maketrans('', '', digits))\n",
        "    return clean\n",
        "\n",
        "\n",
        "def delete_punctuation(text):\n",
        "    translator = str.maketrans(string.punctuation, ' '*len(string.punctuation))\n",
        "    clean = text.translate(translator)\n",
        "    return clean\n",
        "\n",
        "\n",
        "def denoise_text(text):\n",
        "    text = preprocess_tweets(text)\n",
        "    text = text.lower()\n",
        "    text = delete_punctuation(text)\n",
        "    text = delete_digits(text)\n",
        "    return text\n",
        "\n",
        "\n",
        "def lemm(text):\n",
        "    lemmatizer = WordNetLemmatizer()\n",
        "    sar_list_lemmatizer = [lemmatizer.lemmatize(word) for word in text]\n",
        "    return sar_list_lemmatizer\n",
        "\n",
        "def remove_amp(text):\n",
        "  return list(filter((\"amp\").__ne__, text))\n",
        "\n",
        "\n",
        "def get_vocab(text):\n",
        "    temp = text.copy()\n",
        "    vocab = text.apply(denoise_text).apply(remove_stopwords).apply(word_tokenize).apply(lemm).apply(remove_amp)\n",
        "    vocab=vocab.tolist()\n",
        "    for i in range(0, len(vocab)):\n",
        "      vocab[i]=\" \".join(vocab[i])\n",
        "    return vocab\n"
      ]
    },
    {
      "cell_type": "markdown",
      "source": [
        "### F1-metric"
      ],
      "metadata": {
        "id": "0pnL6tHgx3tB"
      }
    },
    {
      "cell_type": "code",
      "source": [
        "import keras.backend as K\n",
        "import tensorflow as tf\n",
        "def f1_metric(y_true, y_pred):\n",
        "    y_pred = K.round(y_pred)\n",
        "    tp = K.sum(K.cast(y_true*y_pred, 'float'), axis=0)\n",
        "    tn = K.sum(K.cast((1-y_true)*(1-y_pred), 'float'), axis=0)\n",
        "    fp = K.sum(K.cast((1-y_true)*y_pred, 'float'), axis=0)\n",
        "    fn = K.sum(K.cast(y_true*(1-y_pred), 'float'), axis=0)\n",
        "\n",
        "    p = tp / (tp + fp + K.epsilon())\n",
        "    r = tp / (tp + fn + K.epsilon())\n",
        "\n",
        "    f1 = 2*p*r / (p+r+K.epsilon())\n",
        "    f1 = tf.where(tf.math.is_nan(f1), tf.zeros_like(f1), f1)\n",
        "    return K.mean(f1)\n",
        "\n",
        "def f1_loss(y_true, y_pred):\n",
        "    \n",
        "    tp = K.sum(K.cast(y_true*y_pred, 'float'), axis=0)\n",
        "    tn = K.sum(K.cast((1-y_true)*(1-y_pred), 'float'), axis=0)\n",
        "    fp = K.sum(K.cast((1-y_true)*y_pred, 'float'), axis=0)\n",
        "    fn = K.sum(K.cast(y_true*(1-y_pred), 'float'), axis=0)\n",
        "\n",
        "    p = tp / (tp + fp + K.epsilon())\n",
        "    r = tp / (tp + fn + K.epsilon())\n",
        "\n",
        "    f1 = 2*p*r / (p+r+K.epsilon())\n",
        "    f1 = tf.where(tf.math.is_nan(f1), tf.zeros_like(f1), f1)\n",
        "    return 1 - K.mean(f1)"
      ],
      "metadata": {
        "id": "zsTZ3TMYJFEP"
      },
      "execution_count": 10,
      "outputs": []
    },
    {
      "cell_type": "markdown",
      "source": [
        "### Threshold"
      ],
      "metadata": {
        "id": "GnlSLzcSyZpG"
      }
    },
    {
      "cell_type": "markdown",
      "source": [
        "Probably should find the threshold on validation then test on testing??\n",
        "\n",
        "ROC curves should be used when there are roughly equal numbers of observations for each class.\n",
        "Precision-Recall curves should be used when there is a moderate to large class imbalance.\n",
        "\n",
        "However, ROC curves can present an overly optimistic view of an algorithm’s performance if there is a large skew in the class distribution. […] Precision-Recall (PR) curves, often used in Information Retrieval , have been cited as an alternative to ROC curves for tasks with a large skew in the class distribution.\n",
        "\n",
        "— The Relationship Between Precision-Recall and ROC Curves, 2006.\n",
        "\n",
        "Some go further and suggest that using a ROC curve with an imbalanced dataset might be deceptive and lead to incorrect interpretations of the model skill.\n",
        "\n",
        "The main reason for this optimistic picture is because of the use of true negatives in the False Positive Rate in the ROC Curve and the careful avoidance of this rate in the Precision-Recall curve.\n",
        "\n",
        "Many strategies, such as resampling the training dataset and designing customized versions of machine learning algorithms, can be utilized to handle an unbalanced classification problem.\n",
        "\n",
        "Nonetheless, changing the decision threshold may be the easiest way to address a significant class imbalance. This strategy is frequently disregarded by practitioners and research academics alike, despite its simplicity and effectiveness."
      ],
      "metadata": {
        "id": "eU-J_ZMaFV-E"
      }
    },
    {
      "cell_type": "code",
      "source": [
        "from sklearn.metrics import roc_curve\n",
        "import numpy as np\n",
        "def roc_curve_threshold(predicted_prob, y_labels):\n",
        "  fpr, tpr, thresholds = roc_curve(y_labels, predicted_prob)\n",
        "\n",
        "  # geometric mean\n",
        "  # gmeans = np.sqrt(tpr * (1-fpr))\n",
        "  # # locate the index of the largest g-mean\n",
        "  # ix = np.argmax(gmeans)\n",
        "\n",
        "  # Youden’s J statistic.\n",
        "  J = tpr - fpr\n",
        "  ix = np.argmax(J)\n",
        "  #print('Best Threshold=%f, G-Mean=%.3f' % (thresholds[ix], gmeans[ix]))\n",
        "  print('Best Threshold=%f' % (thresholds[ix]))\n",
        "  # plot the roc curve for the model\n",
        "  plt.plot([0,1], [0,1], linestyle='--', label='No Skill')\n",
        "  plt.plot(fpr, tpr, marker='.', label='Logistic')\n",
        "  # axis labels\n",
        "  plt.xlabel('False Positive Rate')\n",
        "  plt.ylabel('True Positive Rate')\n",
        "  plt.legend()\n",
        "  # show the plot\n",
        "  plt.show()\n",
        "  \n",
        "  return thresholds[ix]"
      ],
      "metadata": {
        "id": "L4Z51qWu1eFB"
      },
      "execution_count": 30,
      "outputs": []
    },
    {
      "cell_type": "code",
      "source": [
        "#same results, different graphs\n",
        "import numpy as np\n",
        "from sklearn.metrics import precision_recall_curve\n",
        "from sklearn.metrics import f1_score\n",
        "def max_f1_threshold(model,predicted_prob, y_train, X_train):\n",
        "  thresholds = []\n",
        "  f1_scores = []\n",
        "  for p in np.unique(predicted_prob):\n",
        "    thresholds.append(p)\n",
        "    y_pred = (predicted_prob >= p).astype(int)\n",
        "    f1_scores.append(f1_score(y_train,y_pred))\n",
        "  plt.scatter(thresholds,f1_scores)\n",
        "  plt.xlabel(\"Threshold\")\n",
        "  plt.ylabel(\"Balanced accuracy\")\n",
        "  plt.show()\n",
        "    \n",
        "  return thresholds[np.argmax(f1_scores)]\n",
        "\n",
        "def pr_curve_threshold(predicted_prob, y_labels):\n",
        "  precision, recall, thresholds = precision_recall_curve(y_labels, predicted_prob)\n",
        "  fscore = (2 * precision * recall) / (precision + recall)\n",
        "  # locate the index of the largest f score\n",
        "  ix = np.argmax(fscore)\n",
        "  print('Best Threshold=%f' % (thresholds[ix]))\n",
        "  no_skill = len(y_labels[y_labels==1]) / len(y_labels)\n",
        "  plt.plot([0,1], [no_skill,no_skill], linestyle='--', label='No Skill')\n",
        "  plt.plot(recall, precision, marker='.', label='Logistic')\n",
        "  # axis labels\n",
        "  plt.xlabel('Recall')\n",
        "  plt.ylabel('Precision')\n",
        "  plt.legend()\n",
        "  # show the plot\n",
        "  plt.show()\n",
        "  return thresholds[ix]"
      ],
      "metadata": {
        "id": "4R6UgfGD6Ev3"
      },
      "execution_count": 11,
      "outputs": []
    },
    {
      "cell_type": "code",
      "source": [
        "#kinda same results ca acela de mai sus\n",
        "def opt_threshold_tuning(predicted_prob, y_labels):\n",
        "  thresholds = np.arange(0, 1, 0.001)\n",
        "  # evaluate each threshold\n",
        "  scores = [f1_score(y_labels, ((predicted_prob >= t).astype(int))) for t in thresholds]\n",
        "  # get best threshold\n",
        "  ix = np.argmax(scores)\n",
        "  print('Threshold=%.3f, F-Score=%.5f' % (thresholds[ix], scores[ix]))\n",
        "  return thresholds[ix]"
      ],
      "metadata": {
        "id": "xwOOrMSQ_An7"
      },
      "execution_count": 59,
      "outputs": []
    },
    {
      "cell_type": "code",
      "source": [
        "def threshold(value, threshold):\n",
        "  if value>threshold:\n",
        "    return 1\n",
        "  else:\n",
        "     return 0"
      ],
      "metadata": {
        "id": "jgA6ORNlyOsQ"
      },
      "execution_count": 12,
      "outputs": []
    },
    {
      "cell_type": "markdown",
      "source": [
        "### Class imbalance "
      ],
      "metadata": {
        "id": "-GZ6mbtTx984"
      }
    },
    {
      "cell_type": "markdown",
      "source": [
        "##### Random"
      ],
      "metadata": {
        "id": "1vWPTrlkyeYJ"
      }
    },
    {
      "cell_type": "code",
      "execution_count": 79,
      "metadata": {
        "id": "mLXj0KQY-acb"
      },
      "outputs": [],
      "source": [
        "def random_over_sampling(data):\n",
        "    size = len(data[data['label'] == 0])\n",
        "    over_sampled_data = pd.concat([data[data['label'] == 0], data[data['label'] == 1].sample(size, replace=True)])\n",
        "    return over_sampled_data\n",
        "\n",
        "def random_under_sampling(data):\n",
        "    size = len(data[data['label'] == 1])\n",
        "    under_sampled_data = pd.concat([data[data['label'] == 0].sample(size), data[data['label'] == 1]])\n",
        "    return under_sampled_data"
      ]
    },
    {
      "cell_type": "code",
      "execution_count": null,
      "metadata": {
        "id": "AiivWWhnBs73"
      },
      "outputs": [],
      "source": [
        "under_random_train = random_under_sampling(data_train)"
      ]
    },
    {
      "cell_type": "code",
      "execution_count": null,
      "metadata": {
        "id": "2gOW8x07xMz0"
      },
      "outputs": [],
      "source": [
        "under_random_train_text = get_vocab(under_random_train[\"text\"])"
      ]
    },
    {
      "cell_type": "code",
      "execution_count": 80,
      "metadata": {
        "id": "bFwAso9S6eqW"
      },
      "outputs": [],
      "source": [
        "over_random_train = random_over_sampling(data_train)"
      ]
    },
    {
      "cell_type": "code",
      "execution_count": 81,
      "metadata": {
        "id": "nFSDqyBiVfeZ"
      },
      "outputs": [],
      "source": [
        "over_random_train_text = get_vocab(over_random_train[\"text\"])"
      ]
    },
    {
      "cell_type": "code",
      "source": [
        "test_text = get_vocab(data_test[\"text\"])"
      ],
      "metadata": {
        "id": "HXnllKAr1CId"
      },
      "execution_count": null,
      "outputs": []
    },
    {
      "cell_type": "markdown",
      "source": [
        "##### SMOTE"
      ],
      "metadata": {
        "id": "0fjxhd9ayZZx"
      }
    },
    {
      "cell_type": "markdown",
      "source": [
        "try diff smote techniques https://www.analyticsvidhya.com/blog/2020/10/overcoming-class-imbalance-using-smote-techniques/"
      ],
      "metadata": {
        "id": "oVXyh6SgyFOp"
      }
    },
    {
      "cell_type": "code",
      "source": [
        "from imblearn.over_sampling import SMOTE\n",
        "def smote_oversampling(data_text, data_label):\n",
        "  oversample = SMOTE()\n",
        "  X, y = oversample.fit_resample(data_text, data_label)\n",
        "  return X, y"
      ],
      "metadata": {
        "id": "WuwIaRjlnMgP"
      },
      "execution_count": null,
      "outputs": []
    },
    {
      "cell_type": "markdown",
      "source": [
        "##### SMOTE + RandomUnderBalancing"
      ],
      "metadata": {
        "id": "P_Vb5gKLynZ7"
      }
    },
    {
      "cell_type": "code",
      "source": [
        "from imblearn.over_sampling import SMOTE\n",
        "from imblearn.under_sampling import RandomUnderSampler\n",
        "from imblearn.pipeline import Pipeline\n",
        "def smote_over_undersampling(data_text, data_label):\n",
        "  over = SMOTE(sampling_strategy=0.5)\n",
        "  under = RandomUnderSampler(sampling_strategy=0.5)\n",
        "  steps = [('o', over), ('u', under)]\n",
        "  pipeline = Pipeline(steps=steps)\n",
        "  X, y = pipeline.fit_resample(data_text, data_label)\n",
        "  return X, y"
      ],
      "metadata": {
        "id": "AiHLhKQOytNX"
      },
      "execution_count": null,
      "outputs": []
    },
    {
      "cell_type": "markdown",
      "metadata": {
        "id": "Mlll_07c22K9"
      },
      "source": [
        "### Tf.idf"
      ]
    },
    {
      "cell_type": "code",
      "execution_count": null,
      "metadata": {
        "id": "v578w-5aEgod"
      },
      "outputs": [],
      "source": [
        "from sklearn.feature_extraction.text import TfidfVectorizer"
      ]
    },
    {
      "cell_type": "code",
      "execution_count": null,
      "metadata": {
        "id": "6-uW4C-cER9C"
      },
      "outputs": [],
      "source": [
        "def tf_idf_vectorizer(corpus):\n",
        "    vectorizer = TfidfVectorizer()\n",
        "    X = vectorizer.fit_transform(corpus)\n",
        "    return X, vectorizer"
      ]
    },
    {
      "cell_type": "markdown",
      "metadata": {
        "id": "lyMUMLEP2-dH"
      },
      "source": [
        "### Count vectorizer"
      ]
    },
    {
      "cell_type": "code",
      "execution_count": null,
      "metadata": {
        "id": "jSICpLmjEi0y"
      },
      "outputs": [],
      "source": [
        "from sklearn.feature_extraction.text import CountVectorizer"
      ]
    },
    {
      "cell_type": "code",
      "execution_count": null,
      "metadata": {
        "id": "Z5lIzsjIEdoF"
      },
      "outputs": [],
      "source": [
        "def count_vectorizer(corpus):\n",
        "    vectorizer = CountVectorizer(stop_words='english')\n",
        "    X = vectorizer.fit_transform(corpus)\n",
        "    # print(X.toarray())\n",
        "    return X, vectorizer"
      ]
    },
    {
      "cell_type": "markdown",
      "metadata": {
        "id": "yhQKPUQM3CIi"
      },
      "source": [
        "### Word2Vec"
      ]
    },
    {
      "cell_type": "code",
      "execution_count": 24,
      "metadata": {
        "id": "TGsC-i2sGp_R"
      },
      "outputs": [],
      "source": [
        "import gensim\n",
        "from gensim.models import Word2Vec\n",
        "from tensorflow.keras import models, layers, preprocessing as kprocessing\n",
        "import matplotlib.pyplot as plt\n",
        "from sklearn import metrics\n",
        "import numpy as np"
      ]
    },
    {
      "cell_type": "code",
      "execution_count": 25,
      "metadata": {
        "id": "C-hNuIPMGrI7"
      },
      "outputs": [],
      "source": [
        "def w2v_embedding(train_text):\n",
        "  ## create list of lists of unigrams\n",
        "  lst_corpus = []\n",
        "  for string in train_text:\n",
        "    lst_words = string.split()\n",
        "    lst_grams = [\" \".join(lst_words[i:i+1]) \n",
        "                for i in range(0, len(lst_words), 1)]\n",
        "    lst_corpus.append(lst_grams)\n",
        "\n",
        "  ## detect bigrams and trigrams\n",
        "  bigrams_detector = gensim.models.phrases.Phrases(lst_corpus, \n",
        "                  delimiter=\" \".encode(), min_count=30)\n",
        "  bigrams_detector = gensim.models.phrases.Phraser(bigrams_detector)\n",
        "  trigrams_detector = gensim.models.phrases.Phrases(bigrams_detector[lst_corpus], \n",
        "              delimiter=\" \".encode(), min_count=30)\n",
        "  trigrams_detector = gensim.models.phrases.Phraser(trigrams_detector)\n",
        "\n",
        "  nlp = Word2Vec(lst_corpus, size=300,   \n",
        "            window=8, min_count=2, sg=1, iter=30)\n",
        "  return nlp, lst_corpus, bigrams_detector, trigrams_detector"
      ]
    },
    {
      "cell_type": "code",
      "source": [
        "def feature_engineering(lst_corpus, train_text):\n",
        "  tokenizer = kprocessing.text.Tokenizer(lower=True, split=' ', \n",
        "                     oov_token=\"NaN\", \n",
        "                     filters='!\"#$%&()*+,-./:;<=>?@[\\\\]^_`{|}~\\t\\n')\n",
        "  tokenizer.fit_on_texts(lst_corpus)\n",
        "  dic_vocabulary = tokenizer.word_index\n",
        "  ## create sequence\n",
        "  lst_corpus = []\n",
        "  for string in train_text:\n",
        "    lst_words = string.split()\n",
        "    lst_grams = [\" \".join(lst_words[i:i+1]) \n",
        "                for i in range(0, len(lst_words), 1)]\n",
        "    lst_corpus.append(lst_grams)\n",
        "  lst_text2seq= tokenizer.texts_to_sequences(lst_corpus)\n",
        "  ## padding sequence\n",
        "  X_train = kprocessing.sequence.pad_sequences(lst_text2seq, \n",
        "                      maxlen=30, padding=\"post\", truncating=\"post\")\n",
        "  return tokenizer, dic_vocabulary, X_train"
      ],
      "metadata": {
        "id": "QyrtlY3PGZ3j"
      },
      "execution_count": 26,
      "outputs": []
    },
    {
      "cell_type": "code",
      "source": [
        "def test_handling(test_text,bigrams_detector, trigrams_detector, tokenizer):\n",
        "  ## create list of n-grams\n",
        "  lst_corpus = []\n",
        "  for string in test_text:\n",
        "      lst_words = string.split()\n",
        "      lst_grams = [\" \".join(lst_words[i:i+1]) for i in range(0, \n",
        "                  len(lst_words), 1)]\n",
        "      lst_corpus.append(lst_grams)\n",
        "      \n",
        "  ## detect common bigrams and trigrams using the fitted detectors\n",
        "  lst_corpus = list(bigrams_detector[lst_corpus])\n",
        "  lst_corpus = list(trigrams_detector[lst_corpus])\n",
        "  ## text to sequence with the fitted tokenizer\n",
        "  lst_text2seq = tokenizer.texts_to_sequences(lst_corpus)\n",
        "\n",
        "  ## padding sequence\n",
        "  X_test = kprocessing.sequence.pad_sequences(lst_text2seq, maxlen=30,\n",
        "              padding=\"post\", truncating=\"post\")\n",
        "  return X_test"
      ],
      "metadata": {
        "id": "O2t2nEuiHgqN"
      },
      "execution_count": 27,
      "outputs": []
    },
    {
      "cell_type": "code",
      "source": [
        "def make_embedding_matrix(dic_vocabulary, nlp):\n",
        "  ## start the matrix (length of vocabulary x vector size) with all 0s\n",
        "  embeddings = np.zeros((len(dic_vocabulary)+1, 300))\n",
        "  for word,idx in dic_vocabulary.items():\n",
        "      ## update the row with vector\n",
        "      try:\n",
        "          embeddings[idx] =  nlp[word]\n",
        "      ## if word not in model then skip and the row stays all 0s\n",
        "      except:\n",
        "          pass\n",
        "  return embeddings"
      ],
      "metadata": {
        "id": "ph0SpLYwIQ8e"
      },
      "execution_count": 28,
      "outputs": []
    },
    {
      "cell_type": "code",
      "source": [
        "def rn_w2v_model(embeddings):\n",
        "  ## input\n",
        "  x_in = layers.Input(shape=(30,))\n",
        "  ## embedding\n",
        "  x = layers.Embedding(input_dim=embeddings.shape[0],  \n",
        "                      output_dim=embeddings.shape[1], \n",
        "                      weights=[embeddings],\n",
        "                      input_length=30, trainable=False)(x_in)\n",
        "  ## 2 layers of bidirectional lstm\n",
        "  x = layers.Bidirectional(layers.LSTM(units=30, dropout=0.2, \n",
        "                          return_sequences=True))(x)\n",
        "  x = layers.Bidirectional(layers.LSTM(units=30, dropout=0.2))(x)\n",
        "  ## final dense layers\n",
        "  x = layers.Dense(64, activation='relu')(x)\n",
        "  y_out = layers.Dense(1, activation='sigmoid')(x)\n",
        "  ## compile\n",
        "  model = models.Model(x_in, y_out)\n",
        "  model.compile(loss='binary_crossentropy',\n",
        "                optimizer='adam', metrics=[f1_metric])\n",
        "\n",
        "  model.summary()\n",
        "  return model"
      ],
      "metadata": {
        "id": "4TU2s6nSIqAP"
      },
      "execution_count": 29,
      "outputs": []
    },
    {
      "cell_type": "code",
      "source": [
        "def w2v_train(model, y_train, X_train, X_valid, y_valid):\n",
        "  dic_y_mapping = {n:label for n,label in \n",
        "                 enumerate(np.unique(y_train))}\n",
        "  # inverse_dic = {v:k for k,v in dic_y_mapping.items()}\n",
        "  y_train = np.array(y_train)\n",
        "  ## train\n",
        "  # training = model.fit(x=X_train, y=y_train, batch_size=256, \n",
        "  #                     epochs=20, shuffle=True, verbose=0, \n",
        "  #                     validation_data=(X_valid, y_valid))\n",
        "  class_weight={\n",
        "      0:1.,\n",
        "      1:9.\n",
        "  }\n",
        "  early_stopping = EarlyStopping(\n",
        "      min_delta=0.001, # minimium amount of change to count as an improvement\n",
        "      patience=10, # how many epochs to wait before stopping\n",
        "      restore_best_weights=True,\n",
        "  )\n",
        "  #train with weights\n",
        "  training = model.fit(x=X_train, y=y_train, batch_size=32, \n",
        "                      epochs=30, shuffle=True, verbose=1, callbacks=[early_stopping],\n",
        "                      validation_data=(X_valid, y_valid), class_weight=class_weight)\n",
        "  ## plot loss and accuracy\n",
        "  metrics = [k for k in training.history.keys() if (\"loss\" not in k) and (\"val\" not in k)]\n",
        "  fig, ax = plt.subplots(nrows=1, ncols=2, sharey=True)\n",
        "  ax[0].set(title=\"Training\")\n",
        "  ax11 = ax[0].twinx()\n",
        "  ax[0].plot(training.history['loss'], color='black')\n",
        "  ax[0].set_xlabel('Epochs')\n",
        "  ax[0].set_ylabel('Loss', color='black')\n",
        "  for metric in metrics:\n",
        "      ax11.plot(training.history[metric], label=metric)\n",
        "  ax11.set_ylabel(\"Score\", color='steelblue')\n",
        "  ax11.legend()\n",
        "  ax[1].set(title=\"Validation\")\n",
        "  ax22 = ax[1].twinx()\n",
        "  ax[1].plot(training.history['val_loss'], color='black')\n",
        "  ax[1].set_xlabel('Epochs')\n",
        "  ax[1].set_ylabel('Loss', color='black')\n",
        "  for metric in metrics:\n",
        "      ax22.plot(training.history['val_'+metric], label=metric)\n",
        "  ax22.set_ylabel(\"Score\", color=\"steelblue\")\n",
        "  plt.show()\n",
        "  return model, dic_y_mapping"
      ],
      "metadata": {
        "id": "V7dQWWyZJChL"
      },
      "execution_count": 53,
      "outputs": []
    },
    {
      "cell_type": "code",
      "source": [
        "def w2v_test(model, X_test, dic_y_mapping, y_test):\n",
        "  predicted_prob = model.predict(X_test)\n",
        "  #opt_threshold = roc_curve_threshold(predicted_prob, y_test)\n",
        "  opt_threshold = pr_curve_threshold(predicted_prob, y_test)\n",
        "  predicted = [threshold(pred, opt_threshold) for pred in \n",
        "              predicted_prob]\n",
        "  accuracy = metrics.accuracy_score(y_test, predicted)\n",
        "  #auc = metrics.roc_auc_score(y_test, predicted_prob, multi_class=\"ovo\")\n",
        "  print(\"Accuracy:\",  round(accuracy,2))\n",
        "  #print(\"Auc:\", round(auc,2))\n",
        "  print(\"Detail:\")\n",
        "  print(metrics.classification_report(y_test, predicted))"
      ],
      "metadata": {
        "id": "HF8vcxCsJsLI"
      },
      "execution_count": 31,
      "outputs": []
    },
    {
      "cell_type": "code",
      "source": [
        "train_text = get_vocab(data_train[\"text\"])\n",
        "nlp, lst_corpus, bigrams_detector, trigrams_detector = w2v_embedding(train_text)"
      ],
      "metadata": {
        "id": "gZ4GaXbrKRqm"
      },
      "execution_count": 45,
      "outputs": []
    },
    {
      "cell_type": "code",
      "source": [
        "tokenizer, dic_vocabulary, X_train = feature_engineering(lst_corpus, train_text)"
      ],
      "metadata": {
        "id": "NzAsTPt2Ktwx"
      },
      "execution_count": 46,
      "outputs": []
    },
    {
      "cell_type": "code",
      "source": [
        "test_text = get_vocab(data_test[\"text\"])\n",
        "X_test = test_handling(test_text,bigrams_detector, trigrams_detector, tokenizer)"
      ],
      "metadata": {
        "id": "_Udlftu-K2vl"
      },
      "execution_count": 47,
      "outputs": []
    },
    {
      "cell_type": "code",
      "source": [
        "x_valid = test_handling(get_vocab(data_validation[\"text\"]),bigrams_detector, trigrams_detector, tokenizer)"
      ],
      "metadata": {
        "id": "Yj8yyQwun9Rm"
      },
      "execution_count": 48,
      "outputs": []
    },
    {
      "cell_type": "code",
      "source": [
        "embeddings=make_embedding_matrix(dic_vocabulary, nlp)"
      ],
      "metadata": {
        "id": "Iv03XjXrLGOD",
        "colab": {
          "base_uri": "https://localhost:8080/"
        },
        "outputId": "888e91c3-241a-4545-b843-91d2ba48fbe0"
      },
      "execution_count": 49,
      "outputs": [
        {
          "output_type": "stream",
          "name": "stderr",
          "text": [
            "/usr/local/lib/python3.7/dist-packages/ipykernel_launcher.py:7: DeprecationWarning: Call to deprecated `__getitem__` (Method will be removed in 4.0.0, use self.wv.__getitem__() instead).\n",
            "  import sys\n"
          ]
        }
      ]
    },
    {
      "cell_type": "code",
      "source": [
        "w2v_model = rn_w2v_model(embeddings)"
      ],
      "metadata": {
        "colab": {
          "base_uri": "https://localhost:8080/"
        },
        "id": "Wtw_EnERLLh9",
        "outputId": "9ec9bfd4-2ac3-4526-a401-c84cbeb22c82"
      },
      "execution_count": 51,
      "outputs": [
        {
          "output_type": "stream",
          "name": "stdout",
          "text": [
            "Model: \"model_1\"\n",
            "_________________________________________________________________\n",
            " Layer (type)                Output Shape              Param #   \n",
            "=================================================================\n",
            " input_2 (InputLayer)        [(None, 30)]              0         \n",
            "                                                                 \n",
            " embedding_1 (Embedding)     (None, 30, 300)           3382200   \n",
            "                                                                 \n",
            " bidirectional_2 (Bidirectio  (None, 30, 60)           79440     \n",
            " nal)                                                            \n",
            "                                                                 \n",
            " bidirectional_3 (Bidirectio  (None, 60)               21840     \n",
            " nal)                                                            \n",
            "                                                                 \n",
            " dense_4 (Dense)             (None, 64)                3904      \n",
            "                                                                 \n",
            " dense_5 (Dense)             (None, 1)                 65        \n",
            "                                                                 \n",
            "=================================================================\n",
            "Total params: 3,487,449\n",
            "Trainable params: 105,249\n",
            "Non-trainable params: 3,382,200\n",
            "_________________________________________________________________\n"
          ]
        }
      ]
    },
    {
      "cell_type": "code",
      "source": [
        "w2v_model_trained, y_mapping = w2v_train(w2v_model, data_train[\"label\"], X_train, x_valid, data_validation[\"label\"])"
      ],
      "metadata": {
        "colab": {
          "base_uri": "https://localhost:8080/",
          "height": 850
        },
        "id": "-6c_J8OeLQ8l",
        "outputId": "e1161218-f69e-4a80-a574-9a5f2ef7aba1"
      },
      "execution_count": 54,
      "outputs": [
        {
          "output_type": "stream",
          "name": "stdout",
          "text": [
            "Epoch 1/30\n",
            "252/252 [==============================] - 9s 19ms/step - loss: 0.9756 - f1_metric: 0.3166 - val_loss: 0.4563 - val_f1_metric: 0.2902\n",
            "Epoch 2/30\n",
            "252/252 [==============================] - 3s 13ms/step - loss: 0.8370 - f1_metric: 0.3923 - val_loss: 0.3885 - val_f1_metric: 0.3178\n",
            "Epoch 3/30\n",
            "252/252 [==============================] - 3s 13ms/step - loss: 0.7861 - f1_metric: 0.4015 - val_loss: 0.3962 - val_f1_metric: 0.2946\n",
            "Epoch 4/30\n",
            "252/252 [==============================] - 3s 13ms/step - loss: 0.7436 - f1_metric: 0.4269 - val_loss: 0.3513 - val_f1_metric: 0.3078\n",
            "Epoch 5/30\n",
            "252/252 [==============================] - 3s 13ms/step - loss: 0.7029 - f1_metric: 0.4404 - val_loss: 0.3954 - val_f1_metric: 0.3108\n",
            "Epoch 6/30\n",
            "252/252 [==============================] - 3s 13ms/step - loss: 0.6576 - f1_metric: 0.4574 - val_loss: 0.2731 - val_f1_metric: 0.3283\n",
            "Epoch 7/30\n",
            "252/252 [==============================] - 3s 13ms/step - loss: 0.6067 - f1_metric: 0.4810 - val_loss: 0.3826 - val_f1_metric: 0.2984\n",
            "Epoch 8/30\n",
            "252/252 [==============================] - 3s 13ms/step - loss: 0.5606 - f1_metric: 0.5142 - val_loss: 0.3113 - val_f1_metric: 0.3142\n",
            "Epoch 9/30\n",
            "252/252 [==============================] - 3s 13ms/step - loss: 0.5174 - f1_metric: 0.5186 - val_loss: 0.3971 - val_f1_metric: 0.2843\n",
            "Epoch 10/30\n",
            "252/252 [==============================] - 3s 13ms/step - loss: 0.4888 - f1_metric: 0.5259 - val_loss: 0.3064 - val_f1_metric: 0.3147\n",
            "Epoch 11/30\n",
            "252/252 [==============================] - 3s 13ms/step - loss: 0.4729 - f1_metric: 0.5399 - val_loss: 0.3596 - val_f1_metric: 0.2943\n",
            "Epoch 12/30\n",
            "252/252 [==============================] - 3s 13ms/step - loss: 0.3968 - f1_metric: 0.5777 - val_loss: 0.4967 - val_f1_metric: 0.2719\n",
            "Epoch 13/30\n",
            "252/252 [==============================] - 3s 13ms/step - loss: 0.3852 - f1_metric: 0.5910 - val_loss: 0.3946 - val_f1_metric: 0.2961\n",
            "Epoch 14/30\n",
            "252/252 [==============================] - 3s 13ms/step - loss: 0.3455 - f1_metric: 0.6208 - val_loss: 0.3674 - val_f1_metric: 0.2978\n",
            "Epoch 15/30\n",
            "252/252 [==============================] - 3s 13ms/step - loss: 0.3209 - f1_metric: 0.6334 - val_loss: 0.4245 - val_f1_metric: 0.2770\n",
            "Epoch 16/30\n",
            "252/252 [==============================] - 3s 13ms/step - loss: 0.2904 - f1_metric: 0.6425 - val_loss: 0.4334 - val_f1_metric: 0.3003\n"
          ]
        },
        {
          "output_type": "display_data",
          "data": {
            "text/plain": [
              "<Figure size 432x288 with 4 Axes>"
            ],
            "image/png": "[encoded data removed]"
          },
          "metadata": {
            "needs_background": "light"
          }
        }
      ]
    },
    {
      "cell_type": "code",
      "source": [
        "w2v_test(w2v_model_trained, X_test, y_mapping, data_test[\"label\"])"
      ],
      "metadata": {
        "colab": {
          "base_uri": "https://localhost:8080/",
          "height": 487
        },
        "id": "9Afl1IuJLbiP",
        "outputId": "d7a34ade-713e-4d2a-d3a4-dfe356868d44"
      },
      "execution_count": 55,
      "outputs": [
        {
          "output_type": "stream",
          "name": "stdout",
          "text": [
            "Best Threshold=0.438600\n"
          ]
        },
        {
          "output_type": "display_data",
          "data": {
            "text/plain": [
              "<Figure size 432x288 with 1 Axes>"
            ],
            "image/png": "[encoded data removed]"
          },
          "metadata": {
            "needs_background": "light"
          }
        },
        {
          "output_type": "stream",
          "name": "stdout",
          "text": [
            "Accuracy: 0.9\n",
            "Detail:\n",
            "              precision    recall  f1-score   support\n",
            "\n",
            "           0       0.96      0.93      0.95      3585\n",
            "           1       0.29      0.41      0.34       234\n",
            "\n",
            "    accuracy                           0.90      3819\n",
            "   macro avg       0.62      0.67      0.64      3819\n",
            "weighted avg       0.92      0.90      0.91      3819\n",
            "\n"
          ]
        }
      ]
    },
    {
      "cell_type": "code",
      "source": [
        "tokenizer, dic_vocabulary, X_train = feature_engineering(lst_corpus, over_random_train_text)"
      ],
      "metadata": {
        "id": "x5M31bvuDB_Z"
      },
      "execution_count": 83,
      "outputs": []
    },
    {
      "cell_type": "code",
      "source": [
        "w2v_model_trained, y_mapping = w2v_train(w2v_model, over_random_train[\"label\"], X_train, x_valid, data_validation[\"label\"])"
      ],
      "metadata": {
        "colab": {
          "base_uri": "https://localhost:8080/",
          "height": 295
        },
        "id": "yvwNgmdXDE6M",
        "outputId": "e97f33e0-0a8c-4c1f-fc5e-ec7af7b05ccb"
      },
      "execution_count": 84,
      "outputs": [
        {
          "output_type": "display_data",
          "data": {
            "text/plain": [
              "<Figure size 432x288 with 4 Axes>"
            ],
            "image/png": "[encoded data removed]"
          },
          "metadata": {
            "needs_background": "light"
          }
        }
      ]
    },
    {
      "cell_type": "code",
      "source": [
        "w2v_test(w2v_model_trained, X_test, y_mapping, data_test[\"label\"])"
      ],
      "metadata": {
        "colab": {
          "base_uri": "https://localhost:8080/",
          "height": 487
        },
        "id": "dyA_bEhYDPBg",
        "outputId": "a61e1d09-a244-4dda-bca2-f4e44f05b82c"
      },
      "execution_count": 85,
      "outputs": [
        {
          "output_type": "stream",
          "name": "stdout",
          "text": [
            "Best Threshold=0.190268\n"
          ]
        },
        {
          "output_type": "display_data",
          "data": {
            "text/plain": [
              "<Figure size 432x288 with 1 Axes>"
            ],
            "image/png": "[encoded data removed]"
          },
          "metadata": {
            "needs_background": "light"
          }
        },
        {
          "output_type": "stream",
          "name": "stdout",
          "text": [
            "Accuracy: 0.92\n",
            "Detail:\n",
            "              precision    recall  f1-score   support\n",
            "\n",
            "           0       0.95      0.96      0.96      3585\n",
            "           1       0.34      0.28      0.31       234\n",
            "\n",
            "    accuracy                           0.92      3819\n",
            "   macro avg       0.65      0.62      0.63      3819\n",
            "weighted avg       0.92      0.92      0.92      3819\n",
            "\n"
          ]
        }
      ]
    },
    {
      "cell_type": "code",
      "source": [
        "w2v_model_trained.save(\"w2v_rn_over_random\")"
      ],
      "metadata": {
        "id": "kgXh2iYDrEBp"
      },
      "execution_count": null,
      "outputs": []
    },
    {
      "cell_type": "code",
      "source": [
        "tokenizer, dic_vocabulary, X_train = feature_engineering(lst_corpus, under_random_train_text)"
      ],
      "metadata": {
        "id": "nQ14tC3qt3_M"
      },
      "execution_count": null,
      "outputs": []
    },
    {
      "cell_type": "code",
      "source": [
        "w2v_model_trained, y_mapping = w2v_train(w2v_model, under_random_train[\"label\"], X_train, x_valid, data_validation[\"label\"])"
      ],
      "metadata": {
        "colab": {
          "base_uri": "https://localhost:8080/",
          "height": 295
        },
        "outputId": "baf23038-bf6d-4891-e4c2-321b214e186a",
        "id": "ZA-JrPwXuC9o"
      },
      "execution_count": null,
      "outputs": [
        {
          "output_type": "display_data",
          "data": {
            "text/plain": [
              "<Figure size 432x288 with 4 Axes>"
            ],
            "image/png": "[encoded data removed]"
          },
          "metadata": {
            "needs_background": "light"
          }
        }
      ]
    },
    {
      "cell_type": "code",
      "source": [
        "w2v_test(w2v_model_trained, X_test, y_mapping, data_test[\"label\"])"
      ],
      "metadata": {
        "colab": {
          "base_uri": "https://localhost:8080/"
        },
        "outputId": "8d08edae-39fd-42a4-bf42-d0d12bdebaf3",
        "id": "A5UkV8fDuIWo"
      },
      "execution_count": null,
      "outputs": [
        {
          "output_type": "stream",
          "name": "stdout",
          "text": [
            "Accuracy: 0.84\n",
            "Detail:\n",
            "              precision    recall  f1-score   support\n",
            "\n",
            "           0       0.96      0.87      0.91      3585\n",
            "           1       0.18      0.44      0.26       234\n",
            "\n",
            "    accuracy                           0.84      3819\n",
            "   macro avg       0.57      0.66      0.59      3819\n",
            "weighted avg       0.91      0.84      0.87      3819\n",
            "\n"
          ]
        }
      ]
    },
    {
      "cell_type": "code",
      "source": [
        "w2v_model_trained.save(\"w2v_rn_under_random\")"
      ],
      "metadata": {
        "id": "TQZRiBFvuKgy"
      },
      "execution_count": null,
      "outputs": []
    },
    {
      "cell_type": "markdown",
      "source": [
        "Smote"
      ],
      "metadata": {
        "id": "rXQbMvARzM8j"
      }
    },
    {
      "cell_type": "code",
      "source": [
        ""
      ],
      "metadata": {
        "id": "0cPOefWizMUt"
      },
      "execution_count": null,
      "outputs": []
    },
    {
      "cell_type": "markdown",
      "metadata": {
        "id": "rSV0CKu83Iba"
      },
      "source": [
        "### Naive Bayes"
      ]
    },
    {
      "cell_type": "code",
      "source": [
        "from sklearn.naive_bayes import MultinomialNB, GaussianNB, BernoulliNB\n",
        "from sklearn import metrics"
      ],
      "metadata": {
        "id": "82dUE4wla10k"
      },
      "execution_count": null,
      "outputs": []
    },
    {
      "cell_type": "code",
      "source": [
        "def naive_Bayes_Classif(x_train, x_test, y_train, y_test):\n",
        "  MNB = BernoulliNB()\n",
        "  \n",
        "  MNB.fit(x_train, y_train)\n",
        "  predicted = MNB.predict(x_test)\n",
        "  print(metrics.classification_report(y_test, predicted))\n"
      ],
      "metadata": {
        "id": "wy-9yZT5amXx"
      },
      "execution_count": null,
      "outputs": []
    },
    {
      "cell_type": "markdown",
      "source": [
        "##### Count Vectorizer"
      ],
      "metadata": {
        "id": "0bcRrci02_8J"
      }
    },
    {
      "cell_type": "code",
      "source": [
        "train_text = get_vocab(data_train[\"text\"])\n",
        "cv_train, cv = count_vectorizer(train_text)\n",
        "test_text = get_vocab(data_test[\"text\"])\n",
        "cv_test =  cv.transform(test_text)"
      ],
      "metadata": {
        "id": "JZ2n6ztVvlva"
      },
      "execution_count": null,
      "outputs": []
    },
    {
      "cell_type": "code",
      "source": [
        "from collections import Counter"
      ],
      "metadata": {
        "id": "-8-12cDMzJmi"
      },
      "execution_count": null,
      "outputs": []
    },
    {
      "cell_type": "code",
      "source": [
        "over_smote_train_text, over_smote_train_label = smote_oversampling(cv_train,data_train[\"label\"])"
      ],
      "metadata": {
        "colab": {
          "base_uri": "https://localhost:8080/"
        },
        "id": "qsrROKuj3iqa",
        "outputId": "1b1b68b5-5dda-4453-adf3-67933f0f0c7b"
      },
      "execution_count": null,
      "outputs": [
        {
          "output_type": "stream",
          "name": "stdout",
          "text": [
            "Counter({1: 7293, 0: 7293})\n"
          ]
        }
      ]
    },
    {
      "cell_type": "code",
      "source": [
        "naive_Bayes_Classif(over_smote_train_text, cv_test, over_smote_train_label, data_test[\"label\"])"
      ],
      "metadata": {
        "colab": {
          "base_uri": "https://localhost:8080/"
        },
        "id": "t4Qr1Ldd3zcW",
        "outputId": "aeb1618a-7ebf-4082-d4dd-bba9499948b9"
      },
      "execution_count": null,
      "outputs": [
        {
          "output_type": "stream",
          "name": "stdout",
          "text": [
            "              precision    recall  f1-score   support\n",
            "\n",
            "           0       0.94      0.86      0.90      3585\n",
            "           1       0.09      0.20      0.12       234\n",
            "\n",
            "    accuracy                           0.82      3819\n",
            "   macro avg       0.51      0.53      0.51      3819\n",
            "weighted avg       0.89      0.82      0.85      3819\n",
            "\n"
          ]
        }
      ]
    },
    {
      "cell_type": "code",
      "source": [
        "over_smote_under_train_text, over_smote_under_train_label = smote_over_undersampling(cv_train,data_train[\"label\"])\n",
        "print(Counter(over_smote_under_train_label))"
      ],
      "metadata": {
        "colab": {
          "base_uri": "https://localhost:8080/"
        },
        "id": "tuyvayJ_zfEQ",
        "outputId": "0b5730f0-a8ce-4318-e2a5-12c2a9c05c60"
      },
      "execution_count": null,
      "outputs": [
        {
          "output_type": "stream",
          "name": "stdout",
          "text": [
            "Counter({0: 7292, 1: 3646})\n"
          ]
        }
      ]
    },
    {
      "cell_type": "code",
      "source": [
        "naive_Bayes_Classif(over_smote_under_train_text, cv_test, over_smote_under_train_label, data_test[\"label\"])"
      ],
      "metadata": {
        "colab": {
          "base_uri": "https://localhost:8080/"
        },
        "id": "lHXwCZHW0DHK",
        "outputId": "9fb5997a-eeb0-4173-aafe-1133160e4064"
      },
      "execution_count": null,
      "outputs": [
        {
          "output_type": "stream",
          "name": "stdout",
          "text": [
            "              precision    recall  f1-score   support\n",
            "\n",
            "           0       0.95      0.91      0.93      3585\n",
            "           1       0.13      0.20      0.16       234\n",
            "\n",
            "    accuracy                           0.87      3819\n",
            "   macro avg       0.54      0.56      0.54      3819\n",
            "weighted avg       0.90      0.87      0.88      3819\n",
            "\n"
          ]
        }
      ]
    },
    {
      "cell_type": "code",
      "source": [
        "cv_train, cv = count_vectorizer(under_random_train_text)\n",
        "cv_test =  cv.transform(test_text)\n",
        "naive_Bayes_Classif(cv_train, cv_test, under_random_train[\"label\"], data_test[\"label\"])"
      ],
      "metadata": {
        "colab": {
          "base_uri": "https://localhost:8080/"
        },
        "id": "23mw63qY1MAt",
        "outputId": "2ae9bcff-5a02-496e-bc45-47a1f6e3990b"
      },
      "execution_count": null,
      "outputs": [
        {
          "output_type": "stream",
          "name": "stdout",
          "text": [
            "              precision    recall  f1-score   support\n",
            "\n",
            "           0       0.97      0.75      0.85      3585\n",
            "           1       0.16      0.70      0.25       234\n",
            "\n",
            "    accuracy                           0.75      3819\n",
            "   macro avg       0.57      0.73      0.55      3819\n",
            "weighted avg       0.92      0.75      0.81      3819\n",
            "\n"
          ]
        }
      ]
    },
    {
      "cell_type": "code",
      "source": [
        "cv_train, cv = count_vectorizer(over_random_train_text)\n",
        "cv_test =  cv.transform(test_text)\n",
        "naive_Bayes_Classif(cv_train, cv_test, over_random_train[\"label\"], data_test[\"label\"])"
      ],
      "metadata": {
        "colab": {
          "base_uri": "https://localhost:8080/"
        },
        "id": "RE9LCdlz2PjU",
        "outputId": "506b61b7-8cec-4f1d-d1f2-8796a079d020"
      },
      "execution_count": null,
      "outputs": [
        {
          "output_type": "stream",
          "name": "stdout",
          "text": [
            "              precision    recall  f1-score   support\n",
            "\n",
            "           0       0.97      0.90      0.93      3585\n",
            "           1       0.25      0.51      0.33       234\n",
            "\n",
            "    accuracy                           0.87      3819\n",
            "   macro avg       0.61      0.70      0.63      3819\n",
            "weighted avg       0.92      0.87      0.89      3819\n",
            "\n"
          ]
        }
      ]
    },
    {
      "cell_type": "markdown",
      "source": [
        "##### Tf.idf"
      ],
      "metadata": {
        "id": "D5oEPXm93Yz0"
      }
    },
    {
      "cell_type": "code",
      "source": [
        "train_text = get_vocab(data_train[\"text\"])\n",
        "tf_train, tf = tf_idf_vectorizer(train_text)\n",
        "test_text = get_vocab(data_test[\"text\"])\n",
        "tf_test =  tf.transform(test_text)"
      ],
      "metadata": {
        "id": "XVadnJbJ3cSI"
      },
      "execution_count": null,
      "outputs": []
    },
    {
      "cell_type": "code",
      "source": [
        "over_smote_train_text, over_smote_train_label = smote_oversampling(tf_train,data_train[\"label\"])\n",
        "naive_Bayes_Classif(over_smote_train_text, tf_test, over_smote_train_label, data_test[\"label\"])"
      ],
      "metadata": {
        "colab": {
          "base_uri": "https://localhost:8080/"
        },
        "id": "RYJtaSEo39ku",
        "outputId": "922239c9-28aa-499b-ce7d-9de1d1e61485"
      },
      "execution_count": null,
      "outputs": [
        {
          "output_type": "stream",
          "name": "stdout",
          "text": [
            "              precision    recall  f1-score   support\n",
            "\n",
            "           0       0.96      0.96      0.96      3585\n",
            "           1       0.36      0.31      0.33       234\n",
            "\n",
            "    accuracy                           0.92      3819\n",
            "   macro avg       0.66      0.64      0.65      3819\n",
            "weighted avg       0.92      0.92      0.92      3819\n",
            "\n"
          ]
        }
      ]
    },
    {
      "cell_type": "code",
      "source": [
        "over_smote_under_train_text, over_smote_under_train_label = smote_over_undersampling(tf_train,data_train[\"label\"])\n",
        "naive_Bayes_Classif(over_smote_under_train_text, tf_test, over_smote_under_train_label, data_test[\"label\"])"
      ],
      "metadata": {
        "colab": {
          "base_uri": "https://localhost:8080/"
        },
        "id": "JycGTcQQ4Cp2",
        "outputId": "3ce86248-d636-4d4d-f3de-2e6b5fac5d8a"
      },
      "execution_count": null,
      "outputs": [
        {
          "output_type": "stream",
          "name": "stdout",
          "text": [
            "              precision    recall  f1-score   support\n",
            "\n",
            "           0       0.95      0.98      0.96      3585\n",
            "           1       0.40      0.21      0.28       234\n",
            "\n",
            "    accuracy                           0.93      3819\n",
            "   macro avg       0.68      0.59      0.62      3819\n",
            "weighted avg       0.92      0.93      0.92      3819\n",
            "\n"
          ]
        }
      ]
    },
    {
      "cell_type": "code",
      "source": [
        "tf_train, tf = tf_idf_vectorizer(under_random_train_text)\n",
        "tf_test =  tf.transform(test_text)\n",
        "naive_Bayes_Classif(tf_train, tf_test, under_random_train[\"label\"], data_test[\"label\"])"
      ],
      "metadata": {
        "colab": {
          "base_uri": "https://localhost:8080/"
        },
        "id": "AvPNtydS4m_V",
        "outputId": "aef0a712-6221-469f-98d6-1258766c303b"
      },
      "execution_count": null,
      "outputs": [
        {
          "output_type": "stream",
          "name": "stdout",
          "text": [
            "              precision    recall  f1-score   support\n",
            "\n",
            "           0       0.98      0.77      0.86      3585\n",
            "           1       0.17      0.71      0.27       234\n",
            "\n",
            "    accuracy                           0.76      3819\n",
            "   macro avg       0.57      0.74      0.56      3819\n",
            "weighted avg       0.93      0.76      0.82      3819\n",
            "\n"
          ]
        }
      ]
    },
    {
      "cell_type": "code",
      "source": [
        "tf_train, tf = tf_idf_vectorizer(over_random_train_text)\n",
        "tf_test =  tf.transform(test_text)\n",
        "naive_Bayes_Classif(tf_train, tf_test, over_random_train[\"label\"], data_test[\"label\"])"
      ],
      "metadata": {
        "colab": {
          "base_uri": "https://localhost:8080/"
        },
        "id": "eU6bNAvk44kr",
        "outputId": "9f9cd290-eba7-4263-c985-89c800e3cf5e"
      },
      "execution_count": null,
      "outputs": [
        {
          "output_type": "stream",
          "name": "stdout",
          "text": [
            "              precision    recall  f1-score   support\n",
            "\n",
            "           0       0.97      0.90      0.93      3585\n",
            "           1       0.25      0.50      0.33       234\n",
            "\n",
            "    accuracy                           0.88      3819\n",
            "   macro avg       0.61      0.70      0.63      3819\n",
            "weighted avg       0.92      0.88      0.90      3819\n",
            "\n"
          ]
        }
      ]
    },
    {
      "cell_type": "markdown",
      "source": [
        "### BERT (Sentence Transformers)"
      ],
      "metadata": {
        "id": "9rStYX8AGO4S"
      }
    },
    {
      "cell_type": "code",
      "source": [
        "from sentence_transformers import SentenceTransformer\n",
        "from keras.models import Sequential\n",
        "from keras.initializers import GlorotNormal\n",
        "from keras.layers import Dense, Dropout, Bidirectional, LSTM, Embedding, Input, BatchNormalization\n",
        "import numpy as np\n",
        "import matplotlib.pyplot as plt\n",
        "from sklearn import metrics\n",
        "from keras import models\n",
        "from keras.callbacks import EarlyStopping\n",
        "from sklearn.model_selection import train_test_split\n",
        "from keras.callbacks import LearningRateScheduler"
      ],
      "metadata": {
        "id": "GKLKWAoXJEE6"
      },
      "execution_count": 13,
      "outputs": []
    },
    {
      "cell_type": "code",
      "source": [
        "def sentence_transformers_embeddings(texts):\n",
        "  model = SentenceTransformer(\"all-mpnet-base-v2\")\n",
        "  #model = SentenceTransformer(\"all-distilroberta-v1\")\n",
        "\n",
        "  #Sentences are encoded by calling model.encode()\n",
        "  embeddings = model.encode(texts)\n",
        "\n",
        "  return embeddings"
      ],
      "metadata": {
        "id": "kVHRCT1EGTrT"
      },
      "execution_count": 62,
      "outputs": []
    },
    {
      "cell_type": "code",
      "source": [
        "def rn_bert_sent_transf_model(embeddings, y_train):\n",
        "  input_size = len(embeddings[0])\n",
        "  model = Sequential()\n",
        "  initializer = GlorotNormal()\n",
        " \n",
        "  model.add(Dense(96, input_shape=(input_size, ), activation=\"relu\", kernel_initializer=initializer))\n",
        "  model.add(Dropout(0.5))\n",
        "  model.add(Dense(1, activation='sigmoid', kernel_initializer=initializer))\n",
        "  model.compile(loss='binary_crossentropy',\n",
        "                optimizer='adam', metrics=[f1_metric])\n",
        "  model.summary()\n",
        "  return model"
      ],
      "metadata": {
        "id": "z7zU67HYNvAD"
      },
      "execution_count": 15,
      "outputs": []
    },
    {
      "cell_type": "code",
      "source": [
        "def bert_sent_transf_train(model, y_train, X_train, X_valid, y_valid):\n",
        "  dic_y_mapping = {n:label for n,label in \n",
        "                 enumerate(np.unique(y_train))}\n",
        "  #y_train = tf.one_hot(y_train, depth=2).numpy()\n",
        "  \n",
        "  #X_train, X_valid, y_train, y_valid = train_test_split(X_train, y_train)\n",
        "  # y_train = np.asarray(y_train).astype('float32').reshape((-1,1))\n",
        "  # y_valid = np.asarray(y_valid).astype('float32').reshape((-1,1))\n",
        "  #y_valid = tf.one_hot(y_valid, depth=2).numpy()\n",
        "  #print(y_valid)\n",
        "  early_stopping = EarlyStopping(\n",
        "      min_delta=0.001, # minimium amount of change to count as an improvement\n",
        "      patience=10, # how many epochs to wait before stopping\n",
        "      restore_best_weights=True,\n",
        "  )\n",
        "  ## train\n",
        "  training = model.fit(x=X_train, y=y_train, batch_size=32, \n",
        "                      epochs=30, shuffle=True, verbose=1, callbacks=[early_stopping],\n",
        "                      validation_data=(X_valid, y_valid))\n",
        "  #train with weights\n",
        "  # class_weight={\n",
        "  #     0:1.,\n",
        "  #     1:9.\n",
        "  # }\n",
        "  # training = model.fit(x=X_train, y=y_train, batch_size=32, \n",
        "  #                     epochs=30, shuffle=True, verbose=1, callbacks=[early_stopping],\n",
        "  #                     validation_data=(X_valid, y_valid), class_weight=class_weight)\n",
        "  ## plot loss and accuracy\n",
        "  metrics = [k for k in training.history.keys() if (\"loss\" not in k) and (\"val\" not in k)]\n",
        "  fig, ax = plt.subplots(nrows=1, ncols=2, sharey=True)\n",
        "  ax[0].set(title=\"Training\")\n",
        "  ax11 = ax[0].twinx()\n",
        "  ax[0].plot(training.history['loss'], color='black')\n",
        "  ax[0].set_xlabel('Epochs')\n",
        "  ax[0].set_ylabel('Loss', color='black')\n",
        "  for metric in metrics:\n",
        "      ax11.plot(training.history[metric], label=metric)\n",
        "  ax11.set_ylabel(\"Score\", color='steelblue')\n",
        "  ax11.legend()\n",
        "  ax[1].set(title=\"Validation\")\n",
        "  ax22 = ax[1].twinx()\n",
        "  ax[1].plot(training.history['val_loss'], color='black')\n",
        "  ax[1].set_xlabel('Epochs')\n",
        "  ax[1].set_ylabel('Loss', color='black')\n",
        "  for metric in metrics:\n",
        "      ax22.plot(training.history['val_'+metric], label=metric)\n",
        "  ax22.set_ylabel(\"Score\", color=\"steelblue\")\n",
        "  plt.show()\n",
        "  return model, dic_y_mapping"
      ],
      "metadata": {
        "id": "u1u9o1IGRn6G"
      },
      "execution_count": 80,
      "outputs": []
    },
    {
      "cell_type": "code",
      "source": [
        "def bert_sent_transf_test(model, X_test, dic_y_mapping, y_test, X_valid, y_valid):\n",
        "  predicted_prob = model.predict(X_test)\n",
        "  # opt_threshold = 0.5\n",
        "  # opt_threshold = roc_curve_threshold(predicted_prob, y_test)\n",
        "  opt_threshold = max_f1_threshold(model,predicted_prob, y_test, X_test)\n",
        "  # opt_threshold = pr_curve_threshold(predicted_prob, y_test)\n",
        "  #opt_threshold = pr_curve_threshold(model.predict(X_valid), y_valid)\n",
        "  # opt_threshold = opt_threshold_tuning(predicted_prob, y_test)\n",
        "  predicted = [threshold(pred, opt_threshold) for pred in \n",
        "              predicted_prob]\n",
        "  accuracy = metrics.accuracy_score(y_test, predicted)\n",
        "  print(\"Accuracy:\",  round(accuracy,2))\n",
        "  print(metrics.classification_report(y_test, predicted))"
      ],
      "metadata": {
        "id": "XbROHTFhTzuh"
      },
      "execution_count": 104,
      "outputs": []
    },
    {
      "cell_type": "code",
      "source": [
        "text_train = get_vocab(data_train[\"text\"])\n",
        "embeddings = sentence_transformers_embeddings(text_train)"
      ],
      "metadata": {
        "id": "c8YHG3mTJeld"
      },
      "execution_count": 125,
      "outputs": []
    },
    {
      "cell_type": "code",
      "source": [
        "embeddings_smote_text, embeddings_smote_labels  = smote_oversampling(embeddings, data_train[\"label\"])"
      ],
      "metadata": {
        "id": "bSKc3Un4Ne7m"
      },
      "execution_count": null,
      "outputs": []
    },
    {
      "cell_type": "code",
      "source": [
        "#bert_sentence_transformer_model = rn_bert_sent_transf_model(embeddings_smote_text, embeddings_smote_labels)"
      ],
      "metadata": {
        "id": "G7vfdwgTQjDg"
      },
      "execution_count": null,
      "outputs": []
    },
    {
      "cell_type": "code",
      "source": [
        "bert_sentence_transformer_model = rn_bert_sent_transf_model(embeddings, data_train[\"label\"])"
      ],
      "metadata": {
        "colab": {
          "base_uri": "https://localhost:8080/"
        },
        "id": "Vae9W_uxnzzU",
        "outputId": "f1b25719-840d-48ae-bcb1-41c238231980"
      },
      "execution_count": 75,
      "outputs": [
        {
          "output_type": "stream",
          "name": "stdout",
          "text": [
            "Model: \"sequential_3\"\n",
            "_________________________________________________________________\n",
            " Layer (type)                Output Shape              Param #   \n",
            "=================================================================\n",
            " dense_10 (Dense)            (None, 96)                73824     \n",
            "                                                                 \n",
            " dropout_3 (Dropout)         (None, 96)                0         \n",
            "                                                                 \n",
            " dense_11 (Dense)            (None, 1)                 97        \n",
            "                                                                 \n",
            "=================================================================\n",
            "Total params: 73,921\n",
            "Trainable params: 73,921\n",
            "Non-trainable params: 0\n",
            "_________________________________________________________________\n"
          ]
        }
      ]
    },
    {
      "cell_type": "code",
      "source": [
        "text_valid = get_vocab(data_validation[\"text\"])\n",
        "embeddings_valid = sentence_transformers_embeddings(text_valid)"
      ],
      "metadata": {
        "id": "j7Qlv3eZTBTJ"
      },
      "execution_count": 126,
      "outputs": []
    },
    {
      "cell_type": "code",
      "source": [
        "trained_bert_sent_transf_model, dic_y_mapping = bert_sent_transf_train(bert_sentence_transformer_model, data_train[\"label\"], embeddings, embeddings_valid, data_validation[\"label\"])"
      ],
      "metadata": {
        "colab": {
          "base_uri": "https://localhost:8080/",
          "height": 677
        },
        "id": "Gpm-NZm0oId6",
        "outputId": "61916710-7fe7-4b33-ff37-927e410a1253"
      },
      "execution_count": 81,
      "outputs": [
        {
          "output_type": "stream",
          "name": "stdout",
          "text": [
            "Epoch 1/30\n",
            "252/252 [==============================] - 1s 4ms/step - loss: 0.1097 - f1_metric: 0.7068 - val_loss: 0.2117 - val_f1_metric: 0.3394\n",
            "Epoch 2/30\n",
            "252/252 [==============================] - 1s 4ms/step - loss: 0.0979 - f1_metric: 0.7219 - val_loss: 0.2125 - val_f1_metric: 0.3109\n",
            "Epoch 3/30\n",
            "252/252 [==============================] - 1s 4ms/step - loss: 0.0939 - f1_metric: 0.7393 - val_loss: 0.2115 - val_f1_metric: 0.3182\n",
            "Epoch 4/30\n",
            "252/252 [==============================] - 1s 4ms/step - loss: 0.0919 - f1_metric: 0.7666 - val_loss: 0.2110 - val_f1_metric: 0.3163\n",
            "Epoch 5/30\n",
            "252/252 [==============================] - 1s 4ms/step - loss: 0.0903 - f1_metric: 0.7535 - val_loss: 0.2138 - val_f1_metric: 0.3539\n",
            "Epoch 6/30\n",
            "252/252 [==============================] - 1s 4ms/step - loss: 0.0875 - f1_metric: 0.7567 - val_loss: 0.2132 - val_f1_metric: 0.3301\n",
            "Epoch 7/30\n",
            "252/252 [==============================] - 1s 3ms/step - loss: 0.0859 - f1_metric: 0.7716 - val_loss: 0.2139 - val_f1_metric: 0.3244\n",
            "Epoch 8/30\n",
            "252/252 [==============================] - 1s 4ms/step - loss: 0.0824 - f1_metric: 0.7752 - val_loss: 0.2169 - val_f1_metric: 0.3113\n",
            "Epoch 9/30\n",
            "252/252 [==============================] - 1s 4ms/step - loss: 0.0817 - f1_metric: 0.7463 - val_loss: 0.2175 - val_f1_metric: 0.3495\n",
            "Epoch 10/30\n",
            "252/252 [==============================] - 1s 4ms/step - loss: 0.0797 - f1_metric: 0.7740 - val_loss: 0.2216 - val_f1_metric: 0.3260\n",
            "Epoch 11/30\n",
            "252/252 [==============================] - 1s 4ms/step - loss: 0.0782 - f1_metric: 0.7686 - val_loss: 0.2239 - val_f1_metric: 0.3530\n"
          ]
        },
        {
          "output_type": "display_data",
          "data": {
            "text/plain": [
              "<Figure size 432x288 with 4 Axes>"
            ],
            "image/png": "[encoded data removed]"
          },
          "metadata": {
            "needs_background": "light"
          }
        }
      ]
    },
    {
      "cell_type": "code",
      "source": [
        "text_test = get_vocab(data_test[\"text\"])\n",
        "embeddings_test = sentence_transformers_embeddings(text_test)"
      ],
      "metadata": {
        "id": "gxtorC6yT6HX"
      },
      "execution_count": 127,
      "outputs": []
    },
    {
      "cell_type": "code",
      "source": [
        "predicted_prob = trained_bert_sent_transf_model.predict(embeddings_test)\n",
        "print(predicted_prob)"
      ],
      "metadata": {
        "id": "burG7Vl9rvh_"
      },
      "execution_count": null,
      "outputs": []
    },
    {
      "cell_type": "code",
      "source": [
        "bert_sent_transf_test(trained_bert_sent_transf_model, embeddings_test, dic_y_mapping, data_test[\"label\"], embeddings_valid, data_validation[\"label\"])"
      ],
      "metadata": {
        "colab": {
          "base_uri": "https://localhost:8080/",
          "height": 470
        },
        "id": "3ptmoX5_JjoP",
        "outputId": "39f39fe5-eb99-43e9-8eb1-c4ff7c61a7bb"
      },
      "execution_count": 82,
      "outputs": [
        {
          "output_type": "stream",
          "name": "stdout",
          "text": [
            "Best Threshold=0.326622\n"
          ]
        },
        {
          "output_type": "display_data",
          "data": {
            "text/plain": [
              "<Figure size 432x288 with 1 Axes>"
            ],
            "image/png": "[encoded data removed]"
          },
          "metadata": {
            "needs_background": "light"
          }
        },
        {
          "output_type": "stream",
          "name": "stdout",
          "text": [
            "Accuracy: 0.93\n",
            "              precision    recall  f1-score   support\n",
            "\n",
            "           0       0.96      0.96      0.96      3585\n",
            "           1       0.40      0.40      0.40       234\n",
            "\n",
            "    accuracy                           0.93      3819\n",
            "   macro avg       0.68      0.68      0.68      3819\n",
            "weighted avg       0.93      0.93      0.93      3819\n",
            "\n"
          ]
        }
      ]
    },
    {
      "cell_type": "code",
      "source": [
        "#at first i used 0.5 as a threshold, but since the classes are so imbalanced, computing a more suited threshold was necesary\n",
        "bert_sent_transf_test(trained_bert_sent_transf_model, embeddings_valid, dic_y_mapping, data_validation[\"label\"])"
      ],
      "metadata": {
        "id": "NUJGpNvIUCXd",
        "colab": {
          "base_uri": "https://localhost:8080/"
        },
        "outputId": "e77bd7c8-978d-4c80-f74e-9a72b4b8410a"
      },
      "execution_count": 60,
      "outputs": [
        {
          "output_type": "stream",
          "name": "stdout",
          "text": [
            "Threshold=0.233, F-Score=0.43830\n",
            "Accuracy: 0.91\n",
            "              precision    recall  f1-score   support\n",
            "\n",
            "           0       0.97      0.94      0.95      2849\n",
            "           1       0.38      0.52      0.44       200\n",
            "\n",
            "    accuracy                           0.91      3049\n",
            "   macro avg       0.67      0.73      0.70      3049\n",
            "weighted avg       0.93      0.91      0.92      3049\n",
            "\n"
          ]
        }
      ]
    },
    {
      "cell_type": "code",
      "source": [
        "bert_sent_transf_test(trained_bert_sent_transf_model, embeddings_valid, dic_y_mapping, data_validation[\"label\"])"
      ],
      "metadata": {
        "colab": {
          "base_uri": "https://localhost:8080/",
          "height": 470
        },
        "id": "gpZ1POwAAl4Y",
        "outputId": "c08b3c98-3392-40c7-9867-617f543bc2f0"
      },
      "execution_count": 54,
      "outputs": [
        {
          "output_type": "stream",
          "name": "stdout",
          "text": [
            "Best Threshold=0.247300\n"
          ]
        },
        {
          "output_type": "display_data",
          "data": {
            "text/plain": [
              "<Figure size 432x288 with 1 Axes>"
            ],
            "image/png": "[encoded data removed]"
          },
          "metadata": {
            "needs_background": "light"
          }
        },
        {
          "output_type": "stream",
          "name": "stdout",
          "text": [
            "Accuracy: 0.92\n",
            "              precision    recall  f1-score   support\n",
            "\n",
            "           0       0.96      0.95      0.95      2849\n",
            "           1       0.39      0.49      0.44       200\n",
            "\n",
            "    accuracy                           0.92      3049\n",
            "   macro avg       0.68      0.72      0.70      3049\n",
            "weighted avg       0.93      0.92      0.92      3049\n",
            "\n"
          ]
        }
      ]
    },
    {
      "cell_type": "code",
      "source": [
        "import tensorflow as tf\n",
        "Labels = tf.one_hot(data_validation[\"label\"], depth=2)\n",
        "print(Labels)"
      ],
      "metadata": {
        "id": "4uE3v8MxPi_m"
      },
      "execution_count": null,
      "outputs": []
    },
    {
      "cell_type": "markdown",
      "source": [
        "### RNN fine tuning"
      ],
      "metadata": {
        "id": "OS8vkOpQ3RPh"
      }
    },
    {
      "cell_type": "markdown",
      "source": [
        "try with w2v and others"
      ],
      "metadata": {
        "id": "EdpFKVRFYFCX"
      }
    },
    {
      "cell_type": "code",
      "source": [
        "import numpy as np\n",
        "import pandas as pd\n",
        "import matplotlib.pyplot as plt\n",
        "import seaborn as sns\n",
        "from sklearn.model_selection import train_test_split\n",
        "from sklearn.model_selection import cross_val_score\n",
        "from keras.models import Sequential\n",
        "from keras.layers import Dense, BatchNormalization, Dropout\n",
        "from keras.callbacks import EarlyStopping, ModelCheckpoint\n",
        "from scikeras.wrappers import KerasClassifier\n",
        "from math import floor\n",
        "from sklearn.metrics import make_scorer, accuracy_score\n",
        "from bayes_opt import BayesianOptimization\n",
        "from sklearn.model_selection import StratifiedKFold\n",
        "from keras.layers import LeakyReLU\n",
        "import tensorflow as tf"
      ],
      "metadata": {
        "id": "JoTOZbIy3gEj"
      },
      "execution_count": 69,
      "outputs": []
    },
    {
      "cell_type": "code",
      "source": [
        "def nn_cl_bo(neurons, activation, optimizer, learning_rate,  batch_size, epochs):\n",
        "    optimizerL = ['SGD', 'Adam', 'RMSprop', 'Adadelta', 'Adagrad', 'Adamax', 'Nadam', 'Ftrl','SGD']\n",
        "    optimizerD= {'Adam':tf.keras.optimizers.Adam(learning_rate=learning_rate), 'SGD':tf.keras.optimizers.SGD(learning_rate=learning_rate),\n",
        "                 'RMSprop':tf.keras.optimizers.RMSprop(learning_rate=learning_rate), 'Adadelta':tf.keras.optimizers.Adadelta(learning_rate=learning_rate),\n",
        "                 'Adagrad':tf.keras.optimizers.Adagrad(learning_rate=learning_rate), 'Adamax':tf.keras.optimizers.Adamax(learning_rate=learning_rate),\n",
        "                 'Nadam':tf.keras.optimizers.Nadam(learning_rate=learning_rate), 'Ftrl':tf.keras.optimizers.Ftrl(learning_rate=learning_rate)}\n",
        "    activationL = ['relu', 'sigmoid', 'softplus', 'softsign', 'tanh', 'selu',\n",
        "                   'elu', 'exponential']\n",
        "    neurons = round(neurons)\n",
        "    activation = activationL[round(activation)]\n",
        "    batch_size = round(batch_size)\n",
        "    epochs = round(epochs)\n",
        "    def nn_cl_fun():\n",
        "        opt = tf.keras.optimizers.Adam(learning_rate = learning_rate)\n",
        "        nn = Sequential()\n",
        "        nn.add(Dense(neurons, input_dim=len(embeddings[0]), activation=activation))\n",
        "        nn.add(Dense(neurons, activation=activation))\n",
        "        nn.add(Dense(1, activation='sigmoid'))\n",
        "        nn.compile(loss='binary_crossentropy', optimizer=opt, metrics=[f1_metric])\n",
        "        return nn\n",
        "    es = EarlyStopping(monitor='f1_metric', mode='max', verbose=0, patience=20)\n",
        "    nn = KerasClassifier(build_fn=nn_cl_fun, epochs=epochs, batch_size=batch_size,\n",
        "                         verbose=0)\n",
        "    kfold = StratifiedKFold(n_splits=5, shuffle=True, random_state=123)\n",
        "    score = cross_val_score(nn, embeddings, data_train[\"label\"], scoring=make_scorer(f1_score), cv=kfold, fit_params={'callbacks':[es]}).mean()\n",
        "    return score"
      ],
      "metadata": {
        "id": "Rc6aBqst3UMS"
      },
      "execution_count": 83,
      "outputs": []
    },
    {
      "cell_type": "code",
      "source": [
        "def nn_cl_bo2(neurons, activation, optimizer, learning_rate, batch_size, epochs,\n",
        "              layers1, layers2, normalization, dropout, dropout_rate):\n",
        "    optimizerL = ['SGD', 'Adam', 'RMSprop', 'Adadelta', 'Adagrad', 'Adamax', 'Nadam', 'Ftrl','SGD']\n",
        "    optimizerD= {'Adam':tf.keras.optimizers.Adam(learning_rate=learning_rate), 'SGD':tf.keras.optimizers.SGD(learning_rate=learning_rate),\n",
        "                 'RMSprop':tf.keras.optimizers.RMSprop(learning_rate=learning_rate), 'Adadelta':tf.keras.optimizers.Adadelta(learning_rate=learning_rate),\n",
        "                 'Adagrad':tf.keras.optimizers.Adagrad(learning_rate=learning_rate), 'Adamax':tf.keras.optimizers.Adamax(learning_rate=learning_rate),\n",
        "                 'Nadam':tf.keras.optimizers.Nadam(learning_rate=learning_rate), 'Ftrl':tf.keras.optimizers.Ftrl(learning_rate=learning_rate)}\n",
        "    activationL = ['relu', 'sigmoid', 'softplus', 'softsign', 'tanh', 'selu',\n",
        "                   'elu', 'exponential']\n",
        "    neurons = round(neurons)\n",
        "    activation = activationL[round(activation)]\n",
        "    optimizer = optimizerD[optimizerL[round(optimizer)]]\n",
        "    batch_size = round(batch_size)\n",
        "    epochs = round(epochs)\n",
        "    layers1 = round(layers1)\n",
        "    layers2 = round(layers2)\n",
        "    def nn_cl_fun():\n",
        "        nn = Sequential()\n",
        "        nn.add(Dense(neurons, input_dim=len(embeddings[0]), activation=activation))\n",
        "        if normalization > 0.5:\n",
        "            nn.add(BatchNormalization())\n",
        "        for i in range(layers1):\n",
        "            nn.add(Dense(neurons, activation=activation))\n",
        "        if dropout > 0.5:\n",
        "            nn.add(Dropout(dropout_rate, seed=123))\n",
        "        for i in range(layers2):\n",
        "            nn.add(Dense(neurons, activation=activation))\n",
        "        nn.add(Dense(1, activation='sigmoid'))\n",
        "        nn.compile(loss='binary_crossentropy', optimizer=optimizer, metrics=[f1_metric])\n",
        "        return nn\n",
        "    es = EarlyStopping(monitor='f1_metric', mode='max', verbose=0, patience=20)\n",
        "    nn = KerasClassifier(build_fn=nn_cl_fun, epochs=epochs, batch_size=batch_size, verbose=0)\n",
        "    kfold = StratifiedKFold(n_splits=5, shuffle=True, random_state=123)\n",
        "    score = cross_val_score(nn, embeddings, data_train[\"label\"], scoring=make_scorer(f1_score), cv=kfold, fit_params={'callbacks':[es]}).mean()\n",
        "    return score"
      ],
      "metadata": {
        "id": "NPT0B_M4NtlP"
      },
      "execution_count": 88,
      "outputs": []
    },
    {
      "cell_type": "code",
      "source": [
        "score_f1 = make_scorer(f1_score)\n",
        "params_nn ={\n",
        "    'neurons': (10, 100),\n",
        "    'activation':(0, 7),\n",
        "    'optimizer':(0,7),\n",
        "    'learning_rate':(0.01, 1),\n",
        "    'batch_size':(200, 1000),\n",
        "    'epochs':(20, 100)\n",
        "}\n",
        "# Run Bayesian Optimization\n",
        "nn_bo = BayesianOptimization(nn_cl_bo, params_nn, random_state=111)\n",
        "nn_bo.maximize(init_points=25, n_iter=4)"
      ],
      "metadata": {
        "id": "pJGpXK6z4xY1"
      },
      "execution_count": null,
      "outputs": []
    },
    {
      "cell_type": "code",
      "source": [
        "params_nn_ = nn_bo.max['params']\n",
        "activationL = ['relu', 'sigmoid', 'softplus', 'softsign', 'tanh', 'selu',\n",
        "               'elu', 'exponential', LeakyReLU,'relu']\n",
        "params_nn_['activation'] = activationL[round(params_nn_['activation'])]\n",
        "print(params_nn_)"
      ],
      "metadata": {
        "colab": {
          "base_uri": "https://localhost:8080/"
        },
        "id": "NyAv0RgcNXmE",
        "outputId": "8316b9db-45ec-4575-fcae-bcf0bff16792"
      },
      "execution_count": 85,
      "outputs": [
        {
          "output_type": "stream",
          "name": "stdout",
          "text": [
            "{'activation': 'tanh', 'batch_size': 851.0135336291902, 'epochs': 53.7054301919375, 'learning_rate': 0.037173480215022196, 'neurons': 50.872297884262295, 'optimizer': 0.7372825972056519}\n"
          ]
        }
      ]
    },
    {
      "cell_type": "code",
      "source": [
        "params_nn2 ={\n",
        "    'neurons': (10, 100),\n",
        "    'activation':(0, 7),\n",
        "    'optimizer':(0,7),\n",
        "    'learning_rate':(0.01, 1),\n",
        "    'batch_size':(200, 1000),\n",
        "    'epochs':(20, 100),\n",
        "    'layers1':(1,3),\n",
        "    'layers2':(1,3),\n",
        "    'normalization':(0,1),\n",
        "    'dropout':(0,1),\n",
        "    'dropout_rate':(0,0.3)\n",
        "}\n",
        "# Run Bayesian Optimization\n",
        "nn_bo_l = BayesianOptimization(nn_cl_bo2, params_nn2, random_state=111)\n",
        "nn_bo_l.maximize(init_points=25, n_iter=4)"
      ],
      "metadata": {
        "id": "Q2PvY2IUOJAl"
      },
      "execution_count": null,
      "outputs": []
    },
    {
      "cell_type": "code",
      "source": [
        "params_nn_ = nn_bo_l.max['params']\n",
        "learning_rate = params_nn_['learning_rate']\n",
        "activationL = ['relu', 'sigmoid', 'softplus', 'softsign', 'tanh', 'selu',\n",
        "               'elu', 'exponential', LeakyReLU,'relu']\n",
        "params_nn_['activation'] = activationL[round(params_nn_['activation'])]\n",
        "params_nn_['batch_size'] = round(params_nn_['batch_size'])\n",
        "params_nn_['epochs'] = round(params_nn_['epochs'])\n",
        "params_nn_['layers1'] = round(params_nn_['layers1'])\n",
        "params_nn_['layers2'] = round(params_nn_['layers2'])\n",
        "params_nn_['neurons'] = round(params_nn_['neurons'])\n",
        "optimizerL = ['Adam', 'SGD', 'RMSprop', 'Adadelta', 'Adagrad', 'Adamax', 'Nadam', 'Ftrl','Adam']\n",
        "optimizerD= {'Adam':tf.keras.optimizers.Adam(learning_rate=learning_rate), 'SGD':tf.keras.optimizers.SGD(learning_rate=learning_rate),\n",
        "                 'RMSprop':tf.keras.optimizers.RMSprop(learning_rate=learning_rate), 'Adadelta':tf.keras.optimizers.Adadelta(learning_rate=learning_rate),\n",
        "                 'Adagrad':tf.keras.optimizers.Adagrad(learning_rate=learning_rate), 'Adamax':tf.keras.optimizers.Adamax(learning_rate=learning_rate),\n",
        "                 'Nadam':tf.keras.optimizers.Nadam(learning_rate=learning_rate), 'Ftrl':tf.keras.optimizers.Ftrl(learning_rate=learning_rate)}\n",
        "params_nn_['optimizer'] = optimizerD[optimizerL[round(params_nn_['optimizer'])]]\n",
        "print(params_nn_)"
      ],
      "metadata": {
        "colab": {
          "base_uri": "https://localhost:8080/"
        },
        "id": "WzczkiwQRgee",
        "outputId": "29f61517-7585-4425-86ba-b9f68e70c471"
      },
      "execution_count": 91,
      "outputs": [
        {
          "output_type": "stream",
          "name": "stdout",
          "text": [
            "{'activation': 'relu', 'batch_size': 242, 'dropout': 0.1279608146375314, 'dropout_rate': 0.010014947837176436, 'epochs': 38, 'layers1': 2, 'layers2': 1, 'learning_rate': 0.18755133602737314, 'neurons': 23, 'normalization': 0.6830131255680931, 'optimizer': <keras.optimizer_v2.adadelta.Adadelta object at 0x7f5d481d2690>}\n"
          ]
        }
      ]
    },
    {
      "cell_type": "code",
      "source": [
        "def nn_cl_fun():\n",
        "  input_size = len(embeddings[0])\n",
        "  initializer = GlorotNormal()\n",
        "  \n",
        "  nn = Sequential()\n",
        "  nn.add(Dense(params_nn_['neurons'], input_shape=(input_size, ), activation=\"relu\", kernel_initializer=initializer))\n",
        "  if params_nn_['normalization'] > 0.5:\n",
        "    nn.add(BatchNormalization())\n",
        "  for i in range(params_nn_['layers1']):\n",
        "    nn.add(Dense(params_nn_['neurons'], activation=params_nn_['activation']))\n",
        "  if params_nn_['dropout'] > 0.5:\n",
        "    nn.add(Dropout(params_nn_['dropout_rate'], seed=123))\n",
        "  for i in range(params_nn_['layers2']):\n",
        "    nn.add(Dense(params_nn_['neurons'], activation=params_nn_['activation']))\n",
        "  nn.add(Dense(1, activation='sigmoid'))\n",
        "  nn.compile(loss='binary_crossentropy', optimizer=params_nn_['optimizer'], metrics=[f1_metric])\n",
        "  nn.summary()\n",
        "  return nn"
      ],
      "metadata": {
        "id": "zPbhW7dbRwJd"
      },
      "execution_count": 128,
      "outputs": []
    },
    {
      "cell_type": "code",
      "source": [
        "def bert_sent_transf_test(model, X_test, dic_y_mapping, y_test, X_valid, y_valid):\n",
        "  predicted_prob = model.predict(X_test)\n",
        "  print(predicted_prob)\n",
        "  # opt_threshold = 0.5\n",
        "  # opt_threshold = roc_curve_threshold(predicted_prob, y_test)\n",
        "  #opt_threshold = max_f1_threshold(model,predicted_prob, y_test, X_test)\n",
        "  #opt_threshold = pr_curve_threshold(predicted_prob, y_test)\n",
        "  opt_threshold = pr_curve_threshold(model.predict(X_valid), y_valid)\n",
        "  # opt_threshold = opt_threshold_tuning(predicted_prob, y_test)\n",
        "  predicted = [threshold(pred, opt_threshold) for pred in \n",
        "              predicted_prob]\n",
        "  accuracy = metrics.accuracy_score(y_test, predicted)\n",
        "  print(\"Accuracy:\",  round(accuracy,2))\n",
        "  print(metrics.classification_report(y_test, predicted))"
      ],
      "metadata": {
        "id": "GYj3d0WbT6ia"
      },
      "execution_count": 123,
      "outputs": []
    },
    {
      "cell_type": "code",
      "source": [
        "def training_rn(X_train, y_train, X_valid, y_valid):\n",
        "  es = EarlyStopping(monitor='f1_metric', mode='max', verbose=0, patience=20)\n",
        "  # nn = KerasClassifier(build_fn=nn_cl_fun, epochs=params_nn_['epochs'], batch_size=params_nn_['batch_size'],\n",
        "  #                           verbose=0)\n",
        "  nn=nn_cl_fun()\n",
        "  # nn.fit(embeddings, data_train[\"label\"], validation_data=(embeddings_valid, data_validation[\"label\"]), verbose=1)\n",
        "  training = nn.fit(x=X_train, y=y_train, batch_size=32, \n",
        "                        epochs=30, shuffle=True, verbose=1, callbacks=[es],\n",
        "                        validation_data=(X_valid, y_valid))\n",
        "\n",
        "  metrics = [k for k in training.history.keys() if (\"loss\" not in k) and (\"val\" not in k)]\n",
        "  fig, ax = plt.subplots(nrows=1, ncols=2, sharey=True)\n",
        "  ax[0].set(title=\"Training\")\n",
        "  ax11 = ax[0].twinx()\n",
        "  ax[0].plot(training.history['loss'], color='black')\n",
        "  ax[0].set_xlabel('Epochs')\n",
        "  ax[0].set_ylabel('Loss', color='black')\n",
        "  for metric in metrics:\n",
        "      ax11.plot(training.history[metric], label=metric)\n",
        "  ax11.set_ylabel(\"Score\", color='steelblue')\n",
        "  ax11.legend()\n",
        "  ax[1].set(title=\"Validation\")\n",
        "  ax22 = ax[1].twinx()\n",
        "  ax[1].plot(training.history['val_loss'], color='black')\n",
        "  ax[1].set_xlabel('Epochs')\n",
        "  ax[1].set_ylabel('Loss', color='black')\n",
        "  for metric in metrics:\n",
        "      ax22.plot(training.history['val_'+metric], label=metric)\n",
        "  ax22.set_ylabel(\"Score\", color=\"steelblue\")\n",
        "  plt.show()\n",
        "  return nn, dic_y_mapping"
      ],
      "metadata": {
        "id": "ernoZ4rxR7DL"
      },
      "execution_count": 118,
      "outputs": []
    },
    {
      "cell_type": "code",
      "source": [
        "model, dic_y_mapping = training_rn(embeddings, data_train[\"label\"], embeddings_valid, data_validation[\"label\"])"
      ],
      "metadata": {
        "colab": {
          "base_uri": "https://localhost:8080/",
          "height": 1000
        },
        "id": "I3S_W5yHV9F0",
        "outputId": "10934555-fd0e-42c5-d8de-a8d72a5a1dfb"
      },
      "execution_count": 129,
      "outputs": [
        {
          "output_type": "stream",
          "name": "stdout",
          "text": [
            "Model: \"sequential_362\"\n",
            "_________________________________________________________________\n",
            " Layer (type)                Output Shape              Param #   \n",
            "=================================================================\n",
            " dense_1677 (Dense)          (None, 23)                17687     \n",
            "                                                                 \n",
            " batch_normalization_96 (Bat  (None, 23)               92        \n",
            " chNormalization)                                                \n",
            "                                                                 \n",
            " dense_1678 (Dense)          (None, 23)                552       \n",
            "                                                                 \n",
            " dense_1679 (Dense)          (None, 23)                552       \n",
            "                                                                 \n",
            " dense_1680 (Dense)          (None, 23)                552       \n",
            "                                                                 \n",
            " dense_1681 (Dense)          (None, 1)                 24        \n",
            "                                                                 \n",
            "=================================================================\n",
            "Total params: 19,459\n",
            "Trainable params: 19,413\n",
            "Non-trainable params: 46\n",
            "_________________________________________________________________\n",
            "Epoch 1/30\n",
            "252/252 [==============================] - 2s 4ms/step - loss: 0.3795 - f1_metric: 0.0154 - val_loss: 0.4015 - val_f1_metric: 0.0000e+00\n",
            "Epoch 2/30\n",
            "252/252 [==============================] - 1s 4ms/step - loss: 0.2458 - f1_metric: 0.0267 - val_loss: 0.2354 - val_f1_metric: 0.0146\n",
            "Epoch 3/30\n",
            "252/252 [==============================] - 1s 4ms/step - loss: 0.2214 - f1_metric: 0.1892 - val_loss: 0.1982 - val_f1_metric: 0.1608\n",
            "Epoch 4/30\n",
            "252/252 [==============================] - 1s 4ms/step - loss: 0.2062 - f1_metric: 0.3316 - val_loss: 0.1936 - val_f1_metric: 0.1805\n",
            "Epoch 5/30\n",
            "252/252 [==============================] - 1s 4ms/step - loss: 0.1921 - f1_metric: 0.4174 - val_loss: 0.1934 - val_f1_metric: 0.2139\n",
            "Epoch 6/30\n",
            "252/252 [==============================] - 1s 4ms/step - loss: 0.1814 - f1_metric: 0.4530 - val_loss: 0.1976 - val_f1_metric: 0.2339\n",
            "Epoch 7/30\n",
            "252/252 [==============================] - 1s 4ms/step - loss: 0.1716 - f1_metric: 0.4873 - val_loss: 0.1999 - val_f1_metric: 0.2350\n",
            "Epoch 8/30\n",
            "252/252 [==============================] - 1s 4ms/step - loss: 0.1607 - f1_metric: 0.5542 - val_loss: 0.2013 - val_f1_metric: 0.2472\n",
            "Epoch 9/30\n",
            "252/252 [==============================] - 1s 4ms/step - loss: 0.1533 - f1_metric: 0.5657 - val_loss: 0.2076 - val_f1_metric: 0.2671\n",
            "Epoch 10/30\n",
            "252/252 [==============================] - 1s 4ms/step - loss: 0.1443 - f1_metric: 0.5947 - val_loss: 0.2110 - val_f1_metric: 0.2402\n",
            "Epoch 11/30\n",
            "252/252 [==============================] - 1s 4ms/step - loss: 0.1341 - f1_metric: 0.6301 - val_loss: 0.2185 - val_f1_metric: 0.2311\n",
            "Epoch 12/30\n",
            "252/252 [==============================] - 1s 4ms/step - loss: 0.1279 - f1_metric: 0.6281 - val_loss: 0.2259 - val_f1_metric: 0.2485\n",
            "Epoch 13/30\n",
            "252/252 [==============================] - 1s 4ms/step - loss: 0.1181 - f1_metric: 0.6720 - val_loss: 0.2363 - val_f1_metric: 0.2680\n",
            "Epoch 14/30\n",
            "252/252 [==============================] - 1s 4ms/step - loss: 0.1101 - f1_metric: 0.7062 - val_loss: 0.2474 - val_f1_metric: 0.2697\n",
            "Epoch 15/30\n",
            "252/252 [==============================] - 1s 4ms/step - loss: 0.1030 - f1_metric: 0.7350 - val_loss: 0.2537 - val_f1_metric: 0.2479\n",
            "Epoch 16/30\n",
            "252/252 [==============================] - 1s 4ms/step - loss: 0.0952 - f1_metric: 0.7545 - val_loss: 0.2701 - val_f1_metric: 0.2668\n",
            "Epoch 17/30\n",
            "252/252 [==============================] - 1s 4ms/step - loss: 0.0861 - f1_metric: 0.7897 - val_loss: 0.2818 - val_f1_metric: 0.2821\n",
            "Epoch 18/30\n",
            "252/252 [==============================] - 1s 4ms/step - loss: 0.0824 - f1_metric: 0.7831 - val_loss: 0.2901 - val_f1_metric: 0.2478\n",
            "Epoch 19/30\n",
            "252/252 [==============================] - 1s 4ms/step - loss: 0.0747 - f1_metric: 0.8080 - val_loss: 0.3036 - val_f1_metric: 0.2698\n",
            "Epoch 20/30\n",
            "252/252 [==============================] - 1s 4ms/step - loss: 0.0727 - f1_metric: 0.7964 - val_loss: 0.3166 - val_f1_metric: 0.2604\n",
            "Epoch 21/30\n",
            "252/252 [==============================] - 1s 4ms/step - loss: 0.0652 - f1_metric: 0.8089 - val_loss: 0.3317 - val_f1_metric: 0.2555\n",
            "Epoch 22/30\n",
            "252/252 [==============================] - 1s 4ms/step - loss: 0.0587 - f1_metric: 0.8515 - val_loss: 0.3448 - val_f1_metric: 0.2588\n",
            "Epoch 23/30\n",
            "252/252 [==============================] - 1s 4ms/step - loss: 0.0550 - f1_metric: 0.8364 - val_loss: 0.3613 - val_f1_metric: 0.2248\n",
            "Epoch 24/30\n",
            "252/252 [==============================] - 1s 4ms/step - loss: 0.0484 - f1_metric: 0.8768 - val_loss: 0.3771 - val_f1_metric: 0.2363\n",
            "Epoch 25/30\n",
            "252/252 [==============================] - 1s 4ms/step - loss: 0.0462 - f1_metric: 0.8546 - val_loss: 0.3958 - val_f1_metric: 0.2503\n",
            "Epoch 26/30\n",
            "252/252 [==============================] - 1s 4ms/step - loss: 0.0417 - f1_metric: 0.8829 - val_loss: 0.3965 - val_f1_metric: 0.2403\n",
            "Epoch 27/30\n",
            "252/252 [==============================] - 1s 4ms/step - loss: 0.0392 - f1_metric: 0.8840 - val_loss: 0.4247 - val_f1_metric: 0.2353\n",
            "Epoch 28/30\n",
            "252/252 [==============================] - 1s 4ms/step - loss: 0.0386 - f1_metric: 0.8860 - val_loss: 0.4384 - val_f1_metric: 0.2548\n",
            "Epoch 29/30\n",
            "252/252 [==============================] - 1s 4ms/step - loss: 0.0324 - f1_metric: 0.8892 - val_loss: 0.4522 - val_f1_metric: 0.2358\n",
            "Epoch 30/30\n",
            "252/252 [==============================] - 1s 4ms/step - loss: 0.0306 - f1_metric: 0.9072 - val_loss: 0.4517 - val_f1_metric: 0.2480\n"
          ]
        },
        {
          "output_type": "display_data",
          "data": {
            "text/plain": [
              "<Figure size 432x288 with 4 Axes>"
            ],
            "image/png": "[encoded data removed]"
          },
          "metadata": {
            "needs_background": "light"
          }
        }
      ]
    },
    {
      "cell_type": "code",
      "source": [
        "bert_sent_transf_test(model, embeddings_test, dic_y_mapping, data_test[\"label\"], embeddings_valid, data_validation[\"label\"])"
      ],
      "metadata": {
        "colab": {
          "base_uri": "https://localhost:8080/",
          "height": 591
        },
        "id": "MSmaEjTaTJZy",
        "outputId": "9820477f-0761-4815-c128-14d7576fbef0"
      },
      "execution_count": 130,
      "outputs": [
        {
          "output_type": "stream",
          "name": "stdout",
          "text": [
            "[[4.27264091e-08]\n",
            " [1.15390785e-05]\n",
            " [7.72993099e-06]\n",
            " ...\n",
            " [1.44099076e-05]\n",
            " [3.86162974e-05]\n",
            " [4.51575443e-06]]\n",
            "Best Threshold=0.454818\n"
          ]
        },
        {
          "output_type": "display_data",
          "data": {
            "text/plain": [
              "<Figure size 432x288 with 1 Axes>"
            ],
            "image/png": "[encoded data removed]"
          },
          "metadata": {
            "needs_background": "light"
          }
        },
        {
          "output_type": "stream",
          "name": "stdout",
          "text": [
            "Accuracy: 0.92\n",
            "              precision    recall  f1-score   support\n",
            "\n",
            "           0       0.95      0.97      0.96      3585\n",
            "           1       0.32      0.24      0.27       234\n",
            "\n",
            "    accuracy                           0.92      3819\n",
            "   macro avg       0.63      0.60      0.62      3819\n",
            "weighted avg       0.91      0.92      0.92      3819\n",
            "\n"
          ]
        }
      ]
    },
    {
      "cell_type": "markdown",
      "source": [
        "### Plotting"
      ],
      "metadata": {
        "id": "mpjFuYrBp_gA"
      }
    },
    {
      "cell_type": "code",
      "source": [
        "#word clouds"
      ],
      "metadata": {
        "id": "R99UcnMI1nCF"
      },
      "execution_count": null,
      "outputs": []
    },
    {
      "cell_type": "code",
      "source": [
        "import matplotlib.pyplot as plt"
      ],
      "metadata": {
        "id": "A08Vz_IHsMBN"
      },
      "execution_count": null,
      "outputs": []
    },
    {
      "cell_type": "code",
      "source": [
        "def tweet_distribution(count_adr, count_noadr, index_names, fig_name):\n",
        "  plotdata = pd.DataFrame({\n",
        "    \"ADR\":count_adr,\n",
        "    \"no ADR\":count_noadr},\n",
        "    index=index_names)\n",
        "\n",
        "  plotdata.plot(kind=\"bar\",figsize=(15, 8))\n",
        "  plt.title(\"Tweets distribution\")\n",
        "  plt.xlabel(\"Set\")\n",
        "  plt.ylabel(\"Tweets\")\n",
        "  plt.savefig(fig_name)"
      ],
      "metadata": {
        "id": "6Le0_tsasKwL"
      },
      "execution_count": null,
      "outputs": []
    },
    {
      "cell_type": "code",
      "source": [
        "train_labels = data_train[\"label\"].tolist()\n",
        "test_labels = data_test[\"label\"].tolist()\n",
        "valid_labels = data_validation[\"label\"].tolist()\n",
        "\n",
        "tweet_distribution([train_labels.count(1),test_labels.count(1),valid_labels.count(1)], [train_labels.count(0),test_labels.count(0),valid_labels.count(0)],[\"Train\", \"Test\", \"Validation\"],\"dataset1_distribution.png\")\n"
      ],
      "metadata": {
        "id": "mvfxtSI_oQUJ"
      },
      "execution_count": null,
      "outputs": []
    },
    {
      "cell_type": "code",
      "source": [
        "train_labels = data_train[\"label\"].tolist()\n",
        "test_labels = data_test[\"label\"].tolist()\n",
        "\n",
        "tweet_distribution([train_labels.count(1),test_labels.count(1)], [train_labels.count(0),test_labels.count(0)],[\"Train\", \"Test\"],\"dataset2_distribution.png\")\n"
      ],
      "metadata": {
        "id": "9aupepKes5IG"
      },
      "execution_count": null,
      "outputs": []
    },
    {
      "cell_type": "code",
      "source": [
        "train_labels = data_train[\"label\"].tolist()\n",
        "\n",
        "tweet_distribution([train_labels.count(1)], [train_labels.count(0)],[\"Train\"],\"dataset3_distribution.png\")"
      ],
      "metadata": {
        "id": "GjvToyTGtHRg"
      },
      "execution_count": null,
      "outputs": []
    },
    {
      "cell_type": "markdown",
      "source": [
        "### Word2Vec 2"
      ],
      "metadata": {
        "id": "8PTtrz48egl9"
      }
    },
    {
      "cell_type": "code",
      "source": [
        "import re  # For preprocessing\n",
        "import pandas as pd  # For data handling\n",
        "from time import time  # To time our operations\n",
        "from collections import defaultdict  # For word frequency\n",
        "import logging  # Setting up the loggings to monitor gensim\n",
        "from gensim.models import Word2Vec\n",
        "import numpy as np\n",
        "logging.basicConfig(format=\"%(levelname)s - %(asctime)s: %(message)s\", datefmt= '%H:%M:%S', level=logging.INFO)"
      ],
      "metadata": {
        "id": "HjcSnhuzelwk"
      },
      "execution_count": null,
      "outputs": []
    },
    {
      "cell_type": "code",
      "source": [
        "def w2v_preprocess(data_train,data_test):\n",
        "  train_text = get_vocab(data_train[\"text\"])\n",
        "  test_text = get_vocab(data_test[\"text\"])\n",
        "  train_df = pd.DataFrame({\n",
        "        'text': train_text,\n",
        "        'label':data_train[\"label\"]\n",
        "    })\n",
        "  return train_df, test_text"
      ],
      "metadata": {
        "id": "HX-0b3OnQKtr"
      },
      "execution_count": null,
      "outputs": []
    },
    {
      "cell_type": "code",
      "source": [
        "from gensim.models.phrases import Phrases, Phraser\n",
        "def w2v_bigrams(train_df):\n",
        "  sent = [row.split() for row in train_df['text']]\n",
        "  phrases = Phrases(sent, min_count=30, progress_per=1000)\n",
        "  bigram = Phraser(phrases)\n",
        "  sentences = bigram[sent]\n",
        "  return sentences"
      ],
      "metadata": {
        "id": "28ZB8iJ8Q5DX"
      },
      "execution_count": null,
      "outputs": []
    },
    {
      "cell_type": "code",
      "source": [
        "def w2v_train_model(train_texts):\n",
        "  w2v_model = Word2Vec(min_count=20,\n",
        "                     window=2,\n",
        "                     size=300,\n",
        "                     sample=6e-5, \n",
        "                     alpha=0.03, \n",
        "                     min_alpha=0.0007, \n",
        "                     negative=20)\n",
        "  w2v_model.build_vocab(train_texts, progress_per=1000)\n",
        "  w2v_model.train(train_texts, total_examples=w2v_model.corpus_count, epochs=30, report_delay=1)\n",
        "  return w2v_model"
      ],
      "metadata": {
        "id": "jXu9gE2MTTfz"
      },
      "execution_count": null,
      "outputs": []
    },
    {
      "cell_type": "code",
      "source": [
        "from keras.preprocessing import text, sequence\n",
        "\n",
        "def get_weight_matrix(model, vocab):\n",
        "    vocab_size = len(vocab) + 1\n",
        "    weight_matrix = np.zeros((vocab_size, 300))\n",
        "    for word, i in vocab.items():\n",
        "      try:\n",
        "          weight_matrix[i] = model.__getitem__(word)\n",
        "      ## if word not in model then skip and the row stays all 0s\n",
        "      except:\n",
        "          pass\n",
        "    return weight_matrix\n",
        "\n",
        "\n",
        "def w2v_embedding(train_text, w2v_model):\n",
        "  tokenizer = text.Tokenizer(lower=True, split=' ')\n",
        "  tokenizer.fit_on_texts(train_text)\n",
        "  tokenized_train = tokenizer.texts_to_sequences(train_text)\n",
        "  x = sequence.pad_sequences(tokenized_train, maxlen=50, padding=\"post\", truncating=\"post\")\n",
        "  dic_vocabulary = tokenizer.word_index\n",
        "  vocab_size = len(dic_vocabulary) + 1\n",
        "  embedding_vectors = get_weight_matrix(w2v_model.wv, tokenizer.word_index)\n",
        "  return x, vocab_size, embedding_vectors, dic_vocabulary\n"
      ],
      "metadata": {
        "id": "TcgWYx7qYGoK"
      },
      "execution_count": null,
      "outputs": []
    },
    {
      "cell_type": "code",
      "source": [
        "from tensorflow.keras import models, layers, preprocessing as kprocessing\n",
        "from keras.models import Sequential\n",
        "\n",
        "def w2v_model_rn(embeddings):\n",
        "  ## input\n",
        "  print(embeddings.shape)\n",
        "  x_in = layers.Input(shape=(15,))\n",
        "  ## embedding\n",
        "  x = layers.Embedding(input_dim=embeddings.shape[0],  \n",
        "                      output_dim=embeddings.shape[1], \n",
        "                      weights=[embeddings],\n",
        "                      input_length=15, trainable=False)(x_in)\n",
        "  ## 2 layers of bidirectional lstm\n",
        "  x = layers.Bidirectional(layers.LSTM(units=15, dropout=0.2, \n",
        "                          return_sequences=True))(x)\n",
        "  x = layers.Bidirectional(layers.LSTM(units=15, dropout=0.2))(x)\n",
        "  ## final dense layers\n",
        "  x = layers.Dense(64, activation='relu')(x)\n",
        "  y_out = layers.Dense(1, activation='softmax')(x)\n",
        "  ## compile\n",
        "  model = models.Model(x_in, y_out)\n",
        "  model.compile(loss='sparse_categorical_crossentropy',\n",
        "                optimizer='adam', metrics=['accuracy'])\n",
        "\n",
        "  model.summary()\n",
        "  return model"
      ],
      "metadata": {
        "id": "5vze7E1KdvgQ"
      },
      "execution_count": null,
      "outputs": []
    },
    {
      "cell_type": "code",
      "source": [
        "import matplotlib.pyplot as plt\n",
        "def w2v_model_rn_train(model, y_train, X_train, y_valid, X_valid):\n",
        "  # dic_y_mapping = {n:label for n,label in \n",
        "  #                enumerate(np.unique(y_train))}\n",
        "  # #print(y_train)\n",
        "  # inverse_dic = {v:k for k,v in dic_y_mapping.items()}\n",
        "  # print(inverse_dic)\n",
        "  # # y_train = np.array([inverse_dic[y] for y in y_train])\n",
        "  X_valid = np.array(X_valid.tolist())\n",
        "  y_valid = np.array(y_valid)\n",
        "  print(type(X_valid))\n",
        "  # train\n",
        "  training = model.fit(x=np.array(X_train), y=np.array(y_train), batch_size=256, \n",
        "                      epochs=10, shuffle=True, verbose=0, \n",
        "                      validation_data=(X_valid, y_valid))\n",
        "  ## plot loss and accuracy\n",
        "  metrics = [k for k in training.history.keys() if (\"loss\" not in k) and (\"val\" not in k)]\n",
        "  fig, ax = plt.subplots(nrows=1, ncols=2, sharey=True)\n",
        "  ax[0].set(title=\"Training\")\n",
        "  ax11 = ax[0].twinx()\n",
        "  ax[0].plot(training.history['loss'], color='black')\n",
        "  ax[0].set_xlabel('Epochs')\n",
        "  ax[0].set_ylabel('Loss', color='black')\n",
        "  for metric in metrics:\n",
        "      ax11.plot(training.history[metric], label=metric)\n",
        "  ax11.set_ylabel(\"Score\", color='steelblue')\n",
        "  ax11.legend()\n",
        "  ax[1].set(title=\"Validation\")\n",
        "  ax22 = ax[1].twinx()\n",
        "  ax[1].plot(training.history['val_loss'], color='black')\n",
        "  ax[1].set_xlabel('Epochs')\n",
        "  ax[1].set_ylabel('Loss', color='black')\n",
        "  for metric in metrics:\n",
        "      ax22.plot(training.history['val_'+metric], label=metric)\n",
        "  ax22.set_ylabel(\"Score\", color=\"steelblue\")\n",
        "  plt.show()\n",
        "  return model, dic_y_mapping"
      ],
      "metadata": {
        "id": "0kn88K-MeUHX"
      },
      "execution_count": null,
      "outputs": []
    },
    {
      "cell_type": "code",
      "source": [
        "train_df, test_text = w2v_preprocess(data_train, data_test)\n",
        "sentences = w2v_bigrams(train_df)"
      ],
      "metadata": {
        "id": "dS8Z8TlqQui5"
      },
      "execution_count": null,
      "outputs": []
    },
    {
      "cell_type": "code",
      "source": [
        "#sanity check for most frequent words\n",
        "word_freq = defaultdict(int)\n",
        "for sent in sentences:\n",
        "    for i in sent:\n",
        "        word_freq[i] += 1\n",
        "len(word_freq)\n",
        "sorted(word_freq, key=word_freq.get, reverse=True)[:10]"
      ],
      "metadata": {
        "id": "bG_ItOH-SJEd"
      },
      "execution_count": null,
      "outputs": []
    },
    {
      "cell_type": "code",
      "source": [
        "w2v_model = w2v_train_model(sentences)"
      ],
      "metadata": {
        "id": "xYZpp53kUZMO"
      },
      "execution_count": null,
      "outputs": []
    },
    {
      "cell_type": "code",
      "source": [
        "w2v_model.wv.most_similar(positive=[\"woman\"])"
      ],
      "metadata": {
        "id": "Yh0YmLgzVM-N"
      },
      "execution_count": null,
      "outputs": []
    },
    {
      "cell_type": "code",
      "source": [
        "x, vocab_size, embedding_vectors, dic_vocabulary = w2v_embedding(train_df[\"text\"], w2v_model)\n",
        "#print(dic_vocabulary)"
      ],
      "metadata": {
        "id": "nDA8OMJGW_vj"
      },
      "execution_count": null,
      "outputs": []
    },
    {
      "cell_type": "code",
      "source": [
        "w2v_model_classif = w2v_model_rn(embedding_vectors)"
      ],
      "metadata": {
        "colab": {
          "base_uri": "https://localhost:8080/"
        },
        "id": "15PMNr7wd0uf",
        "outputId": "e3158453-9382-40c1-d9b4-d83de18bac41"
      },
      "execution_count": null,
      "outputs": [
        {
          "output_type": "stream",
          "name": "stdout",
          "text": [
            "(11273, 300)\n",
            "Model: \"model_4\"\n",
            "_________________________________________________________________\n",
            " Layer (type)                Output Shape              Param #   \n",
            "=================================================================\n",
            " input_5 (InputLayer)        [(None, 15)]              0         \n",
            "                                                                 \n",
            " embedding_5 (Embedding)     (None, 15, 300)           3381900   \n",
            "                                                                 \n",
            " bidirectional_10 (Bidirecti  (None, 15, 30)           37920     \n",
            " onal)                                                           \n",
            "                                                                 \n",
            " bidirectional_11 (Bidirecti  (None, 30)               5520      \n",
            " onal)                                                           \n",
            "                                                                 \n",
            " dense_10 (Dense)            (None, 64)                1984      \n",
            "                                                                 \n",
            " dense_11 (Dense)            (None, 1)                 65        \n",
            "                                                                 \n",
            "=================================================================\n",
            "Total params: 3,427,389\n",
            "Trainable params: 45,489\n",
            "Non-trainable params: 3,381,900\n",
            "_________________________________________________________________\n"
          ]
        }
      ]
    },
    {
      "cell_type": "code",
      "source": [
        "data_validation_text = get_vocab(data_validation[\"text\"])\n",
        "data_validation = pd.DataFrame({\n",
        "        'text': data_validation_text,\n",
        "        'label':data_validation[\"label\"]\n",
        "    })"
      ],
      "metadata": {
        "id": "chiFLvPNYMvP"
      },
      "execution_count": null,
      "outputs": []
    },
    {
      "cell_type": "code",
      "source": [
        "w2v_model_trained, dic_y_mapping = w2v_model_rn_train(w2v_model_classif,over_random_train[\"label\"], over_random_train_text, data_validation[\"label\"], data_validation[\"text\"])"
      ],
      "metadata": {
        "colab": {
          "base_uri": "https://localhost:8080/"
        },
        "id": "RLXMrHCWeYyL",
        "outputId": "dde3311c-2281-448e-80fd-aee931890120"
      },
      "execution_count": null,
      "outputs": [
        {
          "output_type": "stream",
          "name": "stderr",
          "text": [
            "WARNING - 17:02:16: Model was constructed with shape (None, 15) for input KerasTensor(type_spec=TensorSpec(shape=(None, 15), dtype=tf.float32, name='input_5'), name='input_5', description=\"created by layer 'input_5'\"), but it was called on an input with incompatible shape (None,).\n"
          ]
        },
        {
          "output_type": "stream",
          "name": "stdout",
          "text": [
            "<class 'numpy.ndarray'>\n"
          ]
        },
        {
          "output_type": "error",
          "ename": "ValueError",
          "evalue": "ignored",
          "traceback": [
            "\u001b[0;31m---------------------------------------------------------------------------\u001b[0m",
            "\u001b[0;31mValueError\u001b[0m                                Traceback (most recent call last)",
            "\u001b[0;32m<ipython-input-79-6e37d64bf32f>\u001b[0m in \u001b[0;36m<module>\u001b[0;34m()\u001b[0m\n\u001b[0;32m----> 1\u001b[0;31m \u001b[0mw2v_model_trained\u001b[0m\u001b[0;34m,\u001b[0m \u001b[0mdic_y_mapping\u001b[0m \u001b[0;34m=\u001b[0m \u001b[0mw2v_model_rn_train\u001b[0m\u001b[0;34m(\u001b[0m\u001b[0mw2v_model_classif\u001b[0m\u001b[0;34m,\u001b[0m\u001b[0mover_random_train\u001b[0m\u001b[0;34m[\u001b[0m\u001b[0;34m\"label\"\u001b[0m\u001b[0;34m]\u001b[0m\u001b[0;34m,\u001b[0m \u001b[0mover_random_train_text\u001b[0m\u001b[0;34m,\u001b[0m \u001b[0mdata_validation\u001b[0m\u001b[0;34m[\u001b[0m\u001b[0;34m\"label\"\u001b[0m\u001b[0;34m]\u001b[0m\u001b[0;34m,\u001b[0m \u001b[0mdata_validation\u001b[0m\u001b[0;34m[\u001b[0m\u001b[0;34m\"text\"\u001b[0m\u001b[0;34m]\u001b[0m\u001b[0;34m)\u001b[0m\u001b[0;34m\u001b[0m\u001b[0;34m\u001b[0m\u001b[0m\n\u001b[0m",
            "\u001b[0;32m<ipython-input-74-97eecc9083a1>\u001b[0m in \u001b[0;36mw2v_model_rn_train\u001b[0;34m(model, y_train, X_train, y_valid, X_valid)\u001b[0m\n\u001b[1;32m     13\u001b[0m   training = model.fit(x=np.array(X_train), y=np.array(y_train), batch_size=256, \n\u001b[1;32m     14\u001b[0m                       \u001b[0mepochs\u001b[0m\u001b[0;34m=\u001b[0m\u001b[0;36m10\u001b[0m\u001b[0;34m,\u001b[0m \u001b[0mshuffle\u001b[0m\u001b[0;34m=\u001b[0m\u001b[0;32mTrue\u001b[0m\u001b[0;34m,\u001b[0m \u001b[0mverbose\u001b[0m\u001b[0;34m=\u001b[0m\u001b[0;36m0\u001b[0m\u001b[0;34m,\u001b[0m\u001b[0;34m\u001b[0m\u001b[0;34m\u001b[0m\u001b[0m\n\u001b[0;32m---> 15\u001b[0;31m                       validation_data=(X_valid, y_valid))\n\u001b[0m\u001b[1;32m     16\u001b[0m   \u001b[0;31m## plot loss and accuracy\u001b[0m\u001b[0;34m\u001b[0m\u001b[0;34m\u001b[0m\u001b[0;34m\u001b[0m\u001b[0m\n\u001b[1;32m     17\u001b[0m   \u001b[0mmetrics\u001b[0m \u001b[0;34m=\u001b[0m \u001b[0;34m[\u001b[0m\u001b[0mk\u001b[0m \u001b[0;32mfor\u001b[0m \u001b[0mk\u001b[0m \u001b[0;32min\u001b[0m \u001b[0mtraining\u001b[0m\u001b[0;34m.\u001b[0m\u001b[0mhistory\u001b[0m\u001b[0;34m.\u001b[0m\u001b[0mkeys\u001b[0m\u001b[0;34m(\u001b[0m\u001b[0;34m)\u001b[0m \u001b[0;32mif\u001b[0m \u001b[0;34m(\u001b[0m\u001b[0;34m\"loss\"\u001b[0m \u001b[0;32mnot\u001b[0m \u001b[0;32min\u001b[0m \u001b[0mk\u001b[0m\u001b[0;34m)\u001b[0m \u001b[0;32mand\u001b[0m \u001b[0;34m(\u001b[0m\u001b[0;34m\"val\"\u001b[0m \u001b[0;32mnot\u001b[0m \u001b[0;32min\u001b[0m \u001b[0mk\u001b[0m\u001b[0;34m)\u001b[0m\u001b[0;34m]\u001b[0m\u001b[0;34m\u001b[0m\u001b[0;34m\u001b[0m\u001b[0m\n",
            "\u001b[0;32m/usr/local/lib/python3.7/dist-packages/keras/utils/traceback_utils.py\u001b[0m in \u001b[0;36merror_handler\u001b[0;34m(*args, **kwargs)\u001b[0m\n\u001b[1;32m     65\u001b[0m     \u001b[0;32mexcept\u001b[0m \u001b[0mException\u001b[0m \u001b[0;32mas\u001b[0m \u001b[0me\u001b[0m\u001b[0;34m:\u001b[0m  \u001b[0;31m# pylint: disable=broad-except\u001b[0m\u001b[0;34m\u001b[0m\u001b[0;34m\u001b[0m\u001b[0m\n\u001b[1;32m     66\u001b[0m       \u001b[0mfiltered_tb\u001b[0m \u001b[0;34m=\u001b[0m \u001b[0m_process_traceback_frames\u001b[0m\u001b[0;34m(\u001b[0m\u001b[0me\u001b[0m\u001b[0;34m.\u001b[0m\u001b[0m__traceback__\u001b[0m\u001b[0;34m)\u001b[0m\u001b[0;34m\u001b[0m\u001b[0;34m\u001b[0m\u001b[0m\n\u001b[0;32m---> 67\u001b[0;31m       \u001b[0;32mraise\u001b[0m \u001b[0me\u001b[0m\u001b[0;34m.\u001b[0m\u001b[0mwith_traceback\u001b[0m\u001b[0;34m(\u001b[0m\u001b[0mfiltered_tb\u001b[0m\u001b[0;34m)\u001b[0m \u001b[0;32mfrom\u001b[0m \u001b[0;32mNone\u001b[0m\u001b[0;34m\u001b[0m\u001b[0;34m\u001b[0m\u001b[0m\n\u001b[0m\u001b[1;32m     68\u001b[0m     \u001b[0;32mfinally\u001b[0m\u001b[0;34m:\u001b[0m\u001b[0;34m\u001b[0m\u001b[0;34m\u001b[0m\u001b[0m\n\u001b[1;32m     69\u001b[0m       \u001b[0;32mdel\u001b[0m \u001b[0mfiltered_tb\u001b[0m\u001b[0;34m\u001b[0m\u001b[0;34m\u001b[0m\u001b[0m\n",
            "\u001b[0;32m/usr/local/lib/python3.7/dist-packages/tensorflow/python/framework/func_graph.py\u001b[0m in \u001b[0;36mautograph_handler\u001b[0;34m(*args, **kwargs)\u001b[0m\n\u001b[1;32m   1145\u001b[0m           \u001b[0;32mexcept\u001b[0m \u001b[0mException\u001b[0m \u001b[0;32mas\u001b[0m \u001b[0me\u001b[0m\u001b[0;34m:\u001b[0m  \u001b[0;31m# pylint:disable=broad-except\u001b[0m\u001b[0;34m\u001b[0m\u001b[0;34m\u001b[0m\u001b[0m\n\u001b[1;32m   1146\u001b[0m             \u001b[0;32mif\u001b[0m \u001b[0mhasattr\u001b[0m\u001b[0;34m(\u001b[0m\u001b[0me\u001b[0m\u001b[0;34m,\u001b[0m \u001b[0;34m\"ag_error_metadata\"\u001b[0m\u001b[0;34m)\u001b[0m\u001b[0;34m:\u001b[0m\u001b[0;34m\u001b[0m\u001b[0;34m\u001b[0m\u001b[0m\n\u001b[0;32m-> 1147\u001b[0;31m               \u001b[0;32mraise\u001b[0m \u001b[0me\u001b[0m\u001b[0;34m.\u001b[0m\u001b[0mag_error_metadata\u001b[0m\u001b[0;34m.\u001b[0m\u001b[0mto_exception\u001b[0m\u001b[0;34m(\u001b[0m\u001b[0me\u001b[0m\u001b[0;34m)\u001b[0m\u001b[0;34m\u001b[0m\u001b[0;34m\u001b[0m\u001b[0m\n\u001b[0m\u001b[1;32m   1148\u001b[0m             \u001b[0;32melse\u001b[0m\u001b[0;34m:\u001b[0m\u001b[0;34m\u001b[0m\u001b[0;34m\u001b[0m\u001b[0m\n\u001b[1;32m   1149\u001b[0m               \u001b[0;32mraise\u001b[0m\u001b[0;34m\u001b[0m\u001b[0;34m\u001b[0m\u001b[0m\n",
            "\u001b[0;31mValueError\u001b[0m: in user code:\n\n    File \"/usr/local/lib/python3.7/dist-packages/keras/engine/training.py\", line 1021, in train_function  *\n        return step_function(self, iterator)\n    File \"/usr/local/lib/python3.7/dist-packages/keras/engine/training.py\", line 1010, in step_function  **\n        outputs = model.distribute_strategy.run(run_step, args=(data,))\n    File \"/usr/local/lib/python3.7/dist-packages/keras/engine/training.py\", line 1000, in run_step  **\n        outputs = model.train_step(data)\n    File \"/usr/local/lib/python3.7/dist-packages/keras/engine/training.py\", line 859, in train_step\n        y_pred = self(x, training=True)\n    File \"/usr/local/lib/python3.7/dist-packages/keras/utils/traceback_utils.py\", line 67, in error_handler\n        raise e.with_traceback(filtered_tb) from None\n    File \"/usr/local/lib/python3.7/dist-packages/keras/engine/input_spec.py\", line 214, in assert_input_compatibility\n        raise ValueError(f'Input {input_index} of layer \"{layer_name}\" '\n\n    ValueError: Exception encountered when calling layer \"model_4\" (type Functional).\n    \n    Input 0 of layer \"bidirectional_10\" is incompatible with the layer: expected ndim=3, found ndim=2. Full shape received: (None, 300)\n    \n    Call arguments received:\n      • inputs=tf.Tensor(shape=(None,), dtype=string)\n      • training=True\n      • mask=None\n"
          ]
        }
      ]
    },
    {
      "cell_type": "markdown",
      "metadata": {
        "id": "9zF2vLv8sDGW"
      },
      "source": [
        "### BERT temp"
      ]
    },
    {
      "cell_type": "code",
      "execution_count": 49,
      "metadata": {
        "id": "oNAkk7e99x5U"
      },
      "outputs": [],
      "source": [
        "from transformers import BertTokenizer, BertForSequenceClassification\n",
        "#from simpletransformers.classification import ClassificationModel\n",
        "import torch\n",
        "from transformers import BertTokenizerFast, BertForSequenceClassification\n",
        "from transformers.file_utils import is_tf_available, is_torch_available, is_torch_tpu_available\n",
        "import numpy as np\n",
        "from transformers import Trainer, TrainingArguments"
      ]
    },
    {
      "cell_type": "code",
      "execution_count": 50,
      "metadata": {
        "id": "aRhyykZlLbgy"
      },
      "outputs": [],
      "source": [
        "class TweetsDataset(torch.utils.data.Dataset):\n",
        "    def __init__(self, encodings, labels):\n",
        "        self.encodings = encodings\n",
        "        self.labels = labels\n",
        "\n",
        "    def __getitem__(self, idx):\n",
        "        item = {k: torch.tensor(v[idx]) for k, v in self.encodings.items()}\n",
        "        item[\"labels\"] = torch.tensor([self.labels[idx]])\n",
        "        return item\n",
        "\n",
        "    def __len__(self):\n",
        "        return len(self.labels)"
      ]
    },
    {
      "cell_type": "code",
      "execution_count": 53,
      "metadata": {
        "id": "JnmVumLGMkgN"
      },
      "outputs": [],
      "source": [
        "from sklearn.metrics import accuracy_score, f1_score\n",
        "\n",
        "def compute_metrics(pred):\n",
        "  labels = pred.label_ids\n",
        "  preds = pred.predictions.argmax(-1)\n",
        "  # calculate accuracy using sklearn's function\n",
        "  #acc = accuracy_score(labels, preds)\n",
        "  f1_sc = f1_score(labels, preds)\n",
        "  return {\n",
        "      #'accuracy': acc,\n",
        "      'f1_score' : f1_sc\n",
        "  }"
      ]
    },
    {
      "cell_type": "code",
      "execution_count": 52,
      "metadata": {
        "id": "qpO9OVUbM8pA"
      },
      "outputs": [],
      "source": [
        "training_args = TrainingArguments(\n",
        "    output_dir='./results',          # output directory\n",
        "    num_train_epochs=11,              # total number of training epochs\n",
        "    per_device_train_batch_size=8,  # batch size per device during training\n",
        "    per_device_eval_batch_size=20,   # batch size for evaluation\n",
        "    warmup_steps=500,                # number of warmup steps for learning rate scheduler\n",
        "    weight_decay=0.0001,               # strength of weight decay\n",
        "    logging_dir='/content/drive/MyDrive/content/drive/logs',            # directory for storing logs\n",
        "    load_best_model_at_end=True,     # load the best model when finished training (default metric is loss)\n",
        "    # but you can specify `metric_for_best_model` argument to change to accuracy or other metric\n",
        "    logging_steps=400,               # log & save weights each logging_steps\n",
        "    save_steps=400,\n",
        "    evaluation_strategy=\"steps\",     # evaluate each `logging_steps`\n",
        ")"
      ]
    },
    {
      "cell_type": "code",
      "execution_count": 54,
      "metadata": {
        "id": "R7M1J4gd-i06"
      },
      "outputs": [],
      "source": [
        "def bert_classification(train_text, valid_text, data_train, data_valid):\n",
        "  model_name = \"bert-base-uncased\"\n",
        "  max_length = 512\n",
        "  seed=42\n",
        "  np.random.seed(seed)\n",
        "  if is_torch_available():\n",
        "        torch.manual_seed(seed)\n",
        "        torch.cuda.manual_seed_all(seed)\n",
        "  # train_text = train_text.dropna()\n",
        "  # train_text=train_text.tolist()\n",
        "  # print(train_text)\n",
        "  # test_text = test_text.dropna()\n",
        "  # test_text=test_text.tolist()\n",
        "  tokenizer = BertTokenizerFast.from_pretrained(model_name, do_lower_case=True)\n",
        "  train_encodings = tokenizer(train_text, truncation=True, padding=True, max_length=max_length)\n",
        "  #train_smote_encodings, train_smote_encodings_labels = smote_oversampling(train_encodings, data_train[\"label\"]) \n",
        "  valid_encodings = tokenizer(valid_text, truncation=True, padding=True, max_length=max_length)\n",
        "  \n",
        "  train_dataset = TweetsDataset(train_encodings, data_train[\"label\"].tolist())\n",
        "  valid_dataset = TweetsDataset(valid_encodings, data_valid[\"label\"].tolist())\n",
        "  model = BertForSequenceClassification.from_pretrained(model_name, num_labels=2).to(\"cuda\")\n",
        "  trainer = Trainer(\n",
        "      model=model,                         # the instantiated Transformers model to be trained\n",
        "      args=training_args,                  # training arguments, defined above\n",
        "      train_dataset=train_dataset,         # training dataset\n",
        "      eval_dataset=valid_dataset,          # evaluation dataset\n",
        "      compute_metrics=compute_metrics,     # the callback that computes metrics of interest\n",
        "  )\n",
        "  trainer.train()\n",
        "  trainer.evaluate()\n",
        "  return trainer\n",
        "  "
      ]
    },
    {
      "cell_type": "code",
      "source": [
        "train_text=get_vocab(data_train[\"text\"])\n",
        "valid_text=get_vocab(data_validation[\"text\"])"
      ],
      "metadata": {
        "id": "YUIP2HEYv9BY"
      },
      "execution_count": 55,
      "outputs": []
    },
    {
      "cell_type": "code",
      "execution_count": 57,
      "metadata": {
        "id": "gTI0kg2vNeFh",
        "colab": {
          "base_uri": "https://localhost:8080/",
          "height": 955
        },
        "outputId": "73c123a7-8810-417d-da5e-b703989e970a"
      },
      "outputs": [
        {
          "output_type": "stream",
          "name": "stderr",
          "text": [
            "loading file https://huggingface.co/bert-base-uncased/resolve/main/vocab.txt from cache at /root/.cache/huggingface/transformers/45c3f7a79a80e1cf0a489e5c62b43f173c15db47864303a55d623bb3c96f72a5.d789d64ebfe299b0e416afc4a169632f903f693095b4629a7ea271d5a0cf2c99\n",
            "loading file https://huggingface.co/bert-base-uncased/resolve/main/tokenizer.json from cache at /root/.cache/huggingface/transformers/534479488c54aeaf9c3406f647aa2ec13648c06771ffe269edabebd4c412da1d.7f2721073f19841be16f41b0a70b600ca6b880c8f3df6f3535cbc704371bdfa4\n",
            "loading file https://huggingface.co/bert-base-uncased/resolve/main/added_tokens.json from cache at None\n",
            "loading file https://huggingface.co/bert-base-uncased/resolve/main/special_tokens_map.json from cache at None\n",
            "loading file https://huggingface.co/bert-base-uncased/resolve/main/tokenizer_config.json from cache at /root/.cache/huggingface/transformers/c1d7f0a763fb63861cc08553866f1fc3e5a6f4f07621be277452d26d71303b7e.20430bd8e10ef77a7d2977accefe796051e01bc2fc4aa146bc862997a1a15e79\n",
            "loading configuration file https://huggingface.co/bert-base-uncased/resolve/main/config.json from cache at /root/.cache/huggingface/transformers/3c61d016573b14f7f008c02c4e51a366c67ab274726fe2910691e2a761acf43e.37395cee442ab11005bcd270f3c34464dc1704b715b5d7d52b1a461abe3b9e4e\n",
            "Model config BertConfig {\n",
            "  \"_name_or_path\": \"bert-base-uncased\",\n",
            "  \"architectures\": [\n",
            "    \"BertForMaskedLM\"\n",
            "  ],\n",
            "  \"attention_probs_dropout_prob\": 0.1,\n",
            "  \"classifier_dropout\": null,\n",
            "  \"gradient_checkpointing\": false,\n",
            "  \"hidden_act\": \"gelu\",\n",
            "  \"hidden_dropout_prob\": 0.1,\n",
            "  \"hidden_size\": 768,\n",
            "  \"initializer_range\": 0.02,\n",
            "  \"intermediate_size\": 3072,\n",
            "  \"layer_norm_eps\": 1e-12,\n",
            "  \"max_position_embeddings\": 512,\n",
            "  \"model_type\": \"bert\",\n",
            "  \"num_attention_heads\": 12,\n",
            "  \"num_hidden_layers\": 12,\n",
            "  \"pad_token_id\": 0,\n",
            "  \"position_embedding_type\": \"absolute\",\n",
            "  \"transformers_version\": \"4.19.2\",\n",
            "  \"type_vocab_size\": 2,\n",
            "  \"use_cache\": true,\n",
            "  \"vocab_size\": 30522\n",
            "}\n",
            "\n"
          ]
        },
        {
          "output_type": "error",
          "ename": "KeyboardInterrupt",
          "evalue": "ignored",
          "traceback": [
            "\u001b[0;31m---------------------------------------------------------------------------\u001b[0m",
            "\u001b[0;31mKeyboardInterrupt\u001b[0m                         Traceback (most recent call last)",
            "\u001b[0;32m<ipython-input-57-bcfd742145ef>\u001b[0m in \u001b[0;36m<module>\u001b[0;34m()\u001b[0m\n\u001b[1;32m      1\u001b[0m \u001b[0;31m#model=bert_classification(train_text, test_text, under_train, data_test)\u001b[0m\u001b[0;34m\u001b[0m\u001b[0;34m\u001b[0m\u001b[0;34m\u001b[0m\u001b[0m\n\u001b[1;32m      2\u001b[0m \u001b[0;34m\u001b[0m\u001b[0m\n\u001b[0;32m----> 3\u001b[0;31m \u001b[0mmodel\u001b[0m\u001b[0;34m=\u001b[0m\u001b[0mbert_classification\u001b[0m\u001b[0;34m(\u001b[0m\u001b[0mtrain_text\u001b[0m\u001b[0;34m,\u001b[0m \u001b[0mvalid_text\u001b[0m\u001b[0;34m,\u001b[0m \u001b[0mdata_train\u001b[0m\u001b[0;34m,\u001b[0m \u001b[0mdata_validation\u001b[0m\u001b[0;34m)\u001b[0m\u001b[0;34m\u001b[0m\u001b[0;34m\u001b[0m\u001b[0m\n\u001b[0m",
            "\u001b[0;32m<ipython-input-54-5766c67df1b1>\u001b[0m in \u001b[0;36mbert_classification\u001b[0;34m(train_text, valid_text, data_train, data_valid)\u001b[0m\n\u001b[1;32m     13\u001b[0m   \u001b[0;31m# test_text=test_text.tolist()\u001b[0m\u001b[0;34m\u001b[0m\u001b[0;34m\u001b[0m\u001b[0;34m\u001b[0m\u001b[0m\n\u001b[1;32m     14\u001b[0m   \u001b[0mtokenizer\u001b[0m \u001b[0;34m=\u001b[0m \u001b[0mBertTokenizerFast\u001b[0m\u001b[0;34m.\u001b[0m\u001b[0mfrom_pretrained\u001b[0m\u001b[0;34m(\u001b[0m\u001b[0mmodel_name\u001b[0m\u001b[0;34m,\u001b[0m \u001b[0mdo_lower_case\u001b[0m\u001b[0;34m=\u001b[0m\u001b[0;32mTrue\u001b[0m\u001b[0;34m)\u001b[0m\u001b[0;34m\u001b[0m\u001b[0;34m\u001b[0m\u001b[0m\n\u001b[0;32m---> 15\u001b[0;31m   \u001b[0mtrain_encodings\u001b[0m \u001b[0;34m=\u001b[0m \u001b[0mtokenizer\u001b[0m\u001b[0;34m(\u001b[0m\u001b[0mtrain_text\u001b[0m\u001b[0;34m,\u001b[0m \u001b[0mtruncation\u001b[0m\u001b[0;34m=\u001b[0m\u001b[0;32mTrue\u001b[0m\u001b[0;34m,\u001b[0m \u001b[0mpadding\u001b[0m\u001b[0;34m=\u001b[0m\u001b[0;32mTrue\u001b[0m\u001b[0;34m,\u001b[0m \u001b[0mmax_length\u001b[0m\u001b[0;34m=\u001b[0m\u001b[0mmax_length\u001b[0m\u001b[0;34m)\u001b[0m\u001b[0;34m\u001b[0m\u001b[0;34m\u001b[0m\u001b[0m\n\u001b[0m\u001b[1;32m     16\u001b[0m   \u001b[0;31m#train_smote_encodings, train_smote_encodings_labels = smote_oversampling(train_encodings, data_train[\"label\"])\u001b[0m\u001b[0;34m\u001b[0m\u001b[0;34m\u001b[0m\u001b[0;34m\u001b[0m\u001b[0m\n\u001b[1;32m     17\u001b[0m   \u001b[0mvalid_encodings\u001b[0m \u001b[0;34m=\u001b[0m \u001b[0mtokenizer\u001b[0m\u001b[0;34m(\u001b[0m\u001b[0mvalid_text\u001b[0m\u001b[0;34m,\u001b[0m \u001b[0mtruncation\u001b[0m\u001b[0;34m=\u001b[0m\u001b[0;32mTrue\u001b[0m\u001b[0;34m,\u001b[0m \u001b[0mpadding\u001b[0m\u001b[0;34m=\u001b[0m\u001b[0;32mTrue\u001b[0m\u001b[0;34m,\u001b[0m \u001b[0mmax_length\u001b[0m\u001b[0;34m=\u001b[0m\u001b[0mmax_length\u001b[0m\u001b[0;34m)\u001b[0m\u001b[0;34m\u001b[0m\u001b[0;34m\u001b[0m\u001b[0m\n",
            "\u001b[0;32m/usr/local/lib/python3.7/dist-packages/transformers/tokenization_utils_base.py\u001b[0m in \u001b[0;36m__call__\u001b[0;34m(self, text, text_pair, add_special_tokens, padding, truncation, max_length, stride, is_split_into_words, pad_to_multiple_of, return_tensors, return_token_type_ids, return_attention_mask, return_overflowing_tokens, return_special_tokens_mask, return_offsets_mapping, return_length, verbose, **kwargs)\u001b[0m\n\u001b[1;32m   2492\u001b[0m                 \u001b[0mreturn_length\u001b[0m\u001b[0;34m=\u001b[0m\u001b[0mreturn_length\u001b[0m\u001b[0;34m,\u001b[0m\u001b[0;34m\u001b[0m\u001b[0;34m\u001b[0m\u001b[0m\n\u001b[1;32m   2493\u001b[0m                 \u001b[0mverbose\u001b[0m\u001b[0;34m=\u001b[0m\u001b[0mverbose\u001b[0m\u001b[0;34m,\u001b[0m\u001b[0;34m\u001b[0m\u001b[0;34m\u001b[0m\u001b[0m\n\u001b[0;32m-> 2494\u001b[0;31m                 \u001b[0;34m**\u001b[0m\u001b[0mkwargs\u001b[0m\u001b[0;34m,\u001b[0m\u001b[0;34m\u001b[0m\u001b[0;34m\u001b[0m\u001b[0m\n\u001b[0m\u001b[1;32m   2495\u001b[0m             )\n\u001b[1;32m   2496\u001b[0m         \u001b[0;32melse\u001b[0m\u001b[0;34m:\u001b[0m\u001b[0;34m\u001b[0m\u001b[0;34m\u001b[0m\u001b[0m\n",
            "\u001b[0;32m/usr/local/lib/python3.7/dist-packages/transformers/tokenization_utils_base.py\u001b[0m in \u001b[0;36mbatch_encode_plus\u001b[0;34m(self, batch_text_or_text_pairs, add_special_tokens, padding, truncation, max_length, stride, is_split_into_words, pad_to_multiple_of, return_tensors, return_token_type_ids, return_attention_mask, return_overflowing_tokens, return_special_tokens_mask, return_offsets_mapping, return_length, verbose, **kwargs)\u001b[0m\n\u001b[1;32m   2683\u001b[0m             \u001b[0mreturn_length\u001b[0m\u001b[0;34m=\u001b[0m\u001b[0mreturn_length\u001b[0m\u001b[0;34m,\u001b[0m\u001b[0;34m\u001b[0m\u001b[0;34m\u001b[0m\u001b[0m\n\u001b[1;32m   2684\u001b[0m             \u001b[0mverbose\u001b[0m\u001b[0;34m=\u001b[0m\u001b[0mverbose\u001b[0m\u001b[0;34m,\u001b[0m\u001b[0;34m\u001b[0m\u001b[0;34m\u001b[0m\u001b[0m\n\u001b[0;32m-> 2685\u001b[0;31m             \u001b[0;34m**\u001b[0m\u001b[0mkwargs\u001b[0m\u001b[0;34m,\u001b[0m\u001b[0;34m\u001b[0m\u001b[0;34m\u001b[0m\u001b[0m\n\u001b[0m\u001b[1;32m   2686\u001b[0m         )\n\u001b[1;32m   2687\u001b[0m \u001b[0;34m\u001b[0m\u001b[0m\n",
            "\u001b[0;32m/usr/local/lib/python3.7/dist-packages/transformers/tokenization_utils_fast.py\u001b[0m in \u001b[0;36m_batch_encode_plus\u001b[0;34m(self, batch_text_or_text_pairs, add_special_tokens, padding_strategy, truncation_strategy, max_length, stride, is_split_into_words, pad_to_multiple_of, return_tensors, return_token_type_ids, return_attention_mask, return_overflowing_tokens, return_special_tokens_mask, return_offsets_mapping, return_length, verbose)\u001b[0m\n\u001b[1;32m    426\u001b[0m             \u001b[0mbatch_text_or_text_pairs\u001b[0m\u001b[0;34m,\u001b[0m\u001b[0;34m\u001b[0m\u001b[0;34m\u001b[0m\u001b[0m\n\u001b[1;32m    427\u001b[0m             \u001b[0madd_special_tokens\u001b[0m\u001b[0;34m=\u001b[0m\u001b[0madd_special_tokens\u001b[0m\u001b[0;34m,\u001b[0m\u001b[0;34m\u001b[0m\u001b[0;34m\u001b[0m\u001b[0m\n\u001b[0;32m--> 428\u001b[0;31m             \u001b[0mis_pretokenized\u001b[0m\u001b[0;34m=\u001b[0m\u001b[0mis_split_into_words\u001b[0m\u001b[0;34m,\u001b[0m\u001b[0;34m\u001b[0m\u001b[0;34m\u001b[0m\u001b[0m\n\u001b[0m\u001b[1;32m    429\u001b[0m         )\n\u001b[1;32m    430\u001b[0m \u001b[0;34m\u001b[0m\u001b[0m\n",
            "\u001b[0;31mKeyboardInterrupt\u001b[0m: "
          ]
        }
      ],
      "source": [
        "#model=bert_classification(train_text, test_text, under_train, data_test)\n",
        "\n",
        "model=bert_classification(train_text, valid_text, data_train, data_validation)"
      ]
    },
    {
      "cell_type": "code",
      "execution_count": null,
      "metadata": {
        "id": "bfrNaOKkSiVa"
      },
      "outputs": [],
      "source": [
        "def Bert_classification(train_text, data_train):\n",
        "  train_labels=data_train[\"label\"].tolist()\n",
        "  train_df = pd.DataFrame({\n",
        "      'text': train_text,\n",
        "      'label':train_labels\n",
        "  })\n",
        "\n",
        "  model = ClassificationModel('bert', 'bert-base-cased', args={'num_train_epochs': 10, 'learning_rate': 3e-5, 'overwrite_output_dir': True})\n",
        "  model.train_model(train_df)\n",
        "  return model"
      ]
    },
    {
      "cell_type": "code",
      "execution_count": null,
      "metadata": {
        "id": "rO-35dNcUg_E"
      },
      "outputs": [],
      "source": [
        "def Bert_evaluation(test_text, test_labels, model):\n",
        "  eval_df = pd.DataFrame({\n",
        "        'text': test_text,\n",
        "        'label':test_labels\n",
        "  })\n",
        "  result, model_outputs, wrong_predictions = model.eval_model(eval_df)\n",
        "  print(result)\n",
        "  print(model_outputs)\n",
        "  print(wrong_predictions)\n",
        "  return result"
      ]
    },
    {
      "cell_type": "code",
      "execution_count": null,
      "metadata": {
        "id": "TfmjlkVuVwRV"
      },
      "outputs": [],
      "source": [
        "def Bert_result(result):\n",
        "  precision=result[\"tp\"]/(result[\"tp\"]+result[\"fp\"])\n",
        "  recall=result[\"tp\"]/(result[\"tp\"]+result[\"fn\"])\n",
        "  f1_score=2*precision*recall/(precision+recall)\n",
        "  return precision, recall, f1_score"
      ]
    },
    {
      "cell_type": "markdown",
      "metadata": {
        "id": "oeG6h62BIe9M"
      },
      "source": [
        "#### UnderSampling"
      ]
    },
    {
      "cell_type": "code",
      "execution_count": null,
      "metadata": {
        "colab": {
          "base_uri": "https://localhost:8080/",
          "height": 513
        },
        "id": "LXGV1DbwHdBh",
        "outputId": "c2e0bde6-a54b-4e76-fa7d-41b56af8c85e"
      },
      "outputs": [
        {
          "output_type": "stream",
          "name": "stdout",
          "text": [
            "<bound method DataFrame.info of                                                    text  label\n",
            "0                                         imodium cipro      0\n",
            "1     drove hospital blue left early london traffic ...      0\n",
            "2              fluoxetine drink alcohol whilst say fuck      0\n",
            "3                               fluoxetine seagull drop      0\n",
            "4     sell lozenge shaped logician lingerie future s...      0\n",
            "...                                                 ...    ...\n",
            "1537  lot pain day though feel look like zombie sero...      1\n",
            "1538                    venlafaxine withdrawal horrific      1\n",
            "1539  sure seroquel helping u making thing even wors...      1\n",
            "1540  really feel like fluoxetine messing perspectiv...      1\n",
            "1541  although bitching fat look comical next brothe...      1\n",
            "\n",
            "[1542 rows x 2 columns]>\n"
          ]
        },
        {
          "output_type": "error",
          "ename": "NameError",
          "evalue": "ignored",
          "traceback": [
            "\u001b[0;31m---------------------------------------------------------------------------\u001b[0m",
            "\u001b[0;31mNameError\u001b[0m                                 Traceback (most recent call last)",
            "\u001b[0;32m/tmp/ipykernel_410/1609060450.py\u001b[0m in \u001b[0;36m<module>\u001b[0;34m\u001b[0m\n\u001b[0;32m----> 1\u001b[0;31m \u001b[0mmodel_under\u001b[0m \u001b[0;34m=\u001b[0m \u001b[0mBert_classification\u001b[0m\u001b[0;34m(\u001b[0m\u001b[0mtrain_text\u001b[0m\u001b[0;34m,\u001b[0m \u001b[0munder_train\u001b[0m\u001b[0;34m.\u001b[0m\u001b[0mcopy\u001b[0m\u001b[0;34m(\u001b[0m\u001b[0;34m)\u001b[0m\u001b[0;34m)\u001b[0m\u001b[0;34m\u001b[0m\u001b[0;34m\u001b[0m\u001b[0m\n\u001b[0m",
            "\u001b[0;32m/tmp/ipykernel_410/1855370358.py\u001b[0m in \u001b[0;36mBert_classification\u001b[0;34m(train_text, data_train)\u001b[0m\n\u001b[1;32m      9\u001b[0m   \u001b[0;31m# model = ClassificationModel('bert', 'bert-base-cased', args={'num_train_epochs': 10, 'learning_rate': 3e-5, 'overwrite_output_dir': True})\u001b[0m\u001b[0;34m\u001b[0m\u001b[0;34m\u001b[0m\u001b[0;34m\u001b[0m\u001b[0m\n\u001b[1;32m     10\u001b[0m   \u001b[0;31m# model.train_model(train_df)\u001b[0m\u001b[0;34m\u001b[0m\u001b[0;34m\u001b[0m\u001b[0;34m\u001b[0m\u001b[0m\n\u001b[0;32m---> 11\u001b[0;31m   \u001b[0;32mreturn\u001b[0m \u001b[0mmodel\u001b[0m\u001b[0;34m\u001b[0m\u001b[0;34m\u001b[0m\u001b[0m\n\u001b[0m",
            "\u001b[0;31mNameError\u001b[0m: name 'model' is not defined"
          ]
        }
      ],
      "source": [
        "model_under = Bert_classification(train_text, under_train.copy())"
      ]
    },
    {
      "cell_type": "code",
      "execution_count": null,
      "metadata": {
        "colab": {
          "base_uri": "https://localhost:8080/",
          "height": 292,
          "referenced_widgets": [
            "f20b22fe6d554352b973373d176234be",
            "296148739b2c48e396e1de5d5132b828",
            "4baa6713834e4df7aeb4f49994a7aaf6",
            "c8d5455c387047e3a51c53e6a49a099c",
            "0b9c42baef7247c193b2962051680f93",
            "2da8b05e296d4813a6cef9a901648b14",
            "166431ef23334117b7f2938a80c77aab",
            "a8a90a112683491580e522d8cf07977b",
            "2c9b317152964ac6b6b0cf3be17e4d53",
            "a5a36be1d49843fa90d315c9cb0ef4fb",
            "69403a1ba3604f6182f70b6a0eeafc44",
            "4fcf0b8160014f1fb404b2a875137b4f",
            "9fff4cb5c37d47f19847b0cb90840a8d",
            "80d45b766a124733986dd8f7bbf689d6",
            "918f398355d546a6bd3e2dce77d87415",
            "97ff7f3bc11e4d918a0a1ad53e9aef11",
            "eae6971378834cc6a6d999bab25643f1",
            "8336271a8ee5405b87a62f4f4c5c53a5",
            "292191b10f364737be8b49c59515e415",
            "b198897371bf46f7b9bed52f855ab965",
            "843505529e814873aaa849663c75b1a8",
            "9ea8e5ad975f4cfe8b52e57bae757ced"
          ]
        },
        "id": "ifq7oeSzI3YA",
        "outputId": "88005b07-875b-4407-f88e-dc6c2506a403"
      },
      "outputs": [
        {
          "output_type": "stream",
          "name": "stderr",
          "text": [
            "/usr/local/lib/python3.7/dist-packages/simpletransformers/classification/classification_model.py:1427: UserWarning: Dataframe headers not specified. Falling back to using column 0 as text and column 1 as labels.\n",
            "  \"Dataframe headers not specified. Falling back to using column 0 as text and column 1 as labels.\"\n"
          ]
        },
        {
          "output_type": "display_data",
          "data": {
            "text/plain": [
              "  0%|          | 0/3819 [00:00<?, ?it/s]"
            ],
            "application/vnd.jupyter.widget-view+json": {
              "version_major": 2,
              "version_minor": 0,
              "model_id": "f20b22fe6d554352b973373d176234be"
            }
          },
          "metadata": {}
        },
        {
          "output_type": "display_data",
          "data": {
            "text/plain": [
              "Running Evaluation:   0%|          | 0/478 [00:00<?, ?it/s]"
            ],
            "application/vnd.jupyter.widget-view+json": {
              "version_major": 2,
              "version_minor": 0,
              "model_id": "4fcf0b8160014f1fb404b2a875137b4f"
            }
          },
          "metadata": {}
        },
        {
          "output_type": "stream",
          "name": "stdout",
          "text": [
            "{'mcc': 0.3177018890439735, 'tp': 184, 'tn': 2819, 'fp': 766, 'fn': 50, 'auroc': 0.845400469668252, 'auprc': 0.3304572138122826, 'eval_loss': 1.4622554462325124}\n",
            "[[-3.35742188  3.625     ]\n",
            " [ 4.46875    -4.83203125]\n",
            " [ 4.45703125 -4.80078125]\n",
            " ...\n",
            " [ 4.4375     -4.8046875 ]\n",
            " [ 0.43896484 -0.13671875]\n",
            " [ 4.40625    -4.78515625]]\n",
            "[{'guid': 0, 'text_a': 'spoke one source green bay area sold imodium ad due team food poisoning guzzling stuff', 'text_b': None, 'label': 0}, {'guid': 8, 'text_a': 'going give metformin reduce chance needing metformin', 'text_b': None, 'label': 0}, {'guid': 11, 'text_a': 'stoma think tap today even though lot loperamide eaten anything make upset', 'text_b': None, 'label': 0}, {'guid': 16, 'text_a': 'heart burn since got dexilant filled eating spicy thing', 'text_b': None, 'label': 0}, {'guid': 21, 'text_a': 'shabby bad run bombed hit nasty virus waiting enbrel kick', 'text_b': None, 'label': 0}, {'guid': 40, 'text_a': 'ash fighting mucositis past stool past hour gave mag citrate miralax pumping fluid plz', 'text_b': None, 'label': 0}, {'guid': 41, 'text_a': 'viagra isnt erection problem back late sildenafil citrate active ingredient viagra first resea', 'text_b': None, 'label': 0}, {'guid': 42, 'text_a': 'copd find lung specialist see sooner year symptom worse med', 'text_b': None, 'label': 0}, {'guid': 48, 'text_a': 'last time met meridia going kill principle matter', 'text_b': None, 'label': 0}, {'guid': 55, 'text_a': 'could respiratory speacialist lol im lucky eye roll gene v active copd active amp im', 'text_b': None, 'label': 0}, {'guid': 63, 'text_a': 'imodium help clog delay inevitable unfortunately come sometime', 'text_b': None, 'label': 0}, {'guid': 70, 'text_a': 'really really really really hate crestor commercial', 'text_b': None, 'label': 0}, {'guid': 71, 'text_a': 'like u either needed prescription card stating needed ventolin becoming outdated', 'text_b': None, 'label': 0}, {'guid': 80, 'text_a': 'see many non obese pt body weight low kg many given metformin', 'text_b': None, 'label': 0}, {'guid': 92, 'text_a': 'wave suboxone much better withdrawal let put like thank', 'text_b': None, 'label': 0}, {'guid': 94, 'text_a': 'finally cartoon wolf dream thanks symbicort', 'text_b': None, 'label': 0}, {'guid': 116, 'text_a': 'arm mostly recovered still hurt taking oxycodone comfortable back pc stuff taking break', 'text_b': None, 'label': 0}, {'guid': 127, 'text_a': 'think took metformin twice go diabetic come someone pour syrup throat', 'text_b': None, 'label': 0}, {'guid': 129, 'text_a': 'sound like happened imuran quite cut humira nothing remicade hlpd little', 'text_b': None, 'label': 0}, {'guid': 133, 'text_a': 'dear lunesta linda take night tired right service needed please give ambien annie best', 'text_b': None, 'label': 0}, {'guid': 138, 'text_a': 'got wisdom teeth pulled dentist prescribed oxycodone everybody buggin idk wtf medicine', 'text_b': None, 'label': 0}, {'guid': 144, 'text_a': 'meridea almost broke see', 'text_b': None, 'label': 0}, {'guid': 150, 'text_a': 'fluticasone propionate fucking magic', 'text_b': None, 'label': 0}, {'guid': 151, 'text_a': 'champion friend loved guy like crazy though well meridia hated', 'text_b': None, 'label': 0}, {'guid': 154, 'text_a': 'oh know back back zostavax shot keeping guest healthy', 'text_b': None, 'label': 0}, {'guid': 155, 'text_a': 'know take oxycodone recreationally mean love make hurt rn pain nothing else', 'text_b': None, 'label': 0}, {'guid': 157, 'text_a': 'doc great pcp put metformin ate day good news regular cycle w healthy eating', 'text_b': None, 'label': 0}, {'guid': 160, 'text_a': 'remicade hope humira work get rid dry skin thts problem far', 'text_b': None, 'label': 1}, {'guid': 161, 'text_a': 'afford month januvia guess die fork cash viagra', 'text_b': None, 'label': 0}, {'guid': 164, 'text_a': 'buprenorphine periop period stop stop question', 'text_b': None, 'label': 0}, {'guid': 170, 'text_a': 'wish metformin take one sitting make bad diabetic', 'text_b': None, 'label': 0}, {'guid': 178, 'text_a': 'feel like need take adderall self motivation know work get done focus', 'text_b': None, 'label': 0}, {'guid': 180, 'text_a': 'ugh terrible enbrel psa life changing result psoriasis flare time time', 'text_b': None, 'label': 0}, {'guid': 186, 'text_a': 'yes inject enbrel trying stop prefer holistic approach joint still sore arthritis', 'text_b': None, 'label': 0}, {'guid': 192, 'text_a': 'option essential buprenorphine cause anxiety gt like speedball oral morphine better imho', 'text_b': None, 'label': 0}, {'guid': 199, 'text_a': 'used ventolin time got particularly wheezy', 'text_b': None, 'label': 0}, {'guid': 211, 'text_a': 'battling addiction taking suboxone free pharmasudical med', 'text_b': None, 'label': 0}, {'guid': 213, 'text_a': 'went doc ordered metformin gave blood glucose monitor ordered lab going get done wed', 'text_b': None, 'label': 0}, {'guid': 217, 'text_a': 'tamiflu came late major flu time worth shot blame doc trying', 'text_b': None, 'label': 0}, {'guid': 223, 'text_a': 'watching news dispensary shown annoyed crestor cymbalta c life become', 'text_b': None, 'label': 0}, {'guid': 224, 'text_a': 'astrazeneca fight billion possible nexium damage', 'text_b': None, 'label': 0}, {'guid': 226, 'text_a': 'oh shit blue inhailer purple inhailer spiriva smoked year worked bad place', 'text_b': None, 'label': 0}, {'guid': 236, 'text_a': 'lunesta hand getting old longer shopping stamen use', 'text_b': None, 'label': 0}, {'guid': 237, 'text_a': 'really difficult study homework oxycodone', 'text_b': None, 'label': 0}, {'guid': 239, 'text_a': 'codeine addict looking loperamide shortage like', 'text_b': None, 'label': 0}, {'guid': 240, 'text_a': 'every game gone sleep minute royal win gon na make snort lunesta sunday', 'text_b': None, 'label': 0}, {'guid': 241, 'text_a': 'indeed un bee wee vabuwl though owe year supply nexium point still blaming farhan', 'text_b': None, 'label': 0}, {'guid': 255, 'text_a': 'item damn unpleasant get especially shinespark get missile maridia', 'text_b': None, 'label': 0}, {'guid': 265, 'text_a': 'higher back normal synthroid dose mean cold sensitivity seems returning need bulk fingerless glove proper sweater', 'text_b': None, 'label': 0}, {'guid': 273, 'text_a': 'cough medicine codeine breathing treatment pro air symbicort steroid sleep amp still fucking breathe', 'text_b': None, 'label': 1}, {'guid': 284, 'text_a': 'crestor make act like crestor guy', 'text_b': None, 'label': 0}, {'guid': 291, 'text_a': 'hey could worse could denied ever miralax house least knowledge', 'text_b': None, 'label': 0}, {'guid': 300, 'text_a': 'seriously considered crushing lunesta blunt sleep ha lu banger fuck', 'text_b': None, 'label': 0}, {'guid': 301, 'text_a': 'dear booze tv ad spiriva inhaler act like terrible hang elephant think would awesome', 'text_b': None, 'label': 0}, {'guid': 308, 'text_a': 'maridia always got awful area', 'text_b': None, 'label': 0}, {'guid': 316, 'text_a': 'doubt plus shd withdraw suboxone would stopped get thru first day', 'text_b': None, 'label': 0}, {'guid': 322, 'text_a': 'druggy everyone oxycontin adderall drug', 'text_b': None, 'label': 0}, {'guid': 331, 'text_a': 'stay still almost seems like diclofenac helping migraine amazing', 'text_b': None, 'label': 0}, {'guid': 332, 'text_a': 'ive dexilant year get checked every six month reflux amp hiatal hernia whoop', 'text_b': None, 'label': 0}, {'guid': 334, 'text_a': 'asked infliximab humira anyone story better', 'text_b': None, 'label': 0}, {'guid': 335, 'text_a': 'hell crestor ad make cringe', 'text_b': None, 'label': 0}, {'guid': 337, 'text_a': 'go doctor need prescription adderall asap senioritis getting worse', 'text_b': None, 'label': 0}, {'guid': 348, 'text_a': 'even ive already taken lunesta crawled ibto bed waitibg kick', 'text_b': None, 'label': 0}, {'guid': 351, 'text_a': 'current issue buprenorphine maintenance detox best teen opioid use disorder', 'text_b': None, 'label': 0}, {'guid': 353, 'text_a': 'realized missed daily dose aubagio yesterday home routine interrupted least remembered today', 'text_b': None, 'label': 0}, {'guid': 355, 'text_a': 'must small overactive bladder cause go like time day maybe need take spiriva something', 'text_b': None, 'label': 0}, {'guid': 365, 'text_a': 'yeah mine mine recommended aubagio bc fewer side effect side effect namely diarrhea lol', 'text_b': None, 'label': 1}, {'guid': 369, 'text_a': 'everytime see enbrel commercial lefty want turn blue chip', 'text_b': None, 'label': 0}, {'guid': 373, 'text_a': 'price action last day good add sure u comparing zelnorm recalled due cardiac event', 'text_b': None, 'label': 0}, {'guid': 377, 'text_a': 'suboxone chk came bk apologized like idk acted like sorry yall always nice loll', 'text_b': None, 'label': 0}, {'guid': 382, 'text_a': 'xopenex proair kind night asthma kicking butt', 'text_b': None, 'label': 0}, {'guid': 384, 'text_a': 'le gasp whaaaat meridia suddenly disappeared without saying anything never happens oozing venomous sarcasm', 'text_b': None, 'label': 0}, {'guid': 385, 'text_a': 'weed high trust lol im oxycontin oxycodone', 'text_b': None, 'label': 1}, {'guid': 386, 'text_a': 'yh doc diagnose co age given ventolin shit glad u guy r gd xx', 'text_b': None, 'label': 0}, {'guid': 397, 'text_a': 'startling petition take miralax flush annoying gorton fisherman', 'text_b': None, 'label': 0}, {'guid': 400, 'text_a': 'anti seizure drug ezogabine decline alcohol consumption', 'text_b': None, 'label': 0}, {'guid': 404, 'text_a': 'share price risen coincidentally sibutramine increased cardiovascular risk hahahaha scientist bitter', 'text_b': None, 'label': 0}, {'guid': 418, 'text_a': 'fuck salamol really microgram weak day ventolin work easy wheezy', 'text_b': None, 'label': 0}, {'guid': 426, 'text_a': 'feeling ok gave ventolin', 'text_b': None, 'label': 0}, {'guid': 431, 'text_a': 'need research tell sick people neither need deserve marijuana fda wrong vioxx wrong pot', 'text_b': None, 'label': 0}, {'guid': 436, 'text_a': 'crestor muscle problem', 'text_b': None, 'label': 1}, {'guid': 437, 'text_a': 'weird take mg metformin day lowering blood sugar enough', 'text_b': None, 'label': 0}, {'guid': 444, 'text_a': 'energy level back time velcade today start', 'text_b': None, 'label': 1}, {'guid': 445, 'text_a': 'put nose thing til stopped feeling light headed amp steroid open lung xopenex treatment hr', 'text_b': None, 'label': 0}, {'guid': 448, 'text_a': 'hi take mg levothyroxine underactive thyroid regulated still give blood medication', 'text_b': None, 'label': 0}, {'guid': 453, 'text_a': 'kid gun wine locked rx crestor acid reflux worried', 'text_b': None, 'label': 0}, {'guid': 455, 'text_a': 'tax ventolin antibiotic start complaining either though lol', 'text_b': None, 'label': 0}, {'guid': 458, 'text_a': 'asthma sufferer though bad know feel btw use advair', 'text_b': None, 'label': 0}, {'guid': 467, 'text_a': 'ever get bad ask doctor would recommend humira infliximab awesome x', 'text_b': None, 'label': 0}, {'guid': 471, 'text_a': 'carefulllll could mess like friend take miralax everyday due abusing laxative', 'text_b': None, 'label': 0}, {'guid': 475, 'text_a': 'robert ratner gsk rosiglitazone really set stage cvots amp guidance', 'text_b': None, 'label': 0}, {'guid': 476, 'text_a': 'plus must eat took diclofenac empty stomach never', 'text_b': None, 'label': 0}, {'guid': 477, 'text_a': 'soooo tired diclofenac sleep', 'text_b': None, 'label': 0}, {'guid': 480, 'text_a': 'never tried diclofenac migraine good result', 'text_b': None, 'label': 0}, {'guid': 484, 'text_a': 'early morning trip way antara gange fall hope b good', 'text_b': None, 'label': 0}, {'guid': 485, 'text_a': 'yep knew difference oxycontin v oxycodone though mg color etc etc', 'text_b': None, 'label': 0}, {'guid': 488, 'text_a': 'rosuvastatin better lipid lowering drug lemon juice pinch salt warm every morning lower cholesterol', 'text_b': None, 'label': 0}, {'guid': 498, 'text_a': 'really wish could hop adderall actually productive studying final', 'text_b': None, 'label': 0}, {'guid': 502, 'text_a': 'difficulty breathing come im back nebulizer ventolin asthma', 'text_b': None, 'label': 0}, {'guid': 503, 'text_a': 'yep time bed one feel mmmm lunesta right', 'text_b': None, 'label': 0}, {'guid': 504, 'text_a': 'pradaxa file coming feel like avandia like deja vu moment', 'text_b': None, 'label': 0}, {'guid': 508, 'text_a': 'celecoxib long term increase risk stroke', 'text_b': None, 'label': 1}, {'guid': 526, 'text_a': 'take care brittany glad nothing worse give nexium something like', 'text_b': None, 'label': 0}, {'guid': 528, 'text_a': 'bathroom since must stomach bug even imodium helped', 'text_b': None, 'label': 0}, {'guid': 529, 'text_a': 'high dose rosuvastatin mg daily reduce rate af cabg compared placebo v stics trial', 'text_b': None, 'label': 0}, {'guid': 532, 'text_a': 'well holy shit given big bad wolf copd symbicort facepalm', 'text_b': None, 'label': 0}, {'guid': 534, 'text_a': 'warm one cold xd without ritonavir xxddd hahahhaa yes bored xd', 'text_b': None, 'label': 0}, {'guid': 538, 'text_a': 'remicade humira back remi', 'text_b': None, 'label': 0}, {'guid': 540, 'text_a': 'given aranesp injection speculating whether could caused', 'text_b': None, 'label': 0}, {'guid': 554, 'text_a': 'well acknowledging primarily caused enbrel w diabetes complicating matter', 'text_b': None, 'label': 0}, {'guid': 556, 'text_a': 'sildenafil sound like name tolkien elf actually boner pill', 'text_b': None, 'label': 0}, {'guid': 559, 'text_a': 'physical dependence addiction people taper suboxone fast fact taper slowly bad', 'text_b': None, 'label': 0}, {'guid': 560, 'text_a': 'going week nasty cough dr sure causing trying advair prednisone want healthy', 'text_b': None, 'label': 0}, {'guid': 561, 'text_a': 'oh take garlic used take diovan hct hbp dropped significantly laid sf', 'text_b': None, 'label': 0}, {'guid': 576, 'text_a': 'busy day starting early morning shot velcade ending trip nyc', 'text_b': None, 'label': 0}, {'guid': 577, 'text_a': 'could xopenex make big difference air saturation much heart rate normal', 'text_b': None, 'label': 0}, {'guid': 581, 'text_a': 'fact talked minute last night remember proof lunesta really work', 'text_b': None, 'label': 1}, {'guid': 584, 'text_a': 'enbrel life changing could barely walk took sacroiliitus', 'text_b': None, 'label': 0}, {'guid': 594, 'text_a': 'daily solifenacin succinate significantly reduced urgency episode patient overactive bladder medical news', 'text_b': None, 'label': 0}, {'guid': 595, 'text_a': 'aw man bad idea get imodium also', 'text_b': None, 'label': 0}, {'guid': 603, 'text_a': 'always get distracted advair alarm ringtone forget take advair', 'text_b': None, 'label': 0}, {'guid': 616, 'text_a': 'fibroid heavy bleeding helped lot nuvaring damn micro chip lol', 'text_b': None, 'label': 0}, {'guid': 617, 'text_a': 'adult adderall along zoloft chantix angry confused depressed couldnt function', 'text_b': None, 'label': 0}, {'guid': 630, 'text_a': 'hollaren week intranasal fluticasone small decrease cm year growth velocity compared placebo', 'text_b': None, 'label': 0}, {'guid': 633, 'text_a': 'apparently unexpected good night sleep red pepper hummus triscuit better lunesta valium combined knocked', 'text_b': None, 'label': 0}, {'guid': 635, 'text_a': 'love whole scene lunesta reference make laugh every time', 'text_b': None, 'label': 0}, {'guid': 636, 'text_a': 'migraleve loperamide omeprozole breakfast yummy', 'text_b': None, 'label': 0}, {'guid': 645, 'text_a': 'diclofenac since sugery du repaired year ago faint laparotomy scar', 'text_b': None, 'label': 0}, {'guid': 654, 'text_a': 'mt inherit losartan hypertrophic cardiomyopathy failed dmostrate lvmass nxt valsartan vanish', 'text_b': None, 'label': 0}, {'guid': 655, 'text_a': 'well home gave oxycodone muscle relaxer pain planning taking oxycodone unless really need', 'text_b': None, 'label': 0}, {'guid': 657, 'text_a': 'bypass surgery ra bedbound methotrexate med ra working tried enbrel big mistake got', 'text_b': None, 'label': 0}, {'guid': 663, 'text_a': 'nexium occasional pepcid ac kicker work pillow propping upper body lt', 'text_b': None, 'label': 0}, {'guid': 668, 'text_a': 'paid synthroid spokesperson sofia vergara back tell u easy treat thyroid disease', 'text_b': None, 'label': 0}, {'guid': 672, 'text_a': 'love fact woke still feeling suboxone last night still got another half gon na good day lol', 'text_b': None, 'label': 0}, {'guid': 673, 'text_a': 'shit diclofenac blood pressure best friend', 'text_b': None, 'label': 1}, {'guid': 676, 'text_a': 'young elsa acting lately still strong still obedient seemed meridia confident', 'text_b': None, 'label': 0}, {'guid': 690, 'text_a': 'death reported though nonetheless suboxone film slightly safer', 'text_b': None, 'label': 0}, {'guid': 692, 'text_a': 'feel like need shit took imodium earlier', 'text_b': None, 'label': 0}, {'guid': 693, 'text_a': 'missed shift taco bell bc waiting line walmart miralax fired ughhhhhhhhhhghh', 'text_b': None, 'label': 0}, {'guid': 704, 'text_a': 'really hoping jab ventolin amp cough wonder parenthood crack', 'text_b': None, 'label': 0}, {'guid': 706, 'text_a': 'joke ad suboxone gaming site day drug addict unaddict opiate', 'text_b': None, 'label': 0}, {'guid': 707, 'text_a': 'pt suboxone oxy script suboxone cause fucking problem bingo feed oxy script shredder', 'text_b': None, 'label': 0}, {'guid': 708, 'text_a': 'enbrel quit working tried humira remicade orencia infusion none worked next cimzia', 'text_b': None, 'label': 0}, {'guid': 714, 'text_a': 'suboxone far superior methadone user want feeling normal yet craving drug something previously', 'text_b': None, 'label': 0}, {'guid': 725, 'text_a': 'seems kurt geiger fault unable walk today currently waiting diclofenac kick', 'text_b': None, 'label': 0}, {'guid': 729, 'text_a': 'yay made zostavax exam literally shake exam ugh hour studying paid week', 'text_b': None, 'label': 0}, {'guid': 730, 'text_a': 'ouch bad stomach golf game hour take chance going bring imodium tablet amp toilet paper lot toilet paper', 'text_b': None, 'label': 0}, {'guid': 739, 'text_a': 'depression completely given way mostly feel positive past day medication soon atomoxetine', 'text_b': None, 'label': 0}, {'guid': 741, 'text_a': 'finish quest med bay full barfing people deadeye go drink alcohol um imodium instead', 'text_b': None, 'label': 0}, {'guid': 745, 'text_a': 'pain feeling right go away oxycodone x heal scar', 'text_b': None, 'label': 0}, {'guid': 747, 'text_a': 'severe stroke yr ago chol crestor amp ezetrol mine genetic bt late coz damage done anon kzn', 'text_b': None, 'label': 0}, {'guid': 750, 'text_a': 'probably hit counter brand nexium day ago doubled pain day idea gig', 'text_b': None, 'label': 0}, {'guid': 753, 'text_a': 'lunesta starting win battle ugh stupid', 'text_b': None, 'label': 0}, {'guid': 756, 'text_a': 'got ta get advair shun shit feel like iron lung', 'text_b': None, 'label': 0}, {'guid': 759, 'text_a': 'diet pill make focused sick need adderall change life think', 'text_b': None, 'label': 0}, {'guid': 763, 'text_a': 'mr buice make people fall asleep faster lunesta', 'text_b': None, 'label': 0}, {'guid': 764, 'text_a': 'enbrel seems subdued si joint pretty bad state making spreading', 'text_b': None, 'label': 0}, {'guid': 765, 'text_a': 'game duo oxycontin game amphetamine game beating woman unconscious', 'text_b': None, 'label': 0}, {'guid': 769, 'text_a': 'humira different think sure infliximab another name remicade sorry work', 'text_b': None, 'label': 0}, {'guid': 780, 'text_a': 'must admit im troubled seeing yo symbicort sometimes feel like real issue adherence ic dose low', 'text_b': None, 'label': 0}, {'guid': 782, 'text_a': 'nexium fast acting maintenance med zantac pretty quick', 'text_b': None, 'label': 0}, {'guid': 784, 'text_a': 'bigged wife last night whilst tipsy diclofenac', 'text_b': None, 'label': 0}, {'guid': 793, 'text_a': 'think sildenafil citrate back waste energy', 'text_b': None, 'label': 0}, {'guid': 794, 'text_a': 'breathing become conscious effort lemsip ventolin thing ease claggy bronchiole good patient', 'text_b': None, 'label': 0}, {'guid': 796, 'text_a': 'im talking emotion finally thanks adderall', 'text_b': None, 'label': 0}, {'guid': 799, 'text_a': 'heard today advair inhaler went blue told friend afraid med go', 'text_b': None, 'label': 0}, {'guid': 812, 'text_a': 'dying cold send tamiflu please', 'text_b': None, 'label': 0}, {'guid': 813, 'text_a': 'good luck insomniac lately even lunesta working sleep tight gorgeous', 'text_b': None, 'label': 0}, {'guid': 817, 'text_a': 'yho ndiyazazi miss ubuvelelwe bt ke kuthwa xa unestres ziba worse hopefully u r nt get nexium work faster n z best', 'text_b': None, 'label': 0}, {'guid': 822, 'text_a': 'spiriva overtaken seretide nh costly drug', 'text_b': None, 'label': 0}, {'guid': 824, 'text_a': 'di persimpangan antara still care dengan dont give fuck anymore', 'text_b': None, 'label': 0}, {'guid': 826, 'text_a': 'started rosuvastatin tonight yet another new tablet probably allergic tweet tmrw died anaphylaxis', 'text_b': None, 'label': 0}, {'guid': 832, 'text_a': 'still hurt even worse honestly taken oxycodone help', 'text_b': None, 'label': 0}, {'guid': 834, 'text_a': 'even though used remicade always mute humira commercial hate hearing side effect listed', 'text_b': None, 'label': 0}, {'guid': 842, 'text_a': 'accidentally stepped lunesta moth thing huge flew like nothing happened', 'text_b': None, 'label': 0}, {'guid': 843, 'text_a': 'etanercept enbrel got pen preservative sting mix gt', 'text_b': None, 'label': 1}, {'guid': 844, 'text_a': 'advair weakness suprising given competitor strenght amp rx trend shocking part imo market anticipate', 'text_b': None, 'label': 0}, {'guid': 845, 'text_a': 'ventolin nebule stock nebulizer back basic', 'text_b': None, 'label': 0}, {'guid': 846, 'text_a': 'like meridia azura seem okay sanguine sheegorath dangerous actively malevolent iirc', 'text_b': None, 'label': 0}, {'guid': 852, 'text_a': 'thought lost ventolin inhaler turned dull important', 'text_b': None, 'label': 0}, {'guid': 854, 'text_a': 'kewl used advair expired march think ok havin lil weak lung moment', 'text_b': None, 'label': 0}, {'guid': 857, 'text_a': 'back home getting rx avodart filled', 'text_b': None, 'label': 0}, {'guid': 863, 'text_a': 'confident new copd portfolio nasty shock advair', 'text_b': None, 'label': 0}, {'guid': 866, 'text_a': 'know lot people flovent ee yr old us pulmicort biggest debate med food elimination', 'text_b': None, 'label': 1}, {'guid': 867, 'text_a': 'lol yall find dr give tamiflu flu good', 'text_b': None, 'label': 0}, {'guid': 868, 'text_a': 'ik lie even kief court probably still le year think suboxone drug give often', 'text_b': None, 'label': 0}, {'guid': 874, 'text_a': 'actually think caught early tamiflu work magic amp hr nap afternoon', 'text_b': None, 'label': 0}, {'guid': 879, 'text_a': 'go crestor lost lb particle size count important overall number', 'text_b': None, 'label': 0}, {'guid': 880, 'text_a': 'non hdl c decreased month rosuvastatin atorvastatin difference group hisao ogawa', 'text_b': None, 'label': 0}, {'guid': 890, 'text_a': 'liquid oxycodone got feelin woozie', 'text_b': None, 'label': 0}, {'guid': 894, 'text_a': 'person made fucking meridia quest skyrim forgot glitchy game', 'text_b': None, 'label': 0}, {'guid': 895, 'text_a': 'mia seems hourly asthma attack third lot responding ventolin something', 'text_b': None, 'label': 0}, {'guid': 896, 'text_a': 'ventolin attacked defeated sniper maggot', 'text_b': None, 'label': 0}, {'guid': 897, 'text_a': 'holy shit let overdose lunesta sleep like week mean eating hibernation even lmao', 'text_b': None, 'label': 0}, {'guid': 903, 'text_a': 'treatment metformin bcps spironolactone attaining maintaining normal weight good diet', 'text_b': None, 'label': 0}, {'guid': 914, 'text_a': 'aw know like told infliximab would either need port humira instead', 'text_b': None, 'label': 0}, {'guid': 915, 'text_a': 'period horrible mean get often nuvaring feel like dying', 'text_b': None, 'label': 0}, {'guid': 928, 'text_a': 'started taking lunesta year sleep struggle game changer', 'text_b': None, 'label': 0}, {'guid': 935, 'text_a': 'drank water hour ago maybe dose buprenorphine give sleeping', 'text_b': None, 'label': 0}, {'guid': 940, 'text_a': 'chest heavy ventolin getting freaking outtttt', 'text_b': None, 'label': 0}, {'guid': 945, 'text_a': 'antara hooked feeling sama let go lebih keren hooked feeling lah', 'text_b': None, 'label': 0}, {'guid': 947, 'text_a': 'suboxone shit david gave', 'text_b': None, 'label': 0}, {'guid': 950, 'text_a': 'adjusting rx shelf levothyroxine eye level best day ever', 'text_b': None, 'label': 0}, {'guid': 957, 'text_a': 'medicine helping inflammation lung healed flovent mean breathe', 'text_b': None, 'label': 0}, {'guid': 977, 'text_a': 'viagra cialis baseball copd crap nfl advertiser think viewer near death invalid', 'text_b': None, 'label': 0}, {'guid': 985, 'text_a': 'gi said imodium change function bowel know explaining reason correctly', 'text_b': None, 'label': 0}, {'guid': 988, 'text_a': 'foto fishy albuterol flavor flippant cherry flavor mixed pinot noir chateau merde bitch', 'text_b': None, 'label': 0}, {'guid': 991, 'text_a': 'tit ventolin morning', 'text_b': None, 'label': 1}, {'guid': 992, 'text_a': 'still went hospital trapped nerve given diclofenac diazepam', 'text_b': None, 'label': 0}, {'guid': 994, 'text_a': 'went pharmacy amp got ventolin starting help think keeping calm obvs stressful though', 'text_b': None, 'label': 0}, {'guid': 1001, 'text_a': 'crawled bed electric blanket oxycodone taken tv relaxing amp pain helping bliss', 'text_b': None, 'label': 0}, {'guid': 1004, 'text_a': 'atorvastatin medication cause weight loss', 'text_b': None, 'label': 0}, {'guid': 1008, 'text_a': 'sooooo went mama room get tylenol headache yeah paying attention grab oxycodone instead', 'text_b': None, 'label': 0}, {'guid': 1010, 'text_a': 'asthma sufferer gasping dying breath say albuterol saved life x', 'text_b': None, 'label': 0}, {'guid': 1013, 'text_a': 'sildenafil hufanya msee hivo rt boner like whole night', 'text_b': None, 'label': 0}, {'guid': 1028, 'text_a': 'text hubby weekend away would give soother vodka imodium suitcase hahaha', 'text_b': None, 'label': 0}, {'guid': 1030, 'text_a': 'think oxycodone past day average codeine addict yet still numb pain', 'text_b': None, 'label': 0}, {'guid': 1035, 'text_a': 'metformin rejoining', 'text_b': None, 'label': 0}, {'guid': 1040, 'text_a': 'advair ventolin singular pill gawd much pharma first combo worked', 'text_b': None, 'label': 0}, {'guid': 1043, 'text_a': 'dude really stayed like day striaght takin adderall last semester', 'text_b': None, 'label': 0}, {'guid': 1045, 'text_a': 'oxybutynin crazy drug', 'text_b': None, 'label': 0}, {'guid': 1046, 'text_a': 'go another pound yay showing gyn need metformin help loose weight hah', 'text_b': None, 'label': 0}, {'guid': 1047, 'text_a': 'anybody know buzzy bee enbrel shot let u know want know work thanks', 'text_b': None, 'label': 0}, {'guid': 1050, 'text_a': 'must nice symbicort since constantly develop bronchitis every time get cold', 'text_b': None, 'label': 0}, {'guid': 1058, 'text_a': 'oh put nose forgotten awful cold infliximab prevents golimumab', 'text_b': None, 'label': 0}, {'guid': 1066, 'text_a': 'tip little upset stomach kit packed antacid pepto imodium never know', 'text_b': None, 'label': 0}, {'guid': 1070, 'text_a': 'anyone know metformin cause lactic acidosis', 'text_b': None, 'label': 0}, {'guid': 1074, 'text_a': 'really another unarmed black man killed officer mistake oxycodone pill gun', 'text_b': None, 'label': 0}, {'guid': 1077, 'text_a': 'welp got wisdom teeth pulled fucking pain oxycodone friend goodnight', 'text_b': None, 'label': 0}, {'guid': 1078, 'text_a': 'million idea load advair e cig casually vape asthma attack bye bye wheezing hello looking cool', 'text_b': None, 'label': 0}, {'guid': 1082, 'text_a': 'lunesta handme thing make sad think family thank lord blessing', 'text_b': None, 'label': 0}, {'guid': 1083, 'text_a': 'wheeze asthma lot enterovirus sk mimic asthmatic exacerbation pedia pred ventolin still help', 'text_b': None, 'label': 0}, {'guid': 1091, 'text_a': 'miss friend hate quarantine want french fry tamiflu nasty need company hate flu allowed pout', 'text_b': None, 'label': 0}, {'guid': 1092, 'text_a': 'slimming tablet reductil product ame', 'text_b': None, 'label': 0}, {'guid': 1106, 'text_a': 'diazepam oxycontin duloxetine mirtazapine methadone fine cause legal', 'text_b': None, 'label': 0}, {'guid': 1108, 'text_a': 'cool buprenorphine patch started pregabalin tablet finger crossed hubby gabapentin back', 'text_b': None, 'label': 0}, {'guid': 1115, 'text_a': 'remicade work neither humira methotrexate ed cause extra issue recovering brain surgery right', 'text_b': None, 'label': 0}, {'guid': 1116, 'text_a': 'normally ok week since last enbrel injection', 'text_b': None, 'label': 0}, {'guid': 1127, 'text_a': 'steroid fail intensive glucose control fail xigris fail early central line cvp monitoring fail sepsis', 'text_b': None, 'label': 0}, {'guid': 1128, 'text_a': 'day one increased synthroid joint pain left foot mightily improved totally tired lt', 'text_b': None, 'label': 0}, {'guid': 1129, 'text_a': 'thomas hamilin whatever tried giving gave others suboxone', 'text_b': None, 'label': 0}, {'guid': 1131, 'text_a': 'well mom went exelon patch glad sibling took initiative amp actually spoke physician', 'text_b': None, 'label': 0}, {'guid': 1138, 'text_a': 'weekly etanercept last night working better methotrexate', 'text_b': None, 'label': 1}, {'guid': 1140, 'text_a': 'nonspecific fosamax general ambien basic celebrex mjh', 'text_b': None, 'label': 0}, {'guid': 1141, 'text_a': 'laying thinking ohh hip hurt wait take enbrel tomorrow', 'text_b': None, 'label': 0}, {'guid': 1144, 'text_a': 'starting imodium routine favorite drug', 'text_b': None, 'label': 1}, {'guid': 1149, 'text_a': 'gi gave choice one try first started humira remicade turn', 'text_b': None, 'label': 0}, {'guid': 1152, 'text_a': 'wish felt like eating regularly metformin depression good thing lost weight despite butter tart', 'text_b': None, 'label': 0}, {'guid': 1160, 'text_a': 'went grocery shopping since boycotting everything got bread juice amp miralax', 'text_b': None, 'label': 0}, {'guid': 1164, 'text_a': 'know say rn mispell xopenex numerous x copenex lose respect', 'text_b': None, 'label': 0}, {'guid': 1165, 'text_a': 'oxycodone gelatine capsule grr wish veggie amp naproxen kind stomach coating amp take hour', 'text_b': None, 'label': 0}, {'guid': 1166, 'text_a': 'young lady infertility referred high tsh amp symptom started synthroid lower tsh lt post delivery ivf told c rx', 'text_b': None, 'label': 0}, {'guid': 1171, 'text_a': 'enbrel amp mtx since april rheumy told inflammation level high infusion next step', 'text_b': None, 'label': 0}, {'guid': 1173, 'text_a': 'sleep night count sheep count blessing fall asleep faster lunesta moth come haunt', 'text_b': None, 'label': 0}, {'guid': 1179, 'text_a': 'take esomeprazole nexium mg still struggling tame symptom', 'text_b': None, 'label': 0}, {'guid': 1182, 'text_a': 'sick writing sleep tweet reading trust lunesta even yawn', 'text_b': None, 'label': 0}, {'guid': 1198, 'text_a': 'slam headphone dammit baker moved bugged lamp bathroom started miralax binge', 'text_b': None, 'label': 0}, {'guid': 1202, 'text_a': 'easiest way make vagina tighter nuvaring get bigger dick', 'text_b': None, 'label': 0}, {'guid': 1204, 'text_a': 'lol typing ritonavir started rin sigh', 'text_b': None, 'label': 0}, {'guid': 1207, 'text_a': 'remicade year worked wonder humira far good good luck mri', 'text_b': None, 'label': 0}, {'guid': 1212, 'text_a': 'tamiflu morbidity mortality benefit nnt symptom fever nnh vomiting newman', 'text_b': None, 'label': 0}, {'guid': 1214, 'text_a': 'seeing mascara laden face literally caused reach ventolin excitement du bist ein spinner', 'text_b': None, 'label': 0}, {'guid': 1225, 'text_a': 'apart flu shot fda set zostavax age whereas cdc set age', 'text_b': None, 'label': 0}, {'guid': 1227, 'text_a': 'remember tamiflu vaccine huge waste money driven hysteria', 'text_b': None, 'label': 0}, {'guid': 1234, 'text_a': 'cool explained difference methadone buprenorphine length worrying nothing', 'text_b': None, 'label': 0}, {'guid': 1235, 'text_a': 'go see doctor tamiflu knock', 'text_b': None, 'label': 0}, {'guid': 1236, 'text_a': 'gave fentanyl blocked buprenorphine taken two night screamy got tho', 'text_b': None, 'label': 0}, {'guid': 1237, 'text_a': 'yeah humira sound better hospital visit infusion side effect remicade likely crohn pt', 'text_b': None, 'label': 0}, {'guid': 1240, 'text_a': 'google symbicort suffocating gag reflex vibrator nope expecting', 'text_b': None, 'label': 0}, {'guid': 1243, 'text_a': 'also saw someone mixing miralax continental breakfast morning made day', 'text_b': None, 'label': 0}, {'guid': 1249, 'text_a': 'seriously first night fog mg oxycontin every hour plus mg oxycodone reg release amp', 'text_b': None, 'label': 0}, {'guid': 1258, 'text_a': 'yo real tho started taking nexium month helped lot', 'text_b': None, 'label': 0}, {'guid': 1265, 'text_a': 'enbrel stop working enbrel arava', 'text_b': None, 'label': 0}, {'guid': 1270, 'text_a': 'enbrel shot hurt', 'text_b': None, 'label': 1}, {'guid': 1271, 'text_a': 'lying bed listening li l pickle pot coughing sleep despite cough syrup ventolin bed', 'text_b': None, 'label': 0}, {'guid': 1274, 'text_a': 'find asthmatic xopenex inhaler chance allergic albuterol ass allergy administration', 'text_b': None, 'label': 0}, {'guid': 1289, 'text_a': 'barclays ranbaxy surprise margin entirely driven diovan', 'text_b': None, 'label': 0}, {'guid': 1305, 'text_a': 'funnily enough many general one ie metformin theoretically cause hypo rare recorded case single rx ae', 'text_b': None, 'label': 0}, {'guid': 1309, 'text_a': 'taste like sugar fake as spiriva shit either', 'text_b': None, 'label': 0}, {'guid': 1311, 'text_a': 'watching crestor guy make blood pressure spike', 'text_b': None, 'label': 0}, {'guid': 1312, 'text_a': 'crestor commercial world biggest crestor fan make cringe every time see', 'text_b': None, 'label': 0}, {'guid': 1316, 'text_a': 'nope prescribed doctor still vioxx pill obviously quit taking cuz recall', 'text_b': None, 'label': 0}, {'guid': 1322, 'text_a': 'luv headache worthy oxycodone', 'text_b': None, 'label': 0}, {'guid': 1325, 'text_a': 'promo chateau renoir merges splendid crack cocaine element tummy tickling albuterol aftertaste cabernet sauvignon hol', 'text_b': None, 'label': 0}, {'guid': 1329, 'text_a': 'bitch b suckin dick half suboxone strip', 'text_b': None, 'label': 0}, {'guid': 1334, 'text_a': 'similar action maridia snail room faster assuming move properly however mild testing save best', 'text_b': None, 'label': 0}, {'guid': 1347, 'text_a': 'seriously stomach watch nexium go mg higher', 'text_b': None, 'label': 0}, {'guid': 1356, 'text_a': 'warning never give twin miralax time regret within hour least momma lol', 'text_b': None, 'label': 0}, {'guid': 1360, 'text_a': 'dog dressed lol crestor orange crestoru alumnus happy using life saving drug constipates', 'text_b': None, 'label': 0}, {'guid': 1369, 'text_a': 'wait get dexilant refilled fuck acid reflux', 'text_b': None, 'label': 0}, {'guid': 1379, 'text_a': 'anti depressant mood adhd med lunesta sleep norcos pain lithium brain yet u thnk fucked gotcha', 'text_b': None, 'label': 0}, {'guid': 1380, 'text_a': 'difficult losing weight especially pcos first started dr put metformin help weight', 'text_b': None, 'label': 0}, {'guid': 1382, 'text_a': 'ok tamiflu work magic least let feel horrible', 'text_b': None, 'label': 0}, {'guid': 1383, 'text_a': 'well saw episode medical show gave xigris severe septic shock ludicrous', 'text_b': None, 'label': 0}, {'guid': 1384, 'text_a': 'aa couple seeking fertility sent b co diabetes however obese amp pcos lack ovulation given metformin', 'text_b': None, 'label': 0}, {'guid': 1387, 'text_a': 'finger crossed soooo hard new synthroid dose also fix itching anymore', 'text_b': None, 'label': 0}, {'guid': 1391, 'text_a': 'need valium xanex percocet darvocet vicodin klonopin sleeping pill nyquil sleep yo driving mad', 'text_b': None, 'label': 0}, {'guid': 1397, 'text_a': 'drug oxycodone stop hurting', 'text_b': None, 'label': 0}, {'guid': 1399, 'text_a': 'take extavia think helping last mri showed small patch new damage active relapse think help', 'text_b': None, 'label': 0}, {'guid': 1400, 'text_a': 'enbrel ad actually make laugh loud every time see moderate severe plaque psoriasis yeah someone say', 'text_b': None, 'label': 0}, {'guid': 1405, 'text_a': 'alendronate important cause pill esophagitis osteoporosis give raloxifene instead', 'text_b': None, 'label': 1}, {'guid': 1413, 'text_a': 'utility giant exelon hit multi year low believe single analyst buy rec made new week high today exc', 'text_b': None, 'label': 0}, {'guid': 1430, 'text_a': 'first find blimpy burger situation talk want crestor go waste fall', 'text_b': None, 'label': 0}, {'guid': 1435, 'text_a': 'need lunesta butterfly sore window right hit fucking sleep', 'text_b': None, 'label': 0}, {'guid': 1436, 'text_a': 'made year diet exercise entered middle high school started lose dose adderall', 'text_b': None, 'label': 0}, {'guid': 1455, 'text_a': 'loperamide fairly recent invention bro time thing scratch grey hair', 'text_b': None, 'label': 0}, {'guid': 1459, 'text_a': 'blue sky power go thanks sure merger exelon totally going fix crap totally', 'text_b': None, 'label': 0}, {'guid': 1464, 'text_a': 'want thru waiting lunesta kick finding semi trip take', 'text_b': None, 'label': 0}, {'guid': 1468, 'text_a': 'saw crestor ad tv obese middle aged dude cheering v lipitor like would home team really wtf', 'text_b': None, 'label': 0}, {'guid': 1470, 'text_a': 'random rct parity nightly v prn sildenafil urinary ef outcome even longterm', 'text_b': None, 'label': 0}, {'guid': 1473, 'text_a': 'allowed give methadone buprenorphine treat addiction unless federally mandated methadone clinic', 'text_b': None, 'label': 0}, {'guid': 1475, 'text_a': 'daughter reckoned think tamiflu tab made ill really bad wks', 'text_b': None, 'label': 0}, {'guid': 1501, 'text_a': 'person made maridia super metroid really seriously frustrating', 'text_b': None, 'label': 0}, {'guid': 1506, 'text_a': 'nexium saved stomach today', 'text_b': None, 'label': 0}, {'guid': 1509, 'text_a': 'seeing word push printed back blister pack imodium reassuring', 'text_b': None, 'label': 0}, {'guid': 1511, 'text_a': 'forgot quickly lunesta dissolve wine science friend', 'text_b': None, 'label': 0}, {'guid': 1513, 'text_a': 'hell feeling worst min tamiflu need start working cause sunday coming soon', 'text_b': None, 'label': 0}, {'guid': 1516, 'text_a': 'definition meridia borderline fianc beat ever loving many time bi weekly meeting eola', 'text_b': None, 'label': 0}, {'guid': 1521, 'text_a': 'almost thing happen stomach acid coming slept probably gave rabeprazole sodium', 'text_b': None, 'label': 0}, {'guid': 1525, 'text_a': 'honestly think meridia one could truly kill everyone else tear asunder', 'text_b': None, 'label': 0}, {'guid': 1527, 'text_a': 'thought flu day two tamiflu miracle still probably running turkey trot tomorrow', 'text_b': None, 'label': 0}, {'guid': 1529, 'text_a': 'imodium wear horrible day lol', 'text_b': None, 'label': 0}, {'guid': 1544, 'text_a': 'rimonabant associated short term memory loss', 'text_b': None, 'label': 1}, {'guid': 1545, 'text_a': 'extensive squamous cell carcinoma skin related use sorafenib treatment flt mutant acute myeloid leukemia diagnosis', 'text_b': None, 'label': 1}, {'guid': 1554, 'text_a': 'hurt breathe went thru darvocet day baby', 'text_b': None, 'label': 0}, {'guid': 1555, 'text_a': 'still remicade decided double dose try reactivate response probably humira', 'text_b': None, 'label': 0}, {'guid': 1556, 'text_a': 'ibs active ibd remission fine imodium wary sort infection infliximab', 'text_b': None, 'label': 0}, {'guid': 1569, 'text_a': 'oxycodone help big time massive dosing life envisioned chris r thing', 'text_b': None, 'label': 0}, {'guid': 1573, 'text_a': 'lacosomide playing merry hell phenytoin gone like time appt sense time', 'text_b': None, 'label': 0}, {'guid': 1586, 'text_a': 'always get day confused sildenafil citrate apocalypse day', 'text_b': None, 'label': 0}, {'guid': 1587, 'text_a': 'agree housing first point opioid addiction buprenorphine methadone maintenance need menu', 'text_b': None, 'label': 0}, {'guid': 1589, 'text_a': 'januvia bring diabetic someone else ride see saw', 'text_b': None, 'label': 0}, {'guid': 1598, 'text_a': 'vyvanse make much studious focalin adderall', 'text_b': None, 'label': 0}, {'guid': 1599, 'text_a': 'rt former raven cheerleader wife ceo exelon energy indicted sexual contact year old', 'text_b': None, 'label': 0}, {'guid': 1606, 'text_a': 'year vioxx withdrawn shock wave still felt pv system', 'text_b': None, 'label': 0}, {'guid': 1620, 'text_a': 'metformin potential cause nausea loose stool etc potential side effect', 'text_b': None, 'label': 1}, {'guid': 1622, 'text_a': 'looking next vitamin c bounce vit c sildenafil nko', 'text_b': None, 'label': 0}, {'guid': 1624, 'text_a': 'norice eaten something disagreeable two step imodium', 'text_b': None, 'label': 0}, {'guid': 1630, 'text_a': 'gt gt gt adderall stop chewing piece gum', 'text_b': None, 'label': 1}, {'guid': 1638, 'text_a': 'first time adderall year make think cool word galvanic exuberance', 'text_b': None, 'label': 0}, {'guid': 1643, 'text_a': 'lunesta hand like going sleep thunder amp rain', 'text_b': None, 'label': 0}, {'guid': 1644, 'text_a': 'yanked market killing many people vioxx ambien', 'text_b': None, 'label': 0}, {'guid': 1650, 'text_a': 'lmfaoooo im dead offered candy assuming knew metformin probably thought sugar low', 'text_b': None, 'label': 0}, {'guid': 1653, 'text_a': 'belviq think neuro receptor uptake cell make commit suicide like chantix said', 'text_b': None, 'label': 0}, {'guid': 1658, 'text_a': 'using nebuliser making sure dilute ventolin turn hummingbird', 'text_b': None, 'label': 0}, {'guid': 1661, 'text_a': 'wow crazy told u nothing worry never remicade humira dumb side effect tho', 'text_b': None, 'label': 0}, {'guid': 1665, 'text_a': 'tried getting opiate amp seem withdrawal awful early take suboxone', 'text_b': None, 'label': 0}, {'guid': 1668, 'text_a': 'diagnosed year ago metformin dose increased time changed diet excersised ac went bit overwhelmed', 'text_b': None, 'label': 0}, {'guid': 1678, 'text_a': 'c dis nurse cm gim me iv rabeprazole jor iyee see dr gws tohm swear getting peptic ulcer', 'text_b': None, 'label': 0}, {'guid': 1681, 'text_a': 'januvia commercial adult see saw make uncomfortable', 'text_b': None, 'label': 0}, {'guid': 1684, 'text_a': 'symptom mostly control find even imodium get thru day needed hope thing improve', 'text_b': None, 'label': 0}, {'guid': 1686, 'text_a': 'even medication way dr would prescribe suboxone combo pill', 'text_b': None, 'label': 0}, {'guid': 1688, 'text_a': 'use heroin get rid pesky cough use suboxone get rid pesky heroin addiction', 'text_b': None, 'label': 0}, {'guid': 1692, 'text_a': 'dehydrated cap loperamide pls', 'text_b': None, 'label': 0}, {'guid': 1695, 'text_a': 'friendship since childhood believe ventolin seretide decided work', 'text_b': None, 'label': 1}, {'guid': 1698, 'text_a': 'proceeding mark henry v big show match brought u lunesta ambien', 'text_b': None, 'label': 0}, {'guid': 1703, 'text_a': 'ambien sleep problem imitrex migraine headache lipitor high cholesterol xanax anxiety lexapro prozac', 'text_b': None, 'label': 0}, {'guid': 1705, 'text_a': 'may right hpv found cc point shot may cause serious harm like vioxx caused many', 'text_b': None, 'label': 1}, {'guid': 1716, 'text_a': 'magnesium citrate bad miralax n gatorade tough', 'text_b': None, 'label': 0}, {'guid': 1718, 'text_a': 'tried licking answer call doctor house cant stop coughing without ventolin really annoying', 'text_b': None, 'label': 0}, {'guid': 1720, 'text_a': 'kid daughter preschool tamiflu depleated mom say help something wrong strand', 'text_b': None, 'label': 0}, {'guid': 1723, 'text_a': 'within year next year get sick test told cancer medical malpractice crestor poisoning', 'text_b': None, 'label': 0}, {'guid': 1728, 'text_a': 'enbrel useful arthritis still fever rash etc need kineret actemra insurance v', 'text_b': None, 'label': 0}, {'guid': 1730, 'text_a': 'according fda hundred report acute chronic pancreatitis attributed januvia amp byetta habla espanol', 'text_b': None, 'label': 0}, {'guid': 1740, 'text_a': 'pfizer dumped exubera flop whether take viagra business glad kicked smoking habit', 'text_b': None, 'label': 0}, {'guid': 1742, 'text_a': 'symptom come go bit depending envt l factor stuff flovent insanely expensive', 'text_b': None, 'label': 0}, {'guid': 1743, 'text_a': 'plan bed sleeping til least pm wishin lunesta guess bunch otc sleep aid', 'text_b': None, 'label': 0}, {'guid': 1744, 'text_a': 'lost half stone first week slower others metformin also help', 'text_b': None, 'label': 0}, {'guid': 1751, 'text_a': 'pretty sure avery johnson lunesta sponsorship', 'text_b': None, 'label': 0}, {'guid': 1756, 'text_a': 'need synthroid something oh goodness gon na mess body', 'text_b': None, 'label': 0}, {'guid': 1765, 'text_a': 'mine kick symbicort wear morning amp night confused asthmatic', 'text_b': None, 'label': 0}, {'guid': 1766, 'text_a': 'lol far getting heathway bacon sandwich morning need get imodium case lool', 'text_b': None, 'label': 0}, {'guid': 1771, 'text_a': 'prob yr ago doc said sleep cycle messed put lunesta month job may need', 'text_b': None, 'label': 0}, {'guid': 1780, 'text_a': 'cnbc tv alert diovan novartis antihypertensive drug', 'text_b': None, 'label': 0}, {'guid': 1783, 'text_a': 'autopsy linert conducted ruled buprenorphine intoxication death fairly new drug testified', 'text_b': None, 'label': 0}, {'guid': 1785, 'text_a': 'damn ten actin like got scrip suboxone', 'text_b': None, 'label': 0}, {'guid': 1793, 'text_a': 'live louisville melting pot allergy agony fluticasone nasal spray singulair save regular', 'text_b': None, 'label': 0}, {'guid': 1799, 'text_a': 'still buy ventolin reliever inhaler counter infuriating stuck limbo without one', 'text_b': None, 'label': 0}, {'guid': 1805, 'text_a': 'seriously take nexium like clockwork mane cant slip', 'text_b': None, 'label': 0}, {'guid': 1810, 'text_a': 'currently fighting metformin medication winning losing terribly', 'text_b': None, 'label': 0}, {'guid': 1811, 'text_a': 'need nexium heart burn killing', 'text_b': None, 'label': 0}, {'guid': 1812, 'text_a': 'vicks rubbing lotion applied fedac cough mixture downed symbicort inhaled please stop bloody waking cough', 'text_b': None, 'label': 0}, {'guid': 1818, 'text_a': 'humira amp remicade drug worked control crohn unfortunately caused', 'text_b': None, 'label': 0}, {'guid': 1824, 'text_a': 'head going explode provider mid level really prescribed darvocet patient fucking god idiot', 'text_b': None, 'label': 0}, {'guid': 1827, 'text_a': 'even efavirenz patient experience side effect certain efavirenz brand active ingredient fine', 'text_b': None, 'label': 0}, {'guid': 1831, 'text_a': 'celecoxib naproxen paracetamol still pain gt lt wooooo sciaticaaaaaa', 'text_b': None, 'label': 0}, {'guid': 1834, 'text_a': 'ti season tamiflu prescription never late get flu shot either', 'text_b': None, 'label': 0}, {'guid': 1836, 'text_a': 'oh love nebulized albuterol aka mg cc normal saline', 'text_b': None, 'label': 0}, {'guid': 1838, 'text_a': 'mildly unhappy gut take imodium head bed', 'text_b': None, 'label': 0}, {'guid': 1842, 'text_a': 'prescribed buprenorphine patch serious alcohol part', 'text_b': None, 'label': 0}, {'guid': 1843, 'text_a': 'watch lose lb week adderall b lose sleep week adderall c mental breakdown final', 'text_b': None, 'label': 0}, {'guid': 1849, 'text_a': 'use suboxone recovering heroin addict fucking idiot', 'text_b': None, 'label': 0}, {'guid': 1858, 'text_a': 'sian brilliant brilliant nasal spray stop hayfever allergy relief fluticasone propionate', 'text_b': None, 'label': 0}, {'guid': 1863, 'text_a': 'mom taking synthroid decade expect thyroid magically recover function one day', 'text_b': None, 'label': 0}, {'guid': 1866, 'text_a': 'levothyroxine im supposed take empty stomach w effexor gah usually take effexor soon get morning', 'text_b': None, 'label': 0}, {'guid': 1871, 'text_a': 'sorry jane prescribe generic sildenafil erect dysfunction nh without sl restriction', 'text_b': None, 'label': 0}, {'guid': 1875, 'text_a': 'thanks pill popping druggie telling get real job bc dr wrote wrong suboxone script amp yes fucking bitch', 'text_b': None, 'label': 0}, {'guid': 1884, 'text_a': 'ik someone voice messed acid reflux messing throat amp amp wan na like amp amp take nexium pregnant', 'text_b': None, 'label': 0}, {'guid': 1891, 'text_a': 'take lunesta couple hit weed trick sunovion pharmaceutical want hear', 'text_b': None, 'label': 0}, {'guid': 1895, 'text_a': 'beginning sound like gemma stop whinging bet imodium sponsoring would give bog minute', 'text_b': None, 'label': 0}, {'guid': 1897, 'text_a': 'avandia lose money lien resolution coming already pathetic check glaxo smith kline', 'text_b': None, 'label': 0}, {'guid': 1898, 'text_a': 'thanks got ta bunch med doc gave tamiflu okay sorry guess last long', 'text_b': None, 'label': 0}, {'guid': 1899, 'text_a': 'vodka redbull drank fast thank god nexium keepin reflux', 'text_b': None, 'label': 0}, {'guid': 1900, 'text_a': 'sue viagra vioxx vaccine damage', 'text_b': None, 'label': 0}, {'guid': 1901, 'text_a': 'crestor sport commercial stupid raise blood pressure coincidence think', 'text_b': None, 'label': 0}, {'guid': 1903, 'text_a': 'nigga oxycontin codeine etc addictive sure amphetamine prescription heroin cancer', 'text_b': None, 'label': 0}, {'guid': 1904, 'text_a': 'synthroid dosage upped pleaaase let help oh god might die nap feeling get daily silly body', 'text_b': None, 'label': 0}, {'guid': 1905, 'text_a': 'vioxx debacle pay billion seems like sufficient disincentive', 'text_b': None, 'label': 0}, {'guid': 1930, 'text_a': 'two rcts chf plus copd patient tiotropium decrease labas increase adverse cv event', 'text_b': None, 'label': 0}, {'guid': 1932, 'text_a': 'medicine like tamoxifen raloxifene used treat increase', 'text_b': None, 'label': 1}, {'guid': 1935, 'text_a': 'pn remicade humira cimzia never bad side effect', 'text_b': None, 'label': 0}, {'guid': 1946, 'text_a': 'whenever apocalypse make stomach feel bit uneasy reach nexium h otc thanks purple pill', 'text_b': None, 'label': 0}, {'guid': 1950, 'text_a': 'im gon na say gave way much miralax hospital', 'text_b': None, 'label': 0}, {'guid': 1956, 'text_a': 'sloshing sound coming belly oh yeah cheap beer metformin', 'text_b': None, 'label': 0}, {'guid': 1957, 'text_a': 'thank much bed day sleeping constantly thankfully oxycodone knocking', 'text_b': None, 'label': 0}, {'guid': 1960, 'text_a': 'ventolin inderal good combination okay would know heart problem lung wth', 'text_b': None, 'label': 0}, {'guid': 1964, 'text_a': 'take mg losartan mild bp mg valsartan kkuh ksu valsartan mg coated unbreakable', 'text_b': None, 'label': 0}, {'guid': 1970, 'text_a': 'giving immodium loperamide weird', 'text_b': None, 'label': 0}, {'guid': 1971, 'text_a': 'ugh threw nuvaring', 'text_b': None, 'label': 0}, {'guid': 1976, 'text_a': 'yeah remicade humira working got inf stay opened wound vac', 'text_b': None, 'label': 0}, {'guid': 1978, 'text_a': 'managed evening loperamide bag anxiety high low stomach churning managed excuse go home early', 'text_b': None, 'label': 0}, {'guid': 1980, 'text_a': 'yeah could imodium mouth complaint', 'text_b': None, 'label': 0}, {'guid': 1982, 'text_a': 'ah see one day advair im bad shape least youve figured way control flare ups feel better', 'text_b': None, 'label': 0}, {'guid': 1996, 'text_a': 'work farrrrr remicade likely complication working crohn humira far', 'text_b': None, 'label': 0}, {'guid': 2000, 'text_a': 'infliximab kept getting perianal abscess developed fistula thats moved onto humira', 'text_b': None, 'label': 0}, {'guid': 2002, 'text_a': 'think nuvaring amp mirena weird form birth control lol', 'text_b': None, 'label': 0}, {'guid': 2006, 'text_a': 'pre aubagio post aubagio tell im lucky get high bp wheres tiny violin im gon na bash doc', 'text_b': None, 'label': 1}, {'guid': 2011, 'text_a': 'ahem over kenneth let vioxx settlement frazier', 'text_b': None, 'label': 0}, {'guid': 2027, 'text_a': 'arna fenfluramine phentermine cause damage heart valve fact', 'text_b': None, 'label': 0}, {'guid': 2038, 'text_a': 'concerned someone slipping ambien lunesta kid candy', 'text_b': None, 'label': 0}, {'guid': 2042, 'text_a': 'lunesta hell hole sleep ni wait never mind', 'text_b': None, 'label': 0}, {'guid': 2045, 'text_a': 'note self remove let nuvaring get warm insertion', 'text_b': None, 'label': 0}, {'guid': 2048, 'text_a': 'ventolin like magic feel like wizard right', 'text_b': None, 'label': 0}, {'guid': 2049, 'text_a': 'lunesta hand yard full leaf feel free come amp get need dry amp crunchy amp like soft amp subtle', 'text_b': None, 'label': 0}, {'guid': 2052, 'text_a': 'meridia crt stratford lift broken since jun please fix someone collapse trying reach flat', 'text_b': None, 'label': 0}, {'guid': 2059, 'text_a': 'ventolin crazy effect walai', 'text_b': None, 'label': 0}, {'guid': 2061, 'text_a': 'bought imodium noticed shitting lot usual today aaron', 'text_b': None, 'label': 0}, {'guid': 2085, 'text_a': 'well put prednisolone got ventolin hopefully ill right worried working', 'text_b': None, 'label': 0}, {'guid': 2089, 'text_a': 'anyone else really bummed cant buy crestor bowling ball', 'text_b': None, 'label': 0}, {'guid': 2099, 'text_a': 'disney song comforting ventolin journey open lung open lung sore right panadol best friend', 'text_b': None, 'label': 0}, {'guid': 2101, 'text_a': 'try humira nothing either remicade taking long time month finally seeing progress', 'text_b': None, 'label': 0}, {'guid': 2102, 'text_a': 'dear nobel prize volcano lava merely mother nature acid reflux throw fistful nexium gullet problem solved welcome', 'text_b': None, 'label': 0}, {'guid': 2108, 'text_a': 'yesterday felt like back fl people paying cash money oxys time suboxone tablet', 'text_b': None, 'label': 0}, {'guid': 2115, 'text_a': 'imodium work trouble dr sorted space filled tablet', 'text_b': None, 'label': 0}, {'guid': 2117, 'text_a': 'vioxx gi complication vioxx mg v naproxen mg bid amp thrombotic event rate vioxx v naproxen', 'text_b': None, 'label': 0}, {'guid': 2119, 'text_a': 'actually can not sleep anywhere besides bed take lunesta', 'text_b': None, 'label': 0}, {'guid': 2121, 'text_a': 'crohn taking humira minute pretty similar drug remicade last try', 'text_b': None, 'label': 0}, {'guid': 2125, 'text_a': 'woman coughing fit burst train commuter tutting moving away given hauling ventolin suspect poor thing poorly', 'text_b': None, 'label': 0}, {'guid': 2132, 'text_a': 'love ice drain elevate rehydrate diclofenac strong mind x', 'text_b': None, 'label': 0}, {'guid': 2134, 'text_a': 'metformin fix fact lose weight magnesium literally different vitamin supposedly', 'text_b': None, 'label': 0}, {'guid': 2140, 'text_a': 'imodium counteracts neighlox', 'text_b': None, 'label': 0}, {'guid': 2141, 'text_a': 'fluid rest guess tamiflu hit hard really fluid rest', 'text_b': None, 'label': 0}, {'guid': 2143, 'text_a': 'cnbc tv alert valsartan used treat high blood pressure', 'text_b': None, 'label': 0}, {'guid': 2146, 'text_a': 'glorious day dog threw carpet gave kid miralax constipation life sexy', 'text_b': None, 'label': 0}, {'guid': 2149, 'text_a': 'love gorgeous burgundy color powdery mouthfeel advair', 'text_b': None, 'label': 1}, {'guid': 2156, 'text_a': 'reminds imodium slogan worry diarrhoea attack coming back ya think pal shat last time', 'text_b': None, 'label': 0}, {'guid': 2159, 'text_a': 'remember much last night except really hate tamiflu really luv friend', 'text_b': None, 'label': 0}, {'guid': 2171, 'text_a': 'swear god candle smell like fluticasone propionate nasal spray', 'text_b': None, 'label': 0}, {'guid': 2189, 'text_a': 'fucking hate fluticasone always end drinking', 'text_b': None, 'label': 0}, {'guid': 2190, 'text_a': 'anyone suggestion tight chest unproductive cough already mucinex albuterol advair fuck garbage', 'text_b': None, 'label': 0}, {'guid': 2197, 'text_a': 'hahaaaaaa highly recommend sildenafil citrate cardiac related issue may cause stiffnessness', 'text_b': None, 'label': 1}, {'guid': 2202, 'text_a': 'ohhhh take tear like crestor floor', 'text_b': None, 'label': 0}, {'guid': 2210, 'text_a': 'oh know side effect remicade humira switched remicade soon', 'text_b': None, 'label': 0}, {'guid': 2211, 'text_a': 'oh god able take shit since imodium dose see praying', 'text_b': None, 'label': 0}, {'guid': 2214, 'text_a': 'saw hoda learned thyroid removed like synthroid help armour u synthroid', 'text_b': None, 'label': 0}, {'guid': 2215, 'text_a': 'amused forever inhaler drug marked hfa flovent people asperger thank good night', 'text_b': None, 'label': 0}, {'guid': 2221, 'text_a': 'adderall weed alcohol go stone sober every week', 'text_b': None, 'label': 0}, {'guid': 2222, 'text_a': 'ratner happened w gsk rosiglitazone severely damaged equipoise asks tide trial', 'text_b': None, 'label': 0}, {'guid': 2224, 'text_a': 'adderall working w e b c strattera pretty high failure rate potentially nasty side effect', 'text_b': None, 'label': 0}, {'guid': 2239, 'text_a': 'nightmare lunesta', 'text_b': None, 'label': 1}, {'guid': 2241, 'text_a': 'frothy nacho aftertaste intense albuterol essence binded chardonnay alkie vineyard direction', 'text_b': None, 'label': 0}, {'guid': 2247, 'text_a': 'knew washed start taking nexium eating hot cheetos', 'text_b': None, 'label': 0}, {'guid': 2252, 'text_a': 'yup med metformin little bit', 'text_b': None, 'label': 0}, {'guid': 2255, 'text_a': 'im guy wera makeup yay altho feeling put wrong xd', 'text_b': None, 'label': 0}, {'guid': 2256, 'text_a': 'think might allergy etanercept unfortunately hoping go away xx', 'text_b': None, 'label': 0}, {'guid': 2261, 'text_a': 'c etanercept feel pain suck illness age work well', 'text_b': None, 'label': 0}, {'guid': 2262, 'text_a': 'suboxone got cloud', 'text_b': None, 'label': 0}, {'guid': 2263, 'text_a': 'okia said conducted autopsy well shes never concluded someone died acute buprenorphine intoxication', 'text_b': None, 'label': 0}, {'guid': 2266, 'text_a': 'really really really wan na get humira much rather take remicade', 'text_b': None, 'label': 0}, {'guid': 2269, 'text_a': 'im tapering suboxone right video helped much thank u blessing world addiction', 'text_b': None, 'label': 0}, {'guid': 2271, 'text_a': 'fave episode sesame street mr noodle put exelon patch treat dementia amp taken away neglectful friend', 'text_b': None, 'label': 0}, {'guid': 2274, 'text_a': 'denosumab biphosphonates painful bone metastasis', 'text_b': None, 'label': 0}, {'guid': 2296, 'text_a': 'dinner served picture tho imma chill let nexium take hold make plate', 'text_b': None, 'label': 0}, {'guid': 2299, 'text_a': 'nuvaring change month still forget haha', 'text_b': None, 'label': 0}, {'guid': 2300, 'text_a': 'thought point sildenafil sp stop break cgmp blocking phosphodiesterases', 'text_b': None, 'label': 0}, {'guid': 2309, 'text_a': 'miralax try make constipated look fun thats point taking damn med', 'text_b': None, 'label': 0}, {'guid': 2319, 'text_a': 'buprenorphine shot sound awful quick recovery', 'text_b': None, 'label': 0}, {'guid': 2320, 'text_a': 'ah yes communion wafer mea culpa etc rt q big arse metformin tablet hate taking lot', 'text_b': None, 'label': 0}, {'guid': 2324, 'text_a': 'watching crestor commercial maybe high cholesterol plaque buildup bowling league', 'text_b': None, 'label': 0}, {'guid': 2332, 'text_a': 'pharmacy pill get liquid tamiflu oh nymgod awful', 'text_b': None, 'label': 0}, {'guid': 2350, 'text_a': 'diclofenac voltarol frozen shoulder murder feeling pain wishing better x', 'text_b': None, 'label': 0}, {'guid': 2354, 'text_a': 'year able enbrel injection tonight gave first time ever', 'text_b': None, 'label': 0}, {'guid': 2358, 'text_a': 'home dr said swine flu weaker strain year ago tamiflu tab give u help fight', 'text_b': None, 'label': 0}, {'guid': 2360, 'text_a': 'advair tripping thier price smh', 'text_b': None, 'label': 0}, {'guid': 2365, 'text_a': 'work slept hour last hour despite lunesta muscle relaxant take bed time', 'text_b': None, 'label': 0}, {'guid': 2368, 'text_a': 'emberton mapped rct dutasteride v placebo reduce size mri lesion low risk pca', 'text_b': None, 'label': 0}, {'guid': 2386, 'text_a': 'ventolin sleep goodnight', 'text_b': None, 'label': 0}, {'guid': 2391, 'text_a': 'filled soooo many tamiflu rx today gotten flu shot kid', 'text_b': None, 'label': 0}, {'guid': 2392, 'text_a': 'alcohol oxycodone make float zone', 'text_b': None, 'label': 0}, {'guid': 2397, 'text_a': 'reduce weight buy rimonabant mg obtain better result', 'text_b': None, 'label': 0}, {'guid': 2400, 'text_a': 'oooops realized take synthroid yet super late', 'text_b': None, 'label': 0}, {'guid': 2404, 'text_a': 'ventolin tab act damn quick', 'text_b': None, 'label': 0}, {'guid': 2407, 'text_a': 'good morning double dose ventolin caffeine bad combo guy', 'text_b': None, 'label': 0}, {'guid': 2413, 'text_a': 'take lunesta tho made friend see double', 'text_b': None, 'label': 1}, {'guid': 2419, 'text_a': 'tue hall b patient frequently experience delay specialist referral often misdiagnosed copd', 'text_b': None, 'label': 0}, {'guid': 2421, 'text_a': 'oh enbrel methotrexate prior agree effective', 'text_b': None, 'label': 1}, {'guid': 2427, 'text_a': 'metformin often drug choice type diabetes multiple benefit le likely cause weight gain', 'text_b': None, 'label': 0}, {'guid': 2428, 'text_a': 'anyone experience humira self injection infliximab infusion either one better', 'text_b': None, 'label': 0}, {'guid': 2434, 'text_a': 'oh follow nuvaring debaclea chick announced pregnancy leaving late last month', 'text_b': None, 'label': 0}, {'guid': 2436, 'text_a': 'anyone else use medication eg painkiller ibs relief imodium etc placebo feel ill sick due anxiety', 'text_b': None, 'label': 0}, {'guid': 2440, 'text_a': 'hate irritable bowel syndrome imodium holopon ran', 'text_b': None, 'label': 0}, {'guid': 2446, 'text_a': 'moved enbrel injection yea drinking sucked', 'text_b': None, 'label': 0}, {'guid': 2453, 'text_a': 'mycyk buprenorphine strip taste like lemon lime easy potential fatal od child unintentional ingestion', 'text_b': None, 'label': 0}, {'guid': 2454, 'text_a': 'laughing much reaching ventolin', 'text_b': None, 'label': 0}, {'guid': 2455, 'text_a': 'applaud bio glad nuvaring malfunctioned', 'text_b': None, 'label': 0}, {'guid': 2458, 'text_a': 'oh yes cheap non convertor nasty levothyroxine dole rationed ndt refused false economylypharmacy', 'text_b': None, 'label': 0}, {'guid': 2459, 'text_a': 'woke early like omg whole day romp around feeling exuberant prozac kicked', 'text_b': None, 'label': 0}, {'guid': 2464, 'text_a': 'nexium mg take love ulcer made stop maloox eso kit lemmi prepare pain', 'text_b': None, 'label': 0}, {'guid': 2468, 'text_a': 'worse xigris study career tenure making data mining nonsense thanks posting', 'text_b': None, 'label': 0}, {'guid': 2469, 'text_a': 'yeah ok maridia bad backwards', 'text_b': None, 'label': 0}, {'guid': 2483, 'text_a': 'wow didnt know advair connection ugh sound icky', 'text_b': None, 'label': 0}, {'guid': 2484, 'text_a': 'liquor liver suboxone tongue private numb one time dying young', 'text_b': None, 'label': 0}, {'guid': 2485, 'text_a': 'took lunesta like minute ago still wide awake wtf', 'text_b': None, 'label': 0}, {'guid': 2486, 'text_a': 'wrong advair mom serious taking even tho doctor suggests tht', 'text_b': None, 'label': 0}, {'guid': 2491, 'text_a': 'really appreciating mom live update chugging miralax morning', 'text_b': None, 'label': 0}, {'guid': 2492, 'text_a': 'maridia w speed ice clip zebetite skip hard', 'text_b': None, 'label': 0}, {'guid': 2494, 'text_a': 'calpol childhood best rt ventolin crazy effect walai', 'text_b': None, 'label': 0}, {'guid': 2502, 'text_a': 'lunesta even fucking know would hour', 'text_b': None, 'label': 0}, {'guid': 2503, 'text_a': 'make medication make poison gardasil fosamax januvia proscar propecia hep b vioxx merck money fuck humanity', 'text_b': None, 'label': 0}, {'guid': 2506, 'text_a': 'give metformin pt transferred floor rn wrote incident report bc hold med give sliding scale uh', 'text_b': None, 'label': 0}, {'guid': 2509, 'text_a': 'hear maxed symbicort salbutamol weird oregano capsule time drastic measure', 'text_b': None, 'label': 0}, {'guid': 2513, 'text_a': 'back pain advil knocked whereas heavy drug like darvocet sleep inducing drug like benedryl even make tired', 'text_b': None, 'label': 0}, {'guid': 2514, 'text_a': 'guess aviva copd since sucking spiriva something', 'text_b': None, 'label': 0}, {'guid': 2515, 'text_a': 'family member milder form virus started imodium first sign symptom though', 'text_b': None, 'label': 0}, {'guid': 2516, 'text_a': 'mostly hate idea taking pill every day even trouble taking synthroid every day', 'text_b': None, 'label': 0}, {'guid': 2531, 'text_a': 'people kill methadone locked suboxone', 'text_b': None, 'label': 0}, {'guid': 2532, 'text_a': 'mama make sure take put nuvaring back think wan na get', 'text_b': None, 'label': 0}, {'guid': 2533, 'text_a': 'crestor cause diabetes google', 'text_b': None, 'label': 1}, {'guid': 2538, 'text_a': 'heard vioxx bad think market sister problem celebrex stand pain back', 'text_b': None, 'label': 0}, {'guid': 2545, 'text_a': 'na meeting doc making go keep getting suboxone', 'text_b': None, 'label': 0}, {'guid': 2547, 'text_a': 'twitterverse delema sleep pop oxycodone might still influence st patient yes', 'text_b': None, 'label': 0}, {'guid': 2550, 'text_a': 'advair month patient literally suffocating body please tell duty shareholder', 'text_b': None, 'label': 0}, {'guid': 2553, 'text_a': 'husband gerald wunsch neuropathy velcade kyprolis maintenance therapy day', 'text_b': None, 'label': 1}, {'guid': 2554, 'text_a': 'dr prescribing adderall go w suboxone basically speedballing addictive drug keep ok', 'text_b': None, 'label': 0}, {'guid': 2559, 'text_a': 'like drinking day except pissing ventolin', 'text_b': None, 'label': 1}, {'guid': 2562, 'text_a': 'acid reflux worst especially night nexium work hour', 'text_b': None, 'label': 0}, {'guid': 2578, 'text_a': 'increase recently amp found level low endo bumping synthroid bit', 'text_b': None, 'label': 0}, {'guid': 2579, 'text_a': 'oh wow progesterone actually inhibits ar well plus avodart casodex spiro metformin testosterone nuked orbit', 'text_b': None, 'label': 0}, {'guid': 2587, 'text_a': 'enbrel year getting worse psa x worse month ago eekk im diagnosed yr', 'text_b': None, 'label': 0}, {'guid': 2593, 'text_a': 'oxycodone got feeling goodddd shit dangerous', 'text_b': None, 'label': 0}, {'guid': 2596, 'text_a': 'hard time imagining park look like eleanor hand reminds meridia brave', 'text_b': None, 'label': 0}, {'guid': 2598, 'text_a': 'hi experiencing symptom described commercial mostly fatigue take crestor hello hello', 'text_b': None, 'label': 0}, {'guid': 2601, 'text_a': 'sending pic miralax mag citrate kick', 'text_b': None, 'label': 0}, {'guid': 2612, 'text_a': 'severe raynaud cause ulcer infection one drug particularly perfect good like sildenafil', 'text_b': None, 'label': 0}, {'guid': 2622, 'text_a': 'symbicort sound like make worse better', 'text_b': None, 'label': 0}, {'guid': 2623, 'text_a': 'tamiflu get wonder never getting flu shot rest', 'text_b': None, 'label': 0}, {'guid': 2639, 'text_a': 'taking advair camera confirm asthma play w thse drug cause pancreatitis evr', 'text_b': None, 'label': 1}, {'guid': 2641, 'text_a': 'severe depression induced rimonabant described frequent one time event', 'text_b': None, 'label': 1}, {'guid': 2642, 'text_a': 'like using generic name brand drug confuse asshole customer oh want flonase mean fluticasone proprionate', 'text_b': None, 'label': 0}, {'guid': 2651, 'text_a': 'thank crazy pulse rate pole mami ventolin crazy effect walai', 'text_b': None, 'label': 0}, {'guid': 2655, 'text_a': 'even mess around poop pain anymore drink whole bottle miralax idc', 'text_b': None, 'label': 0}, {'guid': 2658, 'text_a': 'lmaooooo stoooooop literally laughed loud prune juice really getting job done use miralax', 'text_b': None, 'label': 0}, {'guid': 2661, 'text_a': 'home sick vile cold ventolin totally jam today', 'text_b': None, 'label': 0}, {'guid': 2670, 'text_a': 'lunesta lid fake lash make look sleepy', 'text_b': None, 'label': 0}, {'guid': 2671, 'text_a': 'gotdamn sick rt jesus virtual imodium block shitty lie adrian post amen', 'text_b': None, 'label': 0}, {'guid': 2672, 'text_a': 'quite disappointed cochrane say tamiflu crap response imagine read paper', 'text_b': None, 'label': 0}, {'guid': 2678, 'text_a': 'nsaid celecoxib known inhibit renin synthesis resulting hyporeninemic hypoaldosteronism dec k excretion hyper k', 'text_b': None, 'label': 0}, {'guid': 2679, 'text_a': 'took darvocet h freaked mom one dose flushed', 'text_b': None, 'label': 0}, {'guid': 2680, 'text_a': 'breaking news family woke give flu shot recipient husband tamiflu tylenol', 'text_b': None, 'label': 0}, {'guid': 2684, 'text_a': 'almost never get attack using flovent lose lung capacity efficiency feel exhausted time', 'text_b': None, 'label': 0}, {'guid': 2686, 'text_a': 'tadalafil ur system feel end sight fake rest', 'text_b': None, 'label': 0}, {'guid': 2688, 'text_a': 'want blow business fb put nuvaring today hoping cramp go away', 'text_b': None, 'label': 0}, {'guid': 2697, 'text_a': 'diet metformin keep full licence insulin treated get reduced year', 'text_b': None, 'label': 0}, {'guid': 2703, 'text_a': 'looked etanercept wikipedia sue brain fried hope business though', 'text_b': None, 'label': 0}, {'guid': 2704, 'text_a': 'mixing miralax alcohol probably bad idea', 'text_b': None, 'label': 0}, {'guid': 2705, 'text_a': 'lol saw crestor ad immediately thought lol', 'text_b': None, 'label': 0}, {'guid': 2708, 'text_a': 'gave metformin tendinopathy frozen shoulder talk lot interest expected', 'text_b': None, 'label': 0}, {'guid': 2713, 'text_a': 'find prescribed metformin reduce insulin level pcos doctor always said bc im fat lol', 'text_b': None, 'label': 0}, {'guid': 2717, 'text_a': 'miralax commercial keep playing chopped actually poop graphic poop purple guess make ok', 'text_b': None, 'label': 0}, {'guid': 2731, 'text_a': 'someone close methadone year using top suboxone nearly year using', 'text_b': None, 'label': 0}, {'guid': 2737, 'text_a': 'dopamine earring adrenaline charm bracelet red pemoline eye', 'text_b': None, 'label': 1}, {'guid': 2738, 'text_a': 'couple sexy massage bedtime get slather diclofenac gel slap heat pad', 'text_b': None, 'label': 0}, {'guid': 2742, 'text_a': 'lol well ok thank nexium amp ascension tonight episode exhausting amp exhausting poor mack', 'text_b': None, 'label': 0}, {'guid': 2743, 'text_a': 'science time ever notice experiment demo sildenafil viagra always get roomful smirk snicker', 'text_b': None, 'label': 0}, {'guid': 2746, 'text_a': 'drug vioxx killed k patient fda person said well thats price u pay get good drug market', 'text_b': None, 'label': 0}, {'guid': 2747, 'text_a': 'found diclofenac took today q painkiller u get cancer post operation holy shit nae wunner tuned moon', 'text_b': None, 'label': 1}, {'guid': 2753, 'text_a': 'astounded number kid college dependant adderall right study exam can not believe right', 'text_b': None, 'label': 0}, {'guid': 2754, 'text_a': 'took lunesta hour ago im still wide awake', 'text_b': None, 'label': 0}, {'guid': 2759, 'text_a': 'feel sorry much team name lunesta cause sleeper', 'text_b': None, 'label': 0}, {'guid': 2763, 'text_a': 'never touched chick nuvaring might coming short knocked one loose', 'text_b': None, 'label': 0}, {'guid': 2768, 'text_a': 'exactly get hooked shill suboxone repugnant mt suboxone certified', 'text_b': None, 'label': 0}, {'guid': 2771, 'text_a': 'woman crestor commercial shouting bitch kill vibe', 'text_b': None, 'label': 0}, {'guid': 2772, 'text_a': 'using zelnorm younger irritable bowl sydrome took thing market lol', 'text_b': None, 'label': 0}, {'guid': 2783, 'text_a': 'fantastic news ecstatic enbrel psoriatic arthritis approved moan time nh grateful', 'text_b': None, 'label': 0}, {'guid': 2784, 'text_a': 'could get rid anxiety enbrel matter day til st injection', 'text_b': None, 'label': 0}, {'guid': 2789, 'text_a': 'make u drink stuff mine give pill miralax prep', 'text_b': None, 'label': 0}, {'guid': 2796, 'text_a': 'expensive ccg good old fashioned cheap generic buprenorphine disintegrates pooped', 'text_b': None, 'label': 0}, {'guid': 2808, 'text_a': 'possible take mg nexium everyday still stomach ulcer', 'text_b': None, 'label': 0}, {'guid': 2811, 'text_a': 'feel bad go synthroid', 'text_b': None, 'label': 0}, {'guid': 2812, 'text_a': 'top hill started journey beginning end anyone know tamiflu kick', 'text_b': None, 'label': 0}, {'guid': 2814, 'text_a': 'big lot find lunesta sleeping pill right next condom', 'text_b': None, 'label': 0}, {'guid': 2815, 'text_a': 'mixed miralax bloat wheat look fat tomorrow', 'text_b': None, 'label': 0}, {'guid': 2817, 'text_a': 'confirmed ragweed stinging nettle get fluticasone nasal spray patinol eye drop doc', 'text_b': None, 'label': 0}, {'guid': 2820, 'text_a': 'whe youre struggling breathe great time discover ventolin mostly cough based blocked nose actual lung', 'text_b': None, 'label': 0}, {'guid': 2823, 'text_a': 'okay doctor tried perscribe strattera instead adderall tell strattera work ugh', 'text_b': None, 'label': 0}, {'guid': 2836, 'text_a': 'take child claritin daily x day get sick also flovent x daily', 'text_b': None, 'label': 0}, {'guid': 2846, 'text_a': 'need lose weight amp weird cause focalin time stronger adderall', 'text_b': None, 'label': 0}, {'guid': 2847, 'text_a': 'adding actonel ups bone density epilepsy cme ce', 'text_b': None, 'label': 0}, {'guid': 2848, 'text_a': 'tiotropium asthma increase time st asthma attack day number needed treat', 'text_b': None, 'label': 0}, {'guid': 2849, 'text_a': 'using new jazzy ventolin inhaler must working hand currently shaking like mad still wheezing', 'text_b': None, 'label': 0}, {'guid': 2851, 'text_a': 'dumbfounded discovery walk cooler nuvaring birth control supply sure feel refrigerated birthcontrol', 'text_b': None, 'label': 0}, {'guid': 2854, 'text_a': 'facebook keep giving add suboxone film swear nothing meth', 'text_b': None, 'label': 0}, {'guid': 2861, 'text_a': 'neurobrain adding actonel ups bone density epilepsy cme ce medpage today adding risedronate actonel', 'text_b': None, 'label': 0}, {'guid': 2863, 'text_a': 'really hope last time see cholesterol specialist seriously slacked week crestor', 'text_b': None, 'label': 0}, {'guid': 2868, 'text_a': 'buprenorphine jumped bandwagon made lego', 'text_b': None, 'label': 0}, {'guid': 2871, 'text_a': 'husband never work use discussion board consumer involved avandia lawsuit', 'text_b': None, 'label': 1}, {'guid': 2873, 'text_a': 'watching tv noise channel another way treat rt cnbc tv alert valsartan used treat high blood pressure', 'text_b': None, 'label': 0}, {'guid': 2875, 'text_a': 'imodium mouth quit running', 'text_b': None, 'label': 0}, {'guid': 2878, 'text_a': 'one lady going heroin withdrawal thought back wm even took xanax suboxone def wm moment', 'text_b': None, 'label': 0}, {'guid': 2881, 'text_a': 'someone need find way make ventolin le disgusting breathe foulness aiding situation', 'text_b': None, 'label': 0}, {'guid': 2883, 'text_a': 'really hope guy tamiflu commercial shrunk back normal size guess never know', 'text_b': None, 'label': 0}, {'guid': 2884, 'text_a': 'like heroin want quit suboxone espn', 'text_b': None, 'label': 0}, {'guid': 2896, 'text_a': 'seen much tamiflu past couple day even surprised shivering experiencing ache right sigh', 'text_b': None, 'label': 0}, {'guid': 2897, 'text_a': 'diagnosed month ago im birthcontrol metformin made sick quit cold turkey', 'text_b': None, 'label': 0}, {'guid': 2901, 'text_a': 'rimonabant drug exact opposite effect thc suppressed appetite amp better memory', 'text_b': None, 'label': 0}, {'guid': 2905, 'text_a': 'found miralax chocolate milk imma make take somw reg lax get home', 'text_b': None, 'label': 0}, {'guid': 2909, 'text_a': 'spent year taking metformin pre diabetes never', 'text_b': None, 'label': 0}, {'guid': 2910, 'text_a': 'pregnant woman addicted heroin went hospital get help giving suboxone new dr came refused', 'text_b': None, 'label': 0}, {'guid': 2911, 'text_a': 'wish suboxone taste like shit', 'text_b': None, 'label': 0}, {'guid': 2916, 'text_a': 'someone please pray make day without mental breakdown amp make back home time enbrel nurse', 'text_b': None, 'label': 0}, {'guid': 2918, 'text_a': 'even college student never taken adderall pulled nighter', 'text_b': None, 'label': 0}, {'guid': 2931, 'text_a': 'know lot people jump onto suboxone methadone way abstinence', 'text_b': None, 'label': 0}, {'guid': 2933, 'text_a': 'crestor supposed weird college people went', 'text_b': None, 'label': 0}, {'guid': 2938, 'text_a': 'symbicort kill nigga asthma side affect increased death asthma symptom wtf', 'text_b': None, 'label': 0}, {'guid': 2944, 'text_a': 'whose bright idea stop taking nuvaring oh right mine cramp price pay lmao', 'text_b': None, 'label': 0}, {'guid': 2951, 'text_a': 'brown qb marcus fuller find te alex viox left sideline big gain way georgetown st brown', 'text_b': None, 'label': 0}, {'guid': 2952, 'text_a': 'infusion time great min post observation faster tysabri way faster remicade', 'text_b': None, 'label': 0}, {'guid': 2953, 'text_a': 'okay done tegur jarak antara gap teeth', 'text_b': None, 'label': 0}, {'guid': 2959, 'text_a': 'every patient hcc getting chemo radioembolization get sorafinib tolerable rony avritscher md', 'text_b': None, 'label': 0}, {'guid': 2963, 'text_a': 'need higher dosage suboxone medication stop vomiting diarreah', 'text_b': None, 'label': 0}, {'guid': 2964, 'text_a': 'oh feel ventolin seems overrated haha', 'text_b': None, 'label': 0}, {'guid': 2965, 'text_a': 'really mostly prilosec nexium synthroid med pass wayyy bigger', 'text_b': None, 'label': 0}, {'guid': 2974, 'text_a': 'thought prayer family difficult time diclofenac best friend', 'text_b': None, 'label': 0}, {'guid': 2979, 'text_a': 'oxycodone never made feel like', 'text_b': None, 'label': 0}, {'guid': 2985, 'text_a': 'honestly upped synthroid dose gon na help lot', 'text_b': None, 'label': 0}, {'guid': 2989, 'text_a': 'hung day went daniel suboxone jacob', 'text_b': None, 'label': 0}, {'guid': 2994, 'text_a': 'oh good symbicort commercial whimpering golden retriever sure drive eliot crazy', 'text_b': None, 'label': 0}, {'guid': 3000, 'text_a': 'storm ran xopenex killed tralgdar', 'text_b': None, 'label': 0}, {'guid': 3004, 'text_a': 'lol dude bone killed antacid literally took nexium two minute ago', 'text_b': None, 'label': 0}, {'guid': 3012, 'text_a': 'remember grandpa sat symbicort talk chronic obstructive pulmosis like ad football', 'text_b': None, 'label': 0}, {'guid': 3019, 'text_a': 'kid sitting get fat like dad one need prescribe metformin keep dying', 'text_b': None, 'label': 0}, {'guid': 3039, 'text_a': 'pathetic buy celebrex even lyrica counter lobbyist greed ruin everything melted nation need', 'text_b': None, 'label': 0}, {'guid': 3054, 'text_a': 'order aciphex dog ppl w much money issue amp batt eyelash lol', 'text_b': None, 'label': 0}, {'guid': 3057, 'text_a': 'realized motown music make think crestor similar drug thanks pharmacuetical ad', 'text_b': None, 'label': 0}, {'guid': 3059, 'text_a': 'started super metroid yesterday got ot maridia got mad turned though', 'text_b': None, 'label': 0}, {'guid': 3065, 'text_a': 'fantastic got walking normal ish give time tho took month fully work yay humira enbrel im enbrel', 'text_b': None, 'label': 0}, {'guid': 3067, 'text_a': 'bottle oxycodone send joey harrington calm', 'text_b': None, 'label': 0}, {'guid': 3072, 'text_a': 'detox methadone using suboxone help nh refuse prescribe supervise', 'text_b': None, 'label': 0}, {'guid': 3075, 'text_a': 'major pain pushing bladder ugh intestine enough room looking norethindrone', 'text_b': None, 'label': 0}, {'guid': 3079, 'text_a': 'thank u got offered humira infliximab keen either ha hate medication', 'text_b': None, 'label': 0}, {'guid': 3081, 'text_a': 'much miralax turn anyones back', 'text_b': None, 'label': 0}, {'guid': 3085, 'text_a': 'resp specialist think focus much copd pay enough attention co morbidity contributing symptom', 'text_b': None, 'label': 0}, {'guid': 3088, 'text_a': 'advair steroid inhaler use twice day cause allergic dog in cover u spain ecu', 'text_b': None, 'label': 0}, {'guid': 3089, 'text_a': 'lunesta hand great day started family time ended family time', 'text_b': None, 'label': 0}, {'guid': 3098, 'text_a': 'fluticasone work great spring summer time year lack humidity fluticasone make worse lol', 'text_b': None, 'label': 0}, {'guid': 3110, 'text_a': 'awkward moment guy accidentally pull nuvaring', 'text_b': None, 'label': 0}, {'guid': 3111, 'text_a': 'jesus christ symptom serious side effect whatever hell crestor symptom pancreatic cancer', 'text_b': None, 'label': 1}, {'guid': 3112, 'text_a': 'never needed insulin either started metformin janumet brought normal', 'text_b': None, 'label': 0}, {'guid': 3115, 'text_a': 'trying keep football game difficult influence oxycodone', 'text_b': None, 'label': 1}, {'guid': 3130, 'text_a': 'lol okay bae cold though sure imodium would help xxx', 'text_b': None, 'label': 0}, {'guid': 3139, 'text_a': 'johnson cariaso go round ufc going put manufacturer ambien lunesta business', 'text_b': None, 'label': 0}, {'guid': 3148, 'text_a': 'incredible new discovery today diclofenac pint perfect painkiller broken rib', 'text_b': None, 'label': 0}, {'guid': 3152, 'text_a': 'age amp time bring ventolin inhaler use amp people start staring like poo hand nonsense', 'text_b': None, 'label': 0}, {'guid': 3161, 'text_a': 'yes pyloric stenosis bad acid reflux take nexium daily', 'text_b': None, 'label': 0}, {'guid': 3162, 'text_a': 'following progress artplague chest infection using le ventolin breathing lot easier power', 'text_b': None, 'label': 0}, {'guid': 3164, 'text_a': 'mine severe risedronate many yr ago comparing zoledronic acid iv biphosphonate amp newest med denosumab shot', 'text_b': None, 'label': 0}, {'guid': 3167, 'text_a': 'crestor linked numerous case severe muscle breakdown kidney toxicity death citizen asks fda ban', 'text_b': None, 'label': 0}, {'guid': 3170, 'text_a': 'question everything put body', 'text_b': None, 'label': 0}, {'guid': 3180, 'text_a': 'diclofenac also gastro issue give ace tramadol', 'text_b': None, 'label': 1}, {'guid': 3186, 'text_a': 'sorry chf avandia amp broken leg oh sending positivity amp comfort friend', 'text_b': None, 'label': 0}, {'guid': 3192, 'text_a': 'diclofenac mg tds settled usually dos wean compliant', 'text_b': None, 'label': 0}, {'guid': 3206, 'text_a': 'fellow chrons sufferer ive started humira self injection azathioprene infliximab made poorly', 'text_b': None, 'label': 0}, {'guid': 3208, 'text_a': 'fen phen vioxx viagra took sue get mmr dtap hep b get injured go special court lucky', 'text_b': None, 'label': 0}, {'guid': 3211, 'text_a': 'stared lunesta moment called precious gollum voice taking might weird maybe', 'text_b': None, 'label': 0}, {'guid': 3212, 'text_a': 'cut suboxone half time really xanax thing could help cut shit fuck', 'text_b': None, 'label': 0}, {'guid': 3213, 'text_a': 'ventolin taste funny tho', 'text_b': None, 'label': 0}, {'guid': 3216, 'text_a': 'kind moot imo bc nobody giving sulfa drug taking celebrex lamictal unless get rash back', 'text_b': None, 'label': 1}, {'guid': 3219, 'text_a': 'ty yes enbrel back track restarting mtx injection dz activity high hope recover quickly w', 'text_b': None, 'label': 0}, {'guid': 3230, 'text_a': 'bedtime daytime atorvastatin rosuvastatin amp pitavastatin may given time day longer half life', 'text_b': None, 'label': 0}, {'guid': 3232, 'text_a': 'ventolin inhaler bought counter chemist hot humid weather trigger attack stressful situation', 'text_b': None, 'label': 0}, {'guid': 3233, 'text_a': 'yeah advair like month almost panic attack switch', 'text_b': None, 'label': 0}, {'guid': 3245, 'text_a': 'shitting back almost normal dose miralax hour ago dump frequent', 'text_b': None, 'label': 0}, {'guid': 3249, 'text_a': 'flu pharmacist told take tamiflu wrong last week flu shot work sick mad hell', 'text_b': None, 'label': 0}, {'guid': 3254, 'text_a': 'adderall reading every ingredient everything thought eating today', 'text_b': None, 'label': 0}, {'guid': 3260, 'text_a': 'right getting low dose pred doc want consider humira since remicade stopped working', 'text_b': None, 'label': 1}, {'guid': 3261, 'text_a': 'doctor understand two aciphex day touching acid lately wonder freaking', 'text_b': None, 'label': 0}, {'guid': 3268, 'text_a': 'really pretty good night terror take miralax day bowel movement like day', 'text_b': None, 'label': 0}, {'guid': 3291, 'text_a': 'think ventolin shit working', 'text_b': None, 'label': 1}, {'guid': 3292, 'text_a': 'metformin day newly diagnosed diabetes man knocking crap', 'text_b': None, 'label': 0}, {'guid': 3293, 'text_a': 'hmm lunesta appears ineffective yet twitter feed sound asleep', 'text_b': None, 'label': 0}, {'guid': 3295, 'text_a': 'think crestor guy worse', 'text_b': None, 'label': 0}, {'guid': 3297, 'text_a': 'methadone suboxone kind thing drawback general superior', 'text_b': None, 'label': 0}, {'guid': 3299, 'text_a': 'sunday well originally told minute actonel', 'text_b': None, 'label': 0}, {'guid': 3302, 'text_a': 'took enbrel yesterday course broke fever today fucking course even worth', 'text_b': None, 'label': 0}, {'guid': 3303, 'text_a': 'ship engineering la eh actually se subject paling tough antara tiga sub tu', 'text_b': None, 'label': 0}, {'guid': 3312, 'text_a': 'aranesp one scariest thing ever encounter many reason', 'text_b': None, 'label': 0}, {'guid': 3313, 'text_a': 'ugh enbrel day know better wednesday always really bad day', 'text_b': None, 'label': 0}, {'guid': 3315, 'text_a': 'synthroid helped much since switched longer freezing hashimotos symptom tired', 'text_b': None, 'label': 0}, {'guid': 3317, 'text_a': 'took nexium feel burnies', 'text_b': None, 'label': 0}, {'guid': 3318, 'text_a': 'record tamiflu actually help much make last le time seemingly also supposedly really dodgy', 'text_b': None, 'label': 0}, {'guid': 3325, 'text_a': 'girl u probably constipated take miralax amp stool softener take lo', 'text_b': None, 'label': 0}, {'guid': 3334, 'text_a': 'oh mylanta bicarb gi indigestion new level responder also rx gtn albuterol neb', 'text_b': None, 'label': 0}, {'guid': 3338, 'text_a': 'finally got enbrel shot pain anymore', 'text_b': None, 'label': 0}, {'guid': 3342, 'text_a': 'well difference olmesartan control hypertension many pt valsartan fails incremental', 'text_b': None, 'label': 0}, {'guid': 3347, 'text_a': 'woke cant breath thanks taking away advair worked penny pinching costing health', 'text_b': None, 'label': 0}, {'guid': 3349, 'text_a': 'taking much imodium gon na give worse problem', 'text_b': None, 'label': 0}, {'guid': 3351, 'text_a': 'heroin substitute hit new high methadone use fall use expensive heroin substitute suboxone increased fold sc', 'text_b': None, 'label': 0}, {'guid': 3352, 'text_a': 'trying quit cigarette like suboxone taper likely going work', 'text_b': None, 'label': 0}, {'guid': 3357, 'text_a': 'called suboxone clinic work turn special hour cause also spa weight loss clinic hair salon', 'text_b': None, 'label': 0}, {'guid': 3369, 'text_a': 'boy said took imodium headache', 'text_b': None, 'label': 0}, {'guid': 3371, 'text_a': 'imodium treat fat tummy', 'text_b': None, 'label': 0}, {'guid': 3373, 'text_a': 'w synthroid morning im supposed wait least min preferably hour eating drinking esp caffeine', 'text_b': None, 'label': 0}, {'guid': 3381, 'text_a': 'tamiflu commercial make giggle every single time everything tiny lol idk', 'text_b': None, 'label': 0}, {'guid': 3389, 'text_a': 'lunesta kick time go sle', 'text_b': None, 'label': 0}, {'guid': 3392, 'text_a': 'heeey tomorrow daily news crazy suboxone fiend running wild kensington', 'text_b': None, 'label': 0}, {'guid': 3393, 'text_a': 'tamiflu cold beginning flu', 'text_b': None, 'label': 0}, {'guid': 3394, 'text_a': 'permax rt case missed danny welbeck going arsenal good luck welbo', 'text_b': None, 'label': 0}, {'guid': 3396, 'text_a': 'bloody diclofenac need kick believe flared', 'text_b': None, 'label': 0}, {'guid': 3403, 'text_a': 'hi well taking aubagio anymore honestly feel better psoriasis gone know sure good', 'text_b': None, 'label': 0}, {'guid': 3406, 'text_a': 'really think taking miralax pregnant caused kid autism guess really fix stupid', 'text_b': None, 'label': 0}, {'guid': 3407, 'text_a': 'nighters deepening connection great conversation overly friendly cat inducing asthma allergy indian food benadryl amp advair', 'text_b': None, 'label': 0}, {'guid': 3413, 'text_a': 'nigga said shit loading imodium choppa drum roll em aw nigga crazy please dnt approach em', 'text_b': None, 'label': 0}, {'guid': 3417, 'text_a': 'pregabalin higher dose ibruprofen amp esomeprazole combination zonks', 'text_b': None, 'label': 1}, {'guid': 3424, 'text_a': 'oral buprenorphine hemiadipate rapid dosing reduced cost reduced diversion risk viscosity enhancer amp gelling agent', 'text_b': None, 'label': 0}, {'guid': 3425, 'text_a': 'definitely loose three week supply suboxone', 'text_b': None, 'label': 0}, {'guid': 3429, 'text_a': 'also get bad trouble miralax mixed juice pediatrician recommended', 'text_b': None, 'label': 0}, {'guid': 3432, 'text_a': 'anyone take metformin get put sliding scale lispro pt npo sx reason q hr check', 'text_b': None, 'label': 0}, {'guid': 3435, 'text_a': 'gave oxycontin oxycodone breakthrough plus guy chronic alcoholic x', 'text_b': None, 'label': 0}, {'guid': 3438, 'text_a': 'thanks oh meant cried like baby enbrel hand nurse amp let im scardy cat', 'text_b': None, 'label': 0}, {'guid': 3442, 'text_a': 'gone call today see atleast give stronger dose advair cause fucking w prednisone', 'text_b': None, 'label': 0}, {'guid': 3443, 'text_a': 'careful flu going around tamiflu work treated within hour', 'text_b': None, 'label': 0}, {'guid': 3452, 'text_a': 'completed fourth enbrel injection stomach time bad though going', 'text_b': None, 'label': 0}, {'guid': 3456, 'text_a': 'previous w u cva hypercoaguable w u incomplete echo bubble study carotid u stenosis patient compliant w asa aggrenox', 'text_b': None, 'label': 0}, {'guid': 3458, 'text_a': 'probably help etanercept leaf feeling like death majority day exhausted leeds tri sunday', 'text_b': None, 'label': 0}, {'guid': 3459, 'text_a': 'haha girl yaked saying suck dick adderall', 'text_b': None, 'label': 0}, {'guid': 3460, 'text_a': 'tech pp told afraid boyfriend gon na accidentally rip nuvaring dick big', 'text_b': None, 'label': 0}, {'guid': 3461, 'text_a': 'us heroin suboxone help control urge matt ozminkowski uhh wtf stupid logic idiot', 'text_b': None, 'label': 0}, {'guid': 3463, 'text_a': 'sensible move total ban would workable inhaler e g ventolin create false positive blood test confirms', 'text_b': None, 'label': 0}, {'guid': 3467, 'text_a': 'series tweet regarding oxycodone prescription stop appendix cavity catching fire', 'text_b': None, 'label': 0}, {'guid': 3473, 'text_a': 'asthma since primary school needed ventolin spring crazytown', 'text_b': None, 'label': 0}, {'guid': 3474, 'text_a': 'torrent pharma get tentative u fda nod hypertension drug amlodipine amp valsartan', 'text_b': None, 'label': 0}, {'guid': 3482, 'text_a': 'try rigmaroling always work taiwan method tricky u guy ventolin tho macerate ukidhani unaslice', 'text_b': None, 'label': 0}, {'guid': 3488, 'text_a': 'withdrawal anymore plan staying suboxone longer month plan weening', 'text_b': None, 'label': 0}, {'guid': 3489, 'text_a': 'urologist got put vesicare cut back number time wake pee per night wet sneezig etc', 'text_b': None, 'label': 0}, {'guid': 3499, 'text_a': 'take doctor tell take little loperamide possible since crohn cause toxic megacolon', 'text_b': None, 'label': 0}, {'guid': 3502, 'text_a': 'eg metformin reduces b suppressing hepatitic glucose release increase insulin release would ineffective', 'text_b': None, 'label': 0}, {'guid': 3517, 'text_a': 'think suboxone like methadone opiate cross brain make u high', 'text_b': None, 'label': 0}, {'guid': 3526, 'text_a': 'like said quarter per se said call made advair weakness seem lien structural change', 'text_b': None, 'label': 0}, {'guid': 3527, 'text_a': 'carbamazepine phenytoin gabapentin amp pregabalin exacerbate generalized seizure syndrome', 'text_b': None, 'label': 0}, {'guid': 3528, 'text_a': 'wonder know claimed mil saving would atorvastatin take another per cent cut oct', 'text_b': None, 'label': 0}, {'guid': 3545, 'text_a': 'two month third go around enbrel treat psoriasis take two week break though due flu high fever', 'text_b': None, 'label': 0}, {'guid': 3553, 'text_a': 'told go buy tamiflu get sick', 'text_b': None, 'label': 0}, {'guid': 3558, 'text_a': 'jesus close left metformin desk amp maxx nearly ate want spend saturday night kitty cat er', 'text_b': None, 'label': 0}, {'guid': 3560, 'text_a': 'want take lunesta go comatose grade sleep', 'text_b': None, 'label': 0}, {'guid': 3561, 'text_a': 'im giving side eye death cavernous snatch spit nuvaring like nerf gun left', 'text_b': None, 'label': 0}, {'guid': 3564, 'text_a': 'nexium may increase risk getting severe diarrhea', 'text_b': None, 'label': 1}, {'guid': 3570, 'text_a': 'went run tonight never felt run freely naturally speechless etanercept working really hope', 'text_b': None, 'label': 0}, {'guid': 3571, 'text_a': 'heart palpitating anything double dose welbutrin double metformin amp double gabapentin sure make special mix', 'text_b': None, 'label': 0}, {'guid': 3574, 'text_a': 'even hr w buprenorphine start feeling stupidly unwell hate reliant pain med', 'text_b': None, 'label': 0}, {'guid': 3583, 'text_a': 'got tha pump talkin ventolin shit sweet unless setem wit cinnamon n hottest bar hotter remm', 'text_b': None, 'label': 0}, {'guid': 3593, 'text_a': 'wash nexium diet coke walking contradiction', 'text_b': None, 'label': 0}, {'guid': 3616, 'text_a': 'acomplia rimonabant slimming tablet shrink weigh hpl', 'text_b': None, 'label': 0}, {'guid': 3620, 'text_a': 'adderall caffeine tell feeling adderall caffeine one oh god', 'text_b': None, 'label': 0}, {'guid': 3622, 'text_a': 'munchies miralax', 'text_b': None, 'label': 0}, {'guid': 3636, 'text_a': 'hi much symbicort good self asking friend sure dosage', 'text_b': None, 'label': 0}, {'guid': 3643, 'text_a': 'consciousness obnoxious im suboxone tryna talk get shit poppin', 'text_b': None, 'label': 0}, {'guid': 3644, 'text_a': 'ventolin attacked defeated sugar eater', 'text_b': None, 'label': 0}, {'guid': 3650, 'text_a': 'smith q credibility statement exelon verge shutdown oyster creek dodge', 'text_b': None, 'label': 0}, {'guid': 3651, 'text_a': 'last night video chatted lunesta haze see hear knew weird', 'text_b': None, 'label': 1}, {'guid': 3654, 'text_a': 'ranolazine reduce recurrence cardioversion role combo drug center experience good', 'text_b': None, 'label': 0}, {'guid': 3656, 'text_a': 'started enbrel try help ra gotten bad dramatically lower immune system', 'text_b': None, 'label': 0}, {'guid': 3658, 'text_a': 'unless thought metformin acutely drop b caddy thing everyone hate er', 'text_b': None, 'label': 0}, {'guid': 3661, 'text_a': 'hi martina ra year struggled work life last year taken etanercept enbrel heard', 'text_b': None, 'label': 0}, {'guid': 3666, 'text_a': 'guess losing lb psoriasis psoriatic arthritis go remission amp mo enbrel placebo', 'text_b': None, 'label': 0}, {'guid': 3667, 'text_a': 'try loperamide anti diarrhea otc calm ur stomach regard quiet ur body ache u amp make u sweepy', 'text_b': None, 'label': 0}, {'guid': 3672, 'text_a': 'took oxycodone still pain', 'text_b': None, 'label': 0}, {'guid': 3674, 'text_a': 'yeah two year ago kind adderall fiend bit least good grade', 'text_b': None, 'label': 0}, {'guid': 3679, 'text_a': 'even lunesta take hour fall asleep body sleep', 'text_b': None, 'label': 0}, {'guid': 3687, 'text_a': 'hand exelon patch exelon tablet available', 'text_b': None, 'label': 1}, {'guid': 3689, 'text_a': 'increment bmd romosozumab switched denosumab yr', 'text_b': None, 'label': 0}, {'guid': 3694, 'text_a': 'completely agree oxycodone strong shit many mg taking amp often chel', 'text_b': None, 'label': 0}, {'guid': 3701, 'text_a': 'habituales passionate albuterol aroma fetid marigold flavor entangled bordeaux toad meadow winery performing', 'text_b': None, 'label': 0}, {'guid': 3707, 'text_a': 'used time back day day crestor water bedtime', 'text_b': None, 'label': 0}, {'guid': 3708, 'text_a': 'actually dead jealous wanted go age look forward hearing get presume lot imodium', 'text_b': None, 'label': 0}, {'guid': 3710, 'text_a': 'mommy flu stupid pharmacist told take tamiflu wrong last week flu shot work', 'text_b': None, 'label': 0}, {'guid': 3716, 'text_a': 'rx misplaced stolen cost advair completely unreasonable need filled cost', 'text_b': None, 'label': 0}, {'guid': 3719, 'text_a': 'anyone el use flovent think waste money', 'text_b': None, 'label': 0}, {'guid': 3723, 'text_a': 'thought addy turned lunesta', 'text_b': None, 'label': 0}, {'guid': 3724, 'text_a': 'x x rt rt pretty sure song nuvaring rt baby feel halo', 'text_b': None, 'label': 0}, {'guid': 3729, 'text_a': 'good news used new asthma inhaler immediately die panic attack ggwp ventolin', 'text_b': None, 'label': 0}, {'guid': 3738, 'text_a': 'used much ventolin tonight made asthma bad', 'text_b': None, 'label': 0}, {'guid': 3743, 'text_a': 'tamiflu killed best friend wouldnt want anyone use shit', 'text_b': None, 'label': 1}, {'guid': 3745, 'text_a': 'enbrel sureclick finished needle retracted instinctively pushed back idk went amp finished', 'text_b': None, 'label': 0}, {'guid': 3751, 'text_a': 'glipizide cause low bgs metformin cause gi distress', 'text_b': None, 'label': 0}, {'guid': 3753, 'text_a': 'hope better soon sorry tamiflu work glad anything weird bad side effect', 'text_b': None, 'label': 1}, {'guid': 3754, 'text_a': 'awake ate delay lunesta bit', 'text_b': None, 'label': 0}, {'guid': 3757, 'text_a': 'said pre asthma symptom hello ventolin antihistamine', 'text_b': None, 'label': 0}, {'guid': 3761, 'text_a': 'feel like need get lunesta drop drink stay asleep lol', 'text_b': None, 'label': 0}, {'guid': 3762, 'text_a': 'cop claim felt gun rumain pocket shot twice torso turn gun bottle oxycodone pill', 'text_b': None, 'label': 0}, {'guid': 3767, 'text_a': 'heartburn bad refuse take nexium', 'text_b': None, 'label': 0}, {'guid': 3787, 'text_a': 'stomach hurting like shit feel dirty hell sign showerrrrrrr n miralax', 'text_b': None, 'label': 0}, {'guid': 3791, 'text_a': 'sometimes want feel skinnier take bunch miralax chia seed put water hope regret tomorrow', 'text_b': None, 'label': 0}, {'guid': 3792, 'text_a': 'trying study midterm taking oxycontin oxycodone best idea', 'text_b': None, 'label': 1}, {'guid': 3806, 'text_a': 'someone snap chatted asking needed adderall final lol', 'text_b': None, 'label': 0}, {'guid': 3808, 'text_a': 'yuengling lunesta still sleep', 'text_b': None, 'label': 0}, {'guid': 3815, 'text_a': 'sick day took tamiflu cause sick', 'text_b': None, 'label': 0}]\n"
          ]
        }
      ],
      "source": [
        "result_under = Bert_evaluation(test_text, data_test[\"label\"],model_under)"
      ]
    },
    {
      "cell_type": "code",
      "execution_count": null,
      "metadata": {
        "colab": {
          "base_uri": "https://localhost:8080/"
        },
        "id": "uWnAWyUVI-h2",
        "outputId": "1557dad0-c436-4dd2-808f-7da3e1f5daf2"
      },
      "outputs": [
        {
          "output_type": "stream",
          "name": "stdout",
          "text": [
            "Precision:  0.1936842105263158\n",
            "Recall:  0.7863247863247863\n",
            "F1-score:  0.3108108108108108\n"
          ]
        }
      ],
      "source": [
        "precision, recall, f1_score = Bert_result(result_under)\n",
        "print(\"Precision: \", precision)\n",
        "print(\"Recall: \", recall)\n",
        "print(\"F1-score: \", f1_score)"
      ]
    },
    {
      "cell_type": "markdown",
      "metadata": {
        "id": "vqJMQ_R1VKhl"
      },
      "source": [
        "#### OverSampling"
      ]
    },
    {
      "cell_type": "code",
      "execution_count": null,
      "metadata": {
        "colab": {
          "base_uri": "https://localhost:8080/",
          "height": 820,
          "referenced_widgets": [
            "c81249e562044c78be301bdb957e2e77",
            "1e04dbfd58d2430aaff20ffbbbd18b12",
            "e70d2c9dc18947e9be2217120b761236",
            "c1cbab25368640e8960d33cff5c2b5f3",
            "56cc8b9cf11442e79f87ced6f2a00e81",
            "1924b2e67a9c4d88b271632bf73c40e6",
            "aa7156e358e747daa5543da1ae9ea7ce",
            "352c61a3796c43418e0744976c127134",
            "4c9ba31810c7456e95b86f9d952f9483",
            "3b50e6e98a6349a1b03277c805566968",
            "10ba0508cb864c56a5d0dba8925b13ac",
            "ebeef977120947cf93ce3113c0c6fac8",
            "f6b2944c534742559aa705dcf3157cc1",
            "e2dcf043cb164bf58f662e35714a7f76",
            "62abc01e11c34febb65439f8eabb0d6f",
            "b2a97278d14d4a9b9beb6e92a0078cea",
            "fc6ce068248e46cfb44000d65f88e039",
            "f0854cfdf7fb4f80bbed90ec1f07446e",
            "6b04b247b5ba48fabb405d0ddf0c8efa",
            "2b5456a867c54ee0970170949fbb6a1a",
            "b96d431892e442479dfc3624dc720791",
            "119a54fb815c4cc396eadb40eb3bf3fc",
            "e6f85e83d8514529846a7b9f0fe1c2dd",
            "0f94b0f18aee455695c4330664b8460d",
            "a0b303eab71d47eca8fec67a04a44bdb",
            "3ebbd6091ab9475db57ecd50b3f2eb2a",
            "d6d30c448da84e3fb679cc56431c46a0",
            "c8d156deaf2f466493087676f5dbfa96",
            "486cd040d36b4a9493281ebd673f7b55",
            "ed99163eefe44d2f8764065ef866a131",
            "b1abf4d393214abfbcfa112baff10d26",
            "e6faf356b9aa4efcbb0567d295ecd83d",
            "8d80c081e7714058a05a62e58c70ed7c",
            "0bf7208ba09347c685515c4810206f96",
            "c0d8364e5094455d9700cc7210655313",
            "cc6fce48c3e848428c5a09491fd0cb2c",
            "ce4358ce453940bb9a53f9a5616bde5b",
            "cd62d4cf518a4056aa4c2391f3f1d474",
            "2296ba509d924b71a7b3541e99b26a78",
            "a7144872a5f44bfdbc303d54763c8b50",
            "a385f30310644bc99bc93088ffdcac9f",
            "2957c1f90dfb456791e1259db6e4cfd4",
            "ae9f24fe9f4f4388896f96ad9c40e2f6",
            "4ce52b9271e14d3ba187782eb2255e25",
            "fff87db970984859b04801e3bac37935",
            "39acb804339a4c268c17e1a25a4527e2",
            "8a4055e92f6943fe8a780218501ddfaa",
            "d621d775f70046b4b688e429b21b1d96",
            "14cc234f365c41908c5a9c8d06207e55",
            "04c915a062b047588acbeb664bf5c0e0",
            "79d0332da1f345918c5f189b9a2c0cf4",
            "42d0956b01f64ce6a3c14218719ec7cd",
            "88a2901430a74dc5b4ba5f11627694f1",
            "6c2881fa2f634851a937de94db21f6b7",
            "356a63a825b145e081efc58f8602cb43",
            "ba4998c8fd764723971a5da135b23447",
            "455b53ea37fd4f7d942d2fe814116078",
            "eb8aa64ae9644ab5860503bd0d97cd3b",
            "0e02e9114a9e41368b03be8c81ab0722",
            "48a208e083eb4865a33866bd520031d2",
            "3eec8e7037d2464b9b7d7a7f273e6158",
            "bd857ad6fbf240419eb0a5ebcefdfb96",
            "19b20cb65e75461789b2548843ca173c",
            "adeea55c93d54b3bba1ab979ef85f51e",
            "f6253d8abd854a3685de41c9444c9f74",
            "1567f4c48566411fb25073b81cce58cb",
            "616767885b514509ac6f9c1ce3cc809a",
            "45a513a1cc71478fa292b8a96fb8b4c5",
            "a1497714204f46f99bd034e1f2e86c08",
            "412128e8b3254e77bbac2844f00f96e5",
            "178301f506584418887d255a665791fe",
            "c233b6a53ad343d2a911b852f145ff34",
            "41de38d0da0f4c01b9a09de4f521b7cc",
            "8b501da54b654b7c8840447d66e5a120",
            "8e3540af18a441079b70b16e07ae554b",
            "5d33ae75342c4dd980bc5aba04e71cc8",
            "2f70520d7c4d415b92c6d2df56b24a98",
            "3a47f5ca95e94078a38aa3b70c0a8ad0",
            "92b771e3f4834e13a8791b9504e768a3",
            "c0466c2a9b2c4577b0e6b2603ce51838",
            "27bd83c2398945559d640b54462983b0",
            "33dfe0b8bef744b49e331c311016a8d2",
            "57543257876e4d0587aafb6660eda249",
            "4060f667b3f146f4a3455819fc720c5f",
            "3c9845c9f7504a99a73511a827e31d22",
            "ee7db926648b49119a4997aea26190a5",
            "9c0b0b694c3d492b80c0501aaa159857",
            "3cf2410614bc41268e453b8742da2fba",
            "15b36696f40c470ca42b0ced1a15e557",
            "5a3d69ff88c54ab09639fb42e2deae21",
            "084b0096be564aa79cb9505b8f435baf",
            "bfb6720c202e42918b829ff060c586a3",
            "909b32b7bdf142c888217ccff90f76ef",
            "09a2b1b0b6684b87b1244c94eff234a7",
            "baa0371749a442ffa5b44309fde327f6",
            "bfaaeea26a3d4109bb9c319008a7d379",
            "aa16e5451b404f1e81a15e478dcc2715",
            "22587758288c45d2a39dfbba2a4dc6f3",
            "687593ab032f48d09f86579e11081ce7",
            "ec5be20f627e49b5bce99ca275cff794",
            "dfc73853ad374fd198c5d362cf261fe8",
            "c32939413c0940679e835aa14fe92d00",
            "5e2e3bfa3c9a480b9ba0f5f66363dcbb",
            "5e0759a2741e492f92d39c0545cbe6a5",
            "d2b199cc771a48fda1eaa201eaaf8c23",
            "a9602b996d334d629440b77edd6fed1a",
            "2ffed7dd79654124ab3de966da7dfe1b",
            "9c6363c2e4454636b899c3c7930cf1e4",
            "11163054f29d45318869380f1ac87cba",
            "4e75a1d169454c3b8a729e41d8a91d27",
            "4862122c94914154b2176311ac77c851",
            "51d3acb3796c48aa8a412b7146b384ee",
            "139ebef68b5a4b65bd0c27e6c7fa6aa9",
            "8e10e0d386e9423db22a2312c0f96e1c",
            "7c5541c6455646e086c50640e6388840",
            "2a21b5b1422b42d4a753d10f4ba25090",
            "a5909d315a79499d92f44b05c9f26a3a",
            "85a58d0146784dea83c7a3cefd5f1020",
            "7fa8cb07c5954014b210ffc6740141f2",
            "2eab8732d8724bee91bc760cef766022",
            "83b5c853ef164092a78b48244b320b24",
            "035a3ed5bd90459cac2341489cac30fa",
            "4748ec21545e49a5b52300ed96f9f648",
            "704514d4fcf940bf9ec84f2cb5e9a89f",
            "968112b3f9774d56b6275e643e5138ca",
            "466ecd84686246a799a64d39229ebd5c",
            "bf172dd643e54894aa6380e05891a0f7",
            "b205e4c7d11e44f4829f93120ef44d8f",
            "3cc7ba7a63ef4302bfd14f23fc30a386",
            "547215c68cfc4e6e87eb4ff5d7d8e583",
            "e75feeab281848579b53efbc68a73e2c",
            "f73d75014dc64132ae435e891a446b24"
          ]
        },
        "id": "DegUkH6kV-iX",
        "outputId": "157f8f0c-a82c-4abc-8ee6-8e28a723ec83"
      },
      "outputs": [
        {
          "output_type": "stream",
          "name": "stdout",
          "text": [
            "<bound method DataFrame.info of                                                     text  label\n",
            "0                    pd sertraline v fluoxetine make bet      0\n",
            "1      trazodone gave son sleep aid drs see latest re...      0\n",
            "2      ohhh nicotine valium vicodin marijuana ecstasy...      0\n",
            "3      take seroquel day wan na friend reply notice g...      0\n",
            "4                                                 aw pls      0\n",
            "...                                                  ...    ...\n",
            "14581     swear thia cymbalta causing horrible nightmare      1\n",
            "14582  first try lovely pharmies lt cant cum feel num...      1\n",
            "14583  depakote made feel flat help many zyprexa caus...      1\n",
            "14584  yeah sure symbicort cause depression sad hitti...      1\n",
            "14585          seroquel aka wake waste half day sleeping      1\n",
            "\n",
            "[14586 rows x 2 columns]>\n"
          ]
        },
        {
          "output_type": "stream",
          "name": "stderr",
          "text": [
            "Some weights of the model checkpoint at bert-base-cased were not used when initializing BertForSequenceClassification: ['cls.predictions.transform.LayerNorm.weight', 'cls.predictions.transform.LayerNorm.bias', 'cls.seq_relationship.bias', 'cls.predictions.bias', 'cls.predictions.transform.dense.bias', 'cls.predictions.transform.dense.weight', 'cls.seq_relationship.weight', 'cls.predictions.decoder.weight']\n",
            "- This IS expected if you are initializing BertForSequenceClassification from the checkpoint of a model trained on another task or with another architecture (e.g. initializing a BertForSequenceClassification model from a BertForPreTraining model).\n",
            "- This IS NOT expected if you are initializing BertForSequenceClassification from the checkpoint of a model that you expect to be exactly identical (initializing a BertForSequenceClassification model from a BertForSequenceClassification model).\n",
            "Some weights of BertForSequenceClassification were not initialized from the model checkpoint at bert-base-cased and are newly initialized: ['classifier.weight', 'classifier.bias']\n",
            "You should probably TRAIN this model on a down-stream task to be able to use it for predictions and inference.\n",
            "/usr/local/lib/python3.7/dist-packages/simpletransformers/classification/classification_model.py:586: UserWarning: Dataframe headers not specified. Falling back to using column 0 as text and column 1 as labels.\n",
            "  \"Dataframe headers not specified. Falling back to using column 0 as text and column 1 as labels.\"\n"
          ]
        },
        {
          "output_type": "display_data",
          "data": {
            "text/plain": [
              "  0%|          | 0/14586 [00:00<?, ?it/s]"
            ],
            "application/vnd.jupyter.widget-view+json": {
              "version_major": 2,
              "version_minor": 0,
              "model_id": "c81249e562044c78be301bdb957e2e77"
            }
          },
          "metadata": {}
        },
        {
          "output_type": "stream",
          "name": "stderr",
          "text": [
            "/usr/local/lib/python3.7/dist-packages/transformers/optimization.py:309: FutureWarning: This implementation of AdamW is deprecated and will be removed in a future version. Use the PyTorch implementation torch.optim.AdamW instead, or set `no_deprecation_warning=True` to disable this warning\n",
            "  FutureWarning,\n"
          ]
        },
        {
          "output_type": "display_data",
          "data": {
            "text/plain": [
              "Epoch:   0%|          | 0/10 [00:00<?, ?it/s]"
            ],
            "application/vnd.jupyter.widget-view+json": {
              "version_major": 2,
              "version_minor": 0,
              "model_id": "ebeef977120947cf93ce3113c0c6fac8"
            }
          },
          "metadata": {}
        },
        {
          "output_type": "display_data",
          "data": {
            "text/plain": [
              "Running Epoch 0 of 10:   0%|          | 0/1824 [00:00<?, ?it/s]"
            ],
            "application/vnd.jupyter.widget-view+json": {
              "version_major": 2,
              "version_minor": 0,
              "model_id": "e6f85e83d8514529846a7b9f0fe1c2dd"
            }
          },
          "metadata": {}
        },
        {
          "output_type": "display_data",
          "data": {
            "text/plain": [
              "Running Epoch 1 of 10:   0%|          | 0/1824 [00:00<?, ?it/s]"
            ],
            "application/vnd.jupyter.widget-view+json": {
              "version_major": 2,
              "version_minor": 0,
              "model_id": "0bf7208ba09347c685515c4810206f96"
            }
          },
          "metadata": {}
        },
        {
          "output_type": "display_data",
          "data": {
            "text/plain": [
              "Running Epoch 2 of 10:   0%|          | 0/1824 [00:00<?, ?it/s]"
            ],
            "application/vnd.jupyter.widget-view+json": {
              "version_major": 2,
              "version_minor": 0,
              "model_id": "fff87db970984859b04801e3bac37935"
            }
          },
          "metadata": {}
        },
        {
          "output_type": "display_data",
          "data": {
            "text/plain": [
              "Running Epoch 3 of 10:   0%|          | 0/1824 [00:00<?, ?it/s]"
            ],
            "application/vnd.jupyter.widget-view+json": {
              "version_major": 2,
              "version_minor": 0,
              "model_id": "ba4998c8fd764723971a5da135b23447"
            }
          },
          "metadata": {}
        },
        {
          "output_type": "display_data",
          "data": {
            "text/plain": [
              "Running Epoch 4 of 10:   0%|          | 0/1824 [00:00<?, ?it/s]"
            ],
            "application/vnd.jupyter.widget-view+json": {
              "version_major": 2,
              "version_minor": 0,
              "model_id": "616767885b514509ac6f9c1ce3cc809a"
            }
          },
          "metadata": {}
        },
        {
          "output_type": "display_data",
          "data": {
            "text/plain": [
              "Running Epoch 5 of 10:   0%|          | 0/1824 [00:00<?, ?it/s]"
            ],
            "application/vnd.jupyter.widget-view+json": {
              "version_major": 2,
              "version_minor": 0,
              "model_id": "3a47f5ca95e94078a38aa3b70c0a8ad0"
            }
          },
          "metadata": {}
        },
        {
          "output_type": "display_data",
          "data": {
            "text/plain": [
              "Running Epoch 6 of 10:   0%|          | 0/1824 [00:00<?, ?it/s]"
            ],
            "application/vnd.jupyter.widget-view+json": {
              "version_major": 2,
              "version_minor": 0,
              "model_id": "15b36696f40c470ca42b0ced1a15e557"
            }
          },
          "metadata": {}
        },
        {
          "output_type": "display_data",
          "data": {
            "text/plain": [
              "Running Epoch 7 of 10:   0%|          | 0/1824 [00:00<?, ?it/s]"
            ],
            "application/vnd.jupyter.widget-view+json": {
              "version_major": 2,
              "version_minor": 0,
              "model_id": "ec5be20f627e49b5bce99ca275cff794"
            }
          },
          "metadata": {}
        },
        {
          "output_type": "display_data",
          "data": {
            "text/plain": [
              "Running Epoch 8 of 10:   0%|          | 0/1824 [00:00<?, ?it/s]"
            ],
            "application/vnd.jupyter.widget-view+json": {
              "version_major": 2,
              "version_minor": 0,
              "model_id": "4862122c94914154b2176311ac77c851"
            }
          },
          "metadata": {}
        },
        {
          "output_type": "display_data",
          "data": {
            "text/plain": [
              "Running Epoch 9 of 10:   0%|          | 0/1824 [00:00<?, ?it/s]"
            ],
            "application/vnd.jupyter.widget-view+json": {
              "version_major": 2,
              "version_minor": 0,
              "model_id": "035a3ed5bd90459cac2341489cac30fa"
            }
          },
          "metadata": {}
        }
      ],
      "source": [
        "model_over = Bert_classification(over_train_text, over_train.copy())"
      ]
    },
    {
      "cell_type": "code",
      "execution_count": null,
      "metadata": {
        "colab": {
          "base_uri": "https://localhost:8080/",
          "height": 292,
          "referenced_widgets": [
            "1bfa9e2a5f2e4f5a9fea68afb914ce49",
            "f56828fd0137414098e22e4bf588ed7a",
            "26eaa6f33e034576934e3c729dc4e715",
            "00790f60715a49feb2b98a175806e43e",
            "e1877b30ec8f4768a8f2d3132222cb3d",
            "a86553a3e2904622b23f31c303b079f3",
            "5b889c968c45486285f217081ee74eae",
            "c04fe0480db64f4aae3f46e9f5500729",
            "1fbaa7b64db3418eb5397bd5a5aee374",
            "d324dad8bc974279ae0d3b9050a110e5",
            "e00fad76e3b74b218b8c67b77ad6ddab",
            "800067b4506f4fd88947817a4606d9a2",
            "90d2d6f5875c47c79872ae56704d8e82",
            "0d1b7d244b3b405f8422d8473aff6f25",
            "31b47f358099479fba252aafc70c31ee",
            "3828f4ca59d241a2beb267ed7f091f32",
            "d3d06d00a6ca4faebaa62ad2b6320a8b",
            "6d843c4a1c1c4c61afb97b3616224595",
            "0d978adccc5f47cb80a13f88395df306",
            "d9e685e29bd7495aa47c87e0b4cc3f7f",
            "3775c572eec54b84ae0e9984a72e4f48",
            "0dbac6d14b084ecf81bb85b5f16a08b7"
          ]
        },
        "id": "1vz0Eip0ielv",
        "outputId": "098c36d7-6380-4e19-95d9-5c58c10301fe"
      },
      "outputs": [
        {
          "output_type": "stream",
          "name": "stderr",
          "text": [
            "/usr/local/lib/python3.7/dist-packages/simpletransformers/classification/classification_model.py:1427: UserWarning: Dataframe headers not specified. Falling back to using column 0 as text and column 1 as labels.\n",
            "  \"Dataframe headers not specified. Falling back to using column 0 as text and column 1 as labels.\"\n"
          ]
        },
        {
          "output_type": "display_data",
          "data": {
            "text/plain": [
              "  0%|          | 0/3819 [00:00<?, ?it/s]"
            ],
            "application/vnd.jupyter.widget-view+json": {
              "version_major": 2,
              "version_minor": 0,
              "model_id": "1bfa9e2a5f2e4f5a9fea68afb914ce49"
            }
          },
          "metadata": {}
        },
        {
          "output_type": "display_data",
          "data": {
            "text/plain": [
              "Running Evaluation:   0%|          | 0/478 [00:00<?, ?it/s]"
            ],
            "application/vnd.jupyter.widget-view+json": {
              "version_major": 2,
              "version_minor": 0,
              "model_id": "800067b4506f4fd88947817a4606d9a2"
            }
          },
          "metadata": {}
        },
        {
          "output_type": "stream",
          "name": "stdout",
          "text": [
            "{'mcc': 0.3282701803546608, 'tp': 85, 'tn': 3443, 'fp': 142, 'fn': 149, 'auroc': 0.7674856059793299, 'auprc': 0.28235276266987863, 'eval_loss': 0.28262569382397074}\n",
            "[[ 1.43847656 -2.00585938]\n",
            " [ 1.45507812 -2.04101562]\n",
            " [ 1.49902344 -1.95996094]\n",
            " ...\n",
            " [ 1.48535156 -2.015625  ]\n",
            " [ 1.38574219 -1.984375  ]\n",
            " [ 1.50097656 -2.0234375 ]]\n",
            "[{'guid': 11, 'text_a': 'stoma think tap today even though lot loperamide eaten anything make upset', 'text_b': None, 'label': 0}, {'guid': 16, 'text_a': 'heart burn since got dexilant filled eating spicy thing', 'text_b': None, 'label': 0}, {'guid': 23, 'text_a': 'obese woman pcos regimen liraglutide metformin lifestyle change significant weight loss', 'text_b': None, 'label': 1}, {'guid': 40, 'text_a': 'ash fighting mucositis past stool past hour gave mag citrate miralax pumping fluid plz', 'text_b': None, 'label': 0}, {'guid': 92, 'text_a': 'wave suboxone much better withdrawal let put like thank', 'text_b': None, 'label': 0}, {'guid': 98, 'text_a': 'enbrel fucking hurt', 'text_b': None, 'label': 1}, {'guid': 116, 'text_a': 'arm mostly recovered still hurt taking oxycodone comfortable back pc stuff taking break', 'text_b': None, 'label': 0}, {'guid': 129, 'text_a': 'sound like happened imuran quite cut humira nothing remicade hlpd little', 'text_b': None, 'label': 0}, {'guid': 155, 'text_a': 'know take oxycodone recreationally mean love make hurt rn pain nothing else', 'text_b': None, 'label': 0}, {'guid': 160, 'text_a': 'remicade hope humira work get rid dry skin thts problem far', 'text_b': None, 'label': 1}, {'guid': 167, 'text_a': 'enbrel joke never taken side effect terrible plenty natural herb heal side effect', 'text_b': None, 'label': 1}, {'guid': 171, 'text_a': 'binge watching upstairs downstairs netflix hurrah enbrel power lift ridiculous fatigue', 'text_b': None, 'label': 1}, {'guid': 214, 'text_a': 'suffered severe reaction infliximab th one stop humira next step uk', 'text_b': None, 'label': 1}, {'guid': 265, 'text_a': 'higher back normal synthroid dose mean cold sensitivity seems returning need bulk fingerless glove proper sweater', 'text_b': None, 'label': 0}, {'guid': 273, 'text_a': 'cough medicine codeine breathing treatment pro air symbicort steroid sleep amp still fucking breathe', 'text_b': None, 'label': 1}, {'guid': 303, 'text_a': 'anyone enbrel get red circular rash around injection site year', 'text_b': None, 'label': 1}, {'guid': 310, 'text_a': 'spiriva adcom study copd specific protocol language sudden death acute cv condition excluded unstable pt', 'text_b': None, 'label': 1}, {'guid': 325, 'text_a': 'trying ventolin make really nervy', 'text_b': None, 'label': 1}, {'guid': 365, 'text_a': 'yeah mine mine recommended aubagio bc fewer side effect side effect namely diarrhea lol', 'text_b': None, 'label': 1}, {'guid': 371, 'text_a': 'flow vent advair help much make shaky', 'text_b': None, 'label': 1}, {'guid': 385, 'text_a': 'weed high trust lol im oxycontin oxycodone', 'text_b': None, 'label': 1}, {'guid': 388, 'text_a': 'jim saved buprenorphine patch like miracle drug lower back first time since pain', 'text_b': None, 'label': 0}, {'guid': 396, 'text_a': 'slept hour probably little something adderall got like', 'text_b': None, 'label': 1}, {'guid': 400, 'text_a': 'anti seizure drug ezogabine decline alcohol consumption', 'text_b': None, 'label': 0}, {'guid': 403, 'text_a': 'alright januvia medication heard sound like genovia', 'text_b': None, 'label': 0}, {'guid': 426, 'text_a': 'feeling ok gave ventolin', 'text_b': None, 'label': 0}, {'guid': 444, 'text_a': 'energy level back time velcade today start', 'text_b': None, 'label': 1}, {'guid': 445, 'text_a': 'put nose thing til stopped feeling light headed amp steroid open lung xopenex treatment hr', 'text_b': None, 'label': 0}, {'guid': 456, 'text_a': 'use instead humira stop taking year ago also tried remicade use', 'text_b': None, 'label': 0}, {'guid': 458, 'text_a': 'asthma sufferer though bad know feel btw use advair', 'text_b': None, 'label': 0}, {'guid': 473, 'text_a': 'adderall hell drug', 'text_b': None, 'label': 0}, {'guid': 476, 'text_a': 'plus must eat took diclofenac empty stomach never', 'text_b': None, 'label': 0}, {'guid': 502, 'text_a': 'difficulty breathing come im back nebulizer ventolin asthma', 'text_b': None, 'label': 0}, {'guid': 508, 'text_a': 'celecoxib long term increase risk stroke', 'text_b': None, 'label': 1}, {'guid': 543, 'text_a': 'bisphosphonares actonel raise bone density make brittle example glass dense brittle', 'text_b': None, 'label': 1}, {'guid': 559, 'text_a': 'physical dependence addiction people taper suboxone fast fact taper slowly bad', 'text_b': None, 'label': 0}, {'guid': 560, 'text_a': 'going week nasty cough dr sure causing trying advair prednisone want healthy', 'text_b': None, 'label': 0}, {'guid': 581, 'text_a': 'fact talked minute last night remember proof lunesta really work', 'text_b': None, 'label': 1}, {'guid': 630, 'text_a': 'hollaren week intranasal fluticasone small decrease cm year growth velocity compared placebo', 'text_b': None, 'label': 0}, {'guid': 633, 'text_a': 'apparently unexpected good night sleep red pepper hummus triscuit better lunesta valium combined knocked', 'text_b': None, 'label': 0}, {'guid': 640, 'text_a': 'med humira number infliximab never really helped developed reaction people', 'text_b': None, 'label': 1}, {'guid': 645, 'text_a': 'diclofenac since sugery du repaired year ago faint laparotomy scar', 'text_b': None, 'label': 0}, {'guid': 650, 'text_a': 'giving percocet treat vicodin withdrawal good example need easier md access buprenorphine', 'text_b': None, 'label': 1}, {'guid': 673, 'text_a': 'shit diclofenac blood pressure best friend', 'text_b': None, 'label': 1}, {'guid': 682, 'text_a': 'sorry u lost ur loved one medication related anaphylaxis mother vioxx casualty went looking vibrant grave', 'text_b': None, 'label': 1}, {'guid': 708, 'text_a': 'enbrel quit working tried humira remicade orencia infusion none worked next cimzia', 'text_b': None, 'label': 0}, {'guid': 745, 'text_a': 'pain feeling right go away oxycodone x heal scar', 'text_b': None, 'label': 0}, {'guid': 759, 'text_a': 'diet pill make focused sick need adderall change life think', 'text_b': None, 'label': 0}, {'guid': 771, 'text_a': 'okay suboxone see ur threr day face itch lol', 'text_b': None, 'label': 1}, {'guid': 813, 'text_a': 'good luck insomniac lately even lunesta working sleep tight gorgeous', 'text_b': None, 'label': 0}, {'guid': 832, 'text_a': 'still hurt even worse honestly taken oxycodone help', 'text_b': None, 'label': 0}, {'guid': 842, 'text_a': 'accidentally stepped lunesta moth thing huge flew like nothing happened', 'text_b': None, 'label': 0}, {'guid': 843, 'text_a': 'etanercept enbrel got pen preservative sting mix gt', 'text_b': None, 'label': 1}, {'guid': 866, 'text_a': 'know lot people flovent ee yr old us pulmicort biggest debate med food elimination', 'text_b': None, 'label': 1}, {'guid': 874, 'text_a': 'actually think caught early tamiflu work magic amp hr nap afternoon', 'text_b': None, 'label': 0}, {'guid': 876, 'text_a': 'enbrel right starting mtx til november know hungover feeling though hope get better u', 'text_b': None, 'label': 1}, {'guid': 915, 'text_a': 'period horrible mean get often nuvaring feel like dying', 'text_b': None, 'label': 0}, {'guid': 930, 'text_a': 'vyvanse fuck man way hell one never taken focalin tho', 'text_b': None, 'label': 1}, {'guid': 932, 'text_a': 'oh metformin love hate relationship feel like death', 'text_b': None, 'label': 1}, {'guid': 938, 'text_a': 'diclofenac give serious heart burn', 'text_b': None, 'label': 1}, {'guid': 954, 'text_a': 'ndt literally saved life levothyroxine like poison thyroid need', 'text_b': None, 'label': 1}, {'guid': 991, 'text_a': 'tit ventolin morning', 'text_b': None, 'label': 1}, {'guid': 995, 'text_a': 'pretty sure metformin trying kill', 'text_b': None, 'label': 0}, {'guid': 1001, 'text_a': 'crawled bed electric blanket oxycodone taken tv relaxing amp pain helping bliss', 'text_b': None, 'label': 0}, {'guid': 1004, 'text_a': 'atorvastatin medication cause weight loss', 'text_b': None, 'label': 0}, {'guid': 1010, 'text_a': 'asthma sufferer gasping dying breath say albuterol saved life x', 'text_b': None, 'label': 0}, {'guid': 1012, 'text_a': 'sold natural drug sibutramine banned fda risk stroke amp heart attack', 'text_b': None, 'label': 1}, {'guid': 1030, 'text_a': 'think oxycodone past day average codeine addict yet still numb pain', 'text_b': None, 'label': 0}, {'guid': 1058, 'text_a': 'oh put nose forgotten awful cold infliximab prevents golimumab', 'text_b': None, 'label': 0}, {'guid': 1066, 'text_a': 'tip little upset stomach kit packed antacid pepto imodium never know', 'text_b': None, 'label': 0}, {'guid': 1072, 'text_a': 'another note future self diclofenac work wonder careful burn arm feel anything anymore like', 'text_b': None, 'label': 1}, {'guid': 1077, 'text_a': 'welp got wisdom teeth pulled fucking pain oxycodone friend goodnight', 'text_b': None, 'label': 0}, {'guid': 1092, 'text_a': 'slimming tablet reductil product ame', 'text_b': None, 'label': 0}, {'guid': 1103, 'text_a': 'drs multiple painkiller almost killed bextra vioxx fentanyl relafen crash test patient', 'text_b': None, 'label': 1}, {'guid': 1108, 'text_a': 'cool buprenorphine patch started pregabalin tablet finger crossed hubby gabapentin back', 'text_b': None, 'label': 0}, {'guid': 1128, 'text_a': 'day one increased synthroid joint pain left foot mightily improved totally tired lt', 'text_b': None, 'label': 0}, {'guid': 1138, 'text_a': 'weekly etanercept last night working better methotrexate', 'text_b': None, 'label': 1}, {'guid': 1144, 'text_a': 'starting imodium routine favorite drug', 'text_b': None, 'label': 1}, {'guid': 1146, 'text_a': 'anti inflammatory painkiller like diclofenac sometimes called non steroidal anti inflammatorydrugs nsaid anti inflammatories', 'text_b': None, 'label': 0}, {'guid': 1149, 'text_a': 'gi gave choice one try first started humira remicade turn', 'text_b': None, 'label': 0}, {'guid': 1151, 'text_a': 'gastro issue much taking nexium nausea med', 'text_b': None, 'label': 0}, {'guid': 1152, 'text_a': 'wish felt like eating regularly metformin depression good thing lost weight despite butter tart', 'text_b': None, 'label': 0}, {'guid': 1165, 'text_a': 'oxycodone gelatine capsule grr wish veggie amp naproxen kind stomach coating amp take hour', 'text_b': None, 'label': 0}, {'guid': 1183, 'text_a': 'symbicort may increase chance lung infection osteoperosis eye problem nothing major right oh dont forget asthma related death', 'text_b': None, 'label': 0}, {'guid': 1203, 'text_a': 'lunesta better woke daze take sleeping pill horrible', 'text_b': None, 'label': 1}, {'guid': 1207, 'text_a': 'remicade year worked wonder humira far good good luck mri', 'text_b': None, 'label': 0}, {'guid': 1213, 'text_a': 'dream rct bortezomib antibody mediated kidney disease v standard therapy', 'text_b': None, 'label': 0}, {'guid': 1214, 'text_a': 'seeing mascara laden face literally caused reach ventolin excitement du bist ein spinner', 'text_b': None, 'label': 0}, {'guid': 1268, 'text_a': 'ohgawd keep reading hearing metformin diarrhea horror story lol', 'text_b': None, 'label': 1}, {'guid': 1271, 'text_a': 'lying bed listening li l pickle pot coughing sleep despite cough syrup ventolin bed', 'text_b': None, 'label': 0}, {'guid': 1311, 'text_a': 'watching crestor guy make blood pressure spike', 'text_b': None, 'label': 0}, {'guid': 1320, 'text_a': 'ugh cramp atorvastatin awful', 'text_b': None, 'label': 1}, {'guid': 1340, 'text_a': 'enbrel monday even coffee still tired going get sleep newsletter later today', 'text_b': None, 'label': 1}, {'guid': 1347, 'text_a': 'seriously stomach watch nexium go mg higher', 'text_b': None, 'label': 0}, {'guid': 1380, 'text_a': 'difficult losing weight especially pcos first started dr put metformin help weight', 'text_b': None, 'label': 0}, {'guid': 1383, 'text_a': 'well saw episode medical show gave xigris severe septic shock ludicrous', 'text_b': None, 'label': 0}, {'guid': 1389, 'text_a': 'gon na need dr note dr told drink plenty water advair give headache', 'text_b': None, 'label': 1}, {'guid': 1397, 'text_a': 'drug oxycodone stop hurting', 'text_b': None, 'label': 0}, {'guid': 1400, 'text_a': 'enbrel ad actually make laugh loud every time see moderate severe plaque psoriasis yeah someone say', 'text_b': None, 'label': 0}, {'guid': 1405, 'text_a': 'alendronate important cause pill esophagitis osteoporosis give raloxifene instead', 'text_b': None, 'label': 1}, {'guid': 1436, 'text_a': 'made year diet exercise entered middle high school started lose dose adderall', 'text_b': None, 'label': 0}, {'guid': 1441, 'text_a': 'fair took adderall last week amp wrote paper socialism basically blacked writing amp think socialist', 'text_b': None, 'label': 1}, {'guid': 1481, 'text_a': 'like teriflunomide mg tablet called aubagio hair fall eating month', 'text_b': None, 'label': 1}, {'guid': 1488, 'text_a': 'question enbrel user normal injection site become bit tender amp red', 'text_b': None, 'label': 1}, {'guid': 1521, 'text_a': 'almost thing happen stomach acid coming slept probably gave rabeprazole sodium', 'text_b': None, 'label': 0}, {'guid': 1544, 'text_a': 'rimonabant associated short term memory loss', 'text_b': None, 'label': 1}, {'guid': 1545, 'text_a': 'extensive squamous cell carcinoma skin related use sorafenib treatment flt mutant acute myeloid leukemia diagnosis', 'text_b': None, 'label': 1}, {'guid': 1560, 'text_a': 'ace news x extavia skin reaction painful thinking gluten free see go x', 'text_b': None, 'label': 1}, {'guid': 1579, 'text_a': 'year old logic tamiflu rare side effect hallucination weird night', 'text_b': None, 'label': 1}, {'guid': 1606, 'text_a': 'year vioxx withdrawn shock wave still felt pv system', 'text_b': None, 'label': 0}, {'guid': 1607, 'text_a': 'pretty sure getting straight eyeliner wing impossible dose ventolin', 'text_b': None, 'label': 1}, {'guid': 1617, 'text_a': 'back baby ankle taped ventolin bushfire smoke blazing aussie sun im back', 'text_b': None, 'label': 0}, {'guid': 1620, 'text_a': 'metformin potential cause nausea loose stool etc potential side effect', 'text_b': None, 'label': 1}, {'guid': 1630, 'text_a': 'gt gt gt adderall stop chewing piece gum', 'text_b': None, 'label': 1}, {'guid': 1661, 'text_a': 'wow crazy told u nothing worry never remicade humira dumb side effect tho', 'text_b': None, 'label': 0}, {'guid': 1663, 'text_a': 'important counselling point sildenafil swallow tablet full glass water quickly may cause stiff neck', 'text_b': None, 'label': 1}, {'guid': 1665, 'text_a': 'tried getting opiate amp seem withdrawal awful early take suboxone', 'text_b': None, 'label': 0}, {'guid': 1682, 'text_a': 'derek connolly statin atorvastatin cause bad dream suggest patient take day amp night help good', 'text_b': None, 'label': 1}, {'guid': 1695, 'text_a': 'friendship since childhood believe ventolin seretide decided work', 'text_b': None, 'label': 1}, {'guid': 1700, 'text_a': 'damn sleepy today wonder avodart kicking getting rid last dht', 'text_b': None, 'label': 1}, {'guid': 1705, 'text_a': 'may right hpv found cc point shot may cause serious harm like vioxx caused many', 'text_b': None, 'label': 1}, {'guid': 1718, 'text_a': 'tried licking answer call doctor house cant stop coughing without ventolin really annoying', 'text_b': None, 'label': 0}, {'guid': 1735, 'text_a': 'whilst palpitating thanks ventolin', 'text_b': None, 'label': 1}, {'guid': 1743, 'text_a': 'plan bed sleeping til least pm wishin lunesta guess bunch otc sleep aid', 'text_b': None, 'label': 0}, {'guid': 1767, 'text_a': 'taking gilenya sit well went new lesion trying aubagio blood test first tho', 'text_b': None, 'label': 1}, {'guid': 1790, 'text_a': 'year ago darvocet post surgery made suicidal loss control mind frightening', 'text_b': None, 'label': 1}, {'guid': 1791, 'text_a': 'buprenorphine fan still tend hesitate due cost also comfortable methadone rx amp dosing', 'text_b': None, 'label': 0}, {'guid': 1809, 'text_a': 'white doesnt help suboxone withdrawal force nature strong dont discriminate', 'text_b': None, 'label': 1}, {'guid': 1810, 'text_a': 'currently fighting metformin medication winning losing terribly', 'text_b': None, 'label': 0}, {'guid': 1812, 'text_a': 'vicks rubbing lotion applied fedac cough mixture downed symbicort inhaled please stop bloody waking cough', 'text_b': None, 'label': 0}, {'guid': 1818, 'text_a': 'humira amp remicade drug worked control crohn unfortunately caused', 'text_b': None, 'label': 0}, {'guid': 1830, 'text_a': 'med completely legal stoked vyvanse cause strattera worsening depression', 'text_b': None, 'label': 1}, {'guid': 1843, 'text_a': 'watch lose lb week adderall b lose sleep week adderall c mental breakdown final', 'text_b': None, 'label': 0}, {'guid': 1844, 'text_a': 'feel like nuvaring making super bitchy', 'text_b': None, 'label': 1}, {'guid': 1908, 'text_a': 'ugh lunesta worst aftertaste ever forgot use peppermint oil tonight', 'text_b': None, 'label': 1}, {'guid': 1928, 'text_a': 'husband suffered many health problem avandia longer work company want pay million', 'text_b': None, 'label': 1}, {'guid': 1932, 'text_a': 'medicine like tamoxifen raloxifene used treat increase', 'text_b': None, 'label': 1}, {'guid': 1935, 'text_a': 'pn remicade humira cimzia never bad side effect', 'text_b': None, 'label': 0}, {'guid': 1938, 'text_a': 'get lipitor hurt bad even get bed changed crestor bad ur prayer', 'text_b': None, 'label': 1}, {'guid': 1945, 'text_a': 'least u admit rt thing nuvaring turn emotionally unstable bitch', 'text_b': None, 'label': 1}, {'guid': 1946, 'text_a': 'whenever apocalypse make stomach feel bit uneasy reach nexium h otc thanks purple pill', 'text_b': None, 'label': 0}, {'guid': 1957, 'text_a': 'thank much bed day sleeping constantly thankfully oxycodone knocking', 'text_b': None, 'label': 0}, {'guid': 1960, 'text_a': 'ventolin inderal good combination okay would know heart problem lung wth', 'text_b': None, 'label': 0}, {'guid': 1969, 'text_a': 'got miralax serve headache', 'text_b': None, 'label': 1}, {'guid': 1974, 'text_a': 'iggy slowly practicing necromancy meridia stop', 'text_b': None, 'label': 0}, {'guid': 1975, 'text_a': 'time tamiflu b broke hive', 'text_b': None, 'label': 1}, {'guid': 2000, 'text_a': 'infliximab kept getting perianal abscess developed fistula thats moved onto humira', 'text_b': None, 'label': 0}, {'guid': 2006, 'text_a': 'pre aubagio post aubagio tell im lucky get high bp wheres tiny violin im gon na bash doc', 'text_b': None, 'label': 1}, {'guid': 2013, 'text_a': 'methotrexate side effect awful enbrel kill say good methotrexate', 'text_b': None, 'label': 1}, {'guid': 2027, 'text_a': 'arna fenfluramine phentermine cause damage heart valve fact', 'text_b': None, 'label': 0}, {'guid': 2040, 'text_a': 'go digging thingy ventolin bleck', 'text_b': None, 'label': 0}, {'guid': 2047, 'text_a': 'fils albuterol rx tough boy', 'text_b': None, 'label': 0}, {'guid': 2049, 'text_a': 'lunesta hand yard full leaf feel free come amp get need dry amp crunchy amp like soft amp subtle', 'text_b': None, 'label': 0}, {'guid': 2051, 'text_a': 'hereee run half asleep pjs hair wreck thanks dude adderall save life', 'text_b': None, 'label': 1}, {'guid': 2052, 'text_a': 'meridia crt stratford lift broken since jun please fix someone collapse trying reach flat', 'text_b': None, 'label': 0}, {'guid': 2071, 'text_a': 'also use anti inflammatory cream difflam diclofenac help painful muscle soft tissue pain', 'text_b': None, 'label': 0}, {'guid': 2107, 'text_a': 'wow amp thought enbrel burned', 'text_b': None, 'label': 1}, {'guid': 2112, 'text_a': 'thanks sharing dude issue w nausea strattera im debate b w vyvanse side effect', 'text_b': None, 'label': 1}, {'guid': 2119, 'text_a': 'actually can not sleep anywhere besides bed take lunesta', 'text_b': None, 'label': 0}, {'guid': 2121, 'text_a': 'crohn taking humira minute pretty similar drug remicade last try', 'text_b': None, 'label': 0}, {'guid': 2125, 'text_a': 'woman coughing fit burst train commuter tutting moving away given hauling ventolin suspect poor thing poorly', 'text_b': None, 'label': 0}, {'guid': 2134, 'text_a': 'metformin fix fact lose weight magnesium literally different vitamin supposedly', 'text_b': None, 'label': 0}, {'guid': 2141, 'text_a': 'fluid rest guess tamiflu hit hard really fluid rest', 'text_b': None, 'label': 0}, {'guid': 2143, 'text_a': 'cnbc tv alert valsartan used treat high blood pressure', 'text_b': None, 'label': 0}, {'guid': 2149, 'text_a': 'love gorgeous burgundy color powdery mouthfeel advair', 'text_b': None, 'label': 1}, {'guid': 2161, 'text_a': 'fucking hate advair might get put albuterol good heart blood pressure long term', 'text_b': None, 'label': 1}, {'guid': 2190, 'text_a': 'anyone suggestion tight chest unproductive cough already mucinex albuterol advair fuck garbage', 'text_b': None, 'label': 0}, {'guid': 2197, 'text_a': 'hahaaaaaa highly recommend sildenafil citrate cardiac related issue may cause stiffnessness', 'text_b': None, 'label': 1}, {'guid': 2202, 'text_a': 'ohhhh take tear like crestor floor', 'text_b': None, 'label': 0}, {'guid': 2205, 'text_a': 'enbrel year stopped working', 'text_b': None, 'label': 1}, {'guid': 2210, 'text_a': 'oh know side effect remicade humira switched remicade soon', 'text_b': None, 'label': 0}, {'guid': 2224, 'text_a': 'adderall working w e b c strattera pretty high failure rate potentially nasty side effect', 'text_b': None, 'label': 0}, {'guid': 2239, 'text_a': 'nightmare lunesta', 'text_b': None, 'label': 1}, {'guid': 2247, 'text_a': 'knew washed start taking nexium eating hot cheetos', 'text_b': None, 'label': 0}, {'guid': 2261, 'text_a': 'c etanercept feel pain suck illness age work well', 'text_b': None, 'label': 0}, {'guid': 2264, 'text_a': 'sure new treatment humira remicade almost killed', 'text_b': None, 'label': 1}, {'guid': 2340, 'text_a': 'hate prednisone yet need humira tried kill remicade', 'text_b': None, 'label': 1}, {'guid': 2365, 'text_a': 'work slept hour last hour despite lunesta muscle relaxant take bed time', 'text_b': None, 'label': 0}, {'guid': 2384, 'text_a': 'doctor warned side effect advair headache drink liter water ended one', 'text_b': None, 'label': 1}, {'guid': 2392, 'text_a': 'alcohol oxycodone make float zone', 'text_b': None, 'label': 0}, {'guid': 2413, 'text_a': 'take lunesta tho made friend see double', 'text_b': None, 'label': 1}, {'guid': 2421, 'text_a': 'oh enbrel methotrexate prior agree effective', 'text_b': None, 'label': 1}, {'guid': 2459, 'text_a': 'woke early like omg whole day romp around feeling exuberant prozac kicked', 'text_b': None, 'label': 0}, {'guid': 2482, 'text_a': 'quick fix meant write anal leakage drug often rx time meridia fun side effect', 'text_b': None, 'label': 1}, {'guid': 2484, 'text_a': 'liquor liver suboxone tongue private numb one time dying young', 'text_b': None, 'label': 0}, {'guid': 2485, 'text_a': 'took lunesta like minute ago still wide awake wtf', 'text_b': None, 'label': 0}, {'guid': 2488, 'text_a': 'oxycodone really mess', 'text_b': None, 'label': 1}, {'guid': 2489, 'text_a': 'tried every nsaid going diclofenac ease much nerve med gabapentin etc gave severe side effect xxx', 'text_b': None, 'label': 1}, {'guid': 2499, 'text_a': 'metformin gi mala su except diamicron mr hypoglycemia januvia pancreatitis onglyza heart failure', 'text_b': None, 'label': 0}, {'guid': 2513, 'text_a': 'back pain advil knocked whereas heavy drug like darvocet sleep inducing drug like benedryl even make tired', 'text_b': None, 'label': 0}, {'guid': 2516, 'text_a': 'mostly hate idea taking pill every day even trouble taking synthroid every day', 'text_b': None, 'label': 0}, {'guid': 2533, 'text_a': 'crestor cause diabetes google', 'text_b': None, 'label': 1}, {'guid': 2553, 'text_a': 'husband gerald wunsch neuropathy velcade kyprolis maintenance therapy day', 'text_b': None, 'label': 1}, {'guid': 2559, 'text_a': 'like drinking day except pissing ventolin', 'text_b': None, 'label': 1}, {'guid': 2564, 'text_a': 'suffering flu symptom also affected side effect tamiflu', 'text_b': None, 'label': 1}, {'guid': 2585, 'text_a': 'advair really mess jesus asthmatic kid ripping clothes', 'text_b': None, 'label': 1}, {'guid': 2587, 'text_a': 'enbrel year getting worse psa x worse month ago eekk im diagnosed yr', 'text_b': None, 'label': 0}, {'guid': 2593, 'text_a': 'oxycodone got feeling goodddd shit dangerous', 'text_b': None, 'label': 0}, {'guid': 2614, 'text_a': 'ventolin make weak holy shit', 'text_b': None, 'label': 1}, {'guid': 2618, 'text_a': 'thanks oxycodone ive pretty good dream mode time today still sure real', 'text_b': None, 'label': 1}, {'guid': 2622, 'text_a': 'symbicort sound like make worse better', 'text_b': None, 'label': 0}, {'guid': 2634, 'text_a': 'congrats enbrel yeah especially first couple time quite oh squicky', 'text_b': None, 'label': 1}, {'guid': 2639, 'text_a': 'taking advair camera confirm asthma play w thse drug cause pancreatitis evr', 'text_b': None, 'label': 1}, {'guid': 2641, 'text_a': 'severe depression induced rimonabant described frequent one time event', 'text_b': None, 'label': 1}, {'guid': 2647, 'text_a': 'oxycodone knocked', 'text_b': None, 'label': 1}, {'guid': 2661, 'text_a': 'home sick vile cold ventolin totally jam today', 'text_b': None, 'label': 0}, {'guid': 2670, 'text_a': 'lunesta lid fake lash make look sleepy', 'text_b': None, 'label': 0}, {'guid': 2677, 'text_a': 'yes hydrate hydrate hydrate movie night tonight picking advair tomorrow', 'text_b': None, 'label': 0}, {'guid': 2681, 'text_a': 'permanent side effect happened using darvocet series many knee surgery know', 'text_b': None, 'label': 1}, {'guid': 2708, 'text_a': 'gave metformin tendinopathy frozen shoulder talk lot interest expected', 'text_b': None, 'label': 0}, {'guid': 2724, 'text_a': 'go get loperamide hydrochloride make sleep fix tummy', 'text_b': None, 'label': 1}, {'guid': 2736, 'text_a': 'buprenorphine hopefully system teeth mid october', 'text_b': None, 'label': 0}, {'guid': 2737, 'text_a': 'dopamine earring adrenaline charm bracelet red pemoline eye', 'text_b': None, 'label': 1}, {'guid': 2747, 'text_a': 'found diclofenac took today q painkiller u get cancer post operation holy shit nae wunner tuned moon', 'text_b': None, 'label': 1}, {'guid': 2777, 'text_a': 'horrible time late take lunesta sleep till afternoon', 'text_b': None, 'label': 1}, {'guid': 2778, 'text_a': 'nexium mg help stomach acid others plus ulcer medication throat mouth stomach', 'text_b': None, 'label': 0}, {'guid': 2799, 'text_a': 'metformin give bad tummy im forseable future', 'text_b': None, 'label': 1}, {'guid': 2802, 'text_a': 'everyone remember vioxx story l monier demonstrating vioxx link heart attack could found data', 'text_b': None, 'label': 1}, {'guid': 2817, 'text_a': 'confirmed ragweed stinging nettle get fluticasone nasal spray patinol eye drop doc', 'text_b': None, 'label': 0}, {'guid': 2823, 'text_a': 'okay doctor tried perscribe strattera instead adderall tell strattera work ugh', 'text_b': None, 'label': 0}, {'guid': 2831, 'text_a': 'dream oxycodone inane way real', 'text_b': None, 'label': 1}, {'guid': 2856, 'text_a': 'neurologist think expert longevity take lipitor violently allergic crestor', 'text_b': None, 'label': 1}, {'guid': 2857, 'text_a': 'take ciprofloxacin diclofenac twice daily hate disease', 'text_b': None, 'label': 0}, {'guid': 2870, 'text_a': 'psoriatic arthritis enbrel stopped working humira year', 'text_b': None, 'label': 1}, {'guid': 2871, 'text_a': 'husband never work use discussion board consumer involved avandia lawsuit', 'text_b': None, 'label': 1}, {'guid': 2872, 'text_a': 'terrible experience nuvaring almost ended badly told doc said never', 'text_b': None, 'label': 1}, {'guid': 2878, 'text_a': 'one lady going heroin withdrawal thought back wm even took xanax suboxone def wm moment', 'text_b': None, 'label': 0}, {'guid': 2880, 'text_a': 'metformin create disabling tummy problem mother long term diabetic got really sick moved', 'text_b': None, 'label': 1}, {'guid': 2896, 'text_a': 'seen much tamiflu past couple day even surprised shivering experiencing ache right sigh', 'text_b': None, 'label': 0}, {'guid': 2897, 'text_a': 'diagnosed month ago im birthcontrol metformin made sick quit cold turkey', 'text_b': None, 'label': 0}, {'guid': 2925, 'text_a': 'mg adderall hour monster hour half water bottle food aced fucking wh final slept hour', 'text_b': None, 'label': 1}, {'guid': 2938, 'text_a': 'symbicort kill nigga asthma side affect increased death asthma symptom wtf', 'text_b': None, 'label': 0}, {'guid': 2950, 'text_a': 'always get mild injection site reaction enbrel burn going though le humira enough', 'text_b': None, 'label': 1}, {'guid': 2954, 'text_a': 'sildenafil high dos reported caused blindness wonder people always say love cause blindness', 'text_b': None, 'label': 1}, {'guid': 2963, 'text_a': 'need higher dosage suboxone medication stop vomiting diarreah', 'text_b': None, 'label': 0}, {'guid': 2979, 'text_a': 'oxycodone never made feel like', 'text_b': None, 'label': 0}, {'guid': 2981, 'text_a': 'also lunesta generally put sleep give hangover next morning amp feel energetic w sleep', 'text_b': None, 'label': 1}, {'guid': 3004, 'text_a': 'lol dude bone killed antacid literally took nexium two minute ago', 'text_b': None, 'label': 0}, {'guid': 3021, 'text_a': 'mom nexium ppi vr yr fda caught co secret held ppi cause osteoporosis b defect child mad excuse', 'text_b': None, 'label': 1}, {'guid': 3056, 'text_a': 'le fine period nuvaring made total mess first month cooled tho', 'text_b': None, 'label': 1}, {'guid': 3075, 'text_a': 'major pain pushing bladder ugh intestine enough room looking norethindrone', 'text_b': None, 'label': 0}, {'guid': 3076, 'text_a': 'sleep since increase nexavar dose', 'text_b': None, 'label': 1}, {'guid': 3098, 'text_a': 'fluticasone work great spring summer time year lack humidity fluticasone make worse lol', 'text_b': None, 'label': 0}, {'guid': 3111, 'text_a': 'jesus christ symptom serious side effect whatever hell crestor symptom pancreatic cancer', 'text_b': None, 'label': 1}, {'guid': 3115, 'text_a': 'trying keep football game difficult influence oxycodone', 'text_b': None, 'label': 1}, {'guid': 3180, 'text_a': 'diclofenac also gastro issue give ace tramadol', 'text_b': None, 'label': 1}, {'guid': 3201, 'text_a': 'hmmm prescription dexilant stopped helping month maybe ask', 'text_b': None, 'label': 1}, {'guid': 3216, 'text_a': 'kind moot imo bc nobody giving sulfa drug taking celebrex lamictal unless get rash back', 'text_b': None, 'label': 1}, {'guid': 3218, 'text_a': 'mine humira amp reaction remicade lovely biologics tip hat thee', 'text_b': None, 'label': 1}, {'guid': 3237, 'text_a': 'product avandia killed people permanently injured people like husband longer work', 'text_b': None, 'label': 1}, {'guid': 3247, 'text_a': 'mussolini winery mix spicy albuterol element nutty gingerbread finish syrah', 'text_b': None, 'label': 0}, {'guid': 3251, 'text_a': 'enbrel sure give wing eat great', 'text_b': None, 'label': 1}, {'guid': 3260, 'text_a': 'right getting low dose pred doc want consider humira since remicade stopped working', 'text_b': None, 'label': 1}, {'guid': 3289, 'text_a': 'bcbs ppl drug co vioxx gave obgyn give woman pain omgod almost killed', 'text_b': None, 'label': 1}, {'guid': 3291, 'text_a': 'think ventolin shit working', 'text_b': None, 'label': 1}, {'guid': 3295, 'text_a': 'think crestor guy worse', 'text_b': None, 'label': 0}, {'guid': 3406, 'text_a': 'really think taking miralax pregnant caused kid autism guess really fix stupid', 'text_b': None, 'label': 0}, {'guid': 3417, 'text_a': 'pregabalin higher dose ibruprofen amp esomeprazole combination zonks', 'text_b': None, 'label': 1}, {'guid': 3433, 'text_a': 'allergic hydrocodone got darvocet', 'text_b': None, 'label': 1}, {'guid': 3440, 'text_a': 'darvocet worked make heart beat place like john bonham solo', 'text_b': None, 'label': 1}, {'guid': 3441, 'text_a': 'today rubbish health day caused one little imodium tablet never win organ', 'text_b': None, 'label': 1}, {'guid': 3452, 'text_a': 'completed fourth enbrel injection stomach time bad though going', 'text_b': None, 'label': 0}, {'guid': 3454, 'text_a': 'always tell etonogestrel hormone start released face start breaking', 'text_b': None, 'label': 1}, {'guid': 3458, 'text_a': 'probably help etanercept leaf feeling like death majority day exhausted leeds tri sunday', 'text_b': None, 'label': 0}, {'guid': 3478, 'text_a': 'humira pred moment remicade imuran methotrexate lot nasty thing still alive', 'text_b': None, 'label': 0}, {'guid': 3484, 'text_a': 'etanercept also orally absorbed unlikely adversely affect breastfed infant month age', 'text_b': None, 'label': 0}, {'guid': 3510, 'text_a': 'much ventolin head feel funny', 'text_b': None, 'label': 1}, {'guid': 3527, 'text_a': 'carbamazepine phenytoin gabapentin amp pregabalin exacerbate generalized seizure syndrome', 'text_b': None, 'label': 0}, {'guid': 3545, 'text_a': 'two month third go around enbrel treat psoriasis take two week break though due flu high fever', 'text_b': None, 'label': 0}, {'guid': 3561, 'text_a': 'im giving side eye death cavernous snatch spit nuvaring like nerf gun left', 'text_b': None, 'label': 0}, {'guid': 3562, 'text_a': 'recently really hurt use enbrel epipen second seem last ever suggestion might help', 'text_b': None, 'label': 1}, {'guid': 3564, 'text_a': 'nexium may increase risk getting severe diarrhea', 'text_b': None, 'label': 1}, {'guid': 3592, 'text_a': 'one ever tell lunesta give late night craving fit dress pant presentation tonight', 'text_b': None, 'label': 1}, {'guid': 3606, 'text_a': 'agree big pharma interested buprenorphine shown addictive like oxy hydro', 'text_b': None, 'label': 1}, {'guid': 3651, 'text_a': 'last night video chatted lunesta haze see hear knew weird', 'text_b': None, 'label': 1}, {'guid': 3656, 'text_a': 'started enbrel try help ra gotten bad dramatically lower immune system', 'text_b': None, 'label': 0}, {'guid': 3670, 'text_a': 'took mg oxycodone get tub shud hella knocked', 'text_b': None, 'label': 1}, {'guid': 3679, 'text_a': 'even lunesta take hour fall asleep body sleep', 'text_b': None, 'label': 0}, {'guid': 3681, 'text_a': 'adderall vyvanse gave pretty undesirable sexual side effect try find focalin new well liked far', 'text_b': None, 'label': 1}, {'guid': 3687, 'text_a': 'hand exelon patch exelon tablet available', 'text_b': None, 'label': 1}, {'guid': 3713, 'text_a': 'idk ventolin inhaler lung infection ncaa athlete prescribed woulda failed', 'text_b': None, 'label': 0}, {'guid': 3743, 'text_a': 'tamiflu killed best friend wouldnt want anyone use shit', 'text_b': None, 'label': 1}, {'guid': 3745, 'text_a': 'enbrel sureclick finished needle retracted instinctively pushed back idk went amp finished', 'text_b': None, 'label': 0}, {'guid': 3751, 'text_a': 'glipizide cause low bgs metformin cause gi distress', 'text_b': None, 'label': 0}, {'guid': 3752, 'text_a': 'put metformin doctor said year ago fine time tell', 'text_b': None, 'label': 0}, {'guid': 3753, 'text_a': 'hope better soon sorry tamiflu work glad anything weird bad side effect', 'text_b': None, 'label': 1}, {'guid': 3777, 'text_a': 'take tamiflu drink water like crazy super dehydrated', 'text_b': None, 'label': 1}, {'guid': 3787, 'text_a': 'stomach hurting like shit feel dirty hell sign showerrrrrrr n miralax', 'text_b': None, 'label': 0}, {'guid': 3792, 'text_a': 'trying study midterm taking oxycontin oxycodone best idea', 'text_b': None, 'label': 1}, {'guid': 3802, 'text_a': 'ah yes sudofed ventolin jitter world made jelly spoon', 'text_b': None, 'label': 1}, {'guid': 3815, 'text_a': 'sick day took tamiflu cause sick', 'text_b': None, 'label': 0}]\n"
          ]
        }
      ],
      "source": [
        "result_over = Bert_evaluation(over_test_text, data_test[\"label\"],model_over)"
      ]
    },
    {
      "cell_type": "code",
      "execution_count": null,
      "metadata": {
        "colab": {
          "base_uri": "https://localhost:8080/"
        },
        "id": "ZfvvjJapiey4",
        "outputId": "7cfb6561-3c46-4771-fd5b-72186556f225"
      },
      "outputs": [
        {
          "output_type": "stream",
          "name": "stdout",
          "text": [
            "Precision:  0.3744493392070485\n",
            "Recall:  0.36324786324786323\n",
            "F1-score:  0.368763557483731\n"
          ]
        }
      ],
      "source": [
        "precision, recall, f1_score = Bert_result(result_over)\n",
        "print(\"Precision: \", precision)\n",
        "print(\"Recall: \", recall)\n",
        "print(\"F1-score: \", f1_score)"
      ]
    }
  ],
  "metadata": {
    "accelerator": "GPU",
    "colab": {
      "collapsed_sections": [
        "-rfItV2zpqaC",
        "leUnXg6xp2Ca",
        "9SXn-YQAr82w",
        "0pnL6tHgx3tB",
        "GnlSLzcSyZpG",
        "-GZ6mbtTx984",
        "1vWPTrlkyeYJ",
        "Mlll_07c22K9",
        "lyMUMLEP2-dH",
        "yhQKPUQM3CIi",
        "rSV0CKu83Iba",
        "9rStYX8AGO4S",
        "mpjFuYrBp_gA",
        "8PTtrz48egl9",
        "9zF2vLv8sDGW",
        "oeG6h62BIe9M",
        "vqJMQ_R1VKhl"
      ],
      "name": "licenta.ipynb",
      "provenance": [],
      "toc_visible": true,
      "include_colab_link": true
    },
    "kernelspec": {
      "display_name": "Python 3",
      "name": "python3"
    },
    "language_info": {
      "name": "python"
    },
    "widgets": {
      "application/vnd.jupyter.widget-state+json": {
        "f20b22fe6d554352b973373d176234be": {
          "model_module": "@jupyter-widgets/controls",
          "model_name": "HBoxModel",
          "model_module_version": "1.5.0",
          "state": {
            "_dom_classes": [],
            "_model_module": "@jupyter-widgets/controls",
            "_model_module_version": "1.5.0",
            "_model_name": "HBoxModel",
            "_view_count": null,
            "_view_module": "@jupyter-widgets/controls",
            "_view_module_version": "1.5.0",
            "_view_name": "HBoxView",
            "box_style": "",
            "children": [
              "IPY_MODEL_296148739b2c48e396e1de5d5132b828",
              "IPY_MODEL_4baa6713834e4df7aeb4f49994a7aaf6",
              "IPY_MODEL_c8d5455c387047e3a51c53e6a49a099c"
            ],
            "layout": "IPY_MODEL_0b9c42baef7247c193b2962051680f93"
          }
        },
        "296148739b2c48e396e1de5d5132b828": {
          "model_module": "@jupyter-widgets/controls",
          "model_name": "HTMLModel",
          "model_module_version": "1.5.0",
          "state": {
            "_dom_classes": [],
            "_model_module": "@jupyter-widgets/controls",
            "_model_module_version": "1.5.0",
            "_model_name": "HTMLModel",
            "_view_count": null,
            "_view_module": "@jupyter-widgets/controls",
            "_view_module_version": "1.5.0",
            "_view_name": "HTMLView",
            "description": "",
            "description_tooltip": null,
            "layout": "IPY_MODEL_2da8b05e296d4813a6cef9a901648b14",
            "placeholder": "​",
            "style": "IPY_MODEL_166431ef23334117b7f2938a80c77aab",
            "value": "  0%"
          }
        },
        "4baa6713834e4df7aeb4f49994a7aaf6": {
          "model_module": "@jupyter-widgets/controls",
          "model_name": "FloatProgressModel",
          "model_module_version": "1.5.0",
          "state": {
            "_dom_classes": [],
            "_model_module": "@jupyter-widgets/controls",
            "_model_module_version": "1.5.0",
            "_model_name": "FloatProgressModel",
            "_view_count": null,
            "_view_module": "@jupyter-widgets/controls",
            "_view_module_version": "1.5.0",
            "_view_name": "ProgressView",
            "bar_style": "danger",
            "description": "",
            "description_tooltip": null,
            "layout": "IPY_MODEL_a8a90a112683491580e522d8cf07977b",
            "max": 3819,
            "min": 0,
            "orientation": "horizontal",
            "style": "IPY_MODEL_2c9b317152964ac6b6b0cf3be17e4d53",
            "value": 8
          }
        },
        "c8d5455c387047e3a51c53e6a49a099c": {
          "model_module": "@jupyter-widgets/controls",
          "model_name": "HTMLModel",
          "model_module_version": "1.5.0",
          "state": {
            "_dom_classes": [],
            "_model_module": "@jupyter-widgets/controls",
            "_model_module_version": "1.5.0",
            "_model_name": "HTMLModel",
            "_view_count": null,
            "_view_module": "@jupyter-widgets/controls",
            "_view_module_version": "1.5.0",
            "_view_name": "HTMLView",
            "description": "",
            "description_tooltip": null,
            "layout": "IPY_MODEL_a5a36be1d49843fa90d315c9cb0ef4fb",
            "placeholder": "​",
            "style": "IPY_MODEL_69403a1ba3604f6182f70b6a0eeafc44",
            "value": " 8/3819 [00:00&lt;05:22, 11.81it/s]"
          }
        },
        "0b9c42baef7247c193b2962051680f93": {
          "model_module": "@jupyter-widgets/base",
          "model_name": "LayoutModel",
          "model_module_version": "1.2.0",
          "state": {
            "_model_module": "@jupyter-widgets/base",
            "_model_module_version": "1.2.0",
            "_model_name": "LayoutModel",
            "_view_count": null,
            "_view_module": "@jupyter-widgets/base",
            "_view_module_version": "1.2.0",
            "_view_name": "LayoutView",
            "align_content": null,
            "align_items": null,
            "align_self": null,
            "border": null,
            "bottom": null,
            "display": null,
            "flex": null,
            "flex_flow": null,
            "grid_area": null,
            "grid_auto_columns": null,
            "grid_auto_flow": null,
            "grid_auto_rows": null,
            "grid_column": null,
            "grid_gap": null,
            "grid_row": null,
            "grid_template_areas": null,
            "grid_template_columns": null,
            "grid_template_rows": null,
            "height": null,
            "justify_content": null,
            "justify_items": null,
            "left": null,
            "margin": null,
            "max_height": null,
            "max_width": null,
            "min_height": null,
            "min_width": null,
            "object_fit": null,
            "object_position": null,
            "order": null,
            "overflow": null,
            "overflow_x": null,
            "overflow_y": null,
            "padding": null,
            "right": null,
            "top": null,
            "visibility": null,
            "width": null
          }
        },
        "2da8b05e296d4813a6cef9a901648b14": {
          "model_module": "@jupyter-widgets/base",
          "model_name": "LayoutModel",
          "model_module_version": "1.2.0",
          "state": {
            "_model_module": "@jupyter-widgets/base",
            "_model_module_version": "1.2.0",
            "_model_name": "LayoutModel",
            "_view_count": null,
            "_view_module": "@jupyter-widgets/base",
            "_view_module_version": "1.2.0",
            "_view_name": "LayoutView",
            "align_content": null,
            "align_items": null,
            "align_self": null,
            "border": null,
            "bottom": null,
            "display": null,
            "flex": null,
            "flex_flow": null,
            "grid_area": null,
            "grid_auto_columns": null,
            "grid_auto_flow": null,
            "grid_auto_rows": null,
            "grid_column": null,
            "grid_gap": null,
            "grid_row": null,
            "grid_template_areas": null,
            "grid_template_columns": null,
            "grid_template_rows": null,
            "height": null,
            "justify_content": null,
            "justify_items": null,
            "left": null,
            "margin": null,
            "max_height": null,
            "max_width": null,
            "min_height": null,
            "min_width": null,
            "object_fit": null,
            "object_position": null,
            "order": null,
            "overflow": null,
            "overflow_x": null,
            "overflow_y": null,
            "padding": null,
            "right": null,
            "top": null,
            "visibility": null,
            "width": null
          }
        },
        "166431ef23334117b7f2938a80c77aab": {
          "model_module": "@jupyter-widgets/controls",
          "model_name": "DescriptionStyleModel",
          "model_module_version": "1.5.0",
          "state": {
            "_model_module": "@jupyter-widgets/controls",
            "_model_module_version": "1.5.0",
            "_model_name": "DescriptionStyleModel",
            "_view_count": null,
            "_view_module": "@jupyter-widgets/base",
            "_view_module_version": "1.2.0",
            "_view_name": "StyleView",
            "description_width": ""
          }
        },
        "a8a90a112683491580e522d8cf07977b": {
          "model_module": "@jupyter-widgets/base",
          "model_name": "LayoutModel",
          "model_module_version": "1.2.0",
          "state": {
            "_model_module": "@jupyter-widgets/base",
            "_model_module_version": "1.2.0",
            "_model_name": "LayoutModel",
            "_view_count": null,
            "_view_module": "@jupyter-widgets/base",
            "_view_module_version": "1.2.0",
            "_view_name": "LayoutView",
            "align_content": null,
            "align_items": null,
            "align_self": null,
            "border": null,
            "bottom": null,
            "display": null,
            "flex": null,
            "flex_flow": null,
            "grid_area": null,
            "grid_auto_columns": null,
            "grid_auto_flow": null,
            "grid_auto_rows": null,
            "grid_column": null,
            "grid_gap": null,
            "grid_row": null,
            "grid_template_areas": null,
            "grid_template_columns": null,
            "grid_template_rows": null,
            "height": null,
            "justify_content": null,
            "justify_items": null,
            "left": null,
            "margin": null,
            "max_height": null,
            "max_width": null,
            "min_height": null,
            "min_width": null,
            "object_fit": null,
            "object_position": null,
            "order": null,
            "overflow": null,
            "overflow_x": null,
            "overflow_y": null,
            "padding": null,
            "right": null,
            "top": null,
            "visibility": null,
            "width": null
          }
        },
        "2c9b317152964ac6b6b0cf3be17e4d53": {
          "model_module": "@jupyter-widgets/controls",
          "model_name": "ProgressStyleModel",
          "model_module_version": "1.5.0",
          "state": {
            "_model_module": "@jupyter-widgets/controls",
            "_model_module_version": "1.5.0",
            "_model_name": "ProgressStyleModel",
            "_view_count": null,
            "_view_module": "@jupyter-widgets/base",
            "_view_module_version": "1.2.0",
            "_view_name": "StyleView",
            "bar_color": null,
            "description_width": ""
          }
        },
        "a5a36be1d49843fa90d315c9cb0ef4fb": {
          "model_module": "@jupyter-widgets/base",
          "model_name": "LayoutModel",
          "model_module_version": "1.2.0",
          "state": {
            "_model_module": "@jupyter-widgets/base",
            "_model_module_version": "1.2.0",
            "_model_name": "LayoutModel",
            "_view_count": null,
            "_view_module": "@jupyter-widgets/base",
            "_view_module_version": "1.2.0",
            "_view_name": "LayoutView",
            "align_content": null,
            "align_items": null,
            "align_self": null,
            "border": null,
            "bottom": null,
            "display": null,
            "flex": null,
            "flex_flow": null,
            "grid_area": null,
            "grid_auto_columns": null,
            "grid_auto_flow": null,
            "grid_auto_rows": null,
            "grid_column": null,
            "grid_gap": null,
            "grid_row": null,
            "grid_template_areas": null,
            "grid_template_columns": null,
            "grid_template_rows": null,
            "height": null,
            "justify_content": null,
            "justify_items": null,
            "left": null,
            "margin": null,
            "max_height": null,
            "max_width": null,
            "min_height": null,
            "min_width": null,
            "object_fit": null,
            "object_position": null,
            "order": null,
            "overflow": null,
            "overflow_x": null,
            "overflow_y": null,
            "padding": null,
            "right": null,
            "top": null,
            "visibility": null,
            "width": null
          }
        },
        "69403a1ba3604f6182f70b6a0eeafc44": {
          "model_module": "@jupyter-widgets/controls",
          "model_name": "DescriptionStyleModel",
          "model_module_version": "1.5.0",
          "state": {
            "_model_module": "@jupyter-widgets/controls",
            "_model_module_version": "1.5.0",
            "_model_name": "DescriptionStyleModel",
            "_view_count": null,
            "_view_module": "@jupyter-widgets/base",
            "_view_module_version": "1.2.0",
            "_view_name": "StyleView",
            "description_width": ""
          }
        },
        "4fcf0b8160014f1fb404b2a875137b4f": {
          "model_module": "@jupyter-widgets/controls",
          "model_name": "HBoxModel",
          "model_module_version": "1.5.0",
          "state": {
            "_dom_classes": [],
            "_model_module": "@jupyter-widgets/controls",
            "_model_module_version": "1.5.0",
            "_model_name": "HBoxModel",
            "_view_count": null,
            "_view_module": "@jupyter-widgets/controls",
            "_view_module_version": "1.5.0",
            "_view_name": "HBoxView",
            "box_style": "",
            "children": [
              "IPY_MODEL_9fff4cb5c37d47f19847b0cb90840a8d",
              "IPY_MODEL_80d45b766a124733986dd8f7bbf689d6",
              "IPY_MODEL_918f398355d546a6bd3e2dce77d87415"
            ],
            "layout": "IPY_MODEL_97ff7f3bc11e4d918a0a1ad53e9aef11"
          }
        },
        "9fff4cb5c37d47f19847b0cb90840a8d": {
          "model_module": "@jupyter-widgets/controls",
          "model_name": "HTMLModel",
          "model_module_version": "1.5.0",
          "state": {
            "_dom_classes": [],
            "_model_module": "@jupyter-widgets/controls",
            "_model_module_version": "1.5.0",
            "_model_name": "HTMLModel",
            "_view_count": null,
            "_view_module": "@jupyter-widgets/controls",
            "_view_module_version": "1.5.0",
            "_view_name": "HTMLView",
            "description": "",
            "description_tooltip": null,
            "layout": "IPY_MODEL_eae6971378834cc6a6d999bab25643f1",
            "placeholder": "​",
            "style": "IPY_MODEL_8336271a8ee5405b87a62f4f4c5c53a5",
            "value": "Running Evaluation: 100%"
          }
        },
        "80d45b766a124733986dd8f7bbf689d6": {
          "model_module": "@jupyter-widgets/controls",
          "model_name": "FloatProgressModel",
          "model_module_version": "1.5.0",
          "state": {
            "_dom_classes": [],
            "_model_module": "@jupyter-widgets/controls",
            "_model_module_version": "1.5.0",
            "_model_name": "FloatProgressModel",
            "_view_count": null,
            "_view_module": "@jupyter-widgets/controls",
            "_view_module_version": "1.5.0",
            "_view_name": "ProgressView",
            "bar_style": "success",
            "description": "",
            "description_tooltip": null,
            "layout": "IPY_MODEL_292191b10f364737be8b49c59515e415",
            "max": 478,
            "min": 0,
            "orientation": "horizontal",
            "style": "IPY_MODEL_b198897371bf46f7b9bed52f855ab965",
            "value": 478
          }
        },
        "918f398355d546a6bd3e2dce77d87415": {
          "model_module": "@jupyter-widgets/controls",
          "model_name": "HTMLModel",
          "model_module_version": "1.5.0",
          "state": {
            "_dom_classes": [],
            "_model_module": "@jupyter-widgets/controls",
            "_model_module_version": "1.5.0",
            "_model_name": "HTMLModel",
            "_view_count": null,
            "_view_module": "@jupyter-widgets/controls",
            "_view_module_version": "1.5.0",
            "_view_name": "HTMLView",
            "description": "",
            "description_tooltip": null,
            "layout": "IPY_MODEL_843505529e814873aaa849663c75b1a8",
            "placeholder": "​",
            "style": "IPY_MODEL_9ea8e5ad975f4cfe8b52e57bae757ced",
            "value": " 478/478 [00:10&lt;00:00, 47.73it/s]"
          }
        },
        "97ff7f3bc11e4d918a0a1ad53e9aef11": {
          "model_module": "@jupyter-widgets/base",
          "model_name": "LayoutModel",
          "model_module_version": "1.2.0",
          "state": {
            "_model_module": "@jupyter-widgets/base",
            "_model_module_version": "1.2.0",
            "_model_name": "LayoutModel",
            "_view_count": null,
            "_view_module": "@jupyter-widgets/base",
            "_view_module_version": "1.2.0",
            "_view_name": "LayoutView",
            "align_content": null,
            "align_items": null,
            "align_self": null,
            "border": null,
            "bottom": null,
            "display": null,
            "flex": null,
            "flex_flow": null,
            "grid_area": null,
            "grid_auto_columns": null,
            "grid_auto_flow": null,
            "grid_auto_rows": null,
            "grid_column": null,
            "grid_gap": null,
            "grid_row": null,
            "grid_template_areas": null,
            "grid_template_columns": null,
            "grid_template_rows": null,
            "height": null,
            "justify_content": null,
            "justify_items": null,
            "left": null,
            "margin": null,
            "max_height": null,
            "max_width": null,
            "min_height": null,
            "min_width": null,
            "object_fit": null,
            "object_position": null,
            "order": null,
            "overflow": null,
            "overflow_x": null,
            "overflow_y": null,
            "padding": null,
            "right": null,
            "top": null,
            "visibility": null,
            "width": null
          }
        },
        "eae6971378834cc6a6d999bab25643f1": {
          "model_module": "@jupyter-widgets/base",
          "model_name": "LayoutModel",
          "model_module_version": "1.2.0",
          "state": {
            "_model_module": "@jupyter-widgets/base",
            "_model_module_version": "1.2.0",
            "_model_name": "LayoutModel",
            "_view_count": null,
            "_view_module": "@jupyter-widgets/base",
            "_view_module_version": "1.2.0",
            "_view_name": "LayoutView",
            "align_content": null,
            "align_items": null,
            "align_self": null,
            "border": null,
            "bottom": null,
            "display": null,
            "flex": null,
            "flex_flow": null,
            "grid_area": null,
            "grid_auto_columns": null,
            "grid_auto_flow": null,
            "grid_auto_rows": null,
            "grid_column": null,
            "grid_gap": null,
            "grid_row": null,
            "grid_template_areas": null,
            "grid_template_columns": null,
            "grid_template_rows": null,
            "height": null,
            "justify_content": null,
            "justify_items": null,
            "left": null,
            "margin": null,
            "max_height": null,
            "max_width": null,
            "min_height": null,
            "min_width": null,
            "object_fit": null,
            "object_position": null,
            "order": null,
            "overflow": null,
            "overflow_x": null,
            "overflow_y": null,
            "padding": null,
            "right": null,
            "top": null,
            "visibility": null,
            "width": null
          }
        },
        "8336271a8ee5405b87a62f4f4c5c53a5": {
          "model_module": "@jupyter-widgets/controls",
          "model_name": "DescriptionStyleModel",
          "model_module_version": "1.5.0",
          "state": {
            "_model_module": "@jupyter-widgets/controls",
            "_model_module_version": "1.5.0",
            "_model_name": "DescriptionStyleModel",
            "_view_count": null,
            "_view_module": "@jupyter-widgets/base",
            "_view_module_version": "1.2.0",
            "_view_name": "StyleView",
            "description_width": ""
          }
        },
        "292191b10f364737be8b49c59515e415": {
          "model_module": "@jupyter-widgets/base",
          "model_name": "LayoutModel",
          "model_module_version": "1.2.0",
          "state": {
            "_model_module": "@jupyter-widgets/base",
            "_model_module_version": "1.2.0",
            "_model_name": "LayoutModel",
            "_view_count": null,
            "_view_module": "@jupyter-widgets/base",
            "_view_module_version": "1.2.0",
            "_view_name": "LayoutView",
            "align_content": null,
            "align_items": null,
            "align_self": null,
            "border": null,
            "bottom": null,
            "display": null,
            "flex": null,
            "flex_flow": null,
            "grid_area": null,
            "grid_auto_columns": null,
            "grid_auto_flow": null,
            "grid_auto_rows": null,
            "grid_column": null,
            "grid_gap": null,
            "grid_row": null,
            "grid_template_areas": null,
            "grid_template_columns": null,
            "grid_template_rows": null,
            "height": null,
            "justify_content": null,
            "justify_items": null,
            "left": null,
            "margin": null,
            "max_height": null,
            "max_width": null,
            "min_height": null,
            "min_width": null,
            "object_fit": null,
            "object_position": null,
            "order": null,
            "overflow": null,
            "overflow_x": null,
            "overflow_y": null,
            "padding": null,
            "right": null,
            "top": null,
            "visibility": null,
            "width": null
          }
        },
        "b198897371bf46f7b9bed52f855ab965": {
          "model_module": "@jupyter-widgets/controls",
          "model_name": "ProgressStyleModel",
          "model_module_version": "1.5.0",
          "state": {
            "_model_module": "@jupyter-widgets/controls",
            "_model_module_version": "1.5.0",
            "_model_name": "ProgressStyleModel",
            "_view_count": null,
            "_view_module": "@jupyter-widgets/base",
            "_view_module_version": "1.2.0",
            "_view_name": "StyleView",
            "bar_color": null,
            "description_width": ""
          }
        },
        "843505529e814873aaa849663c75b1a8": {
          "model_module": "@jupyter-widgets/base",
          "model_name": "LayoutModel",
          "model_module_version": "1.2.0",
          "state": {
            "_model_module": "@jupyter-widgets/base",
            "_model_module_version": "1.2.0",
            "_model_name": "LayoutModel",
            "_view_count": null,
            "_view_module": "@jupyter-widgets/base",
            "_view_module_version": "1.2.0",
            "_view_name": "LayoutView",
            "align_content": null,
            "align_items": null,
            "align_self": null,
            "border": null,
            "bottom": null,
            "display": null,
            "flex": null,
            "flex_flow": null,
            "grid_area": null,
            "grid_auto_columns": null,
            "grid_auto_flow": null,
            "grid_auto_rows": null,
            "grid_column": null,
            "grid_gap": null,
            "grid_row": null,
            "grid_template_areas": null,
            "grid_template_columns": null,
            "grid_template_rows": null,
            "height": null,
            "justify_content": null,
            "justify_items": null,
            "left": null,
            "margin": null,
            "max_height": null,
            "max_width": null,
            "min_height": null,
            "min_width": null,
            "object_fit": null,
            "object_position": null,
            "order": null,
            "overflow": null,
            "overflow_x": null,
            "overflow_y": null,
            "padding": null,
            "right": null,
            "top": null,
            "visibility": null,
            "width": null
          }
        },
        "9ea8e5ad975f4cfe8b52e57bae757ced": {
          "model_module": "@jupyter-widgets/controls",
          "model_name": "DescriptionStyleModel",
          "model_module_version": "1.5.0",
          "state": {
            "_model_module": "@jupyter-widgets/controls",
            "_model_module_version": "1.5.0",
            "_model_name": "DescriptionStyleModel",
            "_view_count": null,
            "_view_module": "@jupyter-widgets/base",
            "_view_module_version": "1.2.0",
            "_view_name": "StyleView",
            "description_width": ""
          }
        },
        "c81249e562044c78be301bdb957e2e77": {
          "model_module": "@jupyter-widgets/controls",
          "model_name": "HBoxModel",
          "model_module_version": "1.5.0",
          "state": {
            "_dom_classes": [],
            "_model_module": "@jupyter-widgets/controls",
            "_model_module_version": "1.5.0",
            "_model_name": "HBoxModel",
            "_view_count": null,
            "_view_module": "@jupyter-widgets/controls",
            "_view_module_version": "1.5.0",
            "_view_name": "HBoxView",
            "box_style": "",
            "children": [
              "IPY_MODEL_1e04dbfd58d2430aaff20ffbbbd18b12",
              "IPY_MODEL_e70d2c9dc18947e9be2217120b761236",
              "IPY_MODEL_c1cbab25368640e8960d33cff5c2b5f3"
            ],
            "layout": "IPY_MODEL_56cc8b9cf11442e79f87ced6f2a00e81"
          }
        },
        "1e04dbfd58d2430aaff20ffbbbd18b12": {
          "model_module": "@jupyter-widgets/controls",
          "model_name": "HTMLModel",
          "model_module_version": "1.5.0",
          "state": {
            "_dom_classes": [],
            "_model_module": "@jupyter-widgets/controls",
            "_model_module_version": "1.5.0",
            "_model_name": "HTMLModel",
            "_view_count": null,
            "_view_module": "@jupyter-widgets/controls",
            "_view_module_version": "1.5.0",
            "_view_name": "HTMLView",
            "description": "",
            "description_tooltip": null,
            "layout": "IPY_MODEL_1924b2e67a9c4d88b271632bf73c40e6",
            "placeholder": "​",
            "style": "IPY_MODEL_aa7156e358e747daa5543da1ae9ea7ce",
            "value": "  0%"
          }
        },
        "e70d2c9dc18947e9be2217120b761236": {
          "model_module": "@jupyter-widgets/controls",
          "model_name": "FloatProgressModel",
          "model_module_version": "1.5.0",
          "state": {
            "_dom_classes": [],
            "_model_module": "@jupyter-widgets/controls",
            "_model_module_version": "1.5.0",
            "_model_name": "FloatProgressModel",
            "_view_count": null,
            "_view_module": "@jupyter-widgets/controls",
            "_view_module_version": "1.5.0",
            "_view_name": "ProgressView",
            "bar_style": "danger",
            "description": "",
            "description_tooltip": null,
            "layout": "IPY_MODEL_352c61a3796c43418e0744976c127134",
            "max": 14586,
            "min": 0,
            "orientation": "horizontal",
            "style": "IPY_MODEL_4c9ba31810c7456e95b86f9d952f9483",
            "value": 30
          }
        },
        "c1cbab25368640e8960d33cff5c2b5f3": {
          "model_module": "@jupyter-widgets/controls",
          "model_name": "HTMLModel",
          "model_module_version": "1.5.0",
          "state": {
            "_dom_classes": [],
            "_model_module": "@jupyter-widgets/controls",
            "_model_module_version": "1.5.0",
            "_model_name": "HTMLModel",
            "_view_count": null,
            "_view_module": "@jupyter-widgets/controls",
            "_view_module_version": "1.5.0",
            "_view_name": "HTMLView",
            "description": "",
            "description_tooltip": null,
            "layout": "IPY_MODEL_3b50e6e98a6349a1b03277c805566968",
            "placeholder": "​",
            "style": "IPY_MODEL_10ba0508cb864c56a5d0dba8925b13ac",
            "value": " 30/14586 [00:02&lt;18:32, 13.08it/s]"
          }
        },
        "56cc8b9cf11442e79f87ced6f2a00e81": {
          "model_module": "@jupyter-widgets/base",
          "model_name": "LayoutModel",
          "model_module_version": "1.2.0",
          "state": {
            "_model_module": "@jupyter-widgets/base",
            "_model_module_version": "1.2.0",
            "_model_name": "LayoutModel",
            "_view_count": null,
            "_view_module": "@jupyter-widgets/base",
            "_view_module_version": "1.2.0",
            "_view_name": "LayoutView",
            "align_content": null,
            "align_items": null,
            "align_self": null,
            "border": null,
            "bottom": null,
            "display": null,
            "flex": null,
            "flex_flow": null,
            "grid_area": null,
            "grid_auto_columns": null,
            "grid_auto_flow": null,
            "grid_auto_rows": null,
            "grid_column": null,
            "grid_gap": null,
            "grid_row": null,
            "grid_template_areas": null,
            "grid_template_columns": null,
            "grid_template_rows": null,
            "height": null,
            "justify_content": null,
            "justify_items": null,
            "left": null,
            "margin": null,
            "max_height": null,
            "max_width": null,
            "min_height": null,
            "min_width": null,
            "object_fit": null,
            "object_position": null,
            "order": null,
            "overflow": null,
            "overflow_x": null,
            "overflow_y": null,
            "padding": null,
            "right": null,
            "top": null,
            "visibility": null,
            "width": null
          }
        },
        "1924b2e67a9c4d88b271632bf73c40e6": {
          "model_module": "@jupyter-widgets/base",
          "model_name": "LayoutModel",
          "model_module_version": "1.2.0",
          "state": {
            "_model_module": "@jupyter-widgets/base",
            "_model_module_version": "1.2.0",
            "_model_name": "LayoutModel",
            "_view_count": null,
            "_view_module": "@jupyter-widgets/base",
            "_view_module_version": "1.2.0",
            "_view_name": "LayoutView",
            "align_content": null,
            "align_items": null,
            "align_self": null,
            "border": null,
            "bottom": null,
            "display": null,
            "flex": null,
            "flex_flow": null,
            "grid_area": null,
            "grid_auto_columns": null,
            "grid_auto_flow": null,
            "grid_auto_rows": null,
            "grid_column": null,
            "grid_gap": null,
            "grid_row": null,
            "grid_template_areas": null,
            "grid_template_columns": null,
            "grid_template_rows": null,
            "height": null,
            "justify_content": null,
            "justify_items": null,
            "left": null,
            "margin": null,
            "max_height": null,
            "max_width": null,
            "min_height": null,
            "min_width": null,
            "object_fit": null,
            "object_position": null,
            "order": null,
            "overflow": null,
            "overflow_x": null,
            "overflow_y": null,
            "padding": null,
            "right": null,
            "top": null,
            "visibility": null,
            "width": null
          }
        },
        "aa7156e358e747daa5543da1ae9ea7ce": {
          "model_module": "@jupyter-widgets/controls",
          "model_name": "DescriptionStyleModel",
          "model_module_version": "1.5.0",
          "state": {
            "_model_module": "@jupyter-widgets/controls",
            "_model_module_version": "1.5.0",
            "_model_name": "DescriptionStyleModel",
            "_view_count": null,
            "_view_module": "@jupyter-widgets/base",
            "_view_module_version": "1.2.0",
            "_view_name": "StyleView",
            "description_width": ""
          }
        },
        "352c61a3796c43418e0744976c127134": {
          "model_module": "@jupyter-widgets/base",
          "model_name": "LayoutModel",
          "model_module_version": "1.2.0",
          "state": {
            "_model_module": "@jupyter-widgets/base",
            "_model_module_version": "1.2.0",
            "_model_name": "LayoutModel",
            "_view_count": null,
            "_view_module": "@jupyter-widgets/base",
            "_view_module_version": "1.2.0",
            "_view_name": "LayoutView",
            "align_content": null,
            "align_items": null,
            "align_self": null,
            "border": null,
            "bottom": null,
            "display": null,
            "flex": null,
            "flex_flow": null,
            "grid_area": null,
            "grid_auto_columns": null,
            "grid_auto_flow": null,
            "grid_auto_rows": null,
            "grid_column": null,
            "grid_gap": null,
            "grid_row": null,
            "grid_template_areas": null,
            "grid_template_columns": null,
            "grid_template_rows": null,
            "height": null,
            "justify_content": null,
            "justify_items": null,
            "left": null,
            "margin": null,
            "max_height": null,
            "max_width": null,
            "min_height": null,
            "min_width": null,
            "object_fit": null,
            "object_position": null,
            "order": null,
            "overflow": null,
            "overflow_x": null,
            "overflow_y": null,
            "padding": null,
            "right": null,
            "top": null,
            "visibility": null,
            "width": null
          }
        },
        "4c9ba31810c7456e95b86f9d952f9483": {
          "model_module": "@jupyter-widgets/controls",
          "model_name": "ProgressStyleModel",
          "model_module_version": "1.5.0",
          "state": {
            "_model_module": "@jupyter-widgets/controls",
            "_model_module_version": "1.5.0",
            "_model_name": "ProgressStyleModel",
            "_view_count": null,
            "_view_module": "@jupyter-widgets/base",
            "_view_module_version": "1.2.0",
            "_view_name": "StyleView",
            "bar_color": null,
            "description_width": ""
          }
        },
        "3b50e6e98a6349a1b03277c805566968": {
          "model_module": "@jupyter-widgets/base",
          "model_name": "LayoutModel",
          "model_module_version": "1.2.0",
          "state": {
            "_model_module": "@jupyter-widgets/base",
            "_model_module_version": "1.2.0",
            "_model_name": "LayoutModel",
            "_view_count": null,
            "_view_module": "@jupyter-widgets/base",
            "_view_module_version": "1.2.0",
            "_view_name": "LayoutView",
            "align_content": null,
            "align_items": null,
            "align_self": null,
            "border": null,
            "bottom": null,
            "display": null,
            "flex": null,
            "flex_flow": null,
            "grid_area": null,
            "grid_auto_columns": null,
            "grid_auto_flow": null,
            "grid_auto_rows": null,
            "grid_column": null,
            "grid_gap": null,
            "grid_row": null,
            "grid_template_areas": null,
            "grid_template_columns": null,
            "grid_template_rows": null,
            "height": null,
            "justify_content": null,
            "justify_items": null,
            "left": null,
            "margin": null,
            "max_height": null,
            "max_width": null,
            "min_height": null,
            "min_width": null,
            "object_fit": null,
            "object_position": null,
            "order": null,
            "overflow": null,
            "overflow_x": null,
            "overflow_y": null,
            "padding": null,
            "right": null,
            "top": null,
            "visibility": null,
            "width": null
          }
        },
        "10ba0508cb864c56a5d0dba8925b13ac": {
          "model_module": "@jupyter-widgets/controls",
          "model_name": "DescriptionStyleModel",
          "model_module_version": "1.5.0",
          "state": {
            "_model_module": "@jupyter-widgets/controls",
            "_model_module_version": "1.5.0",
            "_model_name": "DescriptionStyleModel",
            "_view_count": null,
            "_view_module": "@jupyter-widgets/base",
            "_view_module_version": "1.2.0",
            "_view_name": "StyleView",
            "description_width": ""
          }
        },
        "ebeef977120947cf93ce3113c0c6fac8": {
          "model_module": "@jupyter-widgets/controls",
          "model_name": "HBoxModel",
          "model_module_version": "1.5.0",
          "state": {
            "_dom_classes": [],
            "_model_module": "@jupyter-widgets/controls",
            "_model_module_version": "1.5.0",
            "_model_name": "HBoxModel",
            "_view_count": null,
            "_view_module": "@jupyter-widgets/controls",
            "_view_module_version": "1.5.0",
            "_view_name": "HBoxView",
            "box_style": "",
            "children": [
              "IPY_MODEL_f6b2944c534742559aa705dcf3157cc1",
              "IPY_MODEL_e2dcf043cb164bf58f662e35714a7f76",
              "IPY_MODEL_62abc01e11c34febb65439f8eabb0d6f"
            ],
            "layout": "IPY_MODEL_b2a97278d14d4a9b9beb6e92a0078cea"
          }
        },
        "f6b2944c534742559aa705dcf3157cc1": {
          "model_module": "@jupyter-widgets/controls",
          "model_name": "HTMLModel",
          "model_module_version": "1.5.0",
          "state": {
            "_dom_classes": [],
            "_model_module": "@jupyter-widgets/controls",
            "_model_module_version": "1.5.0",
            "_model_name": "HTMLModel",
            "_view_count": null,
            "_view_module": "@jupyter-widgets/controls",
            "_view_module_version": "1.5.0",
            "_view_name": "HTMLView",
            "description": "",
            "description_tooltip": null,
            "layout": "IPY_MODEL_fc6ce068248e46cfb44000d65f88e039",
            "placeholder": "​",
            "style": "IPY_MODEL_f0854cfdf7fb4f80bbed90ec1f07446e",
            "value": "Epoch 10 of 10: 100%"
          }
        },
        "e2dcf043cb164bf58f662e35714a7f76": {
          "model_module": "@jupyter-widgets/controls",
          "model_name": "FloatProgressModel",
          "model_module_version": "1.5.0",
          "state": {
            "_dom_classes": [],
            "_model_module": "@jupyter-widgets/controls",
            "_model_module_version": "1.5.0",
            "_model_name": "FloatProgressModel",
            "_view_count": null,
            "_view_module": "@jupyter-widgets/controls",
            "_view_module_version": "1.5.0",
            "_view_name": "ProgressView",
            "bar_style": "success",
            "description": "",
            "description_tooltip": null,
            "layout": "IPY_MODEL_6b04b247b5ba48fabb405d0ddf0c8efa",
            "max": 10,
            "min": 0,
            "orientation": "horizontal",
            "style": "IPY_MODEL_2b5456a867c54ee0970170949fbb6a1a",
            "value": 10
          }
        },
        "62abc01e11c34febb65439f8eabb0d6f": {
          "model_module": "@jupyter-widgets/controls",
          "model_name": "HTMLModel",
          "model_module_version": "1.5.0",
          "state": {
            "_dom_classes": [],
            "_model_module": "@jupyter-widgets/controls",
            "_model_module_version": "1.5.0",
            "_model_name": "HTMLModel",
            "_view_count": null,
            "_view_module": "@jupyter-widgets/controls",
            "_view_module_version": "1.5.0",
            "_view_name": "HTMLView",
            "description": "",
            "description_tooltip": null,
            "layout": "IPY_MODEL_b96d431892e442479dfc3624dc720791",
            "placeholder": "​",
            "style": "IPY_MODEL_119a54fb815c4cc396eadb40eb3bf3fc",
            "value": " 10/10 [32:35&lt;00:00, 195.51s/it]"
          }
        },
        "b2a97278d14d4a9b9beb6e92a0078cea": {
          "model_module": "@jupyter-widgets/base",
          "model_name": "LayoutModel",
          "model_module_version": "1.2.0",
          "state": {
            "_model_module": "@jupyter-widgets/base",
            "_model_module_version": "1.2.0",
            "_model_name": "LayoutModel",
            "_view_count": null,
            "_view_module": "@jupyter-widgets/base",
            "_view_module_version": "1.2.0",
            "_view_name": "LayoutView",
            "align_content": null,
            "align_items": null,
            "align_self": null,
            "border": null,
            "bottom": null,
            "display": null,
            "flex": null,
            "flex_flow": null,
            "grid_area": null,
            "grid_auto_columns": null,
            "grid_auto_flow": null,
            "grid_auto_rows": null,
            "grid_column": null,
            "grid_gap": null,
            "grid_row": null,
            "grid_template_areas": null,
            "grid_template_columns": null,
            "grid_template_rows": null,
            "height": null,
            "justify_content": null,
            "justify_items": null,
            "left": null,
            "margin": null,
            "max_height": null,
            "max_width": null,
            "min_height": null,
            "min_width": null,
            "object_fit": null,
            "object_position": null,
            "order": null,
            "overflow": null,
            "overflow_x": null,
            "overflow_y": null,
            "padding": null,
            "right": null,
            "top": null,
            "visibility": null,
            "width": null
          }
        },
        "fc6ce068248e46cfb44000d65f88e039": {
          "model_module": "@jupyter-widgets/base",
          "model_name": "LayoutModel",
          "model_module_version": "1.2.0",
          "state": {
            "_model_module": "@jupyter-widgets/base",
            "_model_module_version": "1.2.0",
            "_model_name": "LayoutModel",
            "_view_count": null,
            "_view_module": "@jupyter-widgets/base",
            "_view_module_version": "1.2.0",
            "_view_name": "LayoutView",
            "align_content": null,
            "align_items": null,
            "align_self": null,
            "border": null,
            "bottom": null,
            "display": null,
            "flex": null,
            "flex_flow": null,
            "grid_area": null,
            "grid_auto_columns": null,
            "grid_auto_flow": null,
            "grid_auto_rows": null,
            "grid_column": null,
            "grid_gap": null,
            "grid_row": null,
            "grid_template_areas": null,
            "grid_template_columns": null,
            "grid_template_rows": null,
            "height": null,
            "justify_content": null,
            "justify_items": null,
            "left": null,
            "margin": null,
            "max_height": null,
            "max_width": null,
            "min_height": null,
            "min_width": null,
            "object_fit": null,
            "object_position": null,
            "order": null,
            "overflow": null,
            "overflow_x": null,
            "overflow_y": null,
            "padding": null,
            "right": null,
            "top": null,
            "visibility": null,
            "width": null
          }
        },
        "f0854cfdf7fb4f80bbed90ec1f07446e": {
          "model_module": "@jupyter-widgets/controls",
          "model_name": "DescriptionStyleModel",
          "model_module_version": "1.5.0",
          "state": {
            "_model_module": "@jupyter-widgets/controls",
            "_model_module_version": "1.5.0",
            "_model_name": "DescriptionStyleModel",
            "_view_count": null,
            "_view_module": "@jupyter-widgets/base",
            "_view_module_version": "1.2.0",
            "_view_name": "StyleView",
            "description_width": ""
          }
        },
        "6b04b247b5ba48fabb405d0ddf0c8efa": {
          "model_module": "@jupyter-widgets/base",
          "model_name": "LayoutModel",
          "model_module_version": "1.2.0",
          "state": {
            "_model_module": "@jupyter-widgets/base",
            "_model_module_version": "1.2.0",
            "_model_name": "LayoutModel",
            "_view_count": null,
            "_view_module": "@jupyter-widgets/base",
            "_view_module_version": "1.2.0",
            "_view_name": "LayoutView",
            "align_content": null,
            "align_items": null,
            "align_self": null,
            "border": null,
            "bottom": null,
            "display": null,
            "flex": null,
            "flex_flow": null,
            "grid_area": null,
            "grid_auto_columns": null,
            "grid_auto_flow": null,
            "grid_auto_rows": null,
            "grid_column": null,
            "grid_gap": null,
            "grid_row": null,
            "grid_template_areas": null,
            "grid_template_columns": null,
            "grid_template_rows": null,
            "height": null,
            "justify_content": null,
            "justify_items": null,
            "left": null,
            "margin": null,
            "max_height": null,
            "max_width": null,
            "min_height": null,
            "min_width": null,
            "object_fit": null,
            "object_position": null,
            "order": null,
            "overflow": null,
            "overflow_x": null,
            "overflow_y": null,
            "padding": null,
            "right": null,
            "top": null,
            "visibility": null,
            "width": null
          }
        },
        "2b5456a867c54ee0970170949fbb6a1a": {
          "model_module": "@jupyter-widgets/controls",
          "model_name": "ProgressStyleModel",
          "model_module_version": "1.5.0",
          "state": {
            "_model_module": "@jupyter-widgets/controls",
            "_model_module_version": "1.5.0",
            "_model_name": "ProgressStyleModel",
            "_view_count": null,
            "_view_module": "@jupyter-widgets/base",
            "_view_module_version": "1.2.0",
            "_view_name": "StyleView",
            "bar_color": null,
            "description_width": ""
          }
        },
        "b96d431892e442479dfc3624dc720791": {
          "model_module": "@jupyter-widgets/base",
          "model_name": "LayoutModel",
          "model_module_version": "1.2.0",
          "state": {
            "_model_module": "@jupyter-widgets/base",
            "_model_module_version": "1.2.0",
            "_model_name": "LayoutModel",
            "_view_count": null,
            "_view_module": "@jupyter-widgets/base",
            "_view_module_version": "1.2.0",
            "_view_name": "LayoutView",
            "align_content": null,
            "align_items": null,
            "align_self": null,
            "border": null,
            "bottom": null,
            "display": null,
            "flex": null,
            "flex_flow": null,
            "grid_area": null,
            "grid_auto_columns": null,
            "grid_auto_flow": null,
            "grid_auto_rows": null,
            "grid_column": null,
            "grid_gap": null,
            "grid_row": null,
            "grid_template_areas": null,
            "grid_template_columns": null,
            "grid_template_rows": null,
            "height": null,
            "justify_content": null,
            "justify_items": null,
            "left": null,
            "margin": null,
            "max_height": null,
            "max_width": null,
            "min_height": null,
            "min_width": null,
            "object_fit": null,
            "object_position": null,
            "order": null,
            "overflow": null,
            "overflow_x": null,
            "overflow_y": null,
            "padding": null,
            "right": null,
            "top": null,
            "visibility": null,
            "width": null
          }
        },
        "119a54fb815c4cc396eadb40eb3bf3fc": {
          "model_module": "@jupyter-widgets/controls",
          "model_name": "DescriptionStyleModel",
          "model_module_version": "1.5.0",
          "state": {
            "_model_module": "@jupyter-widgets/controls",
            "_model_module_version": "1.5.0",
            "_model_name": "DescriptionStyleModel",
            "_view_count": null,
            "_view_module": "@jupyter-widgets/base",
            "_view_module_version": "1.2.0",
            "_view_name": "StyleView",
            "description_width": ""
          }
        },
        "e6f85e83d8514529846a7b9f0fe1c2dd": {
          "model_module": "@jupyter-widgets/controls",
          "model_name": "HBoxModel",
          "model_module_version": "1.5.0",
          "state": {
            "_dom_classes": [],
            "_model_module": "@jupyter-widgets/controls",
            "_model_module_version": "1.5.0",
            "_model_name": "HBoxModel",
            "_view_count": null,
            "_view_module": "@jupyter-widgets/controls",
            "_view_module_version": "1.5.0",
            "_view_name": "HBoxView",
            "box_style": "",
            "children": [
              "IPY_MODEL_0f94b0f18aee455695c4330664b8460d",
              "IPY_MODEL_a0b303eab71d47eca8fec67a04a44bdb",
              "IPY_MODEL_3ebbd6091ab9475db57ecd50b3f2eb2a"
            ],
            "layout": "IPY_MODEL_d6d30c448da84e3fb679cc56431c46a0"
          }
        },
        "0f94b0f18aee455695c4330664b8460d": {
          "model_module": "@jupyter-widgets/controls",
          "model_name": "HTMLModel",
          "model_module_version": "1.5.0",
          "state": {
            "_dom_classes": [],
            "_model_module": "@jupyter-widgets/controls",
            "_model_module_version": "1.5.0",
            "_model_name": "HTMLModel",
            "_view_count": null,
            "_view_module": "@jupyter-widgets/controls",
            "_view_module_version": "1.5.0",
            "_view_name": "HTMLView",
            "description": "",
            "description_tooltip": null,
            "layout": "IPY_MODEL_c8d156deaf2f466493087676f5dbfa96",
            "placeholder": "​",
            "style": "IPY_MODEL_486cd040d36b4a9493281ebd673f7b55",
            "value": "Epochs 0/10. Running Loss:    0.8230: 100%"
          }
        },
        "a0b303eab71d47eca8fec67a04a44bdb": {
          "model_module": "@jupyter-widgets/controls",
          "model_name": "FloatProgressModel",
          "model_module_version": "1.5.0",
          "state": {
            "_dom_classes": [],
            "_model_module": "@jupyter-widgets/controls",
            "_model_module_version": "1.5.0",
            "_model_name": "FloatProgressModel",
            "_view_count": null,
            "_view_module": "@jupyter-widgets/controls",
            "_view_module_version": "1.5.0",
            "_view_name": "ProgressView",
            "bar_style": "success",
            "description": "",
            "description_tooltip": null,
            "layout": "IPY_MODEL_ed99163eefe44d2f8764065ef866a131",
            "max": 1824,
            "min": 0,
            "orientation": "horizontal",
            "style": "IPY_MODEL_b1abf4d393214abfbcfa112baff10d26",
            "value": 1824
          }
        },
        "3ebbd6091ab9475db57ecd50b3f2eb2a": {
          "model_module": "@jupyter-widgets/controls",
          "model_name": "HTMLModel",
          "model_module_version": "1.5.0",
          "state": {
            "_dom_classes": [],
            "_model_module": "@jupyter-widgets/controls",
            "_model_module_version": "1.5.0",
            "_model_name": "HTMLModel",
            "_view_count": null,
            "_view_module": "@jupyter-widgets/controls",
            "_view_module_version": "1.5.0",
            "_view_name": "HTMLView",
            "description": "",
            "description_tooltip": null,
            "layout": "IPY_MODEL_e6faf356b9aa4efcbb0567d295ecd83d",
            "placeholder": "​",
            "style": "IPY_MODEL_8d80c081e7714058a05a62e58c70ed7c",
            "value": " 1824/1824 [03:09&lt;00:00,  9.69it/s]"
          }
        },
        "d6d30c448da84e3fb679cc56431c46a0": {
          "model_module": "@jupyter-widgets/base",
          "model_name": "LayoutModel",
          "model_module_version": "1.2.0",
          "state": {
            "_model_module": "@jupyter-widgets/base",
            "_model_module_version": "1.2.0",
            "_model_name": "LayoutModel",
            "_view_count": null,
            "_view_module": "@jupyter-widgets/base",
            "_view_module_version": "1.2.0",
            "_view_name": "LayoutView",
            "align_content": null,
            "align_items": null,
            "align_self": null,
            "border": null,
            "bottom": null,
            "display": null,
            "flex": null,
            "flex_flow": null,
            "grid_area": null,
            "grid_auto_columns": null,
            "grid_auto_flow": null,
            "grid_auto_rows": null,
            "grid_column": null,
            "grid_gap": null,
            "grid_row": null,
            "grid_template_areas": null,
            "grid_template_columns": null,
            "grid_template_rows": null,
            "height": null,
            "justify_content": null,
            "justify_items": null,
            "left": null,
            "margin": null,
            "max_height": null,
            "max_width": null,
            "min_height": null,
            "min_width": null,
            "object_fit": null,
            "object_position": null,
            "order": null,
            "overflow": null,
            "overflow_x": null,
            "overflow_y": null,
            "padding": null,
            "right": null,
            "top": null,
            "visibility": null,
            "width": null
          }
        },
        "c8d156deaf2f466493087676f5dbfa96": {
          "model_module": "@jupyter-widgets/base",
          "model_name": "LayoutModel",
          "model_module_version": "1.2.0",
          "state": {
            "_model_module": "@jupyter-widgets/base",
            "_model_module_version": "1.2.0",
            "_model_name": "LayoutModel",
            "_view_count": null,
            "_view_module": "@jupyter-widgets/base",
            "_view_module_version": "1.2.0",
            "_view_name": "LayoutView",
            "align_content": null,
            "align_items": null,
            "align_self": null,
            "border": null,
            "bottom": null,
            "display": null,
            "flex": null,
            "flex_flow": null,
            "grid_area": null,
            "grid_auto_columns": null,
            "grid_auto_flow": null,
            "grid_auto_rows": null,
            "grid_column": null,
            "grid_gap": null,
            "grid_row": null,
            "grid_template_areas": null,
            "grid_template_columns": null,
            "grid_template_rows": null,
            "height": null,
            "justify_content": null,
            "justify_items": null,
            "left": null,
            "margin": null,
            "max_height": null,
            "max_width": null,
            "min_height": null,
            "min_width": null,
            "object_fit": null,
            "object_position": null,
            "order": null,
            "overflow": null,
            "overflow_x": null,
            "overflow_y": null,
            "padding": null,
            "right": null,
            "top": null,
            "visibility": null,
            "width": null
          }
        },
        "486cd040d36b4a9493281ebd673f7b55": {
          "model_module": "@jupyter-widgets/controls",
          "model_name": "DescriptionStyleModel",
          "model_module_version": "1.5.0",
          "state": {
            "_model_module": "@jupyter-widgets/controls",
            "_model_module_version": "1.5.0",
            "_model_name": "DescriptionStyleModel",
            "_view_count": null,
            "_view_module": "@jupyter-widgets/base",
            "_view_module_version": "1.2.0",
            "_view_name": "StyleView",
            "description_width": ""
          }
        },
        "ed99163eefe44d2f8764065ef866a131": {
          "model_module": "@jupyter-widgets/base",
          "model_name": "LayoutModel",
          "model_module_version": "1.2.0",
          "state": {
            "_model_module": "@jupyter-widgets/base",
            "_model_module_version": "1.2.0",
            "_model_name": "LayoutModel",
            "_view_count": null,
            "_view_module": "@jupyter-widgets/base",
            "_view_module_version": "1.2.0",
            "_view_name": "LayoutView",
            "align_content": null,
            "align_items": null,
            "align_self": null,
            "border": null,
            "bottom": null,
            "display": null,
            "flex": null,
            "flex_flow": null,
            "grid_area": null,
            "grid_auto_columns": null,
            "grid_auto_flow": null,
            "grid_auto_rows": null,
            "grid_column": null,
            "grid_gap": null,
            "grid_row": null,
            "grid_template_areas": null,
            "grid_template_columns": null,
            "grid_template_rows": null,
            "height": null,
            "justify_content": null,
            "justify_items": null,
            "left": null,
            "margin": null,
            "max_height": null,
            "max_width": null,
            "min_height": null,
            "min_width": null,
            "object_fit": null,
            "object_position": null,
            "order": null,
            "overflow": null,
            "overflow_x": null,
            "overflow_y": null,
            "padding": null,
            "right": null,
            "top": null,
            "visibility": null,
            "width": null
          }
        },
        "b1abf4d393214abfbcfa112baff10d26": {
          "model_module": "@jupyter-widgets/controls",
          "model_name": "ProgressStyleModel",
          "model_module_version": "1.5.0",
          "state": {
            "_model_module": "@jupyter-widgets/controls",
            "_model_module_version": "1.5.0",
            "_model_name": "ProgressStyleModel",
            "_view_count": null,
            "_view_module": "@jupyter-widgets/base",
            "_view_module_version": "1.2.0",
            "_view_name": "StyleView",
            "bar_color": null,
            "description_width": ""
          }
        },
        "e6faf356b9aa4efcbb0567d295ecd83d": {
          "model_module": "@jupyter-widgets/base",
          "model_name": "LayoutModel",
          "model_module_version": "1.2.0",
          "state": {
            "_model_module": "@jupyter-widgets/base",
            "_model_module_version": "1.2.0",
            "_model_name": "LayoutModel",
            "_view_count": null,
            "_view_module": "@jupyter-widgets/base",
            "_view_module_version": "1.2.0",
            "_view_name": "LayoutView",
            "align_content": null,
            "align_items": null,
            "align_self": null,
            "border": null,
            "bottom": null,
            "display": null,
            "flex": null,
            "flex_flow": null,
            "grid_area": null,
            "grid_auto_columns": null,
            "grid_auto_flow": null,
            "grid_auto_rows": null,
            "grid_column": null,
            "grid_gap": null,
            "grid_row": null,
            "grid_template_areas": null,
            "grid_template_columns": null,
            "grid_template_rows": null,
            "height": null,
            "justify_content": null,
            "justify_items": null,
            "left": null,
            "margin": null,
            "max_height": null,
            "max_width": null,
            "min_height": null,
            "min_width": null,
            "object_fit": null,
            "object_position": null,
            "order": null,
            "overflow": null,
            "overflow_x": null,
            "overflow_y": null,
            "padding": null,
            "right": null,
            "top": null,
            "visibility": null,
            "width": null
          }
        },
        "8d80c081e7714058a05a62e58c70ed7c": {
          "model_module": "@jupyter-widgets/controls",
          "model_name": "DescriptionStyleModel",
          "model_module_version": "1.5.0",
          "state": {
            "_model_module": "@jupyter-widgets/controls",
            "_model_module_version": "1.5.0",
            "_model_name": "DescriptionStyleModel",
            "_view_count": null,
            "_view_module": "@jupyter-widgets/base",
            "_view_module_version": "1.2.0",
            "_view_name": "StyleView",
            "description_width": ""
          }
        },
        "0bf7208ba09347c685515c4810206f96": {
          "model_module": "@jupyter-widgets/controls",
          "model_name": "HBoxModel",
          "model_module_version": "1.5.0",
          "state": {
            "_dom_classes": [],
            "_model_module": "@jupyter-widgets/controls",
            "_model_module_version": "1.5.0",
            "_model_name": "HBoxModel",
            "_view_count": null,
            "_view_module": "@jupyter-widgets/controls",
            "_view_module_version": "1.5.0",
            "_view_name": "HBoxView",
            "box_style": "",
            "children": [
              "IPY_MODEL_c0d8364e5094455d9700cc7210655313",
              "IPY_MODEL_cc6fce48c3e848428c5a09491fd0cb2c",
              "IPY_MODEL_ce4358ce453940bb9a53f9a5616bde5b"
            ],
            "layout": "IPY_MODEL_cd62d4cf518a4056aa4c2391f3f1d474"
          }
        },
        "c0d8364e5094455d9700cc7210655313": {
          "model_module": "@jupyter-widgets/controls",
          "model_name": "HTMLModel",
          "model_module_version": "1.5.0",
          "state": {
            "_dom_classes": [],
            "_model_module": "@jupyter-widgets/controls",
            "_model_module_version": "1.5.0",
            "_model_name": "HTMLModel",
            "_view_count": null,
            "_view_module": "@jupyter-widgets/controls",
            "_view_module_version": "1.5.0",
            "_view_name": "HTMLView",
            "description": "",
            "description_tooltip": null,
            "layout": "IPY_MODEL_2296ba509d924b71a7b3541e99b26a78",
            "placeholder": "​",
            "style": "IPY_MODEL_a7144872a5f44bfdbc303d54763c8b50",
            "value": "Epochs 1/10. Running Loss:    0.4618: 100%"
          }
        },
        "cc6fce48c3e848428c5a09491fd0cb2c": {
          "model_module": "@jupyter-widgets/controls",
          "model_name": "FloatProgressModel",
          "model_module_version": "1.5.0",
          "state": {
            "_dom_classes": [],
            "_model_module": "@jupyter-widgets/controls",
            "_model_module_version": "1.5.0",
            "_model_name": "FloatProgressModel",
            "_view_count": null,
            "_view_module": "@jupyter-widgets/controls",
            "_view_module_version": "1.5.0",
            "_view_name": "ProgressView",
            "bar_style": "success",
            "description": "",
            "description_tooltip": null,
            "layout": "IPY_MODEL_a385f30310644bc99bc93088ffdcac9f",
            "max": 1824,
            "min": 0,
            "orientation": "horizontal",
            "style": "IPY_MODEL_2957c1f90dfb456791e1259db6e4cfd4",
            "value": 1824
          }
        },
        "ce4358ce453940bb9a53f9a5616bde5b": {
          "model_module": "@jupyter-widgets/controls",
          "model_name": "HTMLModel",
          "model_module_version": "1.5.0",
          "state": {
            "_dom_classes": [],
            "_model_module": "@jupyter-widgets/controls",
            "_model_module_version": "1.5.0",
            "_model_name": "HTMLModel",
            "_view_count": null,
            "_view_module": "@jupyter-widgets/controls",
            "_view_module_version": "1.5.0",
            "_view_name": "HTMLView",
            "description": "",
            "description_tooltip": null,
            "layout": "IPY_MODEL_ae9f24fe9f4f4388896f96ad9c40e2f6",
            "placeholder": "​",
            "style": "IPY_MODEL_4ce52b9271e14d3ba187782eb2255e25",
            "value": " 1824/1824 [03:11&lt;00:00,  9.92it/s]"
          }
        },
        "cd62d4cf518a4056aa4c2391f3f1d474": {
          "model_module": "@jupyter-widgets/base",
          "model_name": "LayoutModel",
          "model_module_version": "1.2.0",
          "state": {
            "_model_module": "@jupyter-widgets/base",
            "_model_module_version": "1.2.0",
            "_model_name": "LayoutModel",
            "_view_count": null,
            "_view_module": "@jupyter-widgets/base",
            "_view_module_version": "1.2.0",
            "_view_name": "LayoutView",
            "align_content": null,
            "align_items": null,
            "align_self": null,
            "border": null,
            "bottom": null,
            "display": null,
            "flex": null,
            "flex_flow": null,
            "grid_area": null,
            "grid_auto_columns": null,
            "grid_auto_flow": null,
            "grid_auto_rows": null,
            "grid_column": null,
            "grid_gap": null,
            "grid_row": null,
            "grid_template_areas": null,
            "grid_template_columns": null,
            "grid_template_rows": null,
            "height": null,
            "justify_content": null,
            "justify_items": null,
            "left": null,
            "margin": null,
            "max_height": null,
            "max_width": null,
            "min_height": null,
            "min_width": null,
            "object_fit": null,
            "object_position": null,
            "order": null,
            "overflow": null,
            "overflow_x": null,
            "overflow_y": null,
            "padding": null,
            "right": null,
            "top": null,
            "visibility": null,
            "width": null
          }
        },
        "2296ba509d924b71a7b3541e99b26a78": {
          "model_module": "@jupyter-widgets/base",
          "model_name": "LayoutModel",
          "model_module_version": "1.2.0",
          "state": {
            "_model_module": "@jupyter-widgets/base",
            "_model_module_version": "1.2.0",
            "_model_name": "LayoutModel",
            "_view_count": null,
            "_view_module": "@jupyter-widgets/base",
            "_view_module_version": "1.2.0",
            "_view_name": "LayoutView",
            "align_content": null,
            "align_items": null,
            "align_self": null,
            "border": null,
            "bottom": null,
            "display": null,
            "flex": null,
            "flex_flow": null,
            "grid_area": null,
            "grid_auto_columns": null,
            "grid_auto_flow": null,
            "grid_auto_rows": null,
            "grid_column": null,
            "grid_gap": null,
            "grid_row": null,
            "grid_template_areas": null,
            "grid_template_columns": null,
            "grid_template_rows": null,
            "height": null,
            "justify_content": null,
            "justify_items": null,
            "left": null,
            "margin": null,
            "max_height": null,
            "max_width": null,
            "min_height": null,
            "min_width": null,
            "object_fit": null,
            "object_position": null,
            "order": null,
            "overflow": null,
            "overflow_x": null,
            "overflow_y": null,
            "padding": null,
            "right": null,
            "top": null,
            "visibility": null,
            "width": null
          }
        },
        "a7144872a5f44bfdbc303d54763c8b50": {
          "model_module": "@jupyter-widgets/controls",
          "model_name": "DescriptionStyleModel",
          "model_module_version": "1.5.0",
          "state": {
            "_model_module": "@jupyter-widgets/controls",
            "_model_module_version": "1.5.0",
            "_model_name": "DescriptionStyleModel",
            "_view_count": null,
            "_view_module": "@jupyter-widgets/base",
            "_view_module_version": "1.2.0",
            "_view_name": "StyleView",
            "description_width": ""
          }
        },
        "a385f30310644bc99bc93088ffdcac9f": {
          "model_module": "@jupyter-widgets/base",
          "model_name": "LayoutModel",
          "model_module_version": "1.2.0",
          "state": {
            "_model_module": "@jupyter-widgets/base",
            "_model_module_version": "1.2.0",
            "_model_name": "LayoutModel",
            "_view_count": null,
            "_view_module": "@jupyter-widgets/base",
            "_view_module_version": "1.2.0",
            "_view_name": "LayoutView",
            "align_content": null,
            "align_items": null,
            "align_self": null,
            "border": null,
            "bottom": null,
            "display": null,
            "flex": null,
            "flex_flow": null,
            "grid_area": null,
            "grid_auto_columns": null,
            "grid_auto_flow": null,
            "grid_auto_rows": null,
            "grid_column": null,
            "grid_gap": null,
            "grid_row": null,
            "grid_template_areas": null,
            "grid_template_columns": null,
            "grid_template_rows": null,
            "height": null,
            "justify_content": null,
            "justify_items": null,
            "left": null,
            "margin": null,
            "max_height": null,
            "max_width": null,
            "min_height": null,
            "min_width": null,
            "object_fit": null,
            "object_position": null,
            "order": null,
            "overflow": null,
            "overflow_x": null,
            "overflow_y": null,
            "padding": null,
            "right": null,
            "top": null,
            "visibility": null,
            "width": null
          }
        },
        "2957c1f90dfb456791e1259db6e4cfd4": {
          "model_module": "@jupyter-widgets/controls",
          "model_name": "ProgressStyleModel",
          "model_module_version": "1.5.0",
          "state": {
            "_model_module": "@jupyter-widgets/controls",
            "_model_module_version": "1.5.0",
            "_model_name": "ProgressStyleModel",
            "_view_count": null,
            "_view_module": "@jupyter-widgets/base",
            "_view_module_version": "1.2.0",
            "_view_name": "StyleView",
            "bar_color": null,
            "description_width": ""
          }
        },
        "ae9f24fe9f4f4388896f96ad9c40e2f6": {
          "model_module": "@jupyter-widgets/base",
          "model_name": "LayoutModel",
          "model_module_version": "1.2.0",
          "state": {
            "_model_module": "@jupyter-widgets/base",
            "_model_module_version": "1.2.0",
            "_model_name": "LayoutModel",
            "_view_count": null,
            "_view_module": "@jupyter-widgets/base",
            "_view_module_version": "1.2.0",
            "_view_name": "LayoutView",
            "align_content": null,
            "align_items": null,
            "align_self": null,
            "border": null,
            "bottom": null,
            "display": null,
            "flex": null,
            "flex_flow": null,
            "grid_area": null,
            "grid_auto_columns": null,
            "grid_auto_flow": null,
            "grid_auto_rows": null,
            "grid_column": null,
            "grid_gap": null,
            "grid_row": null,
            "grid_template_areas": null,
            "grid_template_columns": null,
            "grid_template_rows": null,
            "height": null,
            "justify_content": null,
            "justify_items": null,
            "left": null,
            "margin": null,
            "max_height": null,
            "max_width": null,
            "min_height": null,
            "min_width": null,
            "object_fit": null,
            "object_position": null,
            "order": null,
            "overflow": null,
            "overflow_x": null,
            "overflow_y": null,
            "padding": null,
            "right": null,
            "top": null,
            "visibility": null,
            "width": null
          }
        },
        "4ce52b9271e14d3ba187782eb2255e25": {
          "model_module": "@jupyter-widgets/controls",
          "model_name": "DescriptionStyleModel",
          "model_module_version": "1.5.0",
          "state": {
            "_model_module": "@jupyter-widgets/controls",
            "_model_module_version": "1.5.0",
            "_model_name": "DescriptionStyleModel",
            "_view_count": null,
            "_view_module": "@jupyter-widgets/base",
            "_view_module_version": "1.2.0",
            "_view_name": "StyleView",
            "description_width": ""
          }
        },
        "fff87db970984859b04801e3bac37935": {
          "model_module": "@jupyter-widgets/controls",
          "model_name": "HBoxModel",
          "model_module_version": "1.5.0",
          "state": {
            "_dom_classes": [],
            "_model_module": "@jupyter-widgets/controls",
            "_model_module_version": "1.5.0",
            "_model_name": "HBoxModel",
            "_view_count": null,
            "_view_module": "@jupyter-widgets/controls",
            "_view_module_version": "1.5.0",
            "_view_name": "HBoxView",
            "box_style": "",
            "children": [
              "IPY_MODEL_39acb804339a4c268c17e1a25a4527e2",
              "IPY_MODEL_8a4055e92f6943fe8a780218501ddfaa",
              "IPY_MODEL_d621d775f70046b4b688e429b21b1d96"
            ],
            "layout": "IPY_MODEL_14cc234f365c41908c5a9c8d06207e55"
          }
        },
        "39acb804339a4c268c17e1a25a4527e2": {
          "model_module": "@jupyter-widgets/controls",
          "model_name": "HTMLModel",
          "model_module_version": "1.5.0",
          "state": {
            "_dom_classes": [],
            "_model_module": "@jupyter-widgets/controls",
            "_model_module_version": "1.5.0",
            "_model_name": "HTMLModel",
            "_view_count": null,
            "_view_module": "@jupyter-widgets/controls",
            "_view_module_version": "1.5.0",
            "_view_name": "HTMLView",
            "description": "",
            "description_tooltip": null,
            "layout": "IPY_MODEL_04c915a062b047588acbeb664bf5c0e0",
            "placeholder": "​",
            "style": "IPY_MODEL_79d0332da1f345918c5f189b9a2c0cf4",
            "value": "Epochs 2/10. Running Loss:    0.1273: 100%"
          }
        },
        "8a4055e92f6943fe8a780218501ddfaa": {
          "model_module": "@jupyter-widgets/controls",
          "model_name": "FloatProgressModel",
          "model_module_version": "1.5.0",
          "state": {
            "_dom_classes": [],
            "_model_module": "@jupyter-widgets/controls",
            "_model_module_version": "1.5.0",
            "_model_name": "FloatProgressModel",
            "_view_count": null,
            "_view_module": "@jupyter-widgets/controls",
            "_view_module_version": "1.5.0",
            "_view_name": "ProgressView",
            "bar_style": "success",
            "description": "",
            "description_tooltip": null,
            "layout": "IPY_MODEL_42d0956b01f64ce6a3c14218719ec7cd",
            "max": 1824,
            "min": 0,
            "orientation": "horizontal",
            "style": "IPY_MODEL_88a2901430a74dc5b4ba5f11627694f1",
            "value": 1824
          }
        },
        "d621d775f70046b4b688e429b21b1d96": {
          "model_module": "@jupyter-widgets/controls",
          "model_name": "HTMLModel",
          "model_module_version": "1.5.0",
          "state": {
            "_dom_classes": [],
            "_model_module": "@jupyter-widgets/controls",
            "_model_module_version": "1.5.0",
            "_model_name": "HTMLModel",
            "_view_count": null,
            "_view_module": "@jupyter-widgets/controls",
            "_view_module_version": "1.5.0",
            "_view_name": "HTMLView",
            "description": "",
            "description_tooltip": null,
            "layout": "IPY_MODEL_6c2881fa2f634851a937de94db21f6b7",
            "placeholder": "​",
            "style": "IPY_MODEL_356a63a825b145e081efc58f8602cb43",
            "value": " 1824/1824 [03:11&lt;00:00, 10.14it/s]"
          }
        },
        "14cc234f365c41908c5a9c8d06207e55": {
          "model_module": "@jupyter-widgets/base",
          "model_name": "LayoutModel",
          "model_module_version": "1.2.0",
          "state": {
            "_model_module": "@jupyter-widgets/base",
            "_model_module_version": "1.2.0",
            "_model_name": "LayoutModel",
            "_view_count": null,
            "_view_module": "@jupyter-widgets/base",
            "_view_module_version": "1.2.0",
            "_view_name": "LayoutView",
            "align_content": null,
            "align_items": null,
            "align_self": null,
            "border": null,
            "bottom": null,
            "display": null,
            "flex": null,
            "flex_flow": null,
            "grid_area": null,
            "grid_auto_columns": null,
            "grid_auto_flow": null,
            "grid_auto_rows": null,
            "grid_column": null,
            "grid_gap": null,
            "grid_row": null,
            "grid_template_areas": null,
            "grid_template_columns": null,
            "grid_template_rows": null,
            "height": null,
            "justify_content": null,
            "justify_items": null,
            "left": null,
            "margin": null,
            "max_height": null,
            "max_width": null,
            "min_height": null,
            "min_width": null,
            "object_fit": null,
            "object_position": null,
            "order": null,
            "overflow": null,
            "overflow_x": null,
            "overflow_y": null,
            "padding": null,
            "right": null,
            "top": null,
            "visibility": null,
            "width": null
          }
        },
        "04c915a062b047588acbeb664bf5c0e0": {
          "model_module": "@jupyter-widgets/base",
          "model_name": "LayoutModel",
          "model_module_version": "1.2.0",
          "state": {
            "_model_module": "@jupyter-widgets/base",
            "_model_module_version": "1.2.0",
            "_model_name": "LayoutModel",
            "_view_count": null,
            "_view_module": "@jupyter-widgets/base",
            "_view_module_version": "1.2.0",
            "_view_name": "LayoutView",
            "align_content": null,
            "align_items": null,
            "align_self": null,
            "border": null,
            "bottom": null,
            "display": null,
            "flex": null,
            "flex_flow": null,
            "grid_area": null,
            "grid_auto_columns": null,
            "grid_auto_flow": null,
            "grid_auto_rows": null,
            "grid_column": null,
            "grid_gap": null,
            "grid_row": null,
            "grid_template_areas": null,
            "grid_template_columns": null,
            "grid_template_rows": null,
            "height": null,
            "justify_content": null,
            "justify_items": null,
            "left": null,
            "margin": null,
            "max_height": null,
            "max_width": null,
            "min_height": null,
            "min_width": null,
            "object_fit": null,
            "object_position": null,
            "order": null,
            "overflow": null,
            "overflow_x": null,
            "overflow_y": null,
            "padding": null,
            "right": null,
            "top": null,
            "visibility": null,
            "width": null
          }
        },
        "79d0332da1f345918c5f189b9a2c0cf4": {
          "model_module": "@jupyter-widgets/controls",
          "model_name": "DescriptionStyleModel",
          "model_module_version": "1.5.0",
          "state": {
            "_model_module": "@jupyter-widgets/controls",
            "_model_module_version": "1.5.0",
            "_model_name": "DescriptionStyleModel",
            "_view_count": null,
            "_view_module": "@jupyter-widgets/base",
            "_view_module_version": "1.2.0",
            "_view_name": "StyleView",
            "description_width": ""
          }
        },
        "42d0956b01f64ce6a3c14218719ec7cd": {
          "model_module": "@jupyter-widgets/base",
          "model_name": "LayoutModel",
          "model_module_version": "1.2.0",
          "state": {
            "_model_module": "@jupyter-widgets/base",
            "_model_module_version": "1.2.0",
            "_model_name": "LayoutModel",
            "_view_count": null,
            "_view_module": "@jupyter-widgets/base",
            "_view_module_version": "1.2.0",
            "_view_name": "LayoutView",
            "align_content": null,
            "align_items": null,
            "align_self": null,
            "border": null,
            "bottom": null,
            "display": null,
            "flex": null,
            "flex_flow": null,
            "grid_area": null,
            "grid_auto_columns": null,
            "grid_auto_flow": null,
            "grid_auto_rows": null,
            "grid_column": null,
            "grid_gap": null,
            "grid_row": null,
            "grid_template_areas": null,
            "grid_template_columns": null,
            "grid_template_rows": null,
            "height": null,
            "justify_content": null,
            "justify_items": null,
            "left": null,
            "margin": null,
            "max_height": null,
            "max_width": null,
            "min_height": null,
            "min_width": null,
            "object_fit": null,
            "object_position": null,
            "order": null,
            "overflow": null,
            "overflow_x": null,
            "overflow_y": null,
            "padding": null,
            "right": null,
            "top": null,
            "visibility": null,
            "width": null
          }
        },
        "88a2901430a74dc5b4ba5f11627694f1": {
          "model_module": "@jupyter-widgets/controls",
          "model_name": "ProgressStyleModel",
          "model_module_version": "1.5.0",
          "state": {
            "_model_module": "@jupyter-widgets/controls",
            "_model_module_version": "1.5.0",
            "_model_name": "ProgressStyleModel",
            "_view_count": null,
            "_view_module": "@jupyter-widgets/base",
            "_view_module_version": "1.2.0",
            "_view_name": "StyleView",
            "bar_color": null,
            "description_width": ""
          }
        },
        "6c2881fa2f634851a937de94db21f6b7": {
          "model_module": "@jupyter-widgets/base",
          "model_name": "LayoutModel",
          "model_module_version": "1.2.0",
          "state": {
            "_model_module": "@jupyter-widgets/base",
            "_model_module_version": "1.2.0",
            "_model_name": "LayoutModel",
            "_view_count": null,
            "_view_module": "@jupyter-widgets/base",
            "_view_module_version": "1.2.0",
            "_view_name": "LayoutView",
            "align_content": null,
            "align_items": null,
            "align_self": null,
            "border": null,
            "bottom": null,
            "display": null,
            "flex": null,
            "flex_flow": null,
            "grid_area": null,
            "grid_auto_columns": null,
            "grid_auto_flow": null,
            "grid_auto_rows": null,
            "grid_column": null,
            "grid_gap": null,
            "grid_row": null,
            "grid_template_areas": null,
            "grid_template_columns": null,
            "grid_template_rows": null,
            "height": null,
            "justify_content": null,
            "justify_items": null,
            "left": null,
            "margin": null,
            "max_height": null,
            "max_width": null,
            "min_height": null,
            "min_width": null,
            "object_fit": null,
            "object_position": null,
            "order": null,
            "overflow": null,
            "overflow_x": null,
            "overflow_y": null,
            "padding": null,
            "right": null,
            "top": null,
            "visibility": null,
            "width": null
          }
        },
        "356a63a825b145e081efc58f8602cb43": {
          "model_module": "@jupyter-widgets/controls",
          "model_name": "DescriptionStyleModel",
          "model_module_version": "1.5.0",
          "state": {
            "_model_module": "@jupyter-widgets/controls",
            "_model_module_version": "1.5.0",
            "_model_name": "DescriptionStyleModel",
            "_view_count": null,
            "_view_module": "@jupyter-widgets/base",
            "_view_module_version": "1.2.0",
            "_view_name": "StyleView",
            "description_width": ""
          }
        },
        "ba4998c8fd764723971a5da135b23447": {
          "model_module": "@jupyter-widgets/controls",
          "model_name": "HBoxModel",
          "model_module_version": "1.5.0",
          "state": {
            "_dom_classes": [],
            "_model_module": "@jupyter-widgets/controls",
            "_model_module_version": "1.5.0",
            "_model_name": "HBoxModel",
            "_view_count": null,
            "_view_module": "@jupyter-widgets/controls",
            "_view_module_version": "1.5.0",
            "_view_name": "HBoxView",
            "box_style": "",
            "children": [
              "IPY_MODEL_455b53ea37fd4f7d942d2fe814116078",
              "IPY_MODEL_eb8aa64ae9644ab5860503bd0d97cd3b",
              "IPY_MODEL_0e02e9114a9e41368b03be8c81ab0722"
            ],
            "layout": "IPY_MODEL_48a208e083eb4865a33866bd520031d2"
          }
        },
        "455b53ea37fd4f7d942d2fe814116078": {
          "model_module": "@jupyter-widgets/controls",
          "model_name": "HTMLModel",
          "model_module_version": "1.5.0",
          "state": {
            "_dom_classes": [],
            "_model_module": "@jupyter-widgets/controls",
            "_model_module_version": "1.5.0",
            "_model_name": "HTMLModel",
            "_view_count": null,
            "_view_module": "@jupyter-widgets/controls",
            "_view_module_version": "1.5.0",
            "_view_name": "HTMLView",
            "description": "",
            "description_tooltip": null,
            "layout": "IPY_MODEL_3eec8e7037d2464b9b7d7a7f273e6158",
            "placeholder": "​",
            "style": "IPY_MODEL_bd857ad6fbf240419eb0a5ebcefdfb96",
            "value": "Epochs 3/10. Running Loss:    0.0845: 100%"
          }
        },
        "eb8aa64ae9644ab5860503bd0d97cd3b": {
          "model_module": "@jupyter-widgets/controls",
          "model_name": "FloatProgressModel",
          "model_module_version": "1.5.0",
          "state": {
            "_dom_classes": [],
            "_model_module": "@jupyter-widgets/controls",
            "_model_module_version": "1.5.0",
            "_model_name": "FloatProgressModel",
            "_view_count": null,
            "_view_module": "@jupyter-widgets/controls",
            "_view_module_version": "1.5.0",
            "_view_name": "ProgressView",
            "bar_style": "success",
            "description": "",
            "description_tooltip": null,
            "layout": "IPY_MODEL_19b20cb65e75461789b2548843ca173c",
            "max": 1824,
            "min": 0,
            "orientation": "horizontal",
            "style": "IPY_MODEL_adeea55c93d54b3bba1ab979ef85f51e",
            "value": 1824
          }
        },
        "0e02e9114a9e41368b03be8c81ab0722": {
          "model_module": "@jupyter-widgets/controls",
          "model_name": "HTMLModel",
          "model_module_version": "1.5.0",
          "state": {
            "_dom_classes": [],
            "_model_module": "@jupyter-widgets/controls",
            "_model_module_version": "1.5.0",
            "_model_name": "HTMLModel",
            "_view_count": null,
            "_view_module": "@jupyter-widgets/controls",
            "_view_module_version": "1.5.0",
            "_view_name": "HTMLView",
            "description": "",
            "description_tooltip": null,
            "layout": "IPY_MODEL_f6253d8abd854a3685de41c9444c9f74",
            "placeholder": "​",
            "style": "IPY_MODEL_1567f4c48566411fb25073b81cce58cb",
            "value": " 1824/1824 [03:10&lt;00:00, 10.25it/s]"
          }
        },
        "48a208e083eb4865a33866bd520031d2": {
          "model_module": "@jupyter-widgets/base",
          "model_name": "LayoutModel",
          "model_module_version": "1.2.0",
          "state": {
            "_model_module": "@jupyter-widgets/base",
            "_model_module_version": "1.2.0",
            "_model_name": "LayoutModel",
            "_view_count": null,
            "_view_module": "@jupyter-widgets/base",
            "_view_module_version": "1.2.0",
            "_view_name": "LayoutView",
            "align_content": null,
            "align_items": null,
            "align_self": null,
            "border": null,
            "bottom": null,
            "display": null,
            "flex": null,
            "flex_flow": null,
            "grid_area": null,
            "grid_auto_columns": null,
            "grid_auto_flow": null,
            "grid_auto_rows": null,
            "grid_column": null,
            "grid_gap": null,
            "grid_row": null,
            "grid_template_areas": null,
            "grid_template_columns": null,
            "grid_template_rows": null,
            "height": null,
            "justify_content": null,
            "justify_items": null,
            "left": null,
            "margin": null,
            "max_height": null,
            "max_width": null,
            "min_height": null,
            "min_width": null,
            "object_fit": null,
            "object_position": null,
            "order": null,
            "overflow": null,
            "overflow_x": null,
            "overflow_y": null,
            "padding": null,
            "right": null,
            "top": null,
            "visibility": null,
            "width": null
          }
        },
        "3eec8e7037d2464b9b7d7a7f273e6158": {
          "model_module": "@jupyter-widgets/base",
          "model_name": "LayoutModel",
          "model_module_version": "1.2.0",
          "state": {
            "_model_module": "@jupyter-widgets/base",
            "_model_module_version": "1.2.0",
            "_model_name": "LayoutModel",
            "_view_count": null,
            "_view_module": "@jupyter-widgets/base",
            "_view_module_version": "1.2.0",
            "_view_name": "LayoutView",
            "align_content": null,
            "align_items": null,
            "align_self": null,
            "border": null,
            "bottom": null,
            "display": null,
            "flex": null,
            "flex_flow": null,
            "grid_area": null,
            "grid_auto_columns": null,
            "grid_auto_flow": null,
            "grid_auto_rows": null,
            "grid_column": null,
            "grid_gap": null,
            "grid_row": null,
            "grid_template_areas": null,
            "grid_template_columns": null,
            "grid_template_rows": null,
            "height": null,
            "justify_content": null,
            "justify_items": null,
            "left": null,
            "margin": null,
            "max_height": null,
            "max_width": null,
            "min_height": null,
            "min_width": null,
            "object_fit": null,
            "object_position": null,
            "order": null,
            "overflow": null,
            "overflow_x": null,
            "overflow_y": null,
            "padding": null,
            "right": null,
            "top": null,
            "visibility": null,
            "width": null
          }
        },
        "bd857ad6fbf240419eb0a5ebcefdfb96": {
          "model_module": "@jupyter-widgets/controls",
          "model_name": "DescriptionStyleModel",
          "model_module_version": "1.5.0",
          "state": {
            "_model_module": "@jupyter-widgets/controls",
            "_model_module_version": "1.5.0",
            "_model_name": "DescriptionStyleModel",
            "_view_count": null,
            "_view_module": "@jupyter-widgets/base",
            "_view_module_version": "1.2.0",
            "_view_name": "StyleView",
            "description_width": ""
          }
        },
        "19b20cb65e75461789b2548843ca173c": {
          "model_module": "@jupyter-widgets/base",
          "model_name": "LayoutModel",
          "model_module_version": "1.2.0",
          "state": {
            "_model_module": "@jupyter-widgets/base",
            "_model_module_version": "1.2.0",
            "_model_name": "LayoutModel",
            "_view_count": null,
            "_view_module": "@jupyter-widgets/base",
            "_view_module_version": "1.2.0",
            "_view_name": "LayoutView",
            "align_content": null,
            "align_items": null,
            "align_self": null,
            "border": null,
            "bottom": null,
            "display": null,
            "flex": null,
            "flex_flow": null,
            "grid_area": null,
            "grid_auto_columns": null,
            "grid_auto_flow": null,
            "grid_auto_rows": null,
            "grid_column": null,
            "grid_gap": null,
            "grid_row": null,
            "grid_template_areas": null,
            "grid_template_columns": null,
            "grid_template_rows": null,
            "height": null,
            "justify_content": null,
            "justify_items": null,
            "left": null,
            "margin": null,
            "max_height": null,
            "max_width": null,
            "min_height": null,
            "min_width": null,
            "object_fit": null,
            "object_position": null,
            "order": null,
            "overflow": null,
            "overflow_x": null,
            "overflow_y": null,
            "padding": null,
            "right": null,
            "top": null,
            "visibility": null,
            "width": null
          }
        },
        "adeea55c93d54b3bba1ab979ef85f51e": {
          "model_module": "@jupyter-widgets/controls",
          "model_name": "ProgressStyleModel",
          "model_module_version": "1.5.0",
          "state": {
            "_model_module": "@jupyter-widgets/controls",
            "_model_module_version": "1.5.0",
            "_model_name": "ProgressStyleModel",
            "_view_count": null,
            "_view_module": "@jupyter-widgets/base",
            "_view_module_version": "1.2.0",
            "_view_name": "StyleView",
            "bar_color": null,
            "description_width": ""
          }
        },
        "f6253d8abd854a3685de41c9444c9f74": {
          "model_module": "@jupyter-widgets/base",
          "model_name": "LayoutModel",
          "model_module_version": "1.2.0",
          "state": {
            "_model_module": "@jupyter-widgets/base",
            "_model_module_version": "1.2.0",
            "_model_name": "LayoutModel",
            "_view_count": null,
            "_view_module": "@jupyter-widgets/base",
            "_view_module_version": "1.2.0",
            "_view_name": "LayoutView",
            "align_content": null,
            "align_items": null,
            "align_self": null,
            "border": null,
            "bottom": null,
            "display": null,
            "flex": null,
            "flex_flow": null,
            "grid_area": null,
            "grid_auto_columns": null,
            "grid_auto_flow": null,
            "grid_auto_rows": null,
            "grid_column": null,
            "grid_gap": null,
            "grid_row": null,
            "grid_template_areas": null,
            "grid_template_columns": null,
            "grid_template_rows": null,
            "height": null,
            "justify_content": null,
            "justify_items": null,
            "left": null,
            "margin": null,
            "max_height": null,
            "max_width": null,
            "min_height": null,
            "min_width": null,
            "object_fit": null,
            "object_position": null,
            "order": null,
            "overflow": null,
            "overflow_x": null,
            "overflow_y": null,
            "padding": null,
            "right": null,
            "top": null,
            "visibility": null,
            "width": null
          }
        },
        "1567f4c48566411fb25073b81cce58cb": {
          "model_module": "@jupyter-widgets/controls",
          "model_name": "DescriptionStyleModel",
          "model_module_version": "1.5.0",
          "state": {
            "_model_module": "@jupyter-widgets/controls",
            "_model_module_version": "1.5.0",
            "_model_name": "DescriptionStyleModel",
            "_view_count": null,
            "_view_module": "@jupyter-widgets/base",
            "_view_module_version": "1.2.0",
            "_view_name": "StyleView",
            "description_width": ""
          }
        },
        "616767885b514509ac6f9c1ce3cc809a": {
          "model_module": "@jupyter-widgets/controls",
          "model_name": "HBoxModel",
          "model_module_version": "1.5.0",
          "state": {
            "_dom_classes": [],
            "_model_module": "@jupyter-widgets/controls",
            "_model_module_version": "1.5.0",
            "_model_name": "HBoxModel",
            "_view_count": null,
            "_view_module": "@jupyter-widgets/controls",
            "_view_module_version": "1.5.0",
            "_view_name": "HBoxView",
            "box_style": "",
            "children": [
              "IPY_MODEL_45a513a1cc71478fa292b8a96fb8b4c5",
              "IPY_MODEL_a1497714204f46f99bd034e1f2e86c08",
              "IPY_MODEL_412128e8b3254e77bbac2844f00f96e5"
            ],
            "layout": "IPY_MODEL_178301f506584418887d255a665791fe"
          }
        },
        "45a513a1cc71478fa292b8a96fb8b4c5": {
          "model_module": "@jupyter-widgets/controls",
          "model_name": "HTMLModel",
          "model_module_version": "1.5.0",
          "state": {
            "_dom_classes": [],
            "_model_module": "@jupyter-widgets/controls",
            "_model_module_version": "1.5.0",
            "_model_name": "HTMLModel",
            "_view_count": null,
            "_view_module": "@jupyter-widgets/controls",
            "_view_module_version": "1.5.0",
            "_view_name": "HTMLView",
            "description": "",
            "description_tooltip": null,
            "layout": "IPY_MODEL_c233b6a53ad343d2a911b852f145ff34",
            "placeholder": "​",
            "style": "IPY_MODEL_41de38d0da0f4c01b9a09de4f521b7cc",
            "value": "Epochs 4/10. Running Loss:    0.0823: 100%"
          }
        },
        "a1497714204f46f99bd034e1f2e86c08": {
          "model_module": "@jupyter-widgets/controls",
          "model_name": "FloatProgressModel",
          "model_module_version": "1.5.0",
          "state": {
            "_dom_classes": [],
            "_model_module": "@jupyter-widgets/controls",
            "_model_module_version": "1.5.0",
            "_model_name": "FloatProgressModel",
            "_view_count": null,
            "_view_module": "@jupyter-widgets/controls",
            "_view_module_version": "1.5.0",
            "_view_name": "ProgressView",
            "bar_style": "success",
            "description": "",
            "description_tooltip": null,
            "layout": "IPY_MODEL_8b501da54b654b7c8840447d66e5a120",
            "max": 1824,
            "min": 0,
            "orientation": "horizontal",
            "style": "IPY_MODEL_8e3540af18a441079b70b16e07ae554b",
            "value": 1824
          }
        },
        "412128e8b3254e77bbac2844f00f96e5": {
          "model_module": "@jupyter-widgets/controls",
          "model_name": "HTMLModel",
          "model_module_version": "1.5.0",
          "state": {
            "_dom_classes": [],
            "_model_module": "@jupyter-widgets/controls",
            "_model_module_version": "1.5.0",
            "_model_name": "HTMLModel",
            "_view_count": null,
            "_view_module": "@jupyter-widgets/controls",
            "_view_module_version": "1.5.0",
            "_view_name": "HTMLView",
            "description": "",
            "description_tooltip": null,
            "layout": "IPY_MODEL_5d33ae75342c4dd980bc5aba04e71cc8",
            "placeholder": "​",
            "style": "IPY_MODEL_2f70520d7c4d415b92c6d2df56b24a98",
            "value": " 1824/1824 [03:10&lt;00:00, 10.25it/s]"
          }
        },
        "178301f506584418887d255a665791fe": {
          "model_module": "@jupyter-widgets/base",
          "model_name": "LayoutModel",
          "model_module_version": "1.2.0",
          "state": {
            "_model_module": "@jupyter-widgets/base",
            "_model_module_version": "1.2.0",
            "_model_name": "LayoutModel",
            "_view_count": null,
            "_view_module": "@jupyter-widgets/base",
            "_view_module_version": "1.2.0",
            "_view_name": "LayoutView",
            "align_content": null,
            "align_items": null,
            "align_self": null,
            "border": null,
            "bottom": null,
            "display": null,
            "flex": null,
            "flex_flow": null,
            "grid_area": null,
            "grid_auto_columns": null,
            "grid_auto_flow": null,
            "grid_auto_rows": null,
            "grid_column": null,
            "grid_gap": null,
            "grid_row": null,
            "grid_template_areas": null,
            "grid_template_columns": null,
            "grid_template_rows": null,
            "height": null,
            "justify_content": null,
            "justify_items": null,
            "left": null,
            "margin": null,
            "max_height": null,
            "max_width": null,
            "min_height": null,
            "min_width": null,
            "object_fit": null,
            "object_position": null,
            "order": null,
            "overflow": null,
            "overflow_x": null,
            "overflow_y": null,
            "padding": null,
            "right": null,
            "top": null,
            "visibility": null,
            "width": null
          }
        },
        "c233b6a53ad343d2a911b852f145ff34": {
          "model_module": "@jupyter-widgets/base",
          "model_name": "LayoutModel",
          "model_module_version": "1.2.0",
          "state": {
            "_model_module": "@jupyter-widgets/base",
            "_model_module_version": "1.2.0",
            "_model_name": "LayoutModel",
            "_view_count": null,
            "_view_module": "@jupyter-widgets/base",
            "_view_module_version": "1.2.0",
            "_view_name": "LayoutView",
            "align_content": null,
            "align_items": null,
            "align_self": null,
            "border": null,
            "bottom": null,
            "display": null,
            "flex": null,
            "flex_flow": null,
            "grid_area": null,
            "grid_auto_columns": null,
            "grid_auto_flow": null,
            "grid_auto_rows": null,
            "grid_column": null,
            "grid_gap": null,
            "grid_row": null,
            "grid_template_areas": null,
            "grid_template_columns": null,
            "grid_template_rows": null,
            "height": null,
            "justify_content": null,
            "justify_items": null,
            "left": null,
            "margin": null,
            "max_height": null,
            "max_width": null,
            "min_height": null,
            "min_width": null,
            "object_fit": null,
            "object_position": null,
            "order": null,
            "overflow": null,
            "overflow_x": null,
            "overflow_y": null,
            "padding": null,
            "right": null,
            "top": null,
            "visibility": null,
            "width": null
          }
        },
        "41de38d0da0f4c01b9a09de4f521b7cc": {
          "model_module": "@jupyter-widgets/controls",
          "model_name": "DescriptionStyleModel",
          "model_module_version": "1.5.0",
          "state": {
            "_model_module": "@jupyter-widgets/controls",
            "_model_module_version": "1.5.0",
            "_model_name": "DescriptionStyleModel",
            "_view_count": null,
            "_view_module": "@jupyter-widgets/base",
            "_view_module_version": "1.2.0",
            "_view_name": "StyleView",
            "description_width": ""
          }
        },
        "8b501da54b654b7c8840447d66e5a120": {
          "model_module": "@jupyter-widgets/base",
          "model_name": "LayoutModel",
          "model_module_version": "1.2.0",
          "state": {
            "_model_module": "@jupyter-widgets/base",
            "_model_module_version": "1.2.0",
            "_model_name": "LayoutModel",
            "_view_count": null,
            "_view_module": "@jupyter-widgets/base",
            "_view_module_version": "1.2.0",
            "_view_name": "LayoutView",
            "align_content": null,
            "align_items": null,
            "align_self": null,
            "border": null,
            "bottom": null,
            "display": null,
            "flex": null,
            "flex_flow": null,
            "grid_area": null,
            "grid_auto_columns": null,
            "grid_auto_flow": null,
            "grid_auto_rows": null,
            "grid_column": null,
            "grid_gap": null,
            "grid_row": null,
            "grid_template_areas": null,
            "grid_template_columns": null,
            "grid_template_rows": null,
            "height": null,
            "justify_content": null,
            "justify_items": null,
            "left": null,
            "margin": null,
            "max_height": null,
            "max_width": null,
            "min_height": null,
            "min_width": null,
            "object_fit": null,
            "object_position": null,
            "order": null,
            "overflow": null,
            "overflow_x": null,
            "overflow_y": null,
            "padding": null,
            "right": null,
            "top": null,
            "visibility": null,
            "width": null
          }
        },
        "8e3540af18a441079b70b16e07ae554b": {
          "model_module": "@jupyter-widgets/controls",
          "model_name": "ProgressStyleModel",
          "model_module_version": "1.5.0",
          "state": {
            "_model_module": "@jupyter-widgets/controls",
            "_model_module_version": "1.5.0",
            "_model_name": "ProgressStyleModel",
            "_view_count": null,
            "_view_module": "@jupyter-widgets/base",
            "_view_module_version": "1.2.0",
            "_view_name": "StyleView",
            "bar_color": null,
            "description_width": ""
          }
        },
        "5d33ae75342c4dd980bc5aba04e71cc8": {
          "model_module": "@jupyter-widgets/base",
          "model_name": "LayoutModel",
          "model_module_version": "1.2.0",
          "state": {
            "_model_module": "@jupyter-widgets/base",
            "_model_module_version": "1.2.0",
            "_model_name": "LayoutModel",
            "_view_count": null,
            "_view_module": "@jupyter-widgets/base",
            "_view_module_version": "1.2.0",
            "_view_name": "LayoutView",
            "align_content": null,
            "align_items": null,
            "align_self": null,
            "border": null,
            "bottom": null,
            "display": null,
            "flex": null,
            "flex_flow": null,
            "grid_area": null,
            "grid_auto_columns": null,
            "grid_auto_flow": null,
            "grid_auto_rows": null,
            "grid_column": null,
            "grid_gap": null,
            "grid_row": null,
            "grid_template_areas": null,
            "grid_template_columns": null,
            "grid_template_rows": null,
            "height": null,
            "justify_content": null,
            "justify_items": null,
            "left": null,
            "margin": null,
            "max_height": null,
            "max_width": null,
            "min_height": null,
            "min_width": null,
            "object_fit": null,
            "object_position": null,
            "order": null,
            "overflow": null,
            "overflow_x": null,
            "overflow_y": null,
            "padding": null,
            "right": null,
            "top": null,
            "visibility": null,
            "width": null
          }
        },
        "2f70520d7c4d415b92c6d2df56b24a98": {
          "model_module": "@jupyter-widgets/controls",
          "model_name": "DescriptionStyleModel",
          "model_module_version": "1.5.0",
          "state": {
            "_model_module": "@jupyter-widgets/controls",
            "_model_module_version": "1.5.0",
            "_model_name": "DescriptionStyleModel",
            "_view_count": null,
            "_view_module": "@jupyter-widgets/base",
            "_view_module_version": "1.2.0",
            "_view_name": "StyleView",
            "description_width": ""
          }
        },
        "3a47f5ca95e94078a38aa3b70c0a8ad0": {
          "model_module": "@jupyter-widgets/controls",
          "model_name": "HBoxModel",
          "model_module_version": "1.5.0",
          "state": {
            "_dom_classes": [],
            "_model_module": "@jupyter-widgets/controls",
            "_model_module_version": "1.5.0",
            "_model_name": "HBoxModel",
            "_view_count": null,
            "_view_module": "@jupyter-widgets/controls",
            "_view_module_version": "1.5.0",
            "_view_name": "HBoxView",
            "box_style": "",
            "children": [
              "IPY_MODEL_92b771e3f4834e13a8791b9504e768a3",
              "IPY_MODEL_c0466c2a9b2c4577b0e6b2603ce51838",
              "IPY_MODEL_27bd83c2398945559d640b54462983b0"
            ],
            "layout": "IPY_MODEL_33dfe0b8bef744b49e331c311016a8d2"
          }
        },
        "92b771e3f4834e13a8791b9504e768a3": {
          "model_module": "@jupyter-widgets/controls",
          "model_name": "HTMLModel",
          "model_module_version": "1.5.0",
          "state": {
            "_dom_classes": [],
            "_model_module": "@jupyter-widgets/controls",
            "_model_module_version": "1.5.0",
            "_model_name": "HTMLModel",
            "_view_count": null,
            "_view_module": "@jupyter-widgets/controls",
            "_view_module_version": "1.5.0",
            "_view_name": "HTMLView",
            "description": "",
            "description_tooltip": null,
            "layout": "IPY_MODEL_57543257876e4d0587aafb6660eda249",
            "placeholder": "​",
            "style": "IPY_MODEL_4060f667b3f146f4a3455819fc720c5f",
            "value": "Epochs 5/10. Running Loss:    0.0444: 100%"
          }
        },
        "c0466c2a9b2c4577b0e6b2603ce51838": {
          "model_module": "@jupyter-widgets/controls",
          "model_name": "FloatProgressModel",
          "model_module_version": "1.5.0",
          "state": {
            "_dom_classes": [],
            "_model_module": "@jupyter-widgets/controls",
            "_model_module_version": "1.5.0",
            "_model_name": "FloatProgressModel",
            "_view_count": null,
            "_view_module": "@jupyter-widgets/controls",
            "_view_module_version": "1.5.0",
            "_view_name": "ProgressView",
            "bar_style": "success",
            "description": "",
            "description_tooltip": null,
            "layout": "IPY_MODEL_3c9845c9f7504a99a73511a827e31d22",
            "max": 1824,
            "min": 0,
            "orientation": "horizontal",
            "style": "IPY_MODEL_ee7db926648b49119a4997aea26190a5",
            "value": 1824
          }
        },
        "27bd83c2398945559d640b54462983b0": {
          "model_module": "@jupyter-widgets/controls",
          "model_name": "HTMLModel",
          "model_module_version": "1.5.0",
          "state": {
            "_dom_classes": [],
            "_model_module": "@jupyter-widgets/controls",
            "_model_module_version": "1.5.0",
            "_model_name": "HTMLModel",
            "_view_count": null,
            "_view_module": "@jupyter-widgets/controls",
            "_view_module_version": "1.5.0",
            "_view_name": "HTMLView",
            "description": "",
            "description_tooltip": null,
            "layout": "IPY_MODEL_9c0b0b694c3d492b80c0501aaa159857",
            "placeholder": "​",
            "style": "IPY_MODEL_3cf2410614bc41268e453b8742da2fba",
            "value": " 1824/1824 [03:10&lt;00:00, 10.21it/s]"
          }
        },
        "33dfe0b8bef744b49e331c311016a8d2": {
          "model_module": "@jupyter-widgets/base",
          "model_name": "LayoutModel",
          "model_module_version": "1.2.0",
          "state": {
            "_model_module": "@jupyter-widgets/base",
            "_model_module_version": "1.2.0",
            "_model_name": "LayoutModel",
            "_view_count": null,
            "_view_module": "@jupyter-widgets/base",
            "_view_module_version": "1.2.0",
            "_view_name": "LayoutView",
            "align_content": null,
            "align_items": null,
            "align_self": null,
            "border": null,
            "bottom": null,
            "display": null,
            "flex": null,
            "flex_flow": null,
            "grid_area": null,
            "grid_auto_columns": null,
            "grid_auto_flow": null,
            "grid_auto_rows": null,
            "grid_column": null,
            "grid_gap": null,
            "grid_row": null,
            "grid_template_areas": null,
            "grid_template_columns": null,
            "grid_template_rows": null,
            "height": null,
            "justify_content": null,
            "justify_items": null,
            "left": null,
            "margin": null,
            "max_height": null,
            "max_width": null,
            "min_height": null,
            "min_width": null,
            "object_fit": null,
            "object_position": null,
            "order": null,
            "overflow": null,
            "overflow_x": null,
            "overflow_y": null,
            "padding": null,
            "right": null,
            "top": null,
            "visibility": null,
            "width": null
          }
        },
        "57543257876e4d0587aafb6660eda249": {
          "model_module": "@jupyter-widgets/base",
          "model_name": "LayoutModel",
          "model_module_version": "1.2.0",
          "state": {
            "_model_module": "@jupyter-widgets/base",
            "_model_module_version": "1.2.0",
            "_model_name": "LayoutModel",
            "_view_count": null,
            "_view_module": "@jupyter-widgets/base",
            "_view_module_version": "1.2.0",
            "_view_name": "LayoutView",
            "align_content": null,
            "align_items": null,
            "align_self": null,
            "border": null,
            "bottom": null,
            "display": null,
            "flex": null,
            "flex_flow": null,
            "grid_area": null,
            "grid_auto_columns": null,
            "grid_auto_flow": null,
            "grid_auto_rows": null,
            "grid_column": null,
            "grid_gap": null,
            "grid_row": null,
            "grid_template_areas": null,
            "grid_template_columns": null,
            "grid_template_rows": null,
            "height": null,
            "justify_content": null,
            "justify_items": null,
            "left": null,
            "margin": null,
            "max_height": null,
            "max_width": null,
            "min_height": null,
            "min_width": null,
            "object_fit": null,
            "object_position": null,
            "order": null,
            "overflow": null,
            "overflow_x": null,
            "overflow_y": null,
            "padding": null,
            "right": null,
            "top": null,
            "visibility": null,
            "width": null
          }
        },
        "4060f667b3f146f4a3455819fc720c5f": {
          "model_module": "@jupyter-widgets/controls",
          "model_name": "DescriptionStyleModel",
          "model_module_version": "1.5.0",
          "state": {
            "_model_module": "@jupyter-widgets/controls",
            "_model_module_version": "1.5.0",
            "_model_name": "DescriptionStyleModel",
            "_view_count": null,
            "_view_module": "@jupyter-widgets/base",
            "_view_module_version": "1.2.0",
            "_view_name": "StyleView",
            "description_width": ""
          }
        },
        "3c9845c9f7504a99a73511a827e31d22": {
          "model_module": "@jupyter-widgets/base",
          "model_name": "LayoutModel",
          "model_module_version": "1.2.0",
          "state": {
            "_model_module": "@jupyter-widgets/base",
            "_model_module_version": "1.2.0",
            "_model_name": "LayoutModel",
            "_view_count": null,
            "_view_module": "@jupyter-widgets/base",
            "_view_module_version": "1.2.0",
            "_view_name": "LayoutView",
            "align_content": null,
            "align_items": null,
            "align_self": null,
            "border": null,
            "bottom": null,
            "display": null,
            "flex": null,
            "flex_flow": null,
            "grid_area": null,
            "grid_auto_columns": null,
            "grid_auto_flow": null,
            "grid_auto_rows": null,
            "grid_column": null,
            "grid_gap": null,
            "grid_row": null,
            "grid_template_areas": null,
            "grid_template_columns": null,
            "grid_template_rows": null,
            "height": null,
            "justify_content": null,
            "justify_items": null,
            "left": null,
            "margin": null,
            "max_height": null,
            "max_width": null,
            "min_height": null,
            "min_width": null,
            "object_fit": null,
            "object_position": null,
            "order": null,
            "overflow": null,
            "overflow_x": null,
            "overflow_y": null,
            "padding": null,
            "right": null,
            "top": null,
            "visibility": null,
            "width": null
          }
        },
        "ee7db926648b49119a4997aea26190a5": {
          "model_module": "@jupyter-widgets/controls",
          "model_name": "ProgressStyleModel",
          "model_module_version": "1.5.0",
          "state": {
            "_model_module": "@jupyter-widgets/controls",
            "_model_module_version": "1.5.0",
            "_model_name": "ProgressStyleModel",
            "_view_count": null,
            "_view_module": "@jupyter-widgets/base",
            "_view_module_version": "1.2.0",
            "_view_name": "StyleView",
            "bar_color": null,
            "description_width": ""
          }
        },
        "9c0b0b694c3d492b80c0501aaa159857": {
          "model_module": "@jupyter-widgets/base",
          "model_name": "LayoutModel",
          "model_module_version": "1.2.0",
          "state": {
            "_model_module": "@jupyter-widgets/base",
            "_model_module_version": "1.2.0",
            "_model_name": "LayoutModel",
            "_view_count": null,
            "_view_module": "@jupyter-widgets/base",
            "_view_module_version": "1.2.0",
            "_view_name": "LayoutView",
            "align_content": null,
            "align_items": null,
            "align_self": null,
            "border": null,
            "bottom": null,
            "display": null,
            "flex": null,
            "flex_flow": null,
            "grid_area": null,
            "grid_auto_columns": null,
            "grid_auto_flow": null,
            "grid_auto_rows": null,
            "grid_column": null,
            "grid_gap": null,
            "grid_row": null,
            "grid_template_areas": null,
            "grid_template_columns": null,
            "grid_template_rows": null,
            "height": null,
            "justify_content": null,
            "justify_items": null,
            "left": null,
            "margin": null,
            "max_height": null,
            "max_width": null,
            "min_height": null,
            "min_width": null,
            "object_fit": null,
            "object_position": null,
            "order": null,
            "overflow": null,
            "overflow_x": null,
            "overflow_y": null,
            "padding": null,
            "right": null,
            "top": null,
            "visibility": null,
            "width": null
          }
        },
        "3cf2410614bc41268e453b8742da2fba": {
          "model_module": "@jupyter-widgets/controls",
          "model_name": "DescriptionStyleModel",
          "model_module_version": "1.5.0",
          "state": {
            "_model_module": "@jupyter-widgets/controls",
            "_model_module_version": "1.5.0",
            "_model_name": "DescriptionStyleModel",
            "_view_count": null,
            "_view_module": "@jupyter-widgets/base",
            "_view_module_version": "1.2.0",
            "_view_name": "StyleView",
            "description_width": ""
          }
        },
        "15b36696f40c470ca42b0ced1a15e557": {
          "model_module": "@jupyter-widgets/controls",
          "model_name": "HBoxModel",
          "model_module_version": "1.5.0",
          "state": {
            "_dom_classes": [],
            "_model_module": "@jupyter-widgets/controls",
            "_model_module_version": "1.5.0",
            "_model_name": "HBoxModel",
            "_view_count": null,
            "_view_module": "@jupyter-widgets/controls",
            "_view_module_version": "1.5.0",
            "_view_name": "HBoxView",
            "box_style": "",
            "children": [
              "IPY_MODEL_5a3d69ff88c54ab09639fb42e2deae21",
              "IPY_MODEL_084b0096be564aa79cb9505b8f435baf",
              "IPY_MODEL_bfb6720c202e42918b829ff060c586a3"
            ],
            "layout": "IPY_MODEL_909b32b7bdf142c888217ccff90f76ef"
          }
        },
        "5a3d69ff88c54ab09639fb42e2deae21": {
          "model_module": "@jupyter-widgets/controls",
          "model_name": "HTMLModel",
          "model_module_version": "1.5.0",
          "state": {
            "_dom_classes": [],
            "_model_module": "@jupyter-widgets/controls",
            "_model_module_version": "1.5.0",
            "_model_name": "HTMLModel",
            "_view_count": null,
            "_view_module": "@jupyter-widgets/controls",
            "_view_module_version": "1.5.0",
            "_view_name": "HTMLView",
            "description": "",
            "description_tooltip": null,
            "layout": "IPY_MODEL_09a2b1b0b6684b87b1244c94eff234a7",
            "placeholder": "​",
            "style": "IPY_MODEL_baa0371749a442ffa5b44309fde327f6",
            "value": "Epochs 6/10. Running Loss:    0.0392: 100%"
          }
        },
        "084b0096be564aa79cb9505b8f435baf": {
          "model_module": "@jupyter-widgets/controls",
          "model_name": "FloatProgressModel",
          "model_module_version": "1.5.0",
          "state": {
            "_dom_classes": [],
            "_model_module": "@jupyter-widgets/controls",
            "_model_module_version": "1.5.0",
            "_model_name": "FloatProgressModel",
            "_view_count": null,
            "_view_module": "@jupyter-widgets/controls",
            "_view_module_version": "1.5.0",
            "_view_name": "ProgressView",
            "bar_style": "success",
            "description": "",
            "description_tooltip": null,
            "layout": "IPY_MODEL_bfaaeea26a3d4109bb9c319008a7d379",
            "max": 1824,
            "min": 0,
            "orientation": "horizontal",
            "style": "IPY_MODEL_aa16e5451b404f1e81a15e478dcc2715",
            "value": 1824
          }
        },
        "bfb6720c202e42918b829ff060c586a3": {
          "model_module": "@jupyter-widgets/controls",
          "model_name": "HTMLModel",
          "model_module_version": "1.5.0",
          "state": {
            "_dom_classes": [],
            "_model_module": "@jupyter-widgets/controls",
            "_model_module_version": "1.5.0",
            "_model_name": "HTMLModel",
            "_view_count": null,
            "_view_module": "@jupyter-widgets/controls",
            "_view_module_version": "1.5.0",
            "_view_name": "HTMLView",
            "description": "",
            "description_tooltip": null,
            "layout": "IPY_MODEL_22587758288c45d2a39dfbba2a4dc6f3",
            "placeholder": "​",
            "style": "IPY_MODEL_687593ab032f48d09f86579e11081ce7",
            "value": " 1824/1824 [03:10&lt;00:00, 10.32it/s]"
          }
        },
        "909b32b7bdf142c888217ccff90f76ef": {
          "model_module": "@jupyter-widgets/base",
          "model_name": "LayoutModel",
          "model_module_version": "1.2.0",
          "state": {
            "_model_module": "@jupyter-widgets/base",
            "_model_module_version": "1.2.0",
            "_model_name": "LayoutModel",
            "_view_count": null,
            "_view_module": "@jupyter-widgets/base",
            "_view_module_version": "1.2.0",
            "_view_name": "LayoutView",
            "align_content": null,
            "align_items": null,
            "align_self": null,
            "border": null,
            "bottom": null,
            "display": null,
            "flex": null,
            "flex_flow": null,
            "grid_area": null,
            "grid_auto_columns": null,
            "grid_auto_flow": null,
            "grid_auto_rows": null,
            "grid_column": null,
            "grid_gap": null,
            "grid_row": null,
            "grid_template_areas": null,
            "grid_template_columns": null,
            "grid_template_rows": null,
            "height": null,
            "justify_content": null,
            "justify_items": null,
            "left": null,
            "margin": null,
            "max_height": null,
            "max_width": null,
            "min_height": null,
            "min_width": null,
            "object_fit": null,
            "object_position": null,
            "order": null,
            "overflow": null,
            "overflow_x": null,
            "overflow_y": null,
            "padding": null,
            "right": null,
            "top": null,
            "visibility": null,
            "width": null
          }
        },
        "09a2b1b0b6684b87b1244c94eff234a7": {
          "model_module": "@jupyter-widgets/base",
          "model_name": "LayoutModel",
          "model_module_version": "1.2.0",
          "state": {
            "_model_module": "@jupyter-widgets/base",
            "_model_module_version": "1.2.0",
            "_model_name": "LayoutModel",
            "_view_count": null,
            "_view_module": "@jupyter-widgets/base",
            "_view_module_version": "1.2.0",
            "_view_name": "LayoutView",
            "align_content": null,
            "align_items": null,
            "align_self": null,
            "border": null,
            "bottom": null,
            "display": null,
            "flex": null,
            "flex_flow": null,
            "grid_area": null,
            "grid_auto_columns": null,
            "grid_auto_flow": null,
            "grid_auto_rows": null,
            "grid_column": null,
            "grid_gap": null,
            "grid_row": null,
            "grid_template_areas": null,
            "grid_template_columns": null,
            "grid_template_rows": null,
            "height": null,
            "justify_content": null,
            "justify_items": null,
            "left": null,
            "margin": null,
            "max_height": null,
            "max_width": null,
            "min_height": null,
            "min_width": null,
            "object_fit": null,
            "object_position": null,
            "order": null,
            "overflow": null,
            "overflow_x": null,
            "overflow_y": null,
            "padding": null,
            "right": null,
            "top": null,
            "visibility": null,
            "width": null
          }
        },
        "baa0371749a442ffa5b44309fde327f6": {
          "model_module": "@jupyter-widgets/controls",
          "model_name": "DescriptionStyleModel",
          "model_module_version": "1.5.0",
          "state": {
            "_model_module": "@jupyter-widgets/controls",
            "_model_module_version": "1.5.0",
            "_model_name": "DescriptionStyleModel",
            "_view_count": null,
            "_view_module": "@jupyter-widgets/base",
            "_view_module_version": "1.2.0",
            "_view_name": "StyleView",
            "description_width": ""
          }
        },
        "bfaaeea26a3d4109bb9c319008a7d379": {
          "model_module": "@jupyter-widgets/base",
          "model_name": "LayoutModel",
          "model_module_version": "1.2.0",
          "state": {
            "_model_module": "@jupyter-widgets/base",
            "_model_module_version": "1.2.0",
            "_model_name": "LayoutModel",
            "_view_count": null,
            "_view_module": "@jupyter-widgets/base",
            "_view_module_version": "1.2.0",
            "_view_name": "LayoutView",
            "align_content": null,
            "align_items": null,
            "align_self": null,
            "border": null,
            "bottom": null,
            "display": null,
            "flex": null,
            "flex_flow": null,
            "grid_area": null,
            "grid_auto_columns": null,
            "grid_auto_flow": null,
            "grid_auto_rows": null,
            "grid_column": null,
            "grid_gap": null,
            "grid_row": null,
            "grid_template_areas": null,
            "grid_template_columns": null,
            "grid_template_rows": null,
            "height": null,
            "justify_content": null,
            "justify_items": null,
            "left": null,
            "margin": null,
            "max_height": null,
            "max_width": null,
            "min_height": null,
            "min_width": null,
            "object_fit": null,
            "object_position": null,
            "order": null,
            "overflow": null,
            "overflow_x": null,
            "overflow_y": null,
            "padding": null,
            "right": null,
            "top": null,
            "visibility": null,
            "width": null
          }
        },
        "aa16e5451b404f1e81a15e478dcc2715": {
          "model_module": "@jupyter-widgets/controls",
          "model_name": "ProgressStyleModel",
          "model_module_version": "1.5.0",
          "state": {
            "_model_module": "@jupyter-widgets/controls",
            "_model_module_version": "1.5.0",
            "_model_name": "ProgressStyleModel",
            "_view_count": null,
            "_view_module": "@jupyter-widgets/base",
            "_view_module_version": "1.2.0",
            "_view_name": "StyleView",
            "bar_color": null,
            "description_width": ""
          }
        },
        "22587758288c45d2a39dfbba2a4dc6f3": {
          "model_module": "@jupyter-widgets/base",
          "model_name": "LayoutModel",
          "model_module_version": "1.2.0",
          "state": {
            "_model_module": "@jupyter-widgets/base",
            "_model_module_version": "1.2.0",
            "_model_name": "LayoutModel",
            "_view_count": null,
            "_view_module": "@jupyter-widgets/base",
            "_view_module_version": "1.2.0",
            "_view_name": "LayoutView",
            "align_content": null,
            "align_items": null,
            "align_self": null,
            "border": null,
            "bottom": null,
            "display": null,
            "flex": null,
            "flex_flow": null,
            "grid_area": null,
            "grid_auto_columns": null,
            "grid_auto_flow": null,
            "grid_auto_rows": null,
            "grid_column": null,
            "grid_gap": null,
            "grid_row": null,
            "grid_template_areas": null,
            "grid_template_columns": null,
            "grid_template_rows": null,
            "height": null,
            "justify_content": null,
            "justify_items": null,
            "left": null,
            "margin": null,
            "max_height": null,
            "max_width": null,
            "min_height": null,
            "min_width": null,
            "object_fit": null,
            "object_position": null,
            "order": null,
            "overflow": null,
            "overflow_x": null,
            "overflow_y": null,
            "padding": null,
            "right": null,
            "top": null,
            "visibility": null,
            "width": null
          }
        },
        "687593ab032f48d09f86579e11081ce7": {
          "model_module": "@jupyter-widgets/controls",
          "model_name": "DescriptionStyleModel",
          "model_module_version": "1.5.0",
          "state": {
            "_model_module": "@jupyter-widgets/controls",
            "_model_module_version": "1.5.0",
            "_model_name": "DescriptionStyleModel",
            "_view_count": null,
            "_view_module": "@jupyter-widgets/base",
            "_view_module_version": "1.2.0",
            "_view_name": "StyleView",
            "description_width": ""
          }
        },
        "ec5be20f627e49b5bce99ca275cff794": {
          "model_module": "@jupyter-widgets/controls",
          "model_name": "HBoxModel",
          "model_module_version": "1.5.0",
          "state": {
            "_dom_classes": [],
            "_model_module": "@jupyter-widgets/controls",
            "_model_module_version": "1.5.0",
            "_model_name": "HBoxModel",
            "_view_count": null,
            "_view_module": "@jupyter-widgets/controls",
            "_view_module_version": "1.5.0",
            "_view_name": "HBoxView",
            "box_style": "",
            "children": [
              "IPY_MODEL_dfc73853ad374fd198c5d362cf261fe8",
              "IPY_MODEL_c32939413c0940679e835aa14fe92d00",
              "IPY_MODEL_5e2e3bfa3c9a480b9ba0f5f66363dcbb"
            ],
            "layout": "IPY_MODEL_5e0759a2741e492f92d39c0545cbe6a5"
          }
        },
        "dfc73853ad374fd198c5d362cf261fe8": {
          "model_module": "@jupyter-widgets/controls",
          "model_name": "HTMLModel",
          "model_module_version": "1.5.0",
          "state": {
            "_dom_classes": [],
            "_model_module": "@jupyter-widgets/controls",
            "_model_module_version": "1.5.0",
            "_model_name": "HTMLModel",
            "_view_count": null,
            "_view_module": "@jupyter-widgets/controls",
            "_view_module_version": "1.5.0",
            "_view_name": "HTMLView",
            "description": "",
            "description_tooltip": null,
            "layout": "IPY_MODEL_d2b199cc771a48fda1eaa201eaaf8c23",
            "placeholder": "​",
            "style": "IPY_MODEL_a9602b996d334d629440b77edd6fed1a",
            "value": "Epochs 7/10. Running Loss:    0.0305: 100%"
          }
        },
        "c32939413c0940679e835aa14fe92d00": {
          "model_module": "@jupyter-widgets/controls",
          "model_name": "FloatProgressModel",
          "model_module_version": "1.5.0",
          "state": {
            "_dom_classes": [],
            "_model_module": "@jupyter-widgets/controls",
            "_model_module_version": "1.5.0",
            "_model_name": "FloatProgressModel",
            "_view_count": null,
            "_view_module": "@jupyter-widgets/controls",
            "_view_module_version": "1.5.0",
            "_view_name": "ProgressView",
            "bar_style": "success",
            "description": "",
            "description_tooltip": null,
            "layout": "IPY_MODEL_2ffed7dd79654124ab3de966da7dfe1b",
            "max": 1824,
            "min": 0,
            "orientation": "horizontal",
            "style": "IPY_MODEL_9c6363c2e4454636b899c3c7930cf1e4",
            "value": 1824
          }
        },
        "5e2e3bfa3c9a480b9ba0f5f66363dcbb": {
          "model_module": "@jupyter-widgets/controls",
          "model_name": "HTMLModel",
          "model_module_version": "1.5.0",
          "state": {
            "_dom_classes": [],
            "_model_module": "@jupyter-widgets/controls",
            "_model_module_version": "1.5.0",
            "_model_name": "HTMLModel",
            "_view_count": null,
            "_view_module": "@jupyter-widgets/controls",
            "_view_module_version": "1.5.0",
            "_view_name": "HTMLView",
            "description": "",
            "description_tooltip": null,
            "layout": "IPY_MODEL_11163054f29d45318869380f1ac87cba",
            "placeholder": "​",
            "style": "IPY_MODEL_4e75a1d169454c3b8a729e41d8a91d27",
            "value": " 1824/1824 [03:10&lt;00:00, 10.29it/s]"
          }
        },
        "5e0759a2741e492f92d39c0545cbe6a5": {
          "model_module": "@jupyter-widgets/base",
          "model_name": "LayoutModel",
          "model_module_version": "1.2.0",
          "state": {
            "_model_module": "@jupyter-widgets/base",
            "_model_module_version": "1.2.0",
            "_model_name": "LayoutModel",
            "_view_count": null,
            "_view_module": "@jupyter-widgets/base",
            "_view_module_version": "1.2.0",
            "_view_name": "LayoutView",
            "align_content": null,
            "align_items": null,
            "align_self": null,
            "border": null,
            "bottom": null,
            "display": null,
            "flex": null,
            "flex_flow": null,
            "grid_area": null,
            "grid_auto_columns": null,
            "grid_auto_flow": null,
            "grid_auto_rows": null,
            "grid_column": null,
            "grid_gap": null,
            "grid_row": null,
            "grid_template_areas": null,
            "grid_template_columns": null,
            "grid_template_rows": null,
            "height": null,
            "justify_content": null,
            "justify_items": null,
            "left": null,
            "margin": null,
            "max_height": null,
            "max_width": null,
            "min_height": null,
            "min_width": null,
            "object_fit": null,
            "object_position": null,
            "order": null,
            "overflow": null,
            "overflow_x": null,
            "overflow_y": null,
            "padding": null,
            "right": null,
            "top": null,
            "visibility": null,
            "width": null
          }
        },
        "d2b199cc771a48fda1eaa201eaaf8c23": {
          "model_module": "@jupyter-widgets/base",
          "model_name": "LayoutModel",
          "model_module_version": "1.2.0",
          "state": {
            "_model_module": "@jupyter-widgets/base",
            "_model_module_version": "1.2.0",
            "_model_name": "LayoutModel",
            "_view_count": null,
            "_view_module": "@jupyter-widgets/base",
            "_view_module_version": "1.2.0",
            "_view_name": "LayoutView",
            "align_content": null,
            "align_items": null,
            "align_self": null,
            "border": null,
            "bottom": null,
            "display": null,
            "flex": null,
            "flex_flow": null,
            "grid_area": null,
            "grid_auto_columns": null,
            "grid_auto_flow": null,
            "grid_auto_rows": null,
            "grid_column": null,
            "grid_gap": null,
            "grid_row": null,
            "grid_template_areas": null,
            "grid_template_columns": null,
            "grid_template_rows": null,
            "height": null,
            "justify_content": null,
            "justify_items": null,
            "left": null,
            "margin": null,
            "max_height": null,
            "max_width": null,
            "min_height": null,
            "min_width": null,
            "object_fit": null,
            "object_position": null,
            "order": null,
            "overflow": null,
            "overflow_x": null,
            "overflow_y": null,
            "padding": null,
            "right": null,
            "top": null,
            "visibility": null,
            "width": null
          }
        },
        "a9602b996d334d629440b77edd6fed1a": {
          "model_module": "@jupyter-widgets/controls",
          "model_name": "DescriptionStyleModel",
          "model_module_version": "1.5.0",
          "state": {
            "_model_module": "@jupyter-widgets/controls",
            "_model_module_version": "1.5.0",
            "_model_name": "DescriptionStyleModel",
            "_view_count": null,
            "_view_module": "@jupyter-widgets/base",
            "_view_module_version": "1.2.0",
            "_view_name": "StyleView",
            "description_width": ""
          }
        },
        "2ffed7dd79654124ab3de966da7dfe1b": {
          "model_module": "@jupyter-widgets/base",
          "model_name": "LayoutModel",
          "model_module_version": "1.2.0",
          "state": {
            "_model_module": "@jupyter-widgets/base",
            "_model_module_version": "1.2.0",
            "_model_name": "LayoutModel",
            "_view_count": null,
            "_view_module": "@jupyter-widgets/base",
            "_view_module_version": "1.2.0",
            "_view_name": "LayoutView",
            "align_content": null,
            "align_items": null,
            "align_self": null,
            "border": null,
            "bottom": null,
            "display": null,
            "flex": null,
            "flex_flow": null,
            "grid_area": null,
            "grid_auto_columns": null,
            "grid_auto_flow": null,
            "grid_auto_rows": null,
            "grid_column": null,
            "grid_gap": null,
            "grid_row": null,
            "grid_template_areas": null,
            "grid_template_columns": null,
            "grid_template_rows": null,
            "height": null,
            "justify_content": null,
            "justify_items": null,
            "left": null,
            "margin": null,
            "max_height": null,
            "max_width": null,
            "min_height": null,
            "min_width": null,
            "object_fit": null,
            "object_position": null,
            "order": null,
            "overflow": null,
            "overflow_x": null,
            "overflow_y": null,
            "padding": null,
            "right": null,
            "top": null,
            "visibility": null,
            "width": null
          }
        },
        "9c6363c2e4454636b899c3c7930cf1e4": {
          "model_module": "@jupyter-widgets/controls",
          "model_name": "ProgressStyleModel",
          "model_module_version": "1.5.0",
          "state": {
            "_model_module": "@jupyter-widgets/controls",
            "_model_module_version": "1.5.0",
            "_model_name": "ProgressStyleModel",
            "_view_count": null,
            "_view_module": "@jupyter-widgets/base",
            "_view_module_version": "1.2.0",
            "_view_name": "StyleView",
            "bar_color": null,
            "description_width": ""
          }
        },
        "11163054f29d45318869380f1ac87cba": {
          "model_module": "@jupyter-widgets/base",
          "model_name": "LayoutModel",
          "model_module_version": "1.2.0",
          "state": {
            "_model_module": "@jupyter-widgets/base",
            "_model_module_version": "1.2.0",
            "_model_name": "LayoutModel",
            "_view_count": null,
            "_view_module": "@jupyter-widgets/base",
            "_view_module_version": "1.2.0",
            "_view_name": "LayoutView",
            "align_content": null,
            "align_items": null,
            "align_self": null,
            "border": null,
            "bottom": null,
            "display": null,
            "flex": null,
            "flex_flow": null,
            "grid_area": null,
            "grid_auto_columns": null,
            "grid_auto_flow": null,
            "grid_auto_rows": null,
            "grid_column": null,
            "grid_gap": null,
            "grid_row": null,
            "grid_template_areas": null,
            "grid_template_columns": null,
            "grid_template_rows": null,
            "height": null,
            "justify_content": null,
            "justify_items": null,
            "left": null,
            "margin": null,
            "max_height": null,
            "max_width": null,
            "min_height": null,
            "min_width": null,
            "object_fit": null,
            "object_position": null,
            "order": null,
            "overflow": null,
            "overflow_x": null,
            "overflow_y": null,
            "padding": null,
            "right": null,
            "top": null,
            "visibility": null,
            "width": null
          }
        },
        "4e75a1d169454c3b8a729e41d8a91d27": {
          "model_module": "@jupyter-widgets/controls",
          "model_name": "DescriptionStyleModel",
          "model_module_version": "1.5.0",
          "state": {
            "_model_module": "@jupyter-widgets/controls",
            "_model_module_version": "1.5.0",
            "_model_name": "DescriptionStyleModel",
            "_view_count": null,
            "_view_module": "@jupyter-widgets/base",
            "_view_module_version": "1.2.0",
            "_view_name": "StyleView",
            "description_width": ""
          }
        },
        "4862122c94914154b2176311ac77c851": {
          "model_module": "@jupyter-widgets/controls",
          "model_name": "HBoxModel",
          "model_module_version": "1.5.0",
          "state": {
            "_dom_classes": [],
            "_model_module": "@jupyter-widgets/controls",
            "_model_module_version": "1.5.0",
            "_model_name": "HBoxModel",
            "_view_count": null,
            "_view_module": "@jupyter-widgets/controls",
            "_view_module_version": "1.5.0",
            "_view_name": "HBoxView",
            "box_style": "",
            "children": [
              "IPY_MODEL_51d3acb3796c48aa8a412b7146b384ee",
              "IPY_MODEL_139ebef68b5a4b65bd0c27e6c7fa6aa9",
              "IPY_MODEL_8e10e0d386e9423db22a2312c0f96e1c"
            ],
            "layout": "IPY_MODEL_7c5541c6455646e086c50640e6388840"
          }
        },
        "51d3acb3796c48aa8a412b7146b384ee": {
          "model_module": "@jupyter-widgets/controls",
          "model_name": "HTMLModel",
          "model_module_version": "1.5.0",
          "state": {
            "_dom_classes": [],
            "_model_module": "@jupyter-widgets/controls",
            "_model_module_version": "1.5.0",
            "_model_name": "HTMLModel",
            "_view_count": null,
            "_view_module": "@jupyter-widgets/controls",
            "_view_module_version": "1.5.0",
            "_view_name": "HTMLView",
            "description": "",
            "description_tooltip": null,
            "layout": "IPY_MODEL_2a21b5b1422b42d4a753d10f4ba25090",
            "placeholder": "​",
            "style": "IPY_MODEL_a5909d315a79499d92f44b05c9f26a3a",
            "value": "Epochs 8/10. Running Loss:    0.0238: 100%"
          }
        },
        "139ebef68b5a4b65bd0c27e6c7fa6aa9": {
          "model_module": "@jupyter-widgets/controls",
          "model_name": "FloatProgressModel",
          "model_module_version": "1.5.0",
          "state": {
            "_dom_classes": [],
            "_model_module": "@jupyter-widgets/controls",
            "_model_module_version": "1.5.0",
            "_model_name": "FloatProgressModel",
            "_view_count": null,
            "_view_module": "@jupyter-widgets/controls",
            "_view_module_version": "1.5.0",
            "_view_name": "ProgressView",
            "bar_style": "success",
            "description": "",
            "description_tooltip": null,
            "layout": "IPY_MODEL_85a58d0146784dea83c7a3cefd5f1020",
            "max": 1824,
            "min": 0,
            "orientation": "horizontal",
            "style": "IPY_MODEL_7fa8cb07c5954014b210ffc6740141f2",
            "value": 1824
          }
        },
        "8e10e0d386e9423db22a2312c0f96e1c": {
          "model_module": "@jupyter-widgets/controls",
          "model_name": "HTMLModel",
          "model_module_version": "1.5.0",
          "state": {
            "_dom_classes": [],
            "_model_module": "@jupyter-widgets/controls",
            "_model_module_version": "1.5.0",
            "_model_name": "HTMLModel",
            "_view_count": null,
            "_view_module": "@jupyter-widgets/controls",
            "_view_module_version": "1.5.0",
            "_view_name": "HTMLView",
            "description": "",
            "description_tooltip": null,
            "layout": "IPY_MODEL_2eab8732d8724bee91bc760cef766022",
            "placeholder": "​",
            "style": "IPY_MODEL_83b5c853ef164092a78b48244b320b24",
            "value": " 1824/1824 [03:10&lt;00:00, 10.18it/s]"
          }
        },
        "7c5541c6455646e086c50640e6388840": {
          "model_module": "@jupyter-widgets/base",
          "model_name": "LayoutModel",
          "model_module_version": "1.2.0",
          "state": {
            "_model_module": "@jupyter-widgets/base",
            "_model_module_version": "1.2.0",
            "_model_name": "LayoutModel",
            "_view_count": null,
            "_view_module": "@jupyter-widgets/base",
            "_view_module_version": "1.2.0",
            "_view_name": "LayoutView",
            "align_content": null,
            "align_items": null,
            "align_self": null,
            "border": null,
            "bottom": null,
            "display": null,
            "flex": null,
            "flex_flow": null,
            "grid_area": null,
            "grid_auto_columns": null,
            "grid_auto_flow": null,
            "grid_auto_rows": null,
            "grid_column": null,
            "grid_gap": null,
            "grid_row": null,
            "grid_template_areas": null,
            "grid_template_columns": null,
            "grid_template_rows": null,
            "height": null,
            "justify_content": null,
            "justify_items": null,
            "left": null,
            "margin": null,
            "max_height": null,
            "max_width": null,
            "min_height": null,
            "min_width": null,
            "object_fit": null,
            "object_position": null,
            "order": null,
            "overflow": null,
            "overflow_x": null,
            "overflow_y": null,
            "padding": null,
            "right": null,
            "top": null,
            "visibility": null,
            "width": null
          }
        },
        "2a21b5b1422b42d4a753d10f4ba25090": {
          "model_module": "@jupyter-widgets/base",
          "model_name": "LayoutModel",
          "model_module_version": "1.2.0",
          "state": {
            "_model_module": "@jupyter-widgets/base",
            "_model_module_version": "1.2.0",
            "_model_name": "LayoutModel",
            "_view_count": null,
            "_view_module": "@jupyter-widgets/base",
            "_view_module_version": "1.2.0",
            "_view_name": "LayoutView",
            "align_content": null,
            "align_items": null,
            "align_self": null,
            "border": null,
            "bottom": null,
            "display": null,
            "flex": null,
            "flex_flow": null,
            "grid_area": null,
            "grid_auto_columns": null,
            "grid_auto_flow": null,
            "grid_auto_rows": null,
            "grid_column": null,
            "grid_gap": null,
            "grid_row": null,
            "grid_template_areas": null,
            "grid_template_columns": null,
            "grid_template_rows": null,
            "height": null,
            "justify_content": null,
            "justify_items": null,
            "left": null,
            "margin": null,
            "max_height": null,
            "max_width": null,
            "min_height": null,
            "min_width": null,
            "object_fit": null,
            "object_position": null,
            "order": null,
            "overflow": null,
            "overflow_x": null,
            "overflow_y": null,
            "padding": null,
            "right": null,
            "top": null,
            "visibility": null,
            "width": null
          }
        },
        "a5909d315a79499d92f44b05c9f26a3a": {
          "model_module": "@jupyter-widgets/controls",
          "model_name": "DescriptionStyleModel",
          "model_module_version": "1.5.0",
          "state": {
            "_model_module": "@jupyter-widgets/controls",
            "_model_module_version": "1.5.0",
            "_model_name": "DescriptionStyleModel",
            "_view_count": null,
            "_view_module": "@jupyter-widgets/base",
            "_view_module_version": "1.2.0",
            "_view_name": "StyleView",
            "description_width": ""
          }
        },
        "85a58d0146784dea83c7a3cefd5f1020": {
          "model_module": "@jupyter-widgets/base",
          "model_name": "LayoutModel",
          "model_module_version": "1.2.0",
          "state": {
            "_model_module": "@jupyter-widgets/base",
            "_model_module_version": "1.2.0",
            "_model_name": "LayoutModel",
            "_view_count": null,
            "_view_module": "@jupyter-widgets/base",
            "_view_module_version": "1.2.0",
            "_view_name": "LayoutView",
            "align_content": null,
            "align_items": null,
            "align_self": null,
            "border": null,
            "bottom": null,
            "display": null,
            "flex": null,
            "flex_flow": null,
            "grid_area": null,
            "grid_auto_columns": null,
            "grid_auto_flow": null,
            "grid_auto_rows": null,
            "grid_column": null,
            "grid_gap": null,
            "grid_row": null,
            "grid_template_areas": null,
            "grid_template_columns": null,
            "grid_template_rows": null,
            "height": null,
            "justify_content": null,
            "justify_items": null,
            "left": null,
            "margin": null,
            "max_height": null,
            "max_width": null,
            "min_height": null,
            "min_width": null,
            "object_fit": null,
            "object_position": null,
            "order": null,
            "overflow": null,
            "overflow_x": null,
            "overflow_y": null,
            "padding": null,
            "right": null,
            "top": null,
            "visibility": null,
            "width": null
          }
        },
        "7fa8cb07c5954014b210ffc6740141f2": {
          "model_module": "@jupyter-widgets/controls",
          "model_name": "ProgressStyleModel",
          "model_module_version": "1.5.0",
          "state": {
            "_model_module": "@jupyter-widgets/controls",
            "_model_module_version": "1.5.0",
            "_model_name": "ProgressStyleModel",
            "_view_count": null,
            "_view_module": "@jupyter-widgets/base",
            "_view_module_version": "1.2.0",
            "_view_name": "StyleView",
            "bar_color": null,
            "description_width": ""
          }
        },
        "2eab8732d8724bee91bc760cef766022": {
          "model_module": "@jupyter-widgets/base",
          "model_name": "LayoutModel",
          "model_module_version": "1.2.0",
          "state": {
            "_model_module": "@jupyter-widgets/base",
            "_model_module_version": "1.2.0",
            "_model_name": "LayoutModel",
            "_view_count": null,
            "_view_module": "@jupyter-widgets/base",
            "_view_module_version": "1.2.0",
            "_view_name": "LayoutView",
            "align_content": null,
            "align_items": null,
            "align_self": null,
            "border": null,
            "bottom": null,
            "display": null,
            "flex": null,
            "flex_flow": null,
            "grid_area": null,
            "grid_auto_columns": null,
            "grid_auto_flow": null,
            "grid_auto_rows": null,
            "grid_column": null,
            "grid_gap": null,
            "grid_row": null,
            "grid_template_areas": null,
            "grid_template_columns": null,
            "grid_template_rows": null,
            "height": null,
            "justify_content": null,
            "justify_items": null,
            "left": null,
            "margin": null,
            "max_height": null,
            "max_width": null,
            "min_height": null,
            "min_width": null,
            "object_fit": null,
            "object_position": null,
            "order": null,
            "overflow": null,
            "overflow_x": null,
            "overflow_y": null,
            "padding": null,
            "right": null,
            "top": null,
            "visibility": null,
            "width": null
          }
        },
        "83b5c853ef164092a78b48244b320b24": {
          "model_module": "@jupyter-widgets/controls",
          "model_name": "DescriptionStyleModel",
          "model_module_version": "1.5.0",
          "state": {
            "_model_module": "@jupyter-widgets/controls",
            "_model_module_version": "1.5.0",
            "_model_name": "DescriptionStyleModel",
            "_view_count": null,
            "_view_module": "@jupyter-widgets/base",
            "_view_module_version": "1.2.0",
            "_view_name": "StyleView",
            "description_width": ""
          }
        },
        "035a3ed5bd90459cac2341489cac30fa": {
          "model_module": "@jupyter-widgets/controls",
          "model_name": "HBoxModel",
          "model_module_version": "1.5.0",
          "state": {
            "_dom_classes": [],
            "_model_module": "@jupyter-widgets/controls",
            "_model_module_version": "1.5.0",
            "_model_name": "HBoxModel",
            "_view_count": null,
            "_view_module": "@jupyter-widgets/controls",
            "_view_module_version": "1.5.0",
            "_view_name": "HBoxView",
            "box_style": "",
            "children": [
              "IPY_MODEL_4748ec21545e49a5b52300ed96f9f648",
              "IPY_MODEL_704514d4fcf940bf9ec84f2cb5e9a89f",
              "IPY_MODEL_968112b3f9774d56b6275e643e5138ca"
            ],
            "layout": "IPY_MODEL_466ecd84686246a799a64d39229ebd5c"
          }
        },
        "4748ec21545e49a5b52300ed96f9f648": {
          "model_module": "@jupyter-widgets/controls",
          "model_name": "HTMLModel",
          "model_module_version": "1.5.0",
          "state": {
            "_dom_classes": [],
            "_model_module": "@jupyter-widgets/controls",
            "_model_module_version": "1.5.0",
            "_model_name": "HTMLModel",
            "_view_count": null,
            "_view_module": "@jupyter-widgets/controls",
            "_view_module_version": "1.5.0",
            "_view_name": "HTMLView",
            "description": "",
            "description_tooltip": null,
            "layout": "IPY_MODEL_bf172dd643e54894aa6380e05891a0f7",
            "placeholder": "​",
            "style": "IPY_MODEL_b205e4c7d11e44f4829f93120ef44d8f",
            "value": "Epochs 9/10. Running Loss:    0.0356: 100%"
          }
        },
        "704514d4fcf940bf9ec84f2cb5e9a89f": {
          "model_module": "@jupyter-widgets/controls",
          "model_name": "FloatProgressModel",
          "model_module_version": "1.5.0",
          "state": {
            "_dom_classes": [],
            "_model_module": "@jupyter-widgets/controls",
            "_model_module_version": "1.5.0",
            "_model_name": "FloatProgressModel",
            "_view_count": null,
            "_view_module": "@jupyter-widgets/controls",
            "_view_module_version": "1.5.0",
            "_view_name": "ProgressView",
            "bar_style": "success",
            "description": "",
            "description_tooltip": null,
            "layout": "IPY_MODEL_3cc7ba7a63ef4302bfd14f23fc30a386",
            "max": 1824,
            "min": 0,
            "orientation": "horizontal",
            "style": "IPY_MODEL_547215c68cfc4e6e87eb4ff5d7d8e583",
            "value": 1824
          }
        },
        "968112b3f9774d56b6275e643e5138ca": {
          "model_module": "@jupyter-widgets/controls",
          "model_name": "HTMLModel",
          "model_module_version": "1.5.0",
          "state": {
            "_dom_classes": [],
            "_model_module": "@jupyter-widgets/controls",
            "_model_module_version": "1.5.0",
            "_model_name": "HTMLModel",
            "_view_count": null,
            "_view_module": "@jupyter-widgets/controls",
            "_view_module_version": "1.5.0",
            "_view_name": "HTMLView",
            "description": "",
            "description_tooltip": null,
            "layout": "IPY_MODEL_e75feeab281848579b53efbc68a73e2c",
            "placeholder": "​",
            "style": "IPY_MODEL_f73d75014dc64132ae435e891a446b24",
            "value": " 1824/1824 [03:11&lt;00:00, 10.11it/s]"
          }
        },
        "466ecd84686246a799a64d39229ebd5c": {
          "model_module": "@jupyter-widgets/base",
          "model_name": "LayoutModel",
          "model_module_version": "1.2.0",
          "state": {
            "_model_module": "@jupyter-widgets/base",
            "_model_module_version": "1.2.0",
            "_model_name": "LayoutModel",
            "_view_count": null,
            "_view_module": "@jupyter-widgets/base",
            "_view_module_version": "1.2.0",
            "_view_name": "LayoutView",
            "align_content": null,
            "align_items": null,
            "align_self": null,
            "border": null,
            "bottom": null,
            "display": null,
            "flex": null,
            "flex_flow": null,
            "grid_area": null,
            "grid_auto_columns": null,
            "grid_auto_flow": null,
            "grid_auto_rows": null,
            "grid_column": null,
            "grid_gap": null,
            "grid_row": null,
            "grid_template_areas": null,
            "grid_template_columns": null,
            "grid_template_rows": null,
            "height": null,
            "justify_content": null,
            "justify_items": null,
            "left": null,
            "margin": null,
            "max_height": null,
            "max_width": null,
            "min_height": null,
            "min_width": null,
            "object_fit": null,
            "object_position": null,
            "order": null,
            "overflow": null,
            "overflow_x": null,
            "overflow_y": null,
            "padding": null,
            "right": null,
            "top": null,
            "visibility": null,
            "width": null
          }
        },
        "bf172dd643e54894aa6380e05891a0f7": {
          "model_module": "@jupyter-widgets/base",
          "model_name": "LayoutModel",
          "model_module_version": "1.2.0",
          "state": {
            "_model_module": "@jupyter-widgets/base",
            "_model_module_version": "1.2.0",
            "_model_name": "LayoutModel",
            "_view_count": null,
            "_view_module": "@jupyter-widgets/base",
            "_view_module_version": "1.2.0",
            "_view_name": "LayoutView",
            "align_content": null,
            "align_items": null,
            "align_self": null,
            "border": null,
            "bottom": null,
            "display": null,
            "flex": null,
            "flex_flow": null,
            "grid_area": null,
            "grid_auto_columns": null,
            "grid_auto_flow": null,
            "grid_auto_rows": null,
            "grid_column": null,
            "grid_gap": null,
            "grid_row": null,
            "grid_template_areas": null,
            "grid_template_columns": null,
            "grid_template_rows": null,
            "height": null,
            "justify_content": null,
            "justify_items": null,
            "left": null,
            "margin": null,
            "max_height": null,
            "max_width": null,
            "min_height": null,
            "min_width": null,
            "object_fit": null,
            "object_position": null,
            "order": null,
            "overflow": null,
            "overflow_x": null,
            "overflow_y": null,
            "padding": null,
            "right": null,
            "top": null,
            "visibility": null,
            "width": null
          }
        },
        "b205e4c7d11e44f4829f93120ef44d8f": {
          "model_module": "@jupyter-widgets/controls",
          "model_name": "DescriptionStyleModel",
          "model_module_version": "1.5.0",
          "state": {
            "_model_module": "@jupyter-widgets/controls",
            "_model_module_version": "1.5.0",
            "_model_name": "DescriptionStyleModel",
            "_view_count": null,
            "_view_module": "@jupyter-widgets/base",
            "_view_module_version": "1.2.0",
            "_view_name": "StyleView",
            "description_width": ""
          }
        },
        "3cc7ba7a63ef4302bfd14f23fc30a386": {
          "model_module": "@jupyter-widgets/base",
          "model_name": "LayoutModel",
          "model_module_version": "1.2.0",
          "state": {
            "_model_module": "@jupyter-widgets/base",
            "_model_module_version": "1.2.0",
            "_model_name": "LayoutModel",
            "_view_count": null,
            "_view_module": "@jupyter-widgets/base",
            "_view_module_version": "1.2.0",
            "_view_name": "LayoutView",
            "align_content": null,
            "align_items": null,
            "align_self": null,
            "border": null,
            "bottom": null,
            "display": null,
            "flex": null,
            "flex_flow": null,
            "grid_area": null,
            "grid_auto_columns": null,
            "grid_auto_flow": null,
            "grid_auto_rows": null,
            "grid_column": null,
            "grid_gap": null,
            "grid_row": null,
            "grid_template_areas": null,
            "grid_template_columns": null,
            "grid_template_rows": null,
            "height": null,
            "justify_content": null,
            "justify_items": null,
            "left": null,
            "margin": null,
            "max_height": null,
            "max_width": null,
            "min_height": null,
            "min_width": null,
            "object_fit": null,
            "object_position": null,
            "order": null,
            "overflow": null,
            "overflow_x": null,
            "overflow_y": null,
            "padding": null,
            "right": null,
            "top": null,
            "visibility": null,
            "width": null
          }
        },
        "547215c68cfc4e6e87eb4ff5d7d8e583": {
          "model_module": "@jupyter-widgets/controls",
          "model_name": "ProgressStyleModel",
          "model_module_version": "1.5.0",
          "state": {
            "_model_module": "@jupyter-widgets/controls",
            "_model_module_version": "1.5.0",
            "_model_name": "ProgressStyleModel",
            "_view_count": null,
            "_view_module": "@jupyter-widgets/base",
            "_view_module_version": "1.2.0",
            "_view_name": "StyleView",
            "bar_color": null,
            "description_width": ""
          }
        },
        "e75feeab281848579b53efbc68a73e2c": {
          "model_module": "@jupyter-widgets/base",
          "model_name": "LayoutModel",
          "model_module_version": "1.2.0",
          "state": {
            "_model_module": "@jupyter-widgets/base",
            "_model_module_version": "1.2.0",
            "_model_name": "LayoutModel",
            "_view_count": null,
            "_view_module": "@jupyter-widgets/base",
            "_view_module_version": "1.2.0",
            "_view_name": "LayoutView",
            "align_content": null,
            "align_items": null,
            "align_self": null,
            "border": null,
            "bottom": null,
            "display": null,
            "flex": null,
            "flex_flow": null,
            "grid_area": null,
            "grid_auto_columns": null,
            "grid_auto_flow": null,
            "grid_auto_rows": null,
            "grid_column": null,
            "grid_gap": null,
            "grid_row": null,
            "grid_template_areas": null,
            "grid_template_columns": null,
            "grid_template_rows": null,
            "height": null,
            "justify_content": null,
            "justify_items": null,
            "left": null,
            "margin": null,
            "max_height": null,
            "max_width": null,
            "min_height": null,
            "min_width": null,
            "object_fit": null,
            "object_position": null,
            "order": null,
            "overflow": null,
            "overflow_x": null,
            "overflow_y": null,
            "padding": null,
            "right": null,
            "top": null,
            "visibility": null,
            "width": null
          }
        },
        "f73d75014dc64132ae435e891a446b24": {
          "model_module": "@jupyter-widgets/controls",
          "model_name": "DescriptionStyleModel",
          "model_module_version": "1.5.0",
          "state": {
            "_model_module": "@jupyter-widgets/controls",
            "_model_module_version": "1.5.0",
            "_model_name": "DescriptionStyleModel",
            "_view_count": null,
            "_view_module": "@jupyter-widgets/base",
            "_view_module_version": "1.2.0",
            "_view_name": "StyleView",
            "description_width": ""
          }
        },
        "1bfa9e2a5f2e4f5a9fea68afb914ce49": {
          "model_module": "@jupyter-widgets/controls",
          "model_name": "HBoxModel",
          "model_module_version": "1.5.0",
          "state": {
            "_dom_classes": [],
            "_model_module": "@jupyter-widgets/controls",
            "_model_module_version": "1.5.0",
            "_model_name": "HBoxModel",
            "_view_count": null,
            "_view_module": "@jupyter-widgets/controls",
            "_view_module_version": "1.5.0",
            "_view_name": "HBoxView",
            "box_style": "",
            "children": [
              "IPY_MODEL_f56828fd0137414098e22e4bf588ed7a",
              "IPY_MODEL_26eaa6f33e034576934e3c729dc4e715",
              "IPY_MODEL_00790f60715a49feb2b98a175806e43e"
            ],
            "layout": "IPY_MODEL_e1877b30ec8f4768a8f2d3132222cb3d"
          }
        },
        "f56828fd0137414098e22e4bf588ed7a": {
          "model_module": "@jupyter-widgets/controls",
          "model_name": "HTMLModel",
          "model_module_version": "1.5.0",
          "state": {
            "_dom_classes": [],
            "_model_module": "@jupyter-widgets/controls",
            "_model_module_version": "1.5.0",
            "_model_name": "HTMLModel",
            "_view_count": null,
            "_view_module": "@jupyter-widgets/controls",
            "_view_module_version": "1.5.0",
            "_view_name": "HTMLView",
            "description": "",
            "description_tooltip": null,
            "layout": "IPY_MODEL_a86553a3e2904622b23f31c303b079f3",
            "placeholder": "​",
            "style": "IPY_MODEL_5b889c968c45486285f217081ee74eae",
            "value": "  0%"
          }
        },
        "26eaa6f33e034576934e3c729dc4e715": {
          "model_module": "@jupyter-widgets/controls",
          "model_name": "FloatProgressModel",
          "model_module_version": "1.5.0",
          "state": {
            "_dom_classes": [],
            "_model_module": "@jupyter-widgets/controls",
            "_model_module_version": "1.5.0",
            "_model_name": "FloatProgressModel",
            "_view_count": null,
            "_view_module": "@jupyter-widgets/controls",
            "_view_module_version": "1.5.0",
            "_view_name": "ProgressView",
            "bar_style": "danger",
            "description": "",
            "description_tooltip": null,
            "layout": "IPY_MODEL_c04fe0480db64f4aae3f46e9f5500729",
            "max": 3819,
            "min": 0,
            "orientation": "horizontal",
            "style": "IPY_MODEL_1fbaa7b64db3418eb5397bd5a5aee374",
            "value": 8
          }
        },
        "00790f60715a49feb2b98a175806e43e": {
          "model_module": "@jupyter-widgets/controls",
          "model_name": "HTMLModel",
          "model_module_version": "1.5.0",
          "state": {
            "_dom_classes": [],
            "_model_module": "@jupyter-widgets/controls",
            "_model_module_version": "1.5.0",
            "_model_name": "HTMLModel",
            "_view_count": null,
            "_view_module": "@jupyter-widgets/controls",
            "_view_module_version": "1.5.0",
            "_view_name": "HTMLView",
            "description": "",
            "description_tooltip": null,
            "layout": "IPY_MODEL_d324dad8bc974279ae0d3b9050a110e5",
            "placeholder": "​",
            "style": "IPY_MODEL_e00fad76e3b74b218b8c67b77ad6ddab",
            "value": " 8/3819 [00:00&lt;05:33, 11.41it/s]"
          }
        },
        "e1877b30ec8f4768a8f2d3132222cb3d": {
          "model_module": "@jupyter-widgets/base",
          "model_name": "LayoutModel",
          "model_module_version": "1.2.0",
          "state": {
            "_model_module": "@jupyter-widgets/base",
            "_model_module_version": "1.2.0",
            "_model_name": "LayoutModel",
            "_view_count": null,
            "_view_module": "@jupyter-widgets/base",
            "_view_module_version": "1.2.0",
            "_view_name": "LayoutView",
            "align_content": null,
            "align_items": null,
            "align_self": null,
            "border": null,
            "bottom": null,
            "display": null,
            "flex": null,
            "flex_flow": null,
            "grid_area": null,
            "grid_auto_columns": null,
            "grid_auto_flow": null,
            "grid_auto_rows": null,
            "grid_column": null,
            "grid_gap": null,
            "grid_row": null,
            "grid_template_areas": null,
            "grid_template_columns": null,
            "grid_template_rows": null,
            "height": null,
            "justify_content": null,
            "justify_items": null,
            "left": null,
            "margin": null,
            "max_height": null,
            "max_width": null,
            "min_height": null,
            "min_width": null,
            "object_fit": null,
            "object_position": null,
            "order": null,
            "overflow": null,
            "overflow_x": null,
            "overflow_y": null,
            "padding": null,
            "right": null,
            "top": null,
            "visibility": null,
            "width": null
          }
        },
        "a86553a3e2904622b23f31c303b079f3": {
          "model_module": "@jupyter-widgets/base",
          "model_name": "LayoutModel",
          "model_module_version": "1.2.0",
          "state": {
            "_model_module": "@jupyter-widgets/base",
            "_model_module_version": "1.2.0",
            "_model_name": "LayoutModel",
            "_view_count": null,
            "_view_module": "@jupyter-widgets/base",
            "_view_module_version": "1.2.0",
            "_view_name": "LayoutView",
            "align_content": null,
            "align_items": null,
            "align_self": null,
            "border": null,
            "bottom": null,
            "display": null,
            "flex": null,
            "flex_flow": null,
            "grid_area": null,
            "grid_auto_columns": null,
            "grid_auto_flow": null,
            "grid_auto_rows": null,
            "grid_column": null,
            "grid_gap": null,
            "grid_row": null,
            "grid_template_areas": null,
            "grid_template_columns": null,
            "grid_template_rows": null,
            "height": null,
            "justify_content": null,
            "justify_items": null,
            "left": null,
            "margin": null,
            "max_height": null,
            "max_width": null,
            "min_height": null,
            "min_width": null,
            "object_fit": null,
            "object_position": null,
            "order": null,
            "overflow": null,
            "overflow_x": null,
            "overflow_y": null,
            "padding": null,
            "right": null,
            "top": null,
            "visibility": null,
            "width": null
          }
        },
        "5b889c968c45486285f217081ee74eae": {
          "model_module": "@jupyter-widgets/controls",
          "model_name": "DescriptionStyleModel",
          "model_module_version": "1.5.0",
          "state": {
            "_model_module": "@jupyter-widgets/controls",
            "_model_module_version": "1.5.0",
            "_model_name": "DescriptionStyleModel",
            "_view_count": null,
            "_view_module": "@jupyter-widgets/base",
            "_view_module_version": "1.2.0",
            "_view_name": "StyleView",
            "description_width": ""
          }
        },
        "c04fe0480db64f4aae3f46e9f5500729": {
          "model_module": "@jupyter-widgets/base",
          "model_name": "LayoutModel",
          "model_module_version": "1.2.0",
          "state": {
            "_model_module": "@jupyter-widgets/base",
            "_model_module_version": "1.2.0",
            "_model_name": "LayoutModel",
            "_view_count": null,
            "_view_module": "@jupyter-widgets/base",
            "_view_module_version": "1.2.0",
            "_view_name": "LayoutView",
            "align_content": null,
            "align_items": null,
            "align_self": null,
            "border": null,
            "bottom": null,
            "display": null,
            "flex": null,
            "flex_flow": null,
            "grid_area": null,
            "grid_auto_columns": null,
            "grid_auto_flow": null,
            "grid_auto_rows": null,
            "grid_column": null,
            "grid_gap": null,
            "grid_row": null,
            "grid_template_areas": null,
            "grid_template_columns": null,
            "grid_template_rows": null,
            "height": null,
            "justify_content": null,
            "justify_items": null,
            "left": null,
            "margin": null,
            "max_height": null,
            "max_width": null,
            "min_height": null,
            "min_width": null,
            "object_fit": null,
            "object_position": null,
            "order": null,
            "overflow": null,
            "overflow_x": null,
            "overflow_y": null,
            "padding": null,
            "right": null,
            "top": null,
            "visibility": null,
            "width": null
          }
        },
        "1fbaa7b64db3418eb5397bd5a5aee374": {
          "model_module": "@jupyter-widgets/controls",
          "model_name": "ProgressStyleModel",
          "model_module_version": "1.5.0",
          "state": {
            "_model_module": "@jupyter-widgets/controls",
            "_model_module_version": "1.5.0",
            "_model_name": "ProgressStyleModel",
            "_view_count": null,
            "_view_module": "@jupyter-widgets/base",
            "_view_module_version": "1.2.0",
            "_view_name": "StyleView",
            "bar_color": null,
            "description_width": ""
          }
        },
        "d324dad8bc974279ae0d3b9050a110e5": {
          "model_module": "@jupyter-widgets/base",
          "model_name": "LayoutModel",
          "model_module_version": "1.2.0",
          "state": {
            "_model_module": "@jupyter-widgets/base",
            "_model_module_version": "1.2.0",
            "_model_name": "LayoutModel",
            "_view_count": null,
            "_view_module": "@jupyter-widgets/base",
            "_view_module_version": "1.2.0",
            "_view_name": "LayoutView",
            "align_content": null,
            "align_items": null,
            "align_self": null,
            "border": null,
            "bottom": null,
            "display": null,
            "flex": null,
            "flex_flow": null,
            "grid_area": null,
            "grid_auto_columns": null,
            "grid_auto_flow": null,
            "grid_auto_rows": null,
            "grid_column": null,
            "grid_gap": null,
            "grid_row": null,
            "grid_template_areas": null,
            "grid_template_columns": null,
            "grid_template_rows": null,
            "height": null,
            "justify_content": null,
            "justify_items": null,
            "left": null,
            "margin": null,
            "max_height": null,
            "max_width": null,
            "min_height": null,
            "min_width": null,
            "object_fit": null,
            "object_position": null,
            "order": null,
            "overflow": null,
            "overflow_x": null,
            "overflow_y": null,
            "padding": null,
            "right": null,
            "top": null,
            "visibility": null,
            "width": null
          }
        },
        "e00fad76e3b74b218b8c67b77ad6ddab": {
          "model_module": "@jupyter-widgets/controls",
          "model_name": "DescriptionStyleModel",
          "model_module_version": "1.5.0",
          "state": {
            "_model_module": "@jupyter-widgets/controls",
            "_model_module_version": "1.5.0",
            "_model_name": "DescriptionStyleModel",
            "_view_count": null,
            "_view_module": "@jupyter-widgets/base",
            "_view_module_version": "1.2.0",
            "_view_name": "StyleView",
            "description_width": ""
          }
        },
        "800067b4506f4fd88947817a4606d9a2": {
          "model_module": "@jupyter-widgets/controls",
          "model_name": "HBoxModel",
          "model_module_version": "1.5.0",
          "state": {
            "_dom_classes": [],
            "_model_module": "@jupyter-widgets/controls",
            "_model_module_version": "1.5.0",
            "_model_name": "HBoxModel",
            "_view_count": null,
            "_view_module": "@jupyter-widgets/controls",
            "_view_module_version": "1.5.0",
            "_view_name": "HBoxView",
            "box_style": "",
            "children": [
              "IPY_MODEL_90d2d6f5875c47c79872ae56704d8e82",
              "IPY_MODEL_0d1b7d244b3b405f8422d8473aff6f25",
              "IPY_MODEL_31b47f358099479fba252aafc70c31ee"
            ],
            "layout": "IPY_MODEL_3828f4ca59d241a2beb267ed7f091f32"
          }
        },
        "90d2d6f5875c47c79872ae56704d8e82": {
          "model_module": "@jupyter-widgets/controls",
          "model_name": "HTMLModel",
          "model_module_version": "1.5.0",
          "state": {
            "_dom_classes": [],
            "_model_module": "@jupyter-widgets/controls",
            "_model_module_version": "1.5.0",
            "_model_name": "HTMLModel",
            "_view_count": null,
            "_view_module": "@jupyter-widgets/controls",
            "_view_module_version": "1.5.0",
            "_view_name": "HTMLView",
            "description": "",
            "description_tooltip": null,
            "layout": "IPY_MODEL_d3d06d00a6ca4faebaa62ad2b6320a8b",
            "placeholder": "​",
            "style": "IPY_MODEL_6d843c4a1c1c4c61afb97b3616224595",
            "value": "Running Evaluation: 100%"
          }
        },
        "0d1b7d244b3b405f8422d8473aff6f25": {
          "model_module": "@jupyter-widgets/controls",
          "model_name": "FloatProgressModel",
          "model_module_version": "1.5.0",
          "state": {
            "_dom_classes": [],
            "_model_module": "@jupyter-widgets/controls",
            "_model_module_version": "1.5.0",
            "_model_name": "FloatProgressModel",
            "_view_count": null,
            "_view_module": "@jupyter-widgets/controls",
            "_view_module_version": "1.5.0",
            "_view_name": "ProgressView",
            "bar_style": "success",
            "description": "",
            "description_tooltip": null,
            "layout": "IPY_MODEL_0d978adccc5f47cb80a13f88395df306",
            "max": 478,
            "min": 0,
            "orientation": "horizontal",
            "style": "IPY_MODEL_d9e685e29bd7495aa47c87e0b4cc3f7f",
            "value": 478
          }
        },
        "31b47f358099479fba252aafc70c31ee": {
          "model_module": "@jupyter-widgets/controls",
          "model_name": "HTMLModel",
          "model_module_version": "1.5.0",
          "state": {
            "_dom_classes": [],
            "_model_module": "@jupyter-widgets/controls",
            "_model_module_version": "1.5.0",
            "_model_name": "HTMLModel",
            "_view_count": null,
            "_view_module": "@jupyter-widgets/controls",
            "_view_module_version": "1.5.0",
            "_view_name": "HTMLView",
            "description": "",
            "description_tooltip": null,
            "layout": "IPY_MODEL_3775c572eec54b84ae0e9984a72e4f48",
            "placeholder": "​",
            "style": "IPY_MODEL_0dbac6d14b084ecf81bb85b5f16a08b7",
            "value": " 478/478 [00:08&lt;00:00, 53.38it/s]"
          }
        },
        "3828f4ca59d241a2beb267ed7f091f32": {
          "model_module": "@jupyter-widgets/base",
          "model_name": "LayoutModel",
          "model_module_version": "1.2.0",
          "state": {
            "_model_module": "@jupyter-widgets/base",
            "_model_module_version": "1.2.0",
            "_model_name": "LayoutModel",
            "_view_count": null,
            "_view_module": "@jupyter-widgets/base",
            "_view_module_version": "1.2.0",
            "_view_name": "LayoutView",
            "align_content": null,
            "align_items": null,
            "align_self": null,
            "border": null,
            "bottom": null,
            "display": null,
            "flex": null,
            "flex_flow": null,
            "grid_area": null,
            "grid_auto_columns": null,
            "grid_auto_flow": null,
            "grid_auto_rows": null,
            "grid_column": null,
            "grid_gap": null,
            "grid_row": null,
            "grid_template_areas": null,
            "grid_template_columns": null,
            "grid_template_rows": null,
            "height": null,
            "justify_content": null,
            "justify_items": null,
            "left": null,
            "margin": null,
            "max_height": null,
            "max_width": null,
            "min_height": null,
            "min_width": null,
            "object_fit": null,
            "object_position": null,
            "order": null,
            "overflow": null,
            "overflow_x": null,
            "overflow_y": null,
            "padding": null,
            "right": null,
            "top": null,
            "visibility": null,
            "width": null
          }
        },
        "d3d06d00a6ca4faebaa62ad2b6320a8b": {
          "model_module": "@jupyter-widgets/base",
          "model_name": "LayoutModel",
          "model_module_version": "1.2.0",
          "state": {
            "_model_module": "@jupyter-widgets/base",
            "_model_module_version": "1.2.0",
            "_model_name": "LayoutModel",
            "_view_count": null,
            "_view_module": "@jupyter-widgets/base",
            "_view_module_version": "1.2.0",
            "_view_name": "LayoutView",
            "align_content": null,
            "align_items": null,
            "align_self": null,
            "border": null,
            "bottom": null,
            "display": null,
            "flex": null,
            "flex_flow": null,
            "grid_area": null,
            "grid_auto_columns": null,
            "grid_auto_flow": null,
            "grid_auto_rows": null,
            "grid_column": null,
            "grid_gap": null,
            "grid_row": null,
            "grid_template_areas": null,
            "grid_template_columns": null,
            "grid_template_rows": null,
            "height": null,
            "justify_content": null,
            "justify_items": null,
            "left": null,
            "margin": null,
            "max_height": null,
            "max_width": null,
            "min_height": null,
            "min_width": null,
            "object_fit": null,
            "object_position": null,
            "order": null,
            "overflow": null,
            "overflow_x": null,
            "overflow_y": null,
            "padding": null,
            "right": null,
            "top": null,
            "visibility": null,
            "width": null
          }
        },
        "6d843c4a1c1c4c61afb97b3616224595": {
          "model_module": "@jupyter-widgets/controls",
          "model_name": "DescriptionStyleModel",
          "model_module_version": "1.5.0",
          "state": {
            "_model_module": "@jupyter-widgets/controls",
            "_model_module_version": "1.5.0",
            "_model_name": "DescriptionStyleModel",
            "_view_count": null,
            "_view_module": "@jupyter-widgets/base",
            "_view_module_version": "1.2.0",
            "_view_name": "StyleView",
            "description_width": ""
          }
        },
        "0d978adccc5f47cb80a13f88395df306": {
          "model_module": "@jupyter-widgets/base",
          "model_name": "LayoutModel",
          "model_module_version": "1.2.0",
          "state": {
            "_model_module": "@jupyter-widgets/base",
            "_model_module_version": "1.2.0",
            "_model_name": "LayoutModel",
            "_view_count": null,
            "_view_module": "@jupyter-widgets/base",
            "_view_module_version": "1.2.0",
            "_view_name": "LayoutView",
            "align_content": null,
            "align_items": null,
            "align_self": null,
            "border": null,
            "bottom": null,
            "display": null,
            "flex": null,
            "flex_flow": null,
            "grid_area": null,
            "grid_auto_columns": null,
            "grid_auto_flow": null,
            "grid_auto_rows": null,
            "grid_column": null,
            "grid_gap": null,
            "grid_row": null,
            "grid_template_areas": null,
            "grid_template_columns": null,
            "grid_template_rows": null,
            "height": null,
            "justify_content": null,
            "justify_items": null,
            "left": null,
            "margin": null,
            "max_height": null,
            "max_width": null,
            "min_height": null,
            "min_width": null,
            "object_fit": null,
            "object_position": null,
            "order": null,
            "overflow": null,
            "overflow_x": null,
            "overflow_y": null,
            "padding": null,
            "right": null,
            "top": null,
            "visibility": null,
            "width": null
          }
        },
        "d9e685e29bd7495aa47c87e0b4cc3f7f": {
          "model_module": "@jupyter-widgets/controls",
          "model_name": "ProgressStyleModel",
          "model_module_version": "1.5.0",
          "state": {
            "_model_module": "@jupyter-widgets/controls",
            "_model_module_version": "1.5.0",
            "_model_name": "ProgressStyleModel",
            "_view_count": null,
            "_view_module": "@jupyter-widgets/base",
            "_view_module_version": "1.2.0",
            "_view_name": "StyleView",
            "bar_color": null,
            "description_width": ""
          }
        },
        "3775c572eec54b84ae0e9984a72e4f48": {
          "model_module": "@jupyter-widgets/base",
          "model_name": "LayoutModel",
          "model_module_version": "1.2.0",
          "state": {
            "_model_module": "@jupyter-widgets/base",
            "_model_module_version": "1.2.0",
            "_model_name": "LayoutModel",
            "_view_count": null,
            "_view_module": "@jupyter-widgets/base",
            "_view_module_version": "1.2.0",
            "_view_name": "LayoutView",
            "align_content": null,
            "align_items": null,
            "align_self": null,
            "border": null,
            "bottom": null,
            "display": null,
            "flex": null,
            "flex_flow": null,
            "grid_area": null,
            "grid_auto_columns": null,
            "grid_auto_flow": null,
            "grid_auto_rows": null,
            "grid_column": null,
            "grid_gap": null,
            "grid_row": null,
            "grid_template_areas": null,
            "grid_template_columns": null,
            "grid_template_rows": null,
            "height": null,
            "justify_content": null,
            "justify_items": null,
            "left": null,
            "margin": null,
            "max_height": null,
            "max_width": null,
            "min_height": null,
            "min_width": null,
            "object_fit": null,
            "object_position": null,
            "order": null,
            "overflow": null,
            "overflow_x": null,
            "overflow_y": null,
            "padding": null,
            "right": null,
            "top": null,
            "visibility": null,
            "width": null
          }
        },
        "0dbac6d14b084ecf81bb85b5f16a08b7": {
          "model_module": "@jupyter-widgets/controls",
          "model_name": "DescriptionStyleModel",
          "model_module_version": "1.5.0",
          "state": {
            "_model_module": "@jupyter-widgets/controls",
            "_model_module_version": "1.5.0",
            "_model_name": "DescriptionStyleModel",
            "_view_count": null,
            "_view_module": "@jupyter-widgets/base",
            "_view_module_version": "1.2.0",
            "_view_name": "StyleView",
            "description_width": ""
          }
        }
      }
    }
  },
  "nbformat": 4,
  "nbformat_minor": 0
}